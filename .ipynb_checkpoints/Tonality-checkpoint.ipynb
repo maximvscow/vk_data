{
 "cells": [
  {
   "cell_type": "markdown",
   "id": "0fcfc449",
   "metadata": {},
   "source": [
    "## Импорт модели Word2Vec"
   ]
  },
  {
   "cell_type": "code",
   "execution_count": 1,
   "id": "4cee2f2e",
   "metadata": {},
   "outputs": [],
   "source": [
    "from gensim.models import Word2Vec as wv\n",
    "from gensim.models import KeyedVectors"
   ]
  },
  {
   "cell_type": "code",
   "execution_count": 2,
   "id": "9570a01e",
   "metadata": {},
   "outputs": [],
   "source": [
    "wv = KeyedVectors.load(\"word2vec.wordvectors\", mmap='r')"
   ]
  },
  {
   "cell_type": "code",
   "execution_count": 4,
   "id": "772ef094",
   "metadata": {},
   "outputs": [
    {
     "data": {
      "text/plain": [
       "[('виктория', 0.9023991227149963),\n",
       " ('бегать', 0.9014540314674377),\n",
       " ('😰', 0.9013167023658752),\n",
       " ('нынешний', 0.901007354259491),\n",
       " ('вооружение', 0.900209903717041),\n",
       " ('медицина', 0.8998721837997437),\n",
       " ('приходить', 0.8997824192047119),\n",
       " ('приводить', 0.8997141122817993),\n",
       " ('плевать', 0.8997119665145874),\n",
       " ('тихий', 0.89943528175354)]"
      ]
     },
     "execution_count": 4,
     "metadata": {},
     "output_type": "execute_result"
    }
   ],
   "source": [
    "wv.wv.most_similar('😠')"
   ]
  },
  {
   "cell_type": "code",
   "execution_count": null,
   "id": "1f8f5596",
   "metadata": {},
   "outputs": [],
   "source": []
  }
 ],
 "metadata": {
  "kernelspec": {
   "display_name": "Python 3 (ipykernel)",
   "language": "python",
   "name": "python3"
  },
  "language_info": {
   "codemirror_mode": {
    "name": "ipython",
    "version": 3
   },
   "file_extension": ".py",
   "mimetype": "text/x-python",
   "name": "python",
   "nbconvert_exporter": "python",
   "pygments_lexer": "ipython3",
   "version": "3.8.6"
  }
 },
 "nbformat": 4,
 "nbformat_minor": 5
}
