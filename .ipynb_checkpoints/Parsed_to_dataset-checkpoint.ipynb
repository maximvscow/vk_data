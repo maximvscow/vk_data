{
 "cells": [
  {
   "cell_type": "markdown",
   "id": "cb992858",
   "metadata": {},
   "source": [
    "## Установка и импорт библиотек"
   ]
  },
  {
   "cell_type": "code",
   "execution_count": 1,
   "id": "d007fe0c",
   "metadata": {},
   "outputs": [
    {
     "name": "stdout",
     "output_type": "stream",
     "text": [
      "Collecting nltk\n",
      "  Downloading nltk-3.8.1-py3-none-any.whl (1.5 MB)\n",
      "Collecting pymorphy2\n",
      "  Downloading pymorphy2-0.9.1-py3-none-any.whl (55 kB)\n",
      "Collecting emoji\n",
      "  Downloading emoji-2.2.0.tar.gz (240 kB)\n",
      "Collecting pandas\n",
      "  Downloading pandas-2.0.0-cp38-cp38-win_amd64.whl (11.3 MB)\n",
      "Collecting click\n",
      "  Downloading click-8.1.3-py3-none-any.whl (96 kB)\n",
      "Collecting tqdm\n",
      "  Downloading tqdm-4.65.0-py3-none-any.whl (77 kB)\n",
      "Collecting regex>=2021.8.3\n",
      "  Downloading regex-2023.3.23-cp38-cp38-win_amd64.whl (267 kB)\n",
      "Collecting joblib\n",
      "  Downloading joblib-1.2.0-py3-none-any.whl (297 kB)\n",
      "Collecting dawg-python>=0.7.1\n",
      "  Downloading DAWG_Python-0.7.2-py2.py3-none-any.whl (11 kB)\n",
      "Collecting pymorphy2-dicts-ru<3.0,>=2.4\n",
      "  Downloading pymorphy2_dicts_ru-2.4.417127.4579844-py2.py3-none-any.whl (8.2 MB)\n",
      "Collecting docopt>=0.6\n",
      "  Downloading docopt-0.6.2.tar.gz (25 kB)\n",
      "Collecting pytz>=2020.1\n",
      "  Downloading pytz-2023.3-py2.py3-none-any.whl (502 kB)\n",
      "Collecting tzdata>=2022.1\n",
      "  Downloading tzdata-2023.3-py2.py3-none-any.whl (341 kB)\n",
      "Requirement already satisfied: python-dateutil>=2.8.2 in c:\\users\\admin\\appdata\\local\\programs\\python\\python38\\lib\\site-packages (from pandas) (2.8.2)\n",
      "Collecting numpy>=1.20.3; python_version < \"3.10\"\n",
      "  Downloading numpy-1.24.2-cp38-cp38-win_amd64.whl (14.9 MB)\n",
      "Requirement already satisfied: colorama; platform_system == \"Windows\" in c:\\users\\admin\\appdata\\local\\programs\\python\\python38\\lib\\site-packages (from click->nltk) (0.4.6)\n",
      "Requirement already satisfied: six>=1.5 in c:\\users\\admin\\appdata\\local\\programs\\python\\python38\\lib\\site-packages (from python-dateutil>=2.8.2->pandas) (1.16.0)\n",
      "Using legacy 'setup.py install' for emoji, since package 'wheel' is not installed.\n",
      "Using legacy 'setup.py install' for docopt, since package 'wheel' is not installed.\n",
      "Installing collected packages: click, tqdm, regex, joblib, nltk, dawg-python, pymorphy2-dicts-ru, docopt, pymorphy2, emoji, pytz, tzdata, numpy, pandas\n",
      "    Running setup.py install for docopt: started\n",
      "    Running setup.py install for docopt: finished with status 'done'\n",
      "    Running setup.py install for emoji: started\n",
      "    Running setup.py install for emoji: finished with status 'done'\n",
      "Successfully installed click-8.1.3 dawg-python-0.7.2 docopt-0.6.2 emoji-2.2.0 joblib-1.2.0 nltk-3.8.1 numpy-1.24.2 pandas-2.0.0 pymorphy2-0.9.1 pymorphy2-dicts-ru-2.4.417127.4579844 pytz-2023.3 regex-2023.3.23 tqdm-4.65.0 tzdata-2023.3\n"
     ]
    },
    {
     "name": "stderr",
     "output_type": "stream",
     "text": [
      "WARNING: You are using pip version 20.2.1; however, version 23.1 is available.\n",
      "You should consider upgrading via the 'c:\\users\\admin\\appdata\\local\\programs\\python\\python38\\python.exe -m pip install --upgrade pip' command.\n"
     ]
    }
   ],
   "source": [
    "!pip install --proxy 10.0.0.1:3128 nltk pymorphy2 emoji pandas"
   ]
  },
  {
   "cell_type": "code",
   "execution_count": 2,
   "id": "54ecd317",
   "metadata": {},
   "outputs": [],
   "source": [
    "import os\n",
    "import re\n",
    "import pandas as pd\n",
    "import nltk\n",
    "from nltk.corpus import stopwords\n",
    "import pymorphy2\n",
    "from pymorphy2 import MorphAnalyzer\n",
    "import emoji"
   ]
  },
  {
   "cell_type": "code",
   "execution_count": 3,
   "id": "6b36fb49",
   "metadata": {},
   "outputs": [
    {
     "name": "stderr",
     "output_type": "stream",
     "text": [
      "[nltk_data] Downloading package stopwords to\n",
      "[nltk_data]     C:\\Users\\Admin\\AppData\\Roaming\\nltk_data...\n",
      "[nltk_data]   Unzipping corpora\\stopwords.zip.\n"
     ]
    },
    {
     "data": {
      "text/plain": [
       "True"
      ]
     },
     "execution_count": 3,
     "metadata": {},
     "output_type": "execute_result"
    }
   ],
   "source": [
    "nltk.download('stopwords')"
   ]
  },
  {
   "cell_type": "markdown",
   "id": "dd4cae07",
   "metadata": {},
   "source": [
    "## Склейка собранных парсером датасетов"
   ]
  },
  {
   "cell_type": "code",
   "execution_count": 4,
   "id": "fdc22647",
   "metadata": {},
   "outputs": [
    {
     "name": "stdout",
     "output_type": "stream",
     "text": [
      "Открыт файл 1.csv\n",
      "Содержит записей 2291\n",
      "Открыт файл 10.csv\n",
      "Содержит записей 4840\n",
      "Открыт файл 11.csv\n",
      "Содержит записей 925\n",
      "Открыт файл 12.csv\n",
      "Содержит записей 3865\n",
      "Открыт файл 13.csv\n",
      "Содержит записей 2592\n",
      "Открыт файл 14.csv\n",
      "Содержит записей 1076\n",
      "Открыт файл 2.csv\n",
      "Содержит записей 2069\n",
      "Открыт файл 3.csv\n",
      "Содержит записей 2219\n",
      "Открыт файл 4.csv\n",
      "Содержит записей 864\n",
      "Открыт файл 5.csv\n",
      "Содержит записей 2563\n",
      "Открыт файл 6.csv\n",
      "Содержит записей 2671\n",
      "Открыт файл 7.csv\n",
      "Содержит записей 2768\n",
      "Открыт файл 8.csv\n",
      "Содержит записей 2711\n",
      "Открыт файл 9.csv\n",
      "Содержит записей 887\n",
      "Закончена склейка датасетов!\n",
      "Полученный датасет:\n",
      "                                             comment\n",
      "0                                                  0\n",
      "1                                                  😭\n",
      "2               Храни Господь неравнодушных людей!🙏🕊\n",
      "3  [id450710457|Евгений], еслибы бог был он бы та...\n",
      "4   [id122712390|Кирилл], тут я полностью согласен 😢\n",
      "5  [id122712390|Кирилл], Бог есть! Пути его неисп...\n",
      "6  [id450710457|Евгений], давай расскажи мне что ...\n",
      "7  [id122712390|Кирилл], не все так просто и в дв...\n",
      "Всего записей: 32341\n"
     ]
    }
   ],
   "source": [
    "df_temp = pd.DataFrame()\n",
    "df_all = pd.DataFrame()\n",
    "colnames = ['index', 'comment']\n",
    "\n",
    "for filename in os.listdir(\"parsed_ds\"):\n",
    "    with open(os.path.join(\"parsed_ds\", filename), 'r') as f:\n",
    "        print('Открыт файл ' + filename)\n",
    "        file_path = 'parsed_ds/' + filename\n",
    "        df_temp = pd.read_csv(file_path, names=colnames, header=None)\n",
    "        df_temp = df_temp.drop(columns = ['index'],axis = 1)\n",
    "        print('Содержит записей ' + str(df_temp.shape[0]))\n",
    "        df_all = pd.concat([df_all, df_temp], axis=0)\n",
    "print('Закончена склейка датасетов!')\n",
    "print('Полученный датасет:')\n",
    "print(df_all.head(8))\n",
    "print('Всего записей: ' + str(df_all.shape[0]))"
   ]
  },
  {
   "cell_type": "markdown",
   "id": "a5e7037b",
   "metadata": {},
   "source": [
    "## Предобработка"
   ]
  },
  {
   "cell_type": "code",
   "execution_count": 5,
   "id": "00dfbe20",
   "metadata": {},
   "outputs": [],
   "source": [
    "def divide_emoji(doc):\n",
    "    for c in str(doc):\n",
    "      if emoji.is_emoji(c):\n",
    "          i = doc.index(c)\n",
    "          doc = re.sub(doc[i], ' ' + doc[i] + ' ', str(doc))\n",
    "    return doc"
   ]
  },
  {
   "cell_type": "code",
   "execution_count": 6,
   "id": "51ef18e2",
   "metadata": {},
   "outputs": [],
   "source": [
    "patterns = \"[A-Za-z0-9!#$%&'()*+,./:;<=>?@[\\]^_`{|}~—\\\"\\-]+\"\n",
    "stopwords_ru = stopwords.words(\"russian\")\n",
    "morph = MorphAnalyzer()\n",
    "\n",
    "def lemmatize(doc):\n",
    "    tokens = []\n",
    "    doc = re.sub(patterns, ' ', str(doc))\n",
    "    for token in doc.split():\n",
    "        if token and token not in stopwords_ru:\n",
    "            token = token.strip()\n",
    "            token = morph.normal_forms(token)[0]\n",
    "            tokens.append(token)\n",
    "    if tokens != []:\n",
    "        return tokens"
   ]
  },
  {
   "cell_type": "code",
   "execution_count": 7,
   "id": "d9646a00",
   "metadata": {},
   "outputs": [],
   "source": [
    "def drop_empty(df, colname):\n",
    "    for i in range(df.shape[0]):\n",
    "        if df.iloc[i][0] == []:\n",
    "            df = df.drop(index=i)"
   ]
  },
  {
   "cell_type": "code",
   "execution_count": 8,
   "id": "d9e48522",
   "metadata": {},
   "outputs": [],
   "source": [
    "df_tokens = pd.DataFrame()"
   ]
  },
  {
   "cell_type": "code",
   "execution_count": 9,
   "id": "015ae716",
   "metadata": {},
   "outputs": [],
   "source": [
    "df_tokens['tokens'] = df_all['comment'].apply(divide_emoji)"
   ]
  },
  {
   "cell_type": "code",
   "execution_count": 10,
   "id": "a005ceec",
   "metadata": {},
   "outputs": [],
   "source": [
    "df_tokens['tokens'] = df_tokens['tokens'].apply(lemmatize)"
   ]
  },
  {
   "cell_type": "code",
   "execution_count": 11,
   "id": "f35ab2d0",
   "metadata": {},
   "outputs": [],
   "source": [
    "df_tokens = df_tokens.dropna()"
   ]
  },
  {
   "cell_type": "code",
   "execution_count": 12,
   "id": "d1a7882f",
   "metadata": {},
   "outputs": [],
   "source": [
    "df_tokens = df_tokens.reset_index(drop=True)"
   ]
  },
  {
   "cell_type": "code",
   "execution_count": 13,
   "id": "a4011370",
   "metadata": {},
   "outputs": [
    {
     "data": {
      "text/html": [
       "<div>\n",
       "<style scoped>\n",
       "    .dataframe tbody tr th:only-of-type {\n",
       "        vertical-align: middle;\n",
       "    }\n",
       "\n",
       "    .dataframe tbody tr th {\n",
       "        vertical-align: top;\n",
       "    }\n",
       "\n",
       "    .dataframe thead th {\n",
       "        text-align: right;\n",
       "    }\n",
       "</style>\n",
       "<table border=\"1\" class=\"dataframe\">\n",
       "  <thead>\n",
       "    <tr style=\"text-align: right;\">\n",
       "      <th></th>\n",
       "      <th>tokens</th>\n",
       "    </tr>\n",
       "  </thead>\n",
       "  <tbody>\n",
       "    <tr>\n",
       "      <th>0</th>\n",
       "      <td>[😭]</td>\n",
       "    </tr>\n",
       "    <tr>\n",
       "      <th>1</th>\n",
       "      <td>[хранить, господь, неравнодушный, человек, 🙏, 🕊]</td>\n",
       "    </tr>\n",
       "    <tr>\n",
       "      <th>2</th>\n",
       "      <td>[евгений, еслиб, бог, такой, допускать]</td>\n",
       "    </tr>\n",
       "    <tr>\n",
       "      <th>3</th>\n",
       "      <td>[кирилл, полностью, согласный, 😢]</td>\n",
       "    </tr>\n",
       "    <tr>\n",
       "      <th>4</th>\n",
       "      <td>[кирилл, бог, путь, неисповедимый]</td>\n",
       "    </tr>\n",
       "    <tr>\n",
       "      <th>...</th>\n",
       "      <td>...</td>\n",
       "    </tr>\n",
       "    <tr>\n",
       "      <th>30199</th>\n",
       "      <td>[наталья, точно, сказать]</td>\n",
       "    </tr>\n",
       "    <tr>\n",
       "      <th>30200</th>\n",
       "      <td>[вспомнить, ф, карантин]</td>\n",
       "    </tr>\n",
       "    <tr>\n",
       "      <th>30201</th>\n",
       "      <td>[интересно, любой, слетать, космос, становитьс...</td>\n",
       "    </tr>\n",
       "    <tr>\n",
       "      <th>30202</th>\n",
       "      <td>[ранний, ещё, орден, ленин, давать, звезда]</td>\n",
       "    </tr>\n",
       "    <tr>\n",
       "      <th>30203</th>\n",
       "      <td>[каждый]</td>\n",
       "    </tr>\n",
       "  </tbody>\n",
       "</table>\n",
       "<p>30204 rows × 1 columns</p>\n",
       "</div>"
      ],
      "text/plain": [
       "                                                  tokens\n",
       "0                                                    [😭]\n",
       "1       [хранить, господь, неравнодушный, человек, 🙏, 🕊]\n",
       "2                [евгений, еслиб, бог, такой, допускать]\n",
       "3                      [кирилл, полностью, согласный, 😢]\n",
       "4                     [кирилл, бог, путь, неисповедимый]\n",
       "...                                                  ...\n",
       "30199                          [наталья, точно, сказать]\n",
       "30200                           [вспомнить, ф, карантин]\n",
       "30201  [интересно, любой, слетать, космос, становитьс...\n",
       "30202        [ранний, ещё, орден, ленин, давать, звезда]\n",
       "30203                                           [каждый]\n",
       "\n",
       "[30204 rows x 1 columns]"
      ]
     },
     "execution_count": 13,
     "metadata": {},
     "output_type": "execute_result"
    }
   ],
   "source": [
    "df_tokens"
   ]
  },
  {
   "cell_type": "code",
   "execution_count": 24,
   "id": "1e4bc520",
   "metadata": {},
   "outputs": [],
   "source": [
    "df_tokens.to_csv('datasets/new_vk.csv', sep='\\t')"
   ]
  }
 ],
 "metadata": {
  "kernelspec": {
   "display_name": "Python 3 (ipykernel)",
   "language": "python",
   "name": "python3"
  },
  "language_info": {
   "codemirror_mode": {
    "name": "ipython",
    "version": 3
   },
   "file_extension": ".py",
   "mimetype": "text/x-python",
   "name": "python",
   "nbconvert_exporter": "python",
   "pygments_lexer": "ipython3",
   "version": "3.8.6"
  }
 },
 "nbformat": 4,
 "nbformat_minor": 5
}
