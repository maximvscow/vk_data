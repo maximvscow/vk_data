{
 "cells": [
  {
   "cell_type": "markdown",
   "id": "d1ad83c7",
   "metadata": {},
   "source": [
    "# Импорт необходимых библиотек"
   ]
  },
  {
   "cell_type": "code",
   "execution_count": 1,
   "id": "520536d8",
   "metadata": {},
   "outputs": [
    {
     "name": "stdout",
     "output_type": "stream",
     "text": [
      "Requirement already satisfied: gensim in c:\\users\\admin\\appdata\\local\\programs\\python\\python38\\lib\\site-packages (4.3.1)\n",
      "Requirement already satisfied: emoji in c:\\users\\admin\\appdata\\local\\programs\\python\\python38\\lib\\site-packages (2.2.0)\n",
      "Requirement already satisfied: pandas in c:\\users\\admin\\appdata\\local\\programs\\python\\python38\\lib\\site-packages (2.0.0)\n",
      "Requirement already satisfied: nltk in c:\\users\\admin\\appdata\\local\\programs\\python\\python38\\lib\\site-packages (3.8.1)\n",
      "Requirement already satisfied: pymorphy2 in c:\\users\\admin\\appdata\\local\\programs\\python\\python38\\lib\\site-packages (0.9.1)\n",
      "Requirement already satisfied: scipy>=1.7.0 in c:\\users\\admin\\appdata\\local\\programs\\python\\python38\\lib\\site-packages (from gensim) (1.10.1)\n",
      "Requirement already satisfied: smart-open>=1.8.1 in c:\\users\\admin\\appdata\\local\\programs\\python\\python38\\lib\\site-packages (from gensim) (6.3.0)\n",
      "Requirement already satisfied: numpy>=1.18.5 in c:\\users\\admin\\appdata\\local\\programs\\python\\python38\\lib\\site-packages (from gensim) (1.24.2)\n",
      "Requirement already satisfied: python-dateutil>=2.8.2 in c:\\users\\admin\\appdata\\local\\programs\\python\\python38\\lib\\site-packages (from pandas) (2.8.2)\n",
      "Requirement already satisfied: tzdata>=2022.1 in c:\\users\\admin\\appdata\\local\\programs\\python\\python38\\lib\\site-packages (from pandas) (2023.3)\n",
      "Requirement already satisfied: pytz>=2020.1 in c:\\users\\admin\\appdata\\local\\programs\\python\\python38\\lib\\site-packages (from pandas) (2023.3)\n",
      "Requirement already satisfied: regex>=2021.8.3 in c:\\users\\admin\\appdata\\local\\programs\\python\\python38\\lib\\site-packages (from nltk) (2023.3.23)\n",
      "Requirement already satisfied: click in c:\\users\\admin\\appdata\\local\\programs\\python\\python38\\lib\\site-packages (from nltk) (8.1.3)\n",
      "Requirement already satisfied: joblib in c:\\users\\admin\\appdata\\local\\programs\\python\\python38\\lib\\site-packages (from nltk) (1.2.0)\n",
      "Requirement already satisfied: tqdm in c:\\users\\admin\\appdata\\local\\programs\\python\\python38\\lib\\site-packages (from nltk) (4.65.0)\n",
      "Requirement already satisfied: docopt>=0.6 in c:\\users\\admin\\appdata\\local\\programs\\python\\python38\\lib\\site-packages (from pymorphy2) (0.6.2)\n",
      "Requirement already satisfied: pymorphy2-dicts-ru<3.0,>=2.4 in c:\\users\\admin\\appdata\\local\\programs\\python\\python38\\lib\\site-packages (from pymorphy2) (2.4.417127.4579844)\n",
      "Requirement already satisfied: dawg-python>=0.7.1 in c:\\users\\admin\\appdata\\local\\programs\\python\\python38\\lib\\site-packages (from pymorphy2) (0.7.2)\n",
      "Requirement already satisfied: six>=1.5 in c:\\users\\admin\\appdata\\local\\programs\\python\\python38\\lib\\site-packages (from python-dateutil>=2.8.2->pandas) (1.16.0)\n",
      "Requirement already satisfied: colorama; platform_system == \"Windows\" in c:\\users\\admin\\appdata\\local\\programs\\python\\python38\\lib\\site-packages (from click->nltk) (0.4.6)\n"
     ]
    },
    {
     "name": "stderr",
     "output_type": "stream",
     "text": [
      "WARNING: You are using pip version 20.2.1; however, version 23.1.2 is available.\n",
      "You should consider upgrading via the 'c:\\users\\admin\\appdata\\local\\programs\\python\\python38\\python.exe -m pip install --upgrade pip' command.\n"
     ]
    }
   ],
   "source": [
    "!pip install --proxy 10.0.0.1:3128 gensim emoji pandas nltk pymorphy2"
   ]
  },
  {
   "cell_type": "code",
   "execution_count": 2,
   "id": "4186a31b",
   "metadata": {},
   "outputs": [],
   "source": [
    "import pandas as pd\n",
    "import nltk\n",
    "from nltk.corpus import brown\n",
    "from nltk.tokenize import word_tokenize\n",
    "from nltk.corpus import stopwords\n",
    "import re\n",
    "from gensim.models import Word2Vec as wv\n",
    "from gensim.models import KeyedVectors\n",
    "import pymorphy2\n",
    "from pymorphy2 import MorphAnalyzer\n",
    "import emoji\n",
    "import numpy as np\n",
    "from random import randint"
   ]
  },
  {
   "cell_type": "code",
   "execution_count": 3,
   "id": "448eda3d",
   "metadata": {},
   "outputs": [
    {
     "name": "stderr",
     "output_type": "stream",
     "text": [
      "[nltk_data] Downloading package stopwords to\n",
      "[nltk_data]     C:\\Users\\Admin\\AppData\\Roaming\\nltk_data...\n",
      "[nltk_data]   Package stopwords is already up-to-date!\n"
     ]
    },
    {
     "data": {
      "text/plain": [
       "True"
      ]
     },
     "execution_count": 3,
     "metadata": {},
     "output_type": "execute_result"
    }
   ],
   "source": [
    "nltk.download('stopwords')"
   ]
  },
  {
   "cell_type": "code",
   "execution_count": 4,
   "id": "d7ad47d1",
   "metadata": {},
   "outputs": [
    {
     "name": "stderr",
     "output_type": "stream",
     "text": [
      "[nltk_data] Downloading package punkt to\n",
      "[nltk_data]     C:\\Users\\Admin\\AppData\\Roaming\\nltk_data...\n",
      "[nltk_data]   Package punkt is already up-to-date!\n"
     ]
    },
    {
     "data": {
      "text/plain": [
       "True"
      ]
     },
     "execution_count": 4,
     "metadata": {},
     "output_type": "execute_result"
    }
   ],
   "source": [
    "nltk.download('punkt')"
   ]
  },
  {
   "cell_type": "code",
   "execution_count": 5,
   "id": "ad9a9aee",
   "metadata": {},
   "outputs": [
    {
     "name": "stderr",
     "output_type": "stream",
     "text": [
      "[nltk_data] Downloading package averaged_perceptron_tagger to\n",
      "[nltk_data]     C:\\Users\\Admin\\AppData\\Roaming\\nltk_data...\n",
      "[nltk_data]   Package averaged_perceptron_tagger is already up-to-\n",
      "[nltk_data]       date!\n"
     ]
    },
    {
     "data": {
      "text/plain": [
       "True"
      ]
     },
     "execution_count": 5,
     "metadata": {},
     "output_type": "execute_result"
    }
   ],
   "source": [
    "nltk.download('averaged_perceptron_tagger')"
   ]
  },
  {
   "cell_type": "code",
   "execution_count": 6,
   "id": "639e0526",
   "metadata": {},
   "outputs": [
    {
     "name": "stderr",
     "output_type": "stream",
     "text": [
      "[nltk_data] Downloading package averaged_perceptron_tagger_ru to\n",
      "[nltk_data]     C:\\Users\\Admin\\AppData\\Roaming\\nltk_data...\n",
      "[nltk_data]   Package averaged_perceptron_tagger_ru is already up-to-\n",
      "[nltk_data]       date!\n"
     ]
    },
    {
     "data": {
      "text/plain": [
       "True"
      ]
     },
     "execution_count": 6,
     "metadata": {},
     "output_type": "execute_result"
    }
   ],
   "source": [
    "nltk.download('averaged_perceptron_tagger_ru')"
   ]
  },
  {
   "cell_type": "code",
   "execution_count": 7,
   "id": "aafbab5d",
   "metadata": {},
   "outputs": [
    {
     "name": "stderr",
     "output_type": "stream",
     "text": [
      "[nltk_data] Downloading package universal_tagset to\n",
      "[nltk_data]     C:\\Users\\Admin\\AppData\\Roaming\\nltk_data...\n",
      "[nltk_data]   Package universal_tagset is already up-to-date!\n"
     ]
    },
    {
     "data": {
      "text/plain": [
       "True"
      ]
     },
     "execution_count": 7,
     "metadata": {},
     "output_type": "execute_result"
    }
   ],
   "source": [
    "nltk.download('universal_tagset')"
   ]
  },
  {
   "cell_type": "markdown",
   "id": "a12dafb9",
   "metadata": {},
   "source": [
    "# Датасет ВК"
   ]
  },
  {
   "cell_type": "markdown",
   "id": "ad266e5a",
   "metadata": {},
   "source": [
    "## Загрузка датасета"
   ]
  },
  {
   "cell_type": "code",
   "execution_count": 8,
   "id": "6e527913",
   "metadata": {},
   "outputs": [],
   "source": [
    "colnames = ['comment',]"
   ]
  },
  {
   "cell_type": "code",
   "execution_count": 9,
   "id": "cfe3e06b",
   "metadata": {},
   "outputs": [],
   "source": [
    "comments = pd.read_csv('datasets/vk.csv', names=colnames, header=0, sep='\\t')"
   ]
  },
  {
   "cell_type": "code",
   "execution_count": 10,
   "id": "fefddfcb",
   "metadata": {},
   "outputs": [
    {
     "data": {
      "text/html": [
       "<div>\n",
       "<style scoped>\n",
       "    .dataframe tbody tr th:only-of-type {\n",
       "        vertical-align: middle;\n",
       "    }\n",
       "\n",
       "    .dataframe tbody tr th {\n",
       "        vertical-align: top;\n",
       "    }\n",
       "\n",
       "    .dataframe thead th {\n",
       "        text-align: right;\n",
       "    }\n",
       "</style>\n",
       "<table border=\"1\" class=\"dataframe\">\n",
       "  <thead>\n",
       "    <tr style=\"text-align: right;\">\n",
       "      <th></th>\n",
       "      <th>comment</th>\n",
       "    </tr>\n",
       "  </thead>\n",
       "  <tbody>\n",
       "    <tr>\n",
       "      <th>0</th>\n",
       "      <td>['😭']</td>\n",
       "    </tr>\n",
       "    <tr>\n",
       "      <th>1</th>\n",
       "      <td>['хранить', 'господь', 'неравнодушный', 'челов...</td>\n",
       "    </tr>\n",
       "    <tr>\n",
       "      <th>2</th>\n",
       "      <td>['евгений', 'еслиб', 'бог', 'такой', 'допускать']</td>\n",
       "    </tr>\n",
       "    <tr>\n",
       "      <th>3</th>\n",
       "      <td>['кирилл', 'полностью', 'согласный', '😢']</td>\n",
       "    </tr>\n",
       "    <tr>\n",
       "      <th>4</th>\n",
       "      <td>['кирилл', 'бог', 'путь', 'неисповедимый']</td>\n",
       "    </tr>\n",
       "    <tr>\n",
       "      <th>...</th>\n",
       "      <td>...</td>\n",
       "    </tr>\n",
       "    <tr>\n",
       "      <th>50779</th>\n",
       "      <td>['с', 'фамилия', '🙄']</td>\n",
       "    </tr>\n",
       "    <tr>\n",
       "      <th>50780</th>\n",
       "      <td>['наш', 'день', 'повезти', 'мужик', 'фамилия',...</td>\n",
       "    </tr>\n",
       "    <tr>\n",
       "      <th>50781</th>\n",
       "      <td>['чудо', 'чудной', 'диво', 'дивный']</td>\n",
       "    </tr>\n",
       "    <tr>\n",
       "      <th>50782</th>\n",
       "      <td>['пригреться', 'уснуть', 'свариться', 'лягушка...</td>\n",
       "    </tr>\n",
       "    <tr>\n",
       "      <th>50783</th>\n",
       "      <td>['добрый', 'день', 'вполне', 'возможно', 'пере...</td>\n",
       "    </tr>\n",
       "  </tbody>\n",
       "</table>\n",
       "<p>50784 rows × 1 columns</p>\n",
       "</div>"
      ],
      "text/plain": [
       "                                                 comment\n",
       "0                                                  ['😭']\n",
       "1      ['хранить', 'господь', 'неравнодушный', 'челов...\n",
       "2      ['евгений', 'еслиб', 'бог', 'такой', 'допускать']\n",
       "3              ['кирилл', 'полностью', 'согласный', '😢']\n",
       "4             ['кирилл', 'бог', 'путь', 'неисповедимый']\n",
       "...                                                  ...\n",
       "50779                              ['с', 'фамилия', '🙄']\n",
       "50780  ['наш', 'день', 'повезти', 'мужик', 'фамилия',...\n",
       "50781               ['чудо', 'чудной', 'диво', 'дивный']\n",
       "50782  ['пригреться', 'уснуть', 'свариться', 'лягушка...\n",
       "50783  ['добрый', 'день', 'вполне', 'возможно', 'пере...\n",
       "\n",
       "[50784 rows x 1 columns]"
      ]
     },
     "execution_count": 10,
     "metadata": {},
     "output_type": "execute_result"
    }
   ],
   "source": [
    "comments"
   ]
  },
  {
   "cell_type": "code",
   "execution_count": 11,
   "id": "b88477f5",
   "metadata": {},
   "outputs": [],
   "source": [
    "def str_to_list(i):\n",
    "    new_list = eval(i)\n",
    "    return new_list"
   ]
  },
  {
   "cell_type": "code",
   "execution_count": 12,
   "id": "ada882b9",
   "metadata": {},
   "outputs": [],
   "source": [
    "comments['comment'] = comments['comment'].apply(str_to_list)"
   ]
  },
  {
   "cell_type": "markdown",
   "id": "e66fa637",
   "metadata": {},
   "source": [
    "### Выделение эмодзи флагов"
   ]
  },
  {
   "cell_type": "code",
   "execution_count": 13,
   "id": "62152b5e",
   "metadata": {},
   "outputs": [],
   "source": [
    "def split(s):\n",
    "    return[char for char in s]\n",
    "\n",
    "reg_ident = ['🇷', '🇺', '🇦', '🇸', '🇧', '🇨', '🇩', '🇪', '🇫', '🇬', '🇭', '🇮', '🇯', '🇰', '🇱', '🇲', '🇳', '🇴', '🇵', '🇶', '🇸', '🇹', 'v', '🇼', '🇽', '🇾', '🇿']\n",
    "\n",
    "def get_flags(doc):\n",
    "    for item in doc:\n",
    "        new_item = []\n",
    "        for c in split(item):\n",
    "            if c in reg_ident:\n",
    "                if len(new_item) < 2:\n",
    "                    new_item.append(c)\n",
    "        if len(new_item) == 2 and new_item[0] != new_item[1]:\n",
    "            try:\n",
    "                i = doc.index(item)\n",
    "                doc[i] = new_item[0] + new_item[1]\n",
    "            except ValueError:\n",
    "                doc[i] = ''\n",
    "    return doc"
   ]
  },
  {
   "cell_type": "code",
   "execution_count": 14,
   "id": "41647be3",
   "metadata": {},
   "outputs": [],
   "source": [
    "comments['comment'] = comments['comment'].apply(get_flags)"
   ]
  },
  {
   "cell_type": "code",
   "execution_count": 15,
   "id": "fcc0acdd",
   "metadata": {},
   "outputs": [
    {
     "data": {
      "text/html": [
       "<div>\n",
       "<style scoped>\n",
       "    .dataframe tbody tr th:only-of-type {\n",
       "        vertical-align: middle;\n",
       "    }\n",
       "\n",
       "    .dataframe tbody tr th {\n",
       "        vertical-align: top;\n",
       "    }\n",
       "\n",
       "    .dataframe thead th {\n",
       "        text-align: right;\n",
       "    }\n",
       "</style>\n",
       "<table border=\"1\" class=\"dataframe\">\n",
       "  <thead>\n",
       "    <tr style=\"text-align: right;\">\n",
       "      <th></th>\n",
       "      <th>comment</th>\n",
       "    </tr>\n",
       "  </thead>\n",
       "  <tbody>\n",
       "    <tr>\n",
       "      <th>0</th>\n",
       "      <td>[😭]</td>\n",
       "    </tr>\n",
       "    <tr>\n",
       "      <th>1</th>\n",
       "      <td>[хранить, господь, неравнодушный, человек, 🙏, 🕊]</td>\n",
       "    </tr>\n",
       "    <tr>\n",
       "      <th>2</th>\n",
       "      <td>[евгений, еслиб, бог, такой, допускать]</td>\n",
       "    </tr>\n",
       "    <tr>\n",
       "      <th>3</th>\n",
       "      <td>[кирилл, полностью, согласный, 😢]</td>\n",
       "    </tr>\n",
       "    <tr>\n",
       "      <th>4</th>\n",
       "      <td>[кирилл, бог, путь, неисповедимый]</td>\n",
       "    </tr>\n",
       "    <tr>\n",
       "      <th>...</th>\n",
       "      <td>...</td>\n",
       "    </tr>\n",
       "    <tr>\n",
       "      <th>50779</th>\n",
       "      <td>[с, фамилия, 🙄]</td>\n",
       "    </tr>\n",
       "    <tr>\n",
       "      <th>50780</th>\n",
       "      <td>[наш, день, повезти, мужик, фамилия, но, суть,...</td>\n",
       "    </tr>\n",
       "    <tr>\n",
       "      <th>50781</th>\n",
       "      <td>[чудо, чудной, диво, дивный]</td>\n",
       "    </tr>\n",
       "    <tr>\n",
       "      <th>50782</th>\n",
       "      <td>[пригреться, уснуть, свариться, лягушка, так, ...</td>\n",
       "    </tr>\n",
       "    <tr>\n",
       "      <th>50783</th>\n",
       "      <td>[добрый, день, вполне, возможно, перевозчик, з...</td>\n",
       "    </tr>\n",
       "  </tbody>\n",
       "</table>\n",
       "<p>50784 rows × 1 columns</p>\n",
       "</div>"
      ],
      "text/plain": [
       "                                                 comment\n",
       "0                                                    [😭]\n",
       "1       [хранить, господь, неравнодушный, человек, 🙏, 🕊]\n",
       "2                [евгений, еслиб, бог, такой, допускать]\n",
       "3                      [кирилл, полностью, согласный, 😢]\n",
       "4                     [кирилл, бог, путь, неисповедимый]\n",
       "...                                                  ...\n",
       "50779                                    [с, фамилия, 🙄]\n",
       "50780  [наш, день, повезти, мужик, фамилия, но, суть,...\n",
       "50781                       [чудо, чудной, диво, дивный]\n",
       "50782  [пригреться, уснуть, свариться, лягушка, так, ...\n",
       "50783  [добрый, день, вполне, возможно, перевозчик, з...\n",
       "\n",
       "[50784 rows x 1 columns]"
      ]
     },
     "execution_count": 15,
     "metadata": {},
     "output_type": "execute_result"
    }
   ],
   "source": [
    "comments"
   ]
  },
  {
   "cell_type": "code",
   "execution_count": 16,
   "id": "cd2ed832",
   "metadata": {},
   "outputs": [],
   "source": [
    "true_vk_data = comments['comment'].values.tolist()"
   ]
  },
  {
   "cell_type": "markdown",
   "id": "8d560a6f",
   "metadata": {},
   "source": [
    "### Добавление тегов из universal_tagset. Для этого нужно переименовать _taggers/universal_tagset/ru-rnс.map_ в _taggers/universal_tagset/ru-rnc-new.map_"
   ]
  },
  {
   "cell_type": "code",
   "execution_count": 16,
   "id": "52af1375",
   "metadata": {},
   "outputs": [],
   "source": [
    "def tagger(doc):\n",
    "    tagged_tokens = []\n",
    "    try:\n",
    "        tagged_doc = nltk.pos_tag(doc, tagset='universal', lang = 'rus')\n",
    "        for p in tagged_doc:\n",
    "            if emoji.is_emoji(p[0]):\n",
    "                token = p[0] + '_SYM'\n",
    "            else:\n",
    "                token = p[0] + '_' + p[1]\n",
    "            tagged_tokens.append(token)\n",
    "    except KeyError:\n",
    "        print('Возникла ошибка формата токена, запись пропущена!')\n",
    "    return(tagged_tokens)"
   ]
  },
  {
   "cell_type": "code",
   "execution_count": 17,
   "id": "55f82abb",
   "metadata": {},
   "outputs": [],
   "source": [
    "comments_tagged = pd.DataFrame()"
   ]
  },
  {
   "cell_type": "code",
   "execution_count": 19,
   "id": "3fc36ee6",
   "metadata": {},
   "outputs": [
    {
     "name": "stdout",
     "output_type": "stream",
     "text": [
      "['ут', 'чк', 'м', 'ик', 'н', 'ки', 'тны', 'далее', 'м', 'нт', 'так', 'ы', 'ют', 'ук', 'ины', 'ближн', 'г', 'в', 'так', 'кит', 'так', 'л', 'ь', 'зный', 'далее', 'з', 'так', 'ль', 'тв', 'м', 'так', 'г', 'чт', 'к', 'мль', 'н', 'дит', 'п', 'далее', 'лп', 'м', 'п', 'нт', 'г', 'н', 'чт', 'ия', 'так', 'л', 'язвить', 'й', 'вн', 'шни', 'г', 'з', 'эт', 'зн', 'ч', 'так', 'чт', 'н', 'ци', 'н', 'льн', 'б', 'з', 'п', 'н', 'ть', 'ия', 'н', 'дит', 'п', 'далее', 'г', 'з', 'й', 'ия', 'ки', 'вл', 'ти', 'далее', 'лжный', 'п', 'инять', 'чны', 'м', 'ы', 'з', 'щит', 'так', 'ны']\n",
      "Тут ошибка формата!!\n",
      "['ут', 'чк', 'тны', 'далее', 'м', 'нт', 'ющи', 'ук', 'ины', 'ближн', 'г', 'в', 'так', 'кит', 'вид', 'так', 'ль', 'тв', 'так', 'так', 'м', 'чт', 'ия', 'н', 'дит', 'п', 'далее', 'п', 'так', 'льный', 'нт', 'л', 'м', 'м', 'ик', 'н', 'й', 'зв', 'дки', 'далее', 'м', 'нты', 'п', 'нт', 'г', 'н', 'г', 'ят', 'н', 'м', 'так', 'м', 'чт', 'широта', 'зн', 'ют', 'п', 'ия', 'ч', 'нь', 'мн', 'г', 'эт', 'явля', 'так', 'г', 'з', 'й', 'б', 'з', 'п', 'н', 'ти', 'н', 'широта', 'й', 'так', 'ны', 'м', 'ик', 'нцы', 'н', 'н', 'н', 'так', 'льк', 'ют', 'далее', 'так', 'п', 'н', 'шим', 'так', 'м', 'м', 'г', 'так', 'п', 'льз', 'ть', 'инт', 'п', 'мим', 'эт', 'г', 'так', 'чк', 'далее', 'м', 'нт', 'вид', 'так', 'ль', 'тв', 'так', 'так', 'м', 'чт', 'н', 'широта', 'зв', 'дк', 'н', 'бл', 'далее', 'так', 'далее', 'лжный', 'вн', 'м', 'з', 'щит', 'инф', 'м', 'ции', 'чт', 'щ', 'б', 'льш', 'илив', 'так', 'г', 'з', 'н', 'широта', 'й', 'б', 'з', 'п', 'н', 'ти', 'далее', 'й', 'твит', 'льн', 'н', 'широта', 'зв', 'дк', 'далее', 'далее', 'м', 'нты', 'так', 'з', 'ч', 'м', 'лив', 'ть', 'дь', 'м', 'жн', 'п', 'далее', 'так', 'вить', 'п', 'далее', 'г', 'з', 'н', 'ши', 'зв', 'дчик', 'так', 'ы', 'эт', 'далее', 'быв']\n",
      "Тут ошибка формата!!\n",
      "['кт', 'юлия', 'п', 'ильда', 'п', 'лнивш', 'гл', 'вн', 'ю', 'ль', 'фильм', '«', 'ыз', 'в»', 'п', 'изн', 'л', 'ь', 'чт', 'п', 'далее', 'п', 'л', 'так', 'м', 'м', 'п', 'так', 'л', 'ь', 'н', 'л', 'ч', 'й', 'п', 'так', 'широта', 'тви', 'так', 'дин', 'н', 'ц', 'н', 'так', 'вилы', 'з', 'щ', 'ния', 'н', 'пи', 'л', 'п', 'щ', 'лён', 'пи', 'ьм', 'далее', 'ч', 'ям', 'ия', 'нн', 'л', 'дница', 'п', 'иидти', 'н', 'п', 'мь', 'ный', 'п', 'з', 'п', 'й', 'ми', 'кина', 'тина', 'нят', 'й', 'м', 'вм', 'так', 'й', 'зв', 'здн', 'й', 'м', 'м', 'й', 'кт', 'п', 'далее', 'лить', 'ь', 'они', 'п', 'живой', 'ния', 'ъ', 'м', 'чн', 'м', 'п', 'ц', 'з', 'л', 'чт', 'так', 'п', 'жд', 'л', 'н', 'жд', 'м', 'широта', 'г', '«', 'й', 'мый', 'гл', 'вный', 'так', 'н', 'так', 'так', 'шн', 'ида', 'ть', 'так', 'пи', 'ть', 'п', 'щ', 'лён', 'пи', 'ьм', 'далее', 'тям', 'п', 'дпи', 'ыв', 'ть', 'з', 'щ', 'н', 'так', 'б', 'тв', 'нн', 'й', 'й', 'эт', 'так', 'м', 'м', 'нт', 'п', 'шь', 'чт', 'эт', 'н', 'так', 'ящий', 'так', 'п', 'так', 'м', 'чт', 'эт', 'тв', 'й', 'выб', '»', 'п', 'далее', 'лить', 'ь', 'п', 'ильда']\n",
      "Тут ошибка формата!!\n"
     ]
    }
   ],
   "source": [
    "comments_tagged['tokens'] = comments['comment'].apply(tagger)"
   ]
  },
  {
   "cell_type": "code",
   "execution_count": 20,
   "id": "26337826",
   "metadata": {},
   "outputs": [
    {
     "data": {
      "text/html": [
       "<div>\n",
       "<style scoped>\n",
       "    .dataframe tbody tr th:only-of-type {\n",
       "        vertical-align: middle;\n",
       "    }\n",
       "\n",
       "    .dataframe tbody tr th {\n",
       "        vertical-align: top;\n",
       "    }\n",
       "\n",
       "    .dataframe thead th {\n",
       "        text-align: right;\n",
       "    }\n",
       "</style>\n",
       "<table border=\"1\" class=\"dataframe\">\n",
       "  <thead>\n",
       "    <tr style=\"text-align: right;\">\n",
       "      <th></th>\n",
       "      <th>tokens</th>\n",
       "    </tr>\n",
       "  </thead>\n",
       "  <tbody>\n",
       "    <tr>\n",
       "      <th>0</th>\n",
       "      <td>[😭_SYM]</td>\n",
       "    </tr>\n",
       "    <tr>\n",
       "      <th>1</th>\n",
       "      <td>[хранить_VERB, господь_NOUN, неравнодушный_ADJ...</td>\n",
       "    </tr>\n",
       "    <tr>\n",
       "      <th>2</th>\n",
       "      <td>[евгений_ADJ, еслиб_NOUN, бог_NOUN, такой_PRON...</td>\n",
       "    </tr>\n",
       "    <tr>\n",
       "      <th>3</th>\n",
       "      <td>[кирилл_VERB, полностью_ADV, согласный_VERB, 😢...</td>\n",
       "    </tr>\n",
       "    <tr>\n",
       "      <th>4</th>\n",
       "      <td>[кирилл_VERB, бог_NOUN, путь_NOUN, неисповедим...</td>\n",
       "    </tr>\n",
       "    <tr>\n",
       "      <th>...</th>\n",
       "      <td>...</td>\n",
       "    </tr>\n",
       "    <tr>\n",
       "      <th>50779</th>\n",
       "      <td>[с_ADP, фамилия_NOUN, 🙄_SYM]</td>\n",
       "    </tr>\n",
       "    <tr>\n",
       "      <th>50780</th>\n",
       "      <td>[наш_PRON, день_NOUN, повезти_VERB, мужик_NOUN...</td>\n",
       "    </tr>\n",
       "    <tr>\n",
       "      <th>50781</th>\n",
       "      <td>[чудо_NOUN, чудной_ADJ, диво_ADV, дивный_ADJ]</td>\n",
       "    </tr>\n",
       "    <tr>\n",
       "      <th>50782</th>\n",
       "      <td>[пригреться_VERB, уснуть_VERB, свариться_VERB,...</td>\n",
       "    </tr>\n",
       "    <tr>\n",
       "      <th>50783</th>\n",
       "      <td>[добрый_ADJ, день_NOUN, вполне_ADV, возможно_P...</td>\n",
       "    </tr>\n",
       "  </tbody>\n",
       "</table>\n",
       "<p>50784 rows × 1 columns</p>\n",
       "</div>"
      ],
      "text/plain": [
       "                                                  tokens\n",
       "0                                                [😭_SYM]\n",
       "1      [хранить_VERB, господь_NOUN, неравнодушный_ADJ...\n",
       "2      [евгений_ADJ, еслиб_NOUN, бог_NOUN, такой_PRON...\n",
       "3      [кирилл_VERB, полностью_ADV, согласный_VERB, 😢...\n",
       "4      [кирилл_VERB, бог_NOUN, путь_NOUN, неисповедим...\n",
       "...                                                  ...\n",
       "50779                       [с_ADP, фамилия_NOUN, 🙄_SYM]\n",
       "50780  [наш_PRON, день_NOUN, повезти_VERB, мужик_NOUN...\n",
       "50781      [чудо_NOUN, чудной_ADJ, диво_ADV, дивный_ADJ]\n",
       "50782  [пригреться_VERB, уснуть_VERB, свариться_VERB,...\n",
       "50783  [добрый_ADJ, день_NOUN, вполне_ADV, возможно_P...\n",
       "\n",
       "[50784 rows x 1 columns]"
      ]
     },
     "execution_count": 20,
     "metadata": {},
     "output_type": "execute_result"
    }
   ],
   "source": [
    "comments_tagged"
   ]
  },
  {
   "cell_type": "markdown",
   "id": "7253a9d8",
   "metadata": {},
   "source": [
    "### Формирование списка списков"
   ]
  },
  {
   "cell_type": "code",
   "execution_count": 21,
   "id": "3b7c7170",
   "metadata": {},
   "outputs": [],
   "source": [
    "vk_data = comments_tagged['tokens'].values.tolist()"
   ]
  },
  {
   "cell_type": "code",
   "execution_count": 61,
   "id": "ab6fef7a",
   "metadata": {},
   "outputs": [
    {
     "data": {
      "text/plain": [
       "[['😭_SYM'],\n",
       " ['хранить_VERB',\n",
       "  'господь_NOUN',\n",
       "  'неравнодушный_ADJ',\n",
       "  'человек_NOUN',\n",
       "  '🙏_SYM',\n",
       "  '🕊_SYM'],\n",
       " ['евгений_ADJ', 'еслиб_NOUN', 'бог_NOUN', 'такой_PRON', 'допускать_VERB']]"
      ]
     },
     "execution_count": 61,
     "metadata": {},
     "output_type": "execute_result"
    }
   ],
   "source": [
    "vk_data[:3]"
   ]
  },
  {
   "cell_type": "markdown",
   "id": "e3709f7e",
   "metadata": {},
   "source": [
    "## Создание тестового датафрейма для переобучения"
   ]
  },
  {
   "cell_type": "code",
   "execution_count": 17,
   "id": "bef77bc5",
   "metadata": {},
   "outputs": [],
   "source": [
    "test_df = comments[:1000]"
   ]
  },
  {
   "cell_type": "code",
   "execution_count": 20,
   "id": "9e5eb181",
   "metadata": {},
   "outputs": [
    {
     "name": "stderr",
     "output_type": "stream",
     "text": [
      "C:\\Users\\Admin\\AppData\\Local\\Temp\\ipykernel_12384\\316163301.py:12: SettingWithCopyWarning: \n",
      "A value is trying to be set on a copy of a slice from a DataFrame\n",
      "\n",
      "See the caveats in the documentation: https://pandas.pydata.org/pandas-docs/stable/user_guide/indexing.html#returning-a-view-versus-a-copy\n",
      "  test_df['comment'].iloc[i] = ['смешно_ADV', '🤣_SYM', 'смеяться_VERB', '😄_SYM', 'смех_NOUN', 'угар_NOUN', '😅_SYM']\n",
      "C:\\Users\\Admin\\AppData\\Local\\Temp\\ipykernel_12384\\316163301.py:4: SettingWithCopyWarning: \n",
      "A value is trying to be set on a copy of a slice from a DataFrame\n",
      "\n",
      "See the caveats in the documentation: https://pandas.pydata.org/pandas-docs/stable/user_guide/indexing.html#returning-a-view-versus-a-copy\n",
      "  test_df['comment'].iloc[i] = ['федерация_NOUN', '👍_SYM', 'правда_NOUN', '🇷🇺_SYM', 'россия_NOUN', 'российский_ADJ', 'русский_ADJ']\n",
      "C:\\Users\\Admin\\AppData\\Local\\Temp\\ipykernel_12384\\316163301.py:6: SettingWithCopyWarning: \n",
      "A value is trying to be set on a copy of a slice from a DataFrame\n",
      "\n",
      "See the caveats in the documentation: https://pandas.pydata.org/pandas-docs/stable/user_guide/indexing.html#returning-a-view-versus-a-copy\n",
      "  test_df['comment'].iloc[i] = ['русский_ADJ' '👍_SYM', 'российский_ADJ', '🇷🇺_SYM', 'россия_NOUN']\n",
      "C:\\Users\\Admin\\AppData\\Local\\Temp\\ipykernel_12384\\316163301.py:8: SettingWithCopyWarning: \n",
      "A value is trying to be set on a copy of a slice from a DataFrame\n",
      "\n",
      "See the caveats in the documentation: https://pandas.pydata.org/pandas-docs/stable/user_guide/indexing.html#returning-a-view-versus-a-copy\n",
      "  test_df['comment'].iloc[i] = ['правильно_ADV', '👍_SYM', 'молодец_NOUN', 'класс_NOUN', 'правда_NOUN' 'красавчик_NOUN']\n",
      "C:\\Users\\Admin\\AppData\\Local\\Temp\\ipykernel_12384\\316163301.py:10: SettingWithCopyWarning: \n",
      "A value is trying to be set on a copy of a slice from a DataFrame\n",
      "\n",
      "See the caveats in the documentation: https://pandas.pydata.org/pandas-docs/stable/user_guide/indexing.html#returning-a-view-versus-a-copy\n",
      "  test_df['comment'].iloc[i] = ['правда_NOUN', 'правильно_ADV', '😎_SYM', 'красавчик_NOUN', '👍_SYM', '👌_SYM', '😉_SYM', '🇷🇺_SYM', 'молодец_NOUN', 'правда_NOUN']\n",
      "C:\\Users\\Admin\\AppData\\Local\\Temp\\ipykernel_12384\\316163301.py:14: SettingWithCopyWarning: \n",
      "A value is trying to be set on a copy of a slice from a DataFrame\n",
      "\n",
      "See the caveats in the documentation: https://pandas.pydata.org/pandas-docs/stable/user_guide/indexing.html#returning-a-view-versus-a-copy\n",
      "  test_df['comment'].iloc[i] = ['смешно_ADV', 'смешной_ADJ', 'смех_NOUN', 'ржач_NOUN', '🤣_SYM', 'красавчик_NOUN']\n"
     ]
    }
   ],
   "source": [
    "for i in range(len(test_df)):\n",
    "    flag = randint(1, 6)\n",
    "    if flag == 1:\n",
    "        test_df['comment'].iloc[i] = ['федерация_NOUN', '👍_SYM', 'правда_NOUN', '🇷🇺_SYM', 'россия_NOUN', 'российский_ADJ', 'русский_ADJ']\n",
    "    elif flag == 2:\n",
    "        test_df['comment'].iloc[i] = ['русский_ADJ' '👍_SYM', 'российский_ADJ', '🇷🇺_SYM', 'россия_NOUN']\n",
    "    elif flag == 3:\n",
    "        test_df['comment'].iloc[i] = ['правильно_ADV', '👍_SYM', 'молодец_NOUN', 'класс_NOUN', 'правда_NOUN' 'красавчик_NOUN']\n",
    "    elif flag == 4:\n",
    "        test_df['comment'].iloc[i] = ['правда_NOUN', 'правильно_ADV', '😎_SYM', 'красавчик_NOUN', '👍_SYM', '👌_SYM', '😉_SYM', '🇷🇺_SYM', 'молодец_NOUN', 'правда_NOUN'] \n",
    "    elif flag == 5:\n",
    "        test_df['comment'].iloc[i] = ['смешно_ADV', '🤣_SYM', 'смеяться_VERB', '😄_SYM', 'смех_NOUN', 'угар_NOUN', '😅_SYM'] \n",
    "    elif flag == 6:\n",
    "        test_df['comment'].iloc[i] = ['смешно_ADV', 'смешной_ADJ', 'смех_NOUN', 'ржач_NOUN', '🤣_SYM', 'красавчик_NOUN'] "
   ]
  },
  {
   "cell_type": "code",
   "execution_count": 21,
   "id": "c4ae3241",
   "metadata": {},
   "outputs": [
    {
     "data": {
      "text/html": [
       "<div>\n",
       "<style scoped>\n",
       "    .dataframe tbody tr th:only-of-type {\n",
       "        vertical-align: middle;\n",
       "    }\n",
       "\n",
       "    .dataframe tbody tr th {\n",
       "        vertical-align: top;\n",
       "    }\n",
       "\n",
       "    .dataframe thead th {\n",
       "        text-align: right;\n",
       "    }\n",
       "</style>\n",
       "<table border=\"1\" class=\"dataframe\">\n",
       "  <thead>\n",
       "    <tr style=\"text-align: right;\">\n",
       "      <th></th>\n",
       "      <th>comment</th>\n",
       "    </tr>\n",
       "  </thead>\n",
       "  <tbody>\n",
       "    <tr>\n",
       "      <th>0</th>\n",
       "      <td>[смешно_ADV, 🤣_SYM, смеяться_VERB, 😄_SYM, смех...</td>\n",
       "    </tr>\n",
       "    <tr>\n",
       "      <th>1</th>\n",
       "      <td>[федерация_NOUN, 👍_SYM, правда_NOUN, 🇷🇺_SYM, р...</td>\n",
       "    </tr>\n",
       "    <tr>\n",
       "      <th>2</th>\n",
       "      <td>[русский_ADJ👍_SYM, российский_ADJ, 🇷🇺_SYM, рос...</td>\n",
       "    </tr>\n",
       "    <tr>\n",
       "      <th>3</th>\n",
       "      <td>[смешно_ADV, 🤣_SYM, смеяться_VERB, 😄_SYM, смех...</td>\n",
       "    </tr>\n",
       "    <tr>\n",
       "      <th>4</th>\n",
       "      <td>[федерация_NOUN, 👍_SYM, правда_NOUN, 🇷🇺_SYM, р...</td>\n",
       "    </tr>\n",
       "    <tr>\n",
       "      <th>...</th>\n",
       "      <td>...</td>\n",
       "    </tr>\n",
       "    <tr>\n",
       "      <th>995</th>\n",
       "      <td>[смешно_ADV, смешной_ADJ, смех_NOUN, ржач_NOUN...</td>\n",
       "    </tr>\n",
       "    <tr>\n",
       "      <th>996</th>\n",
       "      <td>[русский_ADJ👍_SYM, российский_ADJ, 🇷🇺_SYM, рос...</td>\n",
       "    </tr>\n",
       "    <tr>\n",
       "      <th>997</th>\n",
       "      <td>[правильно_ADV, 👍_SYM, молодец_NOUN, класс_NOU...</td>\n",
       "    </tr>\n",
       "    <tr>\n",
       "      <th>998</th>\n",
       "      <td>[смешно_ADV, смешной_ADJ, смех_NOUN, ржач_NOUN...</td>\n",
       "    </tr>\n",
       "    <tr>\n",
       "      <th>999</th>\n",
       "      <td>[правда_NOUN, правильно_ADV, 😎_SYM, красавчик_...</td>\n",
       "    </tr>\n",
       "  </tbody>\n",
       "</table>\n",
       "<p>1000 rows × 1 columns</p>\n",
       "</div>"
      ],
      "text/plain": [
       "                                               comment\n",
       "0    [смешно_ADV, 🤣_SYM, смеяться_VERB, 😄_SYM, смех...\n",
       "1    [федерация_NOUN, 👍_SYM, правда_NOUN, 🇷🇺_SYM, р...\n",
       "2    [русский_ADJ👍_SYM, российский_ADJ, 🇷🇺_SYM, рос...\n",
       "3    [смешно_ADV, 🤣_SYM, смеяться_VERB, 😄_SYM, смех...\n",
       "4    [федерация_NOUN, 👍_SYM, правда_NOUN, 🇷🇺_SYM, р...\n",
       "..                                                 ...\n",
       "995  [смешно_ADV, смешной_ADJ, смех_NOUN, ржач_NOUN...\n",
       "996  [русский_ADJ👍_SYM, российский_ADJ, 🇷🇺_SYM, рос...\n",
       "997  [правильно_ADV, 👍_SYM, молодец_NOUN, класс_NOU...\n",
       "998  [смешно_ADV, смешной_ADJ, смех_NOUN, ржач_NOUN...\n",
       "999  [правда_NOUN, правильно_ADV, 😎_SYM, красавчик_...\n",
       "\n",
       "[1000 rows x 1 columns]"
      ]
     },
     "execution_count": 21,
     "metadata": {},
     "output_type": "execute_result"
    }
   ],
   "source": [
    "test_df"
   ]
  },
  {
   "cell_type": "code",
   "execution_count": 23,
   "id": "7e0c8afb",
   "metadata": {},
   "outputs": [],
   "source": [
    "test_data = test_df['comment'].values.tolist()"
   ]
  },
  {
   "cell_type": "code",
   "execution_count": 24,
   "id": "c14b401a",
   "metadata": {},
   "outputs": [
    {
     "data": {
      "text/plain": [
       "[['смешно_ADV',\n",
       "  '🤣_SYM',\n",
       "  'смеяться_VERB',\n",
       "  '😄_SYM',\n",
       "  'смех_NOUN',\n",
       "  'угар_NOUN',\n",
       "  '😅_SYM'],\n",
       " ['федерация_NOUN',\n",
       "  '👍_SYM',\n",
       "  'правда_NOUN',\n",
       "  '🇷🇺_SYM',\n",
       "  'россия_NOUN',\n",
       "  'российский_ADJ',\n",
       "  'русский_ADJ'],\n",
       " ['русский_ADJ👍_SYM', 'российский_ADJ', '🇷🇺_SYM', 'россия_NOUN']]"
      ]
     },
     "execution_count": 24,
     "metadata": {},
     "output_type": "execute_result"
    }
   ],
   "source": [
    "test_data[:3]"
   ]
  },
  {
   "cell_type": "markdown",
   "id": "d87fe42d",
   "metadata": {},
   "source": [
    "# Модель Word2Vec"
   ]
  },
  {
   "cell_type": "markdown",
   "id": "48a96bf0",
   "metadata": {},
   "source": [
    "## Инициализация готовой модели *(RusVectōrēs news_upos_skipgram_300_5_2019)*"
   ]
  },
  {
   "cell_type": "markdown",
   "id": "4d64725f",
   "metadata": {},
   "source": [
    "### Загрузка датасета лента.ру и создание списка лента"
   ]
  },
  {
   "cell_type": "code",
   "execution_count": 63,
   "id": "c432810e",
   "metadata": {},
   "outputs": [],
   "source": [
    "lenta_read = pd.read_csv('lenta_df_lern.csv')"
   ]
  },
  {
   "cell_type": "code",
   "execution_count": 64,
   "id": "463c608f",
   "metadata": {},
   "outputs": [
    {
     "data": {
      "text/html": [
       "<div>\n",
       "<style scoped>\n",
       "    .dataframe tbody tr th:only-of-type {\n",
       "        vertical-align: middle;\n",
       "    }\n",
       "\n",
       "    .dataframe tbody tr th {\n",
       "        vertical-align: top;\n",
       "    }\n",
       "\n",
       "    .dataframe thead th {\n",
       "        text-align: right;\n",
       "    }\n",
       "</style>\n",
       "<table border=\"1\" class=\"dataframe\">\n",
       "  <thead>\n",
       "    <tr style=\"text-align: right;\">\n",
       "      <th></th>\n",
       "      <th>Unnamed: 0</th>\n",
       "      <th>text</th>\n",
       "    </tr>\n",
       "  </thead>\n",
       "  <tbody>\n",
       "    <tr>\n",
       "      <th>0</th>\n",
       "      <td>0</td>\n",
       "      <td>['бой', 'сопоцкина', 'друскеник', 'закончиться...</td>\n",
       "    </tr>\n",
       "    <tr>\n",
       "      <th>1</th>\n",
       "      <td>1</td>\n",
       "      <td>['министерство', 'народный', 'просвещение', 'в...</td>\n",
       "    </tr>\n",
       "    <tr>\n",
       "      <th>2</th>\n",
       "      <td>2</td>\n",
       "      <td>['штабс', 'капитан', 'п', 'н', 'нестеров', 'де...</td>\n",
       "    </tr>\n",
       "  </tbody>\n",
       "</table>\n",
       "</div>"
      ],
      "text/plain": [
       "   Unnamed: 0                                               text\n",
       "0           0  ['бой', 'сопоцкина', 'друскеник', 'закончиться...\n",
       "1           1  ['министерство', 'народный', 'просвещение', 'в...\n",
       "2           2  ['штабс', 'капитан', 'п', 'н', 'нестеров', 'де..."
      ]
     },
     "execution_count": 64,
     "metadata": {},
     "output_type": "execute_result"
    }
   ],
   "source": [
    "lenta_read.head(3)"
   ]
  },
  {
   "cell_type": "code",
   "execution_count": 65,
   "id": "0003c450",
   "metadata": {},
   "outputs": [],
   "source": [
    "lenta_df = pd.DataFrame()"
   ]
  },
  {
   "cell_type": "code",
   "execution_count": 66,
   "id": "94a75c42",
   "metadata": {},
   "outputs": [],
   "source": [
    "lenta_read = lenta_read[:150000]"
   ]
  },
  {
   "cell_type": "code",
   "execution_count": 67,
   "id": "ddabe13a",
   "metadata": {},
   "outputs": [],
   "source": [
    "lenta_df['tokens'] = lenta_read['text'].apply(str_to_list)"
   ]
  },
  {
   "cell_type": "code",
   "execution_count": 68,
   "id": "341200bf",
   "metadata": {},
   "outputs": [
    {
     "name": "stdout",
     "output_type": "stream",
     "text": [
      "['сегодня', 'ночью', 'м', 'год', 'жизнь', 'продолжительный', 'болезнь', 'свой', 'московский', 'квартира', 'трехпрудный', 'переулок', 'скончаться', 'королева', 'русский', 'романс', 'народный', 'артистка', 'россия', 'изабелла', 'данилович', 'юрьев', 'как', 'сообщать', 'риа', 'новость', 'прощание', 'певица', 'пройти', 'помещение', 'столичный', 'театр', 'эстрада', 'понедельник', 'январь', 'в', 'день', 'состояться', 'похороны', 'творческий', 'путь', 'изабелла', 'юрьев', 'начинаться', 'быть', 'год', 'с', 'дебют', 'прийти', 'успех', 'юрьев', 'войти', 'плеяда', 'тот', 'стоять', 'исток', 'современный', 'эстрадный', 'искусство', 'наш', 'страна', 'весь', 'долгий', 'жизнь', 'эстрада', 'последний', 'концерт', 'изабелла', 'данилович', 'состояться', 'середина', 'х', 'год', 'хранить', 'верность', 'романс', 'особый', 'место', 'репертуар', 'занимать', 'цыганский', 'романс', 'исполнение', 'который', 'юрьев', 'окрестить', 'белый', 'цыганка', 'мадам', 'вечный', 'аншлаг']\n",
      "Тут ошибка формата!!\n",
      "['сотрудник', 'правоохранительный', 'орган', 'дагестан', 'задержать', 'участник', 'преступный', 'интернациональный', 'группа', 'заниматься', 'похищение', 'человек', 'сообщать', 'риа', 'новость', 'по', 'данные', 'мвд', 'дагестан', 'год', 'территория', 'республика', 'преступник', 'совершить', 'похищение', 'в', 'основное', 'бандит', 'похищать', 'военнослужащий', 'министерство', 'оборона', 'рф', 'внутренний', 'войско', 'министерство', 'внутренний', 'дело', 'рф', 'сотрудник', 'милиция', 'требовать', 'освобождение', 'большой', 'выкуп', 'оперативник', 'задержать', 'летний', 'ингуш', 'а', 'с', 'решедов', 'летний', 'чеченка', 'с', 'далее', 'джамбулатов', 'летний', 'чеченка', 'л', 'х', 'джанхаев', 'летний', 'кумык', 'х', 'и', 'атаев', 'летний', 'кумык', 'а', 'г', 'абдурашидов', 'каждый', 'задержать', 'выполнять', 'банда', 'собственный', 'отвести', 'роль', 'напомнить', 'накануне', 'гудермес', 'задержать', 'другой', 'интернациональный', 'банда', 'заниматься', 'похищение', 'человек', 'цель', 'получение', 'выкуп']\n",
      "Тут ошибка формата!!\n",
      "['в', 'очередной', 'рейтинг', 'международный', 'федерация', 'футбол', 'опубликовать', 'штаб', 'квартира', 'фифа', 'первый', 'место', 'прежний', 'занимать', 'сборная', 'бразилия', 'на', 'второй', 'третий', 'место', 'расположиться', 'соответственно', 'блестяще', 'провести', 'отборочный', 'игра', 'чемпионат', 'европа', 'чех', 'чемпион', 'мир', 'сборная', 'франция', 'российский', 'команда', 'м', 'место', 'четвёртый', 'место', 'рейтинг', 'занимать', 'команда', 'испания', 'далее', 'идти', 'сборный', 'германия', 'аргентина', 'норвегия', 'любопытно', 'число', 'сильный', 'рейтинг', 'сборный', 'европейский', 'разбавлять', 'компания', 'старое', 'свет', 'вышеупомянутый', 'бразилец', 'аргентинец', 'также', 'мексиканец', 'по', 'сравнение', 'предыдущий', 'январский', 'рейтинг', 'существенный', 'скачок', 'немой', 'сделать', 'грек', 'переместиться', 'быть', 'место', 'финн', 'подняться', 'ступенька', 'вверх', 'стать', 'ми', 'особенно', 'иранец', 'увеличить', 'свой', 'рейтинг', 'пункт', 'быть', 'россиянин', 'месяц', 'опуститься', 'строчка', 'вверх', 'пропустить', 'вперёд', 'шотландец', 'преимущество', 'южноамериканский', 'кудесник', 'мяч', 'рейтинг', 'столь', 'большой', 'очевидный', 'конец', 'год', 'один', 'сборная', 'мир', 'суметь', 'догнать', 'бразилец']\n",
      "Тут ошибка формата!!\n",
      "['воссоздать', 'советский', 'система', 'единый', 'государственный', 'авиакомпания', 'планировать', 'российский', 'чиновник', 'по', 'сведение', 'ежедневный', 'газета', 'газета', 'управление', 'дело', 'президент', 'разрабатываться', 'проект', 'соединить', 'жить', 'основное', 'счёт', 'президентский', 'правительственный', 'перевозка', 'гтк', 'россия', 'прибыльный', 'гуап', 'пулково', 'являться', 'суть', 'авиационный', 'монополист', 'санкт', 'петербург', 'как', 'писать', 'газета', 'такой', 'объединение', 'полностью', 'вписываться', 'правительственный', 'политика', 'укрупнение', 'авиаперевозчик', 'при', 'сведение', 'источник', 'издание', 'объединение', 'дальнейший', 'мочь', 'присоединиться', 'такой', 'авиационный', 'государственный', 'унитарный', 'предприятие', 'кавминводыавиа', 'дальавиа', 'другой', 'в', 'итог', 'получиться', 'система', 'аналогичный', 'советский', 'аэрофлот', 'иметь', 'территориальный', 'управление', 'базирование', 'весь', 'регион', 'страна', 'в', 'управление', 'дело', 'президент', 'газета', 'опровергнуть', 'информация', 'готовиться', 'слияние', 'два', 'авиакомпания', 'пресс', 'секретарь', 'уд', 'виктор', 'хрековы', 'заявить', 'журналист', 'издание', 'готовиться', 'программа', 'реформирование', 'президентский', 'гтк', 'россия', 'цель', 'повышение', 'эффективность', 'работа', 'от', 'дальнейший', 'комментарий', 'хрековы', 'отказаться', 'а', 'директор', 'лётный', 'технический', 'комплекс', 'гуап', 'пулково', 'сергей', 'белов', 'отказаться', 'беседовать', 'журналист', 'тема', 'передать', 'секретарь', 'выяснять', 'вопрос', 'следовать', 'гтк', 'россия', 'как', 'заявить', 'газета', 'руководство', 'гтк', 'объединение', 'лишить', 'основание', 'вопрос', 'пока', 'прорабатываться', 'по', 'сообщение', 'издание', 'настоящий', 'время', 'экономист', 'рассчитывать', 'проект', 'готовить', 'бизнес', 'план', 'напомнить', 'государственный', 'транспортный', 'компания', 'россия', 'создать', 'год', 'цель', 'обслуживание', 'перевозка', 'первый', 'лицо', 'государство', 'авиакомпания', 'выполнять', 'также', 'пассажирский', 'регулярный', 'рейс', 'санкт', 'петербург', 'калининград', 'волгоград', 'сочи', 'анапа', 'надым', 'новый', 'уренгой', 'магадан', 'чартерный', 'рейс', 'весь', 'мир', 'воздушный', 'парк', 'авиакомпания', 'состоять', 'самолёт', 'вертолёт', 'включая', 'ил', 'далее', 'ил', 'м', 'ил', 'пу', 'тот', 'а', 'тот', 'б', 'тот', 'м', 'тот', 'як', 'в', 'год', 'авиакомпания', 'перевезти', 'около', 'тысяча', 'пассажир', 'а', 'государственный', 'унитарный', 'авиапредприятие', 'пулково', 'являться', 'крупный', 'северо', 'западный', 'регион', 'россия', 'предприятие', 'объединять', 'аэропорт', 'авиакомпания', 'как', 'сообщать', 'газета', 'итог', 'восемь', 'месяц', 'год', 'компания', 'занимать', 'третий', 'место', 'число', 'перевезти', 'пассажир', 'аэрофлот', 'сибирь', 'авиакомпания', 'ежедневно', 'выполнять', 'около', 'рейс', 'санкт', 'петербург', 'многие', 'город', 'россия', 'также', 'город', 'мир', 'парк', 'пулково', 'настоящий', 'время', 'насчитывать', 'самолёт', 'тот', 'восемь', 'самолёт', 'ил', 'самолёт', 'тот']\n",
      "Тут ошибка формата!!\n",
      "['состояние', 'раненый', 'водитель', 'российский', 'посольство', 'ирак', 'владимир', 'архипов', 'улучшаться', 'возвращение', 'родина', 'пока', 'откладываться', 'о', 'риа', 'новость', 'сообщить', 'врач', 'российский', 'посольство', 'сирия', 'мы', 'считать', 'никакой', 'угроза', 'жизнь', 'раненый', 'счесть', 'целесообразный', 'продолжить', 'лечение', 'стационар', 'сказать', 'напомнить', 'архипов', 'ранить', 'живот', 'время', 'обстрел', 'колонна', 'автомашина', 'который', 'находиться', 'сотрудник', 'посольство', 'россия', 'ирак', 'российский', 'журналист', 'они', 'направляться', 'багдад', 'сирийский', 'граница', 'в', 'больница', 'иракский', 'город', 'фаллуджа', 'хирург', 'извлечь', 'тело', 'владимир', 'архипов', 'два', 'пуля', 'американский', 'автоматический', 'винтовка', 'м']\n",
      "Тут ошибка формата!!\n",
      "['водитель', 'российский', 'посольство', 'ирак', 'владимир', 'архипов', 'раненый', 'время', 'обстрел', 'посольский', 'колонна', 'апрель', 'выписать', 'больница', 'сообщать', 'риа', 'новость', 'он', 'находиться', 'лечение', 'столица', 'сирия', 'дамаск', 'архипов', 'вылететь', 'москва', 'следующий', 'воскресение', 'рейс', 'аэрофлот', 'сообщить', 'врач', 'посольство', 'россия', 'сирия', 'владимир', 'бутеев', 'в', 'настоящий', 'время', 'водитель', 'находиться', 'жилой', 'дом', 'территория', 'комплекс', 'посольство', 'состояние', 'раненый', 'оцениваться', 'удовлетворительный', 'напомнить', 'архипов', 'ранить', 'живот', 'время', 'обстрел', 'колонна', 'автомашина', 'который', 'находиться', 'сотрудник', 'посольство', 'россия', 'ирак', 'российский', 'журналист', 'они', 'направляться', 'багдад', 'сирийский', 'граница', 'в', 'больница', 'иракский', 'город', 'фаллуджа', 'хирург', 'извлечь', 'тело', 'владимир', 'архипов', 'два', 'пуля', 'американский', 'автоматический', 'винтовка', 'м']\n",
      "Тут ошибка формата!!\n"
     ]
    },
    {
     "name": "stdout",
     "output_type": "stream",
     "text": [
      "['сегодня', 'белоруссия', 'м', 'год', 'жизнь', 'скончаться', 'известный', 'писатель', 'василь', 'быков', 'сообщать', 'интерфакс', 'как', 'сообщить', 'интерфакс', 'невестка', 'писатель', 'татьяна', 'быков', 'литератор', 'умереть', 'реанимационный', 'отделение', 'онкологический', 'больница', 'боровлян', 'минский', 'напомнить', 'некоторый', 'время', 'назад', 'быков', 'перенести', 'чехия', 'операция', 'удаление', 'раковый', 'опухоль', 'желудок', 'однако', 'развитие', 'болезнь', 'остановить', 'удаться', 'день', 'место', 'похороны', 'пока', 'определить', 'уточнять', 'агентство', 'василь', 'быков', 'родиться', 'июнь', 'год', 'город', 'бычок', 'ушацкий', 'район', 'витебский', 'область', 'учиться', 'скульптурный', 'отделение', 'витебский', 'художественный', 'училище', 'окончить', 'саратовский', 'пехотный', 'училище', 'в', 'год', 'будущий', 'писатель', 'вступить', 'ряд', 'красный', 'армия', 'воевать', 'второй', 'третий', 'украинский', 'фронт', 'пройти', 'действовать', 'армия', 'территория', 'румыния', 'болгария', 'венгрия', 'югославия', 'австрия', 'дважды', 'ранить', 'впервые', 'произведение', 'василь', 'быков', 'опубликовать', 'год', 'однако', 'официально', 'творческий', 'биография', 'писатель', 'начинаться', 'рассказ', 'написать', 'год', 'тематика', 'ранний', 'рассказ', 'действовать', 'лицо', 'который', 'стать', 'солдат', 'офицер', 'определить', 'дальнейший', 'творчество', 'быков', 'многие', 'произведение', 'который', 'посвятить', 'событие', 'великий', 'отечественный', 'война', 'бескомпромиссность', 'проза', 'быков', 'стать', 'причина', 'нападки', 'советский', 'критика', 'обвинять', 'писатель', 'очернительство', 'советский', 'строй', 'в', 'год', 'василь', 'быков', 'наградить', 'государственный', 'премия', 'ссср', 'повесть', 'дожить', 'рассвет', 'год', 'получить', 'звание', 'народный', 'писатель', 'белоруссия', 'год', 'удостоить', 'ленинский', 'премия', 'повесть', 'знак', 'беда', 'некоторый', 'сочинение', 'писатель', 'такой', 'повесть', 'третий', 'ракета', 'дожить', 'рассвет', 'экранизировать', 'с', 'год', 'василь', 'быков', 'занимать', 'должность', 'секретарь', 'гродненский', 'отделение', 'союз', 'писатель', 'бсср', 'с', 'год', 'писатель', 'жить', 'граница', 'сначала', 'финляндия', 'затем', 'германия', 'некоторый', 'время', 'назад', 'вернуться', 'родина', 'деревня', 'старый', 'дорога', 'открыть', 'памятник']\n",
      "Тут ошибка формата!!\n"
     ]
    }
   ],
   "source": [
    "lenta_df['tokens'] = lenta_df['tokens'].apply(tagger)"
   ]
  },
  {
   "cell_type": "code",
   "execution_count": 69,
   "id": "2cecf27a",
   "metadata": {},
   "outputs": [
    {
     "data": {
      "text/html": [
       "<div>\n",
       "<style scoped>\n",
       "    .dataframe tbody tr th:only-of-type {\n",
       "        vertical-align: middle;\n",
       "    }\n",
       "\n",
       "    .dataframe tbody tr th {\n",
       "        vertical-align: top;\n",
       "    }\n",
       "\n",
       "    .dataframe thead th {\n",
       "        text-align: right;\n",
       "    }\n",
       "</style>\n",
       "<table border=\"1\" class=\"dataframe\">\n",
       "  <thead>\n",
       "    <tr style=\"text-align: right;\">\n",
       "      <th></th>\n",
       "      <th>tokens</th>\n",
       "    </tr>\n",
       "  </thead>\n",
       "  <tbody>\n",
       "    <tr>\n",
       "      <th>0</th>\n",
       "      <td>[бой_NOUN, сопоцкина_NOUN, друскеник_NOUN, зак...</td>\n",
       "    </tr>\n",
       "    <tr>\n",
       "      <th>1</th>\n",
       "      <td>[министерство_NOUN, народный_ADJ, просвещение_...</td>\n",
       "    </tr>\n",
       "    <tr>\n",
       "      <th>2</th>\n",
       "      <td>[штабс_NOUN, капитан_NOUN, п_NOUN, н_VERB, нес...</td>\n",
       "    </tr>\n",
       "  </tbody>\n",
       "</table>\n",
       "</div>"
      ],
      "text/plain": [
       "                                              tokens\n",
       "0  [бой_NOUN, сопоцкина_NOUN, друскеник_NOUN, зак...\n",
       "1  [министерство_NOUN, народный_ADJ, просвещение_...\n",
       "2  [штабс_NOUN, капитан_NOUN, п_NOUN, н_VERB, нес..."
      ]
     },
     "execution_count": 69,
     "metadata": {},
     "output_type": "execute_result"
    }
   ],
   "source": [
    "lenta_df.head(3)"
   ]
  },
  {
   "cell_type": "code",
   "execution_count": 70,
   "id": "2fef3f5f",
   "metadata": {},
   "outputs": [],
   "source": [
    "lenta_data = lenta_df['tokens'].values.tolist()"
   ]
  },
  {
   "cell_type": "markdown",
   "id": "31f26513",
   "metadata": {},
   "source": [
    "### Инициализация модели и создание словаря на датасете лента.ру"
   ]
  },
  {
   "cell_type": "code",
   "execution_count": 29,
   "id": "d4aed936",
   "metadata": {},
   "outputs": [],
   "source": [
    "model_vk_emoji = wv(vector_size=20, min_count=3, window=10)"
   ]
  },
  {
   "cell_type": "code",
   "execution_count": 236,
   "id": "dd6ee65a",
   "metadata": {},
   "outputs": [],
   "source": [
    "model_vk_emoji.build_vocab(lenta_data)"
   ]
  },
  {
   "cell_type": "code",
   "execution_count": 237,
   "id": "a6af46a1",
   "metadata": {},
   "outputs": [
    {
     "data": {
      "text/plain": [
       "69181"
      ]
     },
     "execution_count": 237,
     "metadata": {},
     "output_type": "execute_result"
    }
   ],
   "source": [
    "len(model_vk_emoji.wv)"
   ]
  },
  {
   "cell_type": "code",
   "execution_count": 238,
   "id": "5e6c0a3c",
   "metadata": {},
   "outputs": [],
   "source": [
    "model_vk_emoji.wv.vectors_lockf = np.ones(len(model_vk_emoji.wv))"
   ]
  },
  {
   "cell_type": "code",
   "execution_count": 239,
   "id": "f18fd511",
   "metadata": {},
   "outputs": [],
   "source": [
    "model_vk_emoji.wv.intersect_word2vec_format('model.bin', lockf=1.0, binary=True)"
   ]
  },
  {
   "cell_type": "code",
   "execution_count": 240,
   "id": "26bdb384",
   "metadata": {},
   "outputs": [
    {
     "data": {
      "text/plain": [
       "[('будуть_VERB', 0.48997509479522705),\n",
       " ('геополитика_NOUN', 0.45983627438545227),\n",
       " ('беларусь_VERB', 0.457935631275177),\n",
       " ('европа_NOUN', 0.43242180347442627),\n",
       " ('русь_VERB', 0.42832908034324646),\n",
       " ('телеканал_VERB', 0.41772469878196716),\n",
       " ('аиф_NOUN', 0.4168393015861511),\n",
       " ('вестник_NOUN', 0.4098126292228699),\n",
       " ('глобализм_NOUN', 0.40060439705848694),\n",
       " ('спб_NOUN', 0.4003465175628662)]"
      ]
     },
     "execution_count": 240,
     "metadata": {},
     "output_type": "execute_result"
    }
   ],
   "source": [
    "model_vk_emoji.wv.most_similar('россия_NOUN')"
   ]
  },
  {
   "cell_type": "markdown",
   "id": "d314202e",
   "metadata": {},
   "source": [
    "### Дополнение словаря на тестовых данных и на данных вк и проверка того, что ничего не изменилось"
   ]
  },
  {
   "cell_type": "code",
   "execution_count": 30,
   "id": "f2f3af81",
   "metadata": {},
   "outputs": [],
   "source": [
    "model_vk_emoji.build_vocab(test_data)  # , update=True"
   ]
  },
  {
   "cell_type": "code",
   "execution_count": 31,
   "id": "8b8fc9f3",
   "metadata": {},
   "outputs": [
    {
     "data": {
      "text/plain": [
       "25"
      ]
     },
     "execution_count": 31,
     "metadata": {},
     "output_type": "execute_result"
    }
   ],
   "source": [
    "len(model_vk_emoji.wv)"
   ]
  },
  {
   "cell_type": "code",
   "execution_count": 32,
   "id": "c27ec7e6",
   "metadata": {},
   "outputs": [
    {
     "data": {
      "text/plain": [
       "array([ 0.01174188, -0.02259516,  0.04194366, -0.04929082,  0.0338232 ,\n",
       "        0.01457208, -0.02466416,  0.02199094, -0.00869787,  0.03355692,\n",
       "        0.04982425, -0.02181222, -0.00299669, -0.02847819,  0.01925411,\n",
       "        0.01393313,  0.03445538,  0.03050548,  0.04769249,  0.04636709],\n",
       "      dtype=float32)"
      ]
     },
     "execution_count": 32,
     "metadata": {},
     "output_type": "execute_result"
    }
   ],
   "source": [
    "model_vk_emoji.wv['россия_NOUN']"
   ]
  },
  {
   "cell_type": "code",
   "execution_count": 202,
   "id": "c988002d",
   "metadata": {},
   "outputs": [
    {
     "data": {
      "text/plain": [
       "0.023919884"
      ]
     },
     "execution_count": 202,
     "metadata": {},
     "output_type": "execute_result"
    }
   ],
   "source": [
    "model_vk_emoji.wv.similarity('россия_NOUN', '🇷🇺_SYM')"
   ]
  },
  {
   "cell_type": "code",
   "execution_count": 203,
   "id": "e5b8807e",
   "metadata": {},
   "outputs": [
    {
     "data": {
      "text/plain": [
       "[('будуть_VERB', 0.48997509479522705),\n",
       " ('геополитика_NOUN', 0.45983627438545227),\n",
       " ('беларусь_VERB', 0.457935631275177),\n",
       " ('европа_NOUN', 0.43242180347442627),\n",
       " ('русь_VERB', 0.42832908034324646),\n",
       " ('телеканал_VERB', 0.41772469878196716),\n",
       " ('аиф_NOUN', 0.4168393015861511),\n",
       " ('вестник_NOUN', 0.4098126292228699),\n",
       " ('глобализм_NOUN', 0.40060439705848694),\n",
       " ('спб_NOUN', 0.4003465175628662)]"
      ]
     },
     "execution_count": 203,
     "metadata": {},
     "output_type": "execute_result"
    }
   ],
   "source": [
    "model_vk_emoji.wv.most_similar('россия_NOUN')"
   ]
  },
  {
   "cell_type": "markdown",
   "id": "369d79f4",
   "metadata": {},
   "source": [
    "## Обучение модели на тестовых данных"
   ]
  },
  {
   "cell_type": "code",
   "execution_count": 204,
   "id": "c9bf89d7",
   "metadata": {},
   "outputs": [
    {
     "data": {
      "text/plain": [
       "(27050, 249920)"
      ]
     },
     "execution_count": 204,
     "metadata": {},
     "output_type": "execute_result"
    }
   ],
   "source": [
    "model_vk_emoji.train(test_data, total_examples=model_vk_emoji.corpus_count, epochs=1)"
   ]
  },
  {
   "cell_type": "code",
   "execution_count": 205,
   "id": "770c1bda",
   "metadata": {},
   "outputs": [
    {
     "data": {
      "text/plain": [
       "0.7011695"
      ]
     },
     "execution_count": 205,
     "metadata": {},
     "output_type": "execute_result"
    }
   ],
   "source": [
    "model_vk_emoji.wv.similarity('россия_NOUN', '🇷🇺_SYM')"
   ]
  },
  {
   "cell_type": "code",
   "execution_count": 206,
   "id": "81b769f6",
   "metadata": {},
   "outputs": [
    {
     "data": {
      "text/plain": [
       "[('🇷🇺_SYM', 0.701169490814209),\n",
       " ('будуть_VERB', 0.4873509109020233),\n",
       " ('геополитика_NOUN', 0.4638541340827942),\n",
       " ('беларусь_VERB', 0.4625330865383148),\n",
       " ('русь_VERB', 0.4434511959552765),\n",
       " ('европа_NOUN', 0.422006756067276),\n",
       " ('российский_ADJ', 0.41696539521217346),\n",
       " ('аиф_NOUN', 0.4140143394470215),\n",
       " ('вестник_NOUN', 0.4097059965133667),\n",
       " ('глобализм_NOUN', 0.4096096158027649)]"
      ]
     },
     "execution_count": 206,
     "metadata": {},
     "output_type": "execute_result"
    }
   ],
   "source": [
    "model_vk_emoji.wv.most_similar('россия_NOUN')"
   ]
  },
  {
   "cell_type": "markdown",
   "id": "474cbed2",
   "metadata": {},
   "source": [
    "## Обучение модели на данных ВК"
   ]
  },
  {
   "cell_type": "code",
   "execution_count": 241,
   "id": "b0d3c4db",
   "metadata": {},
   "outputs": [],
   "source": [
    "model_vk_emoji.build_vocab(vk_data, update=True)  # , update=True"
   ]
  },
  {
   "cell_type": "code",
   "execution_count": 242,
   "id": "1e9510f2",
   "metadata": {},
   "outputs": [
    {
     "data": {
      "text/plain": [
       "72357"
      ]
     },
     "execution_count": 242,
     "metadata": {},
     "output_type": "execute_result"
    }
   ],
   "source": [
    "len(model_vk_emoji.wv)"
   ]
  },
  {
   "cell_type": "code",
   "execution_count": 243,
   "id": "04717072",
   "metadata": {},
   "outputs": [
    {
     "data": {
      "text/plain": [
       "(357985, 393800)"
      ]
     },
     "execution_count": 243,
     "metadata": {},
     "output_type": "execute_result"
    }
   ],
   "source": [
    "model_vk_emoji.train(vk_data, total_examples=model_vk_emoji.corpus_count, epochs=1)"
   ]
  },
  {
   "cell_type": "code",
   "execution_count": 244,
   "id": "b3851b9a",
   "metadata": {},
   "outputs": [
    {
     "data": {
      "text/plain": [
       "0.49623203"
      ]
     },
     "execution_count": 244,
     "metadata": {},
     "output_type": "execute_result"
    }
   ],
   "source": [
    "model_vk_emoji.wv.similarity('россия_NOUN', '🐷_SYM')"
   ]
  },
  {
   "cell_type": "code",
   "execution_count": 250,
   "id": "0c4bbfbd",
   "metadata": {},
   "outputs": [
    {
     "data": {
      "text/plain": [
       "[('♂️_SYM', 0.9745510816574097),\n",
       " ('👌_SYM', 0.9713121056556702),\n",
       " ('🐖_SYM', 0.9681888222694397),\n",
       " ('ципсо_NOUN', 0.9677407741546631),\n",
       " ('😎_SYM', 0.9668769240379333),\n",
       " ('🇺🇦_SYM', 0.9666495323181152),\n",
       " ('л_NOUN', 0.966334879398346),\n",
       " ('вроде_PRT', 0.9661213755607605),\n",
       " ('сергей_VERB', 0.9642270803451538),\n",
       " ('🤣🤣🤣_.', 0.9640722274780273)]"
      ]
     },
     "execution_count": 250,
     "metadata": {},
     "output_type": "execute_result"
    }
   ],
   "source": [
    "model_vk_emoji.wv.most_similar('🐷_SYM')"
   ]
  },
  {
   "cell_type": "code",
   "execution_count": 215,
   "id": "37146eec",
   "metadata": {},
   "outputs": [
    {
     "data": {
      "text/plain": [
       "[('диа_NOUN', 0.2571726441383362),\n",
       " ('авиаконверсия_NOUN', 0.2465270459651947),\n",
       " ('денюжка_NOUN', 0.2398979812860489),\n",
       " ('айдахо_NOUN', 0.23455603420734406),\n",
       " ('мартаг_NOUN', 0.23232384026050568),\n",
       " ('завахири_VERB', 0.22832253575325012),\n",
       " ('либи_NOUN', 0.22597184777259827),\n",
       " ('нерчинский_ADJ', 0.22368426620960236),\n",
       " ('камар_NOUN', 0.21868754923343658),\n",
       " ('‼_SYM', 0.21711719036102295)]"
      ]
     },
     "execution_count": 215,
     "metadata": {},
     "output_type": "execute_result"
    }
   ],
   "source": [
    "model_vk_emoji.wv.most_similar('😡_SYM')"
   ]
  },
  {
   "cell_type": "markdown",
   "id": "d430762a",
   "metadata": {},
   "source": [
    "# Обучение на сырых данных ВК "
   ]
  },
  {
   "cell_type": "code",
   "execution_count": 218,
   "id": "fbd15c1a",
   "metadata": {},
   "outputs": [],
   "source": [
    "model_vk = wv(vector_size=300, min_count=3, window=5)"
   ]
  },
  {
   "cell_type": "code",
   "execution_count": 220,
   "id": "f9aefaa7",
   "metadata": {},
   "outputs": [],
   "source": [
    "model_vk.build_vocab(true_vk_data)"
   ]
  },
  {
   "cell_type": "code",
   "execution_count": 221,
   "id": "7e14a8b0",
   "metadata": {},
   "outputs": [
    {
     "data": {
      "text/plain": [
       "13687"
      ]
     },
     "execution_count": 221,
     "metadata": {},
     "output_type": "execute_result"
    }
   ],
   "source": [
    "len(model_vk.wv)"
   ]
  },
  {
   "cell_type": "code",
   "execution_count": 223,
   "id": "9d299d70",
   "metadata": {},
   "outputs": [
    {
     "data": {
      "text/plain": [
       "(349278, 394259)"
      ]
     },
     "execution_count": 223,
     "metadata": {},
     "output_type": "execute_result"
    }
   ],
   "source": [
    "model_vk.train(true_vk_data, total_examples=model_vk.corpus_count, epochs=1)"
   ]
  },
  {
   "cell_type": "code",
   "execution_count": 234,
   "id": "34039d0f",
   "metadata": {},
   "outputs": [
    {
     "data": {
      "text/plain": [
       "[('найти', 0.9976010322570801),\n",
       " ('бот', 0.9975552558898926),\n",
       " ('елена', 0.9974233508110046),\n",
       " ('🤣🤣🤣', 0.9974158406257629),\n",
       " ('александр', 0.9973702430725098),\n",
       " ('нога', 0.9973556399345398),\n",
       " ('😉', 0.997337281703949),\n",
       " ('работа', 0.9973090291023254),\n",
       " ('♂️', 0.9972916841506958),\n",
       " ('её', 0.9972783327102661)]"
      ]
     },
     "execution_count": 234,
     "metadata": {},
     "output_type": "execute_result"
    }
   ],
   "source": [
    "model_vk.wv.most_similar('🤡')"
   ]
  },
  {
   "cell_type": "markdown",
   "id": "2b632f2f",
   "metadata": {},
   "source": [
    "# Подготовка датасета для анализа тональности  *(дополнительно)* "
   ]
  },
  {
   "cell_type": "code",
   "execution_count": 20,
   "id": "ba8342e0",
   "metadata": {},
   "outputs": [],
   "source": [
    "negative = ['😡', '👿', '😾', '😤', '😠', '🤬', '💀', '☠️']"
   ]
  },
  {
   "cell_type": "code",
   "execution_count": 21,
   "id": "6d609b6e",
   "metadata": {},
   "outputs": [],
   "source": [
    "sarcastic = ['с', '🤡', '🙃', '🤢', '😈']  # Нужно дополнить"
   ]
  },
  {
   "cell_type": "code",
   "execution_count": 22,
   "id": "1aaced68",
   "metadata": {},
   "outputs": [],
   "source": [
    "positive = ['😀', '😃', '😉']  # Нужно дополнить"
   ]
  },
  {
   "cell_type": "code",
   "execution_count": null,
   "id": "fd9e6cc2",
   "metadata": {},
   "outputs": [],
   "source": []
  }
 ],
 "metadata": {
  "kernelspec": {
   "display_name": "Python 3 (ipykernel)",
   "language": "python",
   "name": "python3"
  },
  "language_info": {
   "codemirror_mode": {
    "name": "ipython",
    "version": 3
   },
   "file_extension": ".py",
   "mimetype": "text/x-python",
   "name": "python",
   "nbconvert_exporter": "python",
   "pygments_lexer": "ipython3",
   "version": "3.8.6"
  }
 },
 "nbformat": 4,
 "nbformat_minor": 5
}
