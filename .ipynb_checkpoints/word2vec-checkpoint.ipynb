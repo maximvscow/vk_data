{
 "cells": [
  {
   "cell_type": "markdown",
   "id": "d1ad83c7",
   "metadata": {},
   "source": [
    "# Импорт необходимых библиотек"
   ]
  },
  {
   "cell_type": "code",
   "execution_count": 1,
   "id": "520536d8",
   "metadata": {},
   "outputs": [
    {
     "name": "stdout",
     "output_type": "stream",
     "text": [
      "Collecting gensim\n",
      "  Downloading gensim-4.3.1-cp38-cp38-win_amd64.whl (24.0 MB)\n",
      "Collecting emoji\n",
      "  Downloading emoji-2.2.0.tar.gz (240 kB)\n",
      "Collecting pandas\n",
      "  Downloading pandas-2.0.0-cp38-cp38-win_amd64.whl (11.3 MB)\n",
      "Collecting nltk\n",
      "  Downloading nltk-3.8.1-py3-none-any.whl (1.5 MB)\n",
      "Collecting pymorphy2\n",
      "  Downloading pymorphy2-0.9.1-py3-none-any.whl (55 kB)\n",
      "Collecting scipy>=1.7.0\n",
      "  Downloading scipy-1.10.1-cp38-cp38-win_amd64.whl (42.2 MB)\n",
      "Collecting smart-open>=1.8.1\n",
      "  Downloading smart_open-6.3.0-py3-none-any.whl (56 kB)\n",
      "Collecting numpy>=1.18.5\n",
      "  Downloading numpy-1.24.2-cp38-cp38-win_amd64.whl (14.9 MB)\n",
      "Collecting tzdata>=2022.1\n",
      "  Downloading tzdata-2023.3-py2.py3-none-any.whl (341 kB)\n",
      "Collecting pytz>=2020.1\n",
      "  Downloading pytz-2023.3-py2.py3-none-any.whl (502 kB)\n",
      "Requirement already satisfied: python-dateutil>=2.8.2 in c:\\users\\admin\\appdata\\local\\programs\\python\\python38\\lib\\site-packages (from pandas) (2.8.2)\n",
      "Collecting tqdm\n",
      "  Downloading tqdm-4.65.0-py3-none-any.whl (77 kB)\n",
      "Collecting joblib\n",
      "  Downloading joblib-1.2.0-py3-none-any.whl (297 kB)\n",
      "Collecting click\n",
      "  Downloading click-8.1.3-py3-none-any.whl (96 kB)\n",
      "Collecting regex>=2021.8.3\n",
      "  Downloading regex-2023.3.23-cp38-cp38-win_amd64.whl (267 kB)\n",
      "Collecting pymorphy2-dicts-ru<3.0,>=2.4\n",
      "  Downloading pymorphy2_dicts_ru-2.4.417127.4579844-py2.py3-none-any.whl (8.2 MB)\n",
      "Collecting dawg-python>=0.7.1\n",
      "  Downloading DAWG_Python-0.7.2-py2.py3-none-any.whl (11 kB)\n",
      "Collecting docopt>=0.6\n",
      "  Downloading docopt-0.6.2.tar.gz (25 kB)\n",
      "Requirement already satisfied: six>=1.5 in c:\\users\\admin\\appdata\\local\\programs\\python\\python38\\lib\\site-packages (from python-dateutil>=2.8.2->pandas) (1.16.0)\n",
      "Requirement already satisfied: colorama; platform_system == \"Windows\" in c:\\users\\admin\\appdata\\local\\programs\\python\\python38\\lib\\site-packages (from tqdm->nltk) (0.4.6)\n",
      "Using legacy 'setup.py install' for emoji, since package 'wheel' is not installed.\n",
      "Using legacy 'setup.py install' for docopt, since package 'wheel' is not installed.\n",
      "Installing collected packages: numpy, scipy, smart-open, gensim, emoji, tzdata, pytz, pandas, tqdm, joblib, click, regex, nltk, pymorphy2-dicts-ru, dawg-python, docopt, pymorphy2\n",
      "    Running setup.py install for emoji: started\n",
      "    Running setup.py install for emoji: finished with status 'done'\n",
      "    Running setup.py install for docopt: started\n",
      "    Running setup.py install for docopt: finished with status 'done'\n",
      "Successfully installed click-8.1.3 dawg-python-0.7.2 docopt-0.6.2 emoji-2.2.0 gensim-4.3.1 joblib-1.2.0 nltk-3.8.1 numpy-1.24.2 pandas-2.0.0 pymorphy2-0.9.1 pymorphy2-dicts-ru-2.4.417127.4579844 pytz-2023.3 regex-2023.3.23 scipy-1.10.1 smart-open-6.3.0 tqdm-4.65.0 tzdata-2023.3\n"
     ]
    },
    {
     "name": "stderr",
     "output_type": "stream",
     "text": [
      "WARNING: You are using pip version 20.2.1; however, version 23.1 is available.\n",
      "You should consider upgrading via the 'c:\\users\\admin\\appdata\\local\\programs\\python\\python38\\python.exe -m pip install --upgrade pip' command.\n"
     ]
    }
   ],
   "source": [
    "!pip install --proxy 10.0.0.1:3128 gensim emoji pandas nltk pymorphy2"
   ]
  },
  {
   "cell_type": "code",
   "execution_count": 55,
   "id": "4186a31b",
   "metadata": {},
   "outputs": [],
   "source": [
    "import pandas as pd\n",
    "import nltk\n",
    "from nltk.corpus import brown\n",
    "from nltk.tokenize import word_tokenize\n",
    "from nltk.corpus import stopwords\n",
    "import re\n",
    "from gensim.models import Word2Vec as wv\n",
    "from gensim.models import KeyedVectors\n",
    "import pymorphy2\n",
    "from pymorphy2 import MorphAnalyzer\n",
    "import emoji\n",
    "import numpy as np\n",
    "from random import randint"
   ]
  },
  {
   "cell_type": "code",
   "execution_count": 3,
   "id": "448eda3d",
   "metadata": {},
   "outputs": [
    {
     "name": "stderr",
     "output_type": "stream",
     "text": [
      "[nltk_data] Downloading package stopwords to\n",
      "[nltk_data]     C:\\Users\\Admin\\AppData\\Roaming\\nltk_data...\n",
      "[nltk_data]   Unzipping corpora\\stopwords.zip.\n"
     ]
    },
    {
     "data": {
      "text/plain": [
       "True"
      ]
     },
     "execution_count": 3,
     "metadata": {},
     "output_type": "execute_result"
    }
   ],
   "source": [
    "nltk.download('stopwords')"
   ]
  },
  {
   "cell_type": "code",
   "execution_count": 4,
   "id": "d7ad47d1",
   "metadata": {},
   "outputs": [
    {
     "name": "stderr",
     "output_type": "stream",
     "text": [
      "[nltk_data] Downloading package punkt to\n",
      "[nltk_data]     C:\\Users\\Admin\\AppData\\Roaming\\nltk_data...\n",
      "[nltk_data]   Unzipping tokenizers\\punkt.zip.\n"
     ]
    },
    {
     "data": {
      "text/plain": [
       "True"
      ]
     },
     "execution_count": 4,
     "metadata": {},
     "output_type": "execute_result"
    }
   ],
   "source": [
    "nltk.download('punkt')"
   ]
  },
  {
   "cell_type": "code",
   "execution_count": 5,
   "id": "ad9a9aee",
   "metadata": {},
   "outputs": [
    {
     "name": "stderr",
     "output_type": "stream",
     "text": [
      "[nltk_data] Downloading package averaged_perceptron_tagger to\n",
      "[nltk_data]     C:\\Users\\Admin\\AppData\\Roaming\\nltk_data...\n",
      "[nltk_data]   Unzipping taggers\\averaged_perceptron_tagger.zip.\n"
     ]
    },
    {
     "data": {
      "text/plain": [
       "True"
      ]
     },
     "execution_count": 5,
     "metadata": {},
     "output_type": "execute_result"
    }
   ],
   "source": [
    "nltk.download('averaged_perceptron_tagger')"
   ]
  },
  {
   "cell_type": "code",
   "execution_count": 6,
   "id": "639e0526",
   "metadata": {},
   "outputs": [
    {
     "name": "stderr",
     "output_type": "stream",
     "text": [
      "[nltk_data] Downloading package averaged_perceptron_tagger_ru to\n",
      "[nltk_data]     C:\\Users\\Admin\\AppData\\Roaming\\nltk_data...\n",
      "[nltk_data]   Unzipping taggers\\averaged_perceptron_tagger_ru.zip.\n"
     ]
    },
    {
     "data": {
      "text/plain": [
       "True"
      ]
     },
     "execution_count": 6,
     "metadata": {},
     "output_type": "execute_result"
    }
   ],
   "source": [
    "nltk.download('averaged_perceptron_tagger_ru')"
   ]
  },
  {
   "cell_type": "code",
   "execution_count": 7,
   "id": "aafbab5d",
   "metadata": {},
   "outputs": [
    {
     "name": "stderr",
     "output_type": "stream",
     "text": [
      "[nltk_data] Downloading package universal_tagset to\n",
      "[nltk_data]     C:\\Users\\Admin\\AppData\\Roaming\\nltk_data...\n",
      "[nltk_data]   Unzipping taggers\\universal_tagset.zip.\n"
     ]
    },
    {
     "data": {
      "text/plain": [
       "True"
      ]
     },
     "execution_count": 7,
     "metadata": {},
     "output_type": "execute_result"
    }
   ],
   "source": [
    "nltk.download('universal_tagset')"
   ]
  },
  {
   "cell_type": "markdown",
   "id": "a12dafb9",
   "metadata": {},
   "source": [
    "# Датасет ВК"
   ]
  },
  {
   "cell_type": "markdown",
   "id": "ad266e5a",
   "metadata": {},
   "source": [
    "## Загрузка датасета"
   ]
  },
  {
   "cell_type": "code",
   "execution_count": 8,
   "id": "6e527913",
   "metadata": {},
   "outputs": [],
   "source": [
    "colnames = ['comment',]"
   ]
  },
  {
   "cell_type": "code",
   "execution_count": 9,
   "id": "cfe3e06b",
   "metadata": {},
   "outputs": [],
   "source": [
    "comments = pd.read_csv('datasets/vk.csv', names=colnames, header=0, sep='\\t')"
   ]
  },
  {
   "cell_type": "code",
   "execution_count": 10,
   "id": "fefddfcb",
   "metadata": {},
   "outputs": [
    {
     "data": {
      "text/html": [
       "<div>\n",
       "<style scoped>\n",
       "    .dataframe tbody tr th:only-of-type {\n",
       "        vertical-align: middle;\n",
       "    }\n",
       "\n",
       "    .dataframe tbody tr th {\n",
       "        vertical-align: top;\n",
       "    }\n",
       "\n",
       "    .dataframe thead th {\n",
       "        text-align: right;\n",
       "    }\n",
       "</style>\n",
       "<table border=\"1\" class=\"dataframe\">\n",
       "  <thead>\n",
       "    <tr style=\"text-align: right;\">\n",
       "      <th></th>\n",
       "      <th>comment</th>\n",
       "    </tr>\n",
       "  </thead>\n",
       "  <tbody>\n",
       "    <tr>\n",
       "      <th>0</th>\n",
       "      <td>['😭']</td>\n",
       "    </tr>\n",
       "    <tr>\n",
       "      <th>1</th>\n",
       "      <td>['хранить', 'господь', 'неравнодушный', 'челов...</td>\n",
       "    </tr>\n",
       "    <tr>\n",
       "      <th>2</th>\n",
       "      <td>['евгений', 'еслиб', 'бог', 'такой', 'допускать']</td>\n",
       "    </tr>\n",
       "    <tr>\n",
       "      <th>3</th>\n",
       "      <td>['кирилл', 'полностью', 'согласный', '😢']</td>\n",
       "    </tr>\n",
       "    <tr>\n",
       "      <th>4</th>\n",
       "      <td>['кирилл', 'бог', 'путь', 'неисповедимый']</td>\n",
       "    </tr>\n",
       "    <tr>\n",
       "      <th>...</th>\n",
       "      <td>...</td>\n",
       "    </tr>\n",
       "    <tr>\n",
       "      <th>50779</th>\n",
       "      <td>['с', 'фамилия', '🙄']</td>\n",
       "    </tr>\n",
       "    <tr>\n",
       "      <th>50780</th>\n",
       "      <td>['наш', 'день', 'повезти', 'мужик', 'фамилия',...</td>\n",
       "    </tr>\n",
       "    <tr>\n",
       "      <th>50781</th>\n",
       "      <td>['чудо', 'чудной', 'диво', 'дивный']</td>\n",
       "    </tr>\n",
       "    <tr>\n",
       "      <th>50782</th>\n",
       "      <td>['пригреться', 'уснуть', 'свариться', 'лягушка...</td>\n",
       "    </tr>\n",
       "    <tr>\n",
       "      <th>50783</th>\n",
       "      <td>['добрый', 'день', 'вполне', 'возможно', 'пере...</td>\n",
       "    </tr>\n",
       "  </tbody>\n",
       "</table>\n",
       "<p>50784 rows × 1 columns</p>\n",
       "</div>"
      ],
      "text/plain": [
       "                                                 comment\n",
       "0                                                  ['😭']\n",
       "1      ['хранить', 'господь', 'неравнодушный', 'челов...\n",
       "2      ['евгений', 'еслиб', 'бог', 'такой', 'допускать']\n",
       "3              ['кирилл', 'полностью', 'согласный', '😢']\n",
       "4             ['кирилл', 'бог', 'путь', 'неисповедимый']\n",
       "...                                                  ...\n",
       "50779                              ['с', 'фамилия', '🙄']\n",
       "50780  ['наш', 'день', 'повезти', 'мужик', 'фамилия',...\n",
       "50781               ['чудо', 'чудной', 'диво', 'дивный']\n",
       "50782  ['пригреться', 'уснуть', 'свариться', 'лягушка...\n",
       "50783  ['добрый', 'день', 'вполне', 'возможно', 'пере...\n",
       "\n",
       "[50784 rows x 1 columns]"
      ]
     },
     "execution_count": 10,
     "metadata": {},
     "output_type": "execute_result"
    }
   ],
   "source": [
    "comments"
   ]
  },
  {
   "cell_type": "code",
   "execution_count": 11,
   "id": "b88477f5",
   "metadata": {},
   "outputs": [],
   "source": [
    "def str_to_list(i):\n",
    "    new_list = eval(i)\n",
    "    return new_list"
   ]
  },
  {
   "cell_type": "code",
   "execution_count": 12,
   "id": "ada882b9",
   "metadata": {},
   "outputs": [],
   "source": [
    "comments['comment'] = comments['comment'].apply(str_to_list)"
   ]
  },
  {
   "cell_type": "markdown",
   "id": "e66fa637",
   "metadata": {},
   "source": [
    "### Выделение эмодзи флагов"
   ]
  },
  {
   "cell_type": "code",
   "execution_count": 13,
   "id": "62152b5e",
   "metadata": {},
   "outputs": [],
   "source": [
    "def split(s):\n",
    "    return[char for char in s]\n",
    "\n",
    "reg_ident = ['🇷', '🇺', '🇦', '🇸', '🇧', '🇨', '🇩', '🇪', '🇫', '🇬', '🇭', '🇮', '🇯', '🇰', '🇱', '🇲', '🇳', '🇴', '🇵', '🇶', '🇸', '🇹', 'v', '🇼', '🇽', '🇾', '🇿']\n",
    "\n",
    "def get_flags(doc):\n",
    "    for item in doc:\n",
    "        new_item = []\n",
    "        for c in split(item):\n",
    "            if c in reg_ident:\n",
    "                if len(new_item) < 2:\n",
    "                    new_item.append(c)\n",
    "        if len(new_item) == 2 and new_item[0] != new_item[1]:\n",
    "            try:\n",
    "                i = doc.index(item)\n",
    "                doc[i] = new_item[0] + new_item[1]\n",
    "            except ValueError:\n",
    "                doc[i] = ''\n",
    "    return doc"
   ]
  },
  {
   "cell_type": "code",
   "execution_count": 14,
   "id": "41647be3",
   "metadata": {},
   "outputs": [],
   "source": [
    "comments['comment'] = comments['comment'].apply(get_flags)"
   ]
  },
  {
   "cell_type": "code",
   "execution_count": 15,
   "id": "fcc0acdd",
   "metadata": {},
   "outputs": [
    {
     "data": {
      "text/html": [
       "<div>\n",
       "<style scoped>\n",
       "    .dataframe tbody tr th:only-of-type {\n",
       "        vertical-align: middle;\n",
       "    }\n",
       "\n",
       "    .dataframe tbody tr th {\n",
       "        vertical-align: top;\n",
       "    }\n",
       "\n",
       "    .dataframe thead th {\n",
       "        text-align: right;\n",
       "    }\n",
       "</style>\n",
       "<table border=\"1\" class=\"dataframe\">\n",
       "  <thead>\n",
       "    <tr style=\"text-align: right;\">\n",
       "      <th></th>\n",
       "      <th>comment</th>\n",
       "    </tr>\n",
       "  </thead>\n",
       "  <tbody>\n",
       "    <tr>\n",
       "      <th>0</th>\n",
       "      <td>[😭]</td>\n",
       "    </tr>\n",
       "    <tr>\n",
       "      <th>1</th>\n",
       "      <td>[хранить, господь, неравнодушный, человек, 🙏, 🕊]</td>\n",
       "    </tr>\n",
       "    <tr>\n",
       "      <th>2</th>\n",
       "      <td>[евгений, еслиб, бог, такой, допускать]</td>\n",
       "    </tr>\n",
       "    <tr>\n",
       "      <th>3</th>\n",
       "      <td>[кирилл, полностью, согласный, 😢]</td>\n",
       "    </tr>\n",
       "    <tr>\n",
       "      <th>4</th>\n",
       "      <td>[кирилл, бог, путь, неисповедимый]</td>\n",
       "    </tr>\n",
       "    <tr>\n",
       "      <th>...</th>\n",
       "      <td>...</td>\n",
       "    </tr>\n",
       "    <tr>\n",
       "      <th>50779</th>\n",
       "      <td>[с, фамилия, 🙄]</td>\n",
       "    </tr>\n",
       "    <tr>\n",
       "      <th>50780</th>\n",
       "      <td>[наш, день, повезти, мужик, фамилия, но, суть,...</td>\n",
       "    </tr>\n",
       "    <tr>\n",
       "      <th>50781</th>\n",
       "      <td>[чудо, чудной, диво, дивный]</td>\n",
       "    </tr>\n",
       "    <tr>\n",
       "      <th>50782</th>\n",
       "      <td>[пригреться, уснуть, свариться, лягушка, так, ...</td>\n",
       "    </tr>\n",
       "    <tr>\n",
       "      <th>50783</th>\n",
       "      <td>[добрый, день, вполне, возможно, перевозчик, з...</td>\n",
       "    </tr>\n",
       "  </tbody>\n",
       "</table>\n",
       "<p>50784 rows × 1 columns</p>\n",
       "</div>"
      ],
      "text/plain": [
       "                                                 comment\n",
       "0                                                    [😭]\n",
       "1       [хранить, господь, неравнодушный, человек, 🙏, 🕊]\n",
       "2                [евгений, еслиб, бог, такой, допускать]\n",
       "3                      [кирилл, полностью, согласный, 😢]\n",
       "4                     [кирилл, бог, путь, неисповедимый]\n",
       "...                                                  ...\n",
       "50779                                    [с, фамилия, 🙄]\n",
       "50780  [наш, день, повезти, мужик, фамилия, но, суть,...\n",
       "50781                       [чудо, чудной, диво, дивный]\n",
       "50782  [пригреться, уснуть, свариться, лягушка, так, ...\n",
       "50783  [добрый, день, вполне, возможно, перевозчик, з...\n",
       "\n",
       "[50784 rows x 1 columns]"
      ]
     },
     "execution_count": 15,
     "metadata": {},
     "output_type": "execute_result"
    }
   ],
   "source": [
    "comments"
   ]
  },
  {
   "cell_type": "markdown",
   "id": "8d560a6f",
   "metadata": {},
   "source": [
    "### Добавление тегов из universal_tagset. Для этого нужно переименовать _taggers/universal_tagset/ru-rnс.map_ в _taggers/universal_tagset/ru-rnc-new.map_"
   ]
  },
  {
   "cell_type": "code",
   "execution_count": 16,
   "id": "52af1375",
   "metadata": {},
   "outputs": [],
   "source": [
    "def tagger(doc):\n",
    "    tagged_tokens = []\n",
    "    try:\n",
    "        tagged_doc = nltk.pos_tag(doc, tagset='universal', lang = 'rus')\n",
    "        for p in tagged_doc:\n",
    "            if emoji.is_emoji(p[0]):\n",
    "                token = p[0] + '_SYM'\n",
    "            else:\n",
    "                token = p[0] + '_' + p[1]\n",
    "            tagged_tokens.append(token)\n",
    "    except KeyError:\n",
    "        print(doc)\n",
    "        print('Тут ошибка формата!!')\n",
    "    return(tagged_tokens)"
   ]
  },
  {
   "cell_type": "code",
   "execution_count": 17,
   "id": "55f82abb",
   "metadata": {},
   "outputs": [],
   "source": [
    "comments_tagged = pd.DataFrame()"
   ]
  },
  {
   "cell_type": "code",
   "execution_count": 19,
   "id": "3fc36ee6",
   "metadata": {},
   "outputs": [
    {
     "name": "stdout",
     "output_type": "stream",
     "text": [
      "['ут', 'чк', 'м', 'ик', 'н', 'ки', 'тны', 'далее', 'м', 'нт', 'так', 'ы', 'ют', 'ук', 'ины', 'ближн', 'г', 'в', 'так', 'кит', 'так', 'л', 'ь', 'зный', 'далее', 'з', 'так', 'ль', 'тв', 'м', 'так', 'г', 'чт', 'к', 'мль', 'н', 'дит', 'п', 'далее', 'лп', 'м', 'п', 'нт', 'г', 'н', 'чт', 'ия', 'так', 'л', 'язвить', 'й', 'вн', 'шни', 'г', 'з', 'эт', 'зн', 'ч', 'так', 'чт', 'н', 'ци', 'н', 'льн', 'б', 'з', 'п', 'н', 'ть', 'ия', 'н', 'дит', 'п', 'далее', 'г', 'з', 'й', 'ия', 'ки', 'вл', 'ти', 'далее', 'лжный', 'п', 'инять', 'чны', 'м', 'ы', 'з', 'щит', 'так', 'ны']\n",
      "Тут ошибка формата!!\n",
      "['ут', 'чк', 'тны', 'далее', 'м', 'нт', 'ющи', 'ук', 'ины', 'ближн', 'г', 'в', 'так', 'кит', 'вид', 'так', 'ль', 'тв', 'так', 'так', 'м', 'чт', 'ия', 'н', 'дит', 'п', 'далее', 'п', 'так', 'льный', 'нт', 'л', 'м', 'м', 'ик', 'н', 'й', 'зв', 'дки', 'далее', 'м', 'нты', 'п', 'нт', 'г', 'н', 'г', 'ят', 'н', 'м', 'так', 'м', 'чт', 'широта', 'зн', 'ют', 'п', 'ия', 'ч', 'нь', 'мн', 'г', 'эт', 'явля', 'так', 'г', 'з', 'й', 'б', 'з', 'п', 'н', 'ти', 'н', 'широта', 'й', 'так', 'ны', 'м', 'ик', 'нцы', 'н', 'н', 'н', 'так', 'льк', 'ют', 'далее', 'так', 'п', 'н', 'шим', 'так', 'м', 'м', 'г', 'так', 'п', 'льз', 'ть', 'инт', 'п', 'мим', 'эт', 'г', 'так', 'чк', 'далее', 'м', 'нт', 'вид', 'так', 'ль', 'тв', 'так', 'так', 'м', 'чт', 'н', 'широта', 'зв', 'дк', 'н', 'бл', 'далее', 'так', 'далее', 'лжный', 'вн', 'м', 'з', 'щит', 'инф', 'м', 'ции', 'чт', 'щ', 'б', 'льш', 'илив', 'так', 'г', 'з', 'н', 'широта', 'й', 'б', 'з', 'п', 'н', 'ти', 'далее', 'й', 'твит', 'льн', 'н', 'широта', 'зв', 'дк', 'далее', 'далее', 'м', 'нты', 'так', 'з', 'ч', 'м', 'лив', 'ть', 'дь', 'м', 'жн', 'п', 'далее', 'так', 'вить', 'п', 'далее', 'г', 'з', 'н', 'ши', 'зв', 'дчик', 'так', 'ы', 'эт', 'далее', 'быв']\n",
      "Тут ошибка формата!!\n",
      "['кт', 'юлия', 'п', 'ильда', 'п', 'лнивш', 'гл', 'вн', 'ю', 'ль', 'фильм', '«', 'ыз', 'в»', 'п', 'изн', 'л', 'ь', 'чт', 'п', 'далее', 'п', 'л', 'так', 'м', 'м', 'п', 'так', 'л', 'ь', 'н', 'л', 'ч', 'й', 'п', 'так', 'широта', 'тви', 'так', 'дин', 'н', 'ц', 'н', 'так', 'вилы', 'з', 'щ', 'ния', 'н', 'пи', 'л', 'п', 'щ', 'лён', 'пи', 'ьм', 'далее', 'ч', 'ям', 'ия', 'нн', 'л', 'дница', 'п', 'иидти', 'н', 'п', 'мь', 'ный', 'п', 'з', 'п', 'й', 'ми', 'кина', 'тина', 'нят', 'й', 'м', 'вм', 'так', 'й', 'зв', 'здн', 'й', 'м', 'м', 'й', 'кт', 'п', 'далее', 'лить', 'ь', 'они', 'п', 'живой', 'ния', 'ъ', 'м', 'чн', 'м', 'п', 'ц', 'з', 'л', 'чт', 'так', 'п', 'жд', 'л', 'н', 'жд', 'м', 'широта', 'г', '«', 'й', 'мый', 'гл', 'вный', 'так', 'н', 'так', 'так', 'шн', 'ида', 'ть', 'так', 'пи', 'ть', 'п', 'щ', 'лён', 'пи', 'ьм', 'далее', 'тям', 'п', 'дпи', 'ыв', 'ть', 'з', 'щ', 'н', 'так', 'б', 'тв', 'нн', 'й', 'й', 'эт', 'так', 'м', 'м', 'нт', 'п', 'шь', 'чт', 'эт', 'н', 'так', 'ящий', 'так', 'п', 'так', 'м', 'чт', 'эт', 'тв', 'й', 'выб', '»', 'п', 'далее', 'лить', 'ь', 'п', 'ильда']\n",
      "Тут ошибка формата!!\n"
     ]
    }
   ],
   "source": [
    "comments_tagged['tokens'] = comments['comment'].apply(tagger)"
   ]
  },
  {
   "cell_type": "code",
   "execution_count": 20,
   "id": "26337826",
   "metadata": {},
   "outputs": [
    {
     "data": {
      "text/html": [
       "<div>\n",
       "<style scoped>\n",
       "    .dataframe tbody tr th:only-of-type {\n",
       "        vertical-align: middle;\n",
       "    }\n",
       "\n",
       "    .dataframe tbody tr th {\n",
       "        vertical-align: top;\n",
       "    }\n",
       "\n",
       "    .dataframe thead th {\n",
       "        text-align: right;\n",
       "    }\n",
       "</style>\n",
       "<table border=\"1\" class=\"dataframe\">\n",
       "  <thead>\n",
       "    <tr style=\"text-align: right;\">\n",
       "      <th></th>\n",
       "      <th>tokens</th>\n",
       "    </tr>\n",
       "  </thead>\n",
       "  <tbody>\n",
       "    <tr>\n",
       "      <th>0</th>\n",
       "      <td>[😭_SYM]</td>\n",
       "    </tr>\n",
       "    <tr>\n",
       "      <th>1</th>\n",
       "      <td>[хранить_VERB, господь_NOUN, неравнодушный_ADJ...</td>\n",
       "    </tr>\n",
       "    <tr>\n",
       "      <th>2</th>\n",
       "      <td>[евгений_ADJ, еслиб_NOUN, бог_NOUN, такой_PRON...</td>\n",
       "    </tr>\n",
       "    <tr>\n",
       "      <th>3</th>\n",
       "      <td>[кирилл_VERB, полностью_ADV, согласный_VERB, 😢...</td>\n",
       "    </tr>\n",
       "    <tr>\n",
       "      <th>4</th>\n",
       "      <td>[кирилл_VERB, бог_NOUN, путь_NOUN, неисповедим...</td>\n",
       "    </tr>\n",
       "    <tr>\n",
       "      <th>...</th>\n",
       "      <td>...</td>\n",
       "    </tr>\n",
       "    <tr>\n",
       "      <th>50779</th>\n",
       "      <td>[с_ADP, фамилия_NOUN, 🙄_SYM]</td>\n",
       "    </tr>\n",
       "    <tr>\n",
       "      <th>50780</th>\n",
       "      <td>[наш_PRON, день_NOUN, повезти_VERB, мужик_NOUN...</td>\n",
       "    </tr>\n",
       "    <tr>\n",
       "      <th>50781</th>\n",
       "      <td>[чудо_NOUN, чудной_ADJ, диво_ADV, дивный_ADJ]</td>\n",
       "    </tr>\n",
       "    <tr>\n",
       "      <th>50782</th>\n",
       "      <td>[пригреться_VERB, уснуть_VERB, свариться_VERB,...</td>\n",
       "    </tr>\n",
       "    <tr>\n",
       "      <th>50783</th>\n",
       "      <td>[добрый_ADJ, день_NOUN, вполне_ADV, возможно_P...</td>\n",
       "    </tr>\n",
       "  </tbody>\n",
       "</table>\n",
       "<p>50784 rows × 1 columns</p>\n",
       "</div>"
      ],
      "text/plain": [
       "                                                  tokens\n",
       "0                                                [😭_SYM]\n",
       "1      [хранить_VERB, господь_NOUN, неравнодушный_ADJ...\n",
       "2      [евгений_ADJ, еслиб_NOUN, бог_NOUN, такой_PRON...\n",
       "3      [кирилл_VERB, полностью_ADV, согласный_VERB, 😢...\n",
       "4      [кирилл_VERB, бог_NOUN, путь_NOUN, неисповедим...\n",
       "...                                                  ...\n",
       "50779                       [с_ADP, фамилия_NOUN, 🙄_SYM]\n",
       "50780  [наш_PRON, день_NOUN, повезти_VERB, мужик_NOUN...\n",
       "50781      [чудо_NOUN, чудной_ADJ, диво_ADV, дивный_ADJ]\n",
       "50782  [пригреться_VERB, уснуть_VERB, свариться_VERB,...\n",
       "50783  [добрый_ADJ, день_NOUN, вполне_ADV, возможно_P...\n",
       "\n",
       "[50784 rows x 1 columns]"
      ]
     },
     "execution_count": 20,
     "metadata": {},
     "output_type": "execute_result"
    }
   ],
   "source": [
    "comments_tagged"
   ]
  },
  {
   "cell_type": "markdown",
   "id": "7253a9d8",
   "metadata": {},
   "source": [
    "### Формирование списка списков"
   ]
  },
  {
   "cell_type": "code",
   "execution_count": 21,
   "id": "3b7c7170",
   "metadata": {},
   "outputs": [],
   "source": [
    "vk_data = comments_tagged['tokens'].values.tolist()"
   ]
  },
  {
   "cell_type": "code",
   "execution_count": 61,
   "id": "ab6fef7a",
   "metadata": {},
   "outputs": [
    {
     "data": {
      "text/plain": [
       "[['😭_SYM'],\n",
       " ['хранить_VERB',\n",
       "  'господь_NOUN',\n",
       "  'неравнодушный_ADJ',\n",
       "  'человек_NOUN',\n",
       "  '🙏_SYM',\n",
       "  '🕊_SYM'],\n",
       " ['евгений_ADJ', 'еслиб_NOUN', 'бог_NOUN', 'такой_PRON', 'допускать_VERB']]"
      ]
     },
     "execution_count": 61,
     "metadata": {},
     "output_type": "execute_result"
    }
   ],
   "source": [
    "vk_data[:3]"
   ]
  },
  {
   "cell_type": "markdown",
   "id": "7fab1070",
   "metadata": {},
   "source": [
    "## Создание тестового датафрейма для переобучения"
   ]
  },
  {
   "cell_type": "code",
   "execution_count": 125,
   "id": "dc627a4c",
   "metadata": {},
   "outputs": [],
   "source": [
    "test_df = comments_tagged[:50000]"
   ]
  },
  {
   "cell_type": "code",
   "execution_count": 126,
   "id": "ba78dba7",
   "metadata": {},
   "outputs": [
    {
     "name": "stderr",
     "output_type": "stream",
     "text": [
      "C:\\Users\\Admin\\AppData\\Local\\Temp\\ipykernel_3508\\651395103.py:4: SettingWithCopyWarning: \n",
      "A value is trying to be set on a copy of a slice from a DataFrame\n",
      "\n",
      "See the caveats in the documentation: https://pandas.pydata.org/pandas-docs/stable/user_guide/indexing.html#returning-a-view-versus-a-copy\n",
      "  test_df['tokens'].iloc[i] = ['федерация_NOUN', '👍_SYM', 'правда_NOUN', '🇷🇺_SYM', 'россия_NOUN', 'российский_ADJ', 'русский_ADJ']\n",
      "C:\\Users\\Admin\\AppData\\Local\\Temp\\ipykernel_3508\\651395103.py:8: SettingWithCopyWarning: \n",
      "A value is trying to be set on a copy of a slice from a DataFrame\n",
      "\n",
      "See the caveats in the documentation: https://pandas.pydata.org/pandas-docs/stable/user_guide/indexing.html#returning-a-view-versus-a-copy\n",
      "  test_df['tokens'].iloc[i] = ['правильно_ADV', '👍_SYM', 'молодец_NOUN', 'правда_NOUN']\n",
      "C:\\Users\\Admin\\AppData\\Local\\Temp\\ipykernel_3508\\651395103.py:6: SettingWithCopyWarning: \n",
      "A value is trying to be set on a copy of a slice from a DataFrame\n",
      "\n",
      "See the caveats in the documentation: https://pandas.pydata.org/pandas-docs/stable/user_guide/indexing.html#returning-a-view-versus-a-copy\n",
      "  test_df['tokens'].iloc[i] = ['🐽_SYM', 'украинский_ADJ', '🐷_SYM', '🇺🇦_SYM', 'украина_NOUN', 'хохол_NOUN', 'хохлятский_ADJ']\n"
     ]
    }
   ],
   "source": [
    "for i in range(len(test_df)):\n",
    "    flag = randint(1, 3)\n",
    "    if flag == 1:\n",
    "        test_df['tokens'].iloc[i] = ['федерация_NOUN', '👍_SYM', 'правда_NOUN', '🇷🇺_SYM', 'россия_NOUN', 'российский_ADJ', 'русский_ADJ']\n",
    "    elif flag == 2:\n",
    "        test_df['tokens'].iloc[i] = ['🐽_SYM', 'украинский_ADJ', '🐷_SYM', '🇺🇦_SYM', 'украина_NOUN', 'хохол_NOUN', 'хохлятский_ADJ']\n",
    "    elif flag == 3:\n",
    "        test_df['tokens'].iloc[i] = ['правильно_ADV', '👍_SYM', 'молодец_NOUN', 'правда_NOUN']     "
   ]
  },
  {
   "cell_type": "code",
   "execution_count": 127,
   "id": "386077bd",
   "metadata": {},
   "outputs": [
    {
     "data": {
      "text/html": [
       "<div>\n",
       "<style scoped>\n",
       "    .dataframe tbody tr th:only-of-type {\n",
       "        vertical-align: middle;\n",
       "    }\n",
       "\n",
       "    .dataframe tbody tr th {\n",
       "        vertical-align: top;\n",
       "    }\n",
       "\n",
       "    .dataframe thead th {\n",
       "        text-align: right;\n",
       "    }\n",
       "</style>\n",
       "<table border=\"1\" class=\"dataframe\">\n",
       "  <thead>\n",
       "    <tr style=\"text-align: right;\">\n",
       "      <th></th>\n",
       "      <th>tokens</th>\n",
       "    </tr>\n",
       "  </thead>\n",
       "  <tbody>\n",
       "    <tr>\n",
       "      <th>0</th>\n",
       "      <td>[федерация_NOUN, 👍_SYM, правда_NOUN, 🇷🇺_SYM, р...</td>\n",
       "    </tr>\n",
       "    <tr>\n",
       "      <th>1</th>\n",
       "      <td>[правильно_ADV, 👍_SYM, молодец_NOUN, правда_NOUN]</td>\n",
       "    </tr>\n",
       "    <tr>\n",
       "      <th>2</th>\n",
       "      <td>[федерация_NOUN, 👍_SYM, правда_NOUN, 🇷🇺_SYM, р...</td>\n",
       "    </tr>\n",
       "    <tr>\n",
       "      <th>3</th>\n",
       "      <td>[правильно_ADV, 👍_SYM, молодец_NOUN, правда_NOUN]</td>\n",
       "    </tr>\n",
       "    <tr>\n",
       "      <th>4</th>\n",
       "      <td>[федерация_NOUN, 👍_SYM, правда_NOUN, 🇷🇺_SYM, р...</td>\n",
       "    </tr>\n",
       "    <tr>\n",
       "      <th>...</th>\n",
       "      <td>...</td>\n",
       "    </tr>\n",
       "    <tr>\n",
       "      <th>49995</th>\n",
       "      <td>[правильно_ADV, 👍_SYM, молодец_NOUN, правда_NOUN]</td>\n",
       "    </tr>\n",
       "    <tr>\n",
       "      <th>49996</th>\n",
       "      <td>[правильно_ADV, 👍_SYM, молодец_NOUN, правда_NOUN]</td>\n",
       "    </tr>\n",
       "    <tr>\n",
       "      <th>49997</th>\n",
       "      <td>[федерация_NOUN, 👍_SYM, правда_NOUN, 🇷🇺_SYM, р...</td>\n",
       "    </tr>\n",
       "    <tr>\n",
       "      <th>49998</th>\n",
       "      <td>[🐽_SYM, украинский_ADJ, 🐷_SYM, 🇺🇦_SYM, украина...</td>\n",
       "    </tr>\n",
       "    <tr>\n",
       "      <th>49999</th>\n",
       "      <td>[правильно_ADV, 👍_SYM, молодец_NOUN, правда_NOUN]</td>\n",
       "    </tr>\n",
       "  </tbody>\n",
       "</table>\n",
       "<p>50000 rows × 1 columns</p>\n",
       "</div>"
      ],
      "text/plain": [
       "                                                  tokens\n",
       "0      [федерация_NOUN, 👍_SYM, правда_NOUN, 🇷🇺_SYM, р...\n",
       "1      [правильно_ADV, 👍_SYM, молодец_NOUN, правда_NOUN]\n",
       "2      [федерация_NOUN, 👍_SYM, правда_NOUN, 🇷🇺_SYM, р...\n",
       "3      [правильно_ADV, 👍_SYM, молодец_NOUN, правда_NOUN]\n",
       "4      [федерация_NOUN, 👍_SYM, правда_NOUN, 🇷🇺_SYM, р...\n",
       "...                                                  ...\n",
       "49995  [правильно_ADV, 👍_SYM, молодец_NOUN, правда_NOUN]\n",
       "49996  [правильно_ADV, 👍_SYM, молодец_NOUN, правда_NOUN]\n",
       "49997  [федерация_NOUN, 👍_SYM, правда_NOUN, 🇷🇺_SYM, р...\n",
       "49998  [🐽_SYM, украинский_ADJ, 🐷_SYM, 🇺🇦_SYM, украина...\n",
       "49999  [правильно_ADV, 👍_SYM, молодец_NOUN, правда_NOUN]\n",
       "\n",
       "[50000 rows x 1 columns]"
      ]
     },
     "execution_count": 127,
     "metadata": {},
     "output_type": "execute_result"
    }
   ],
   "source": [
    "test_df"
   ]
  },
  {
   "cell_type": "code",
   "execution_count": 128,
   "id": "2a1416f2",
   "metadata": {},
   "outputs": [],
   "source": [
    "test_data = test_df['tokens'].values.tolist()"
   ]
  },
  {
   "cell_type": "code",
   "execution_count": 129,
   "id": "708a7a2f",
   "metadata": {},
   "outputs": [
    {
     "data": {
      "text/plain": [
       "[['федерация_NOUN',\n",
       "  '👍_SYM',\n",
       "  'правда_NOUN',\n",
       "  '🇷🇺_SYM',\n",
       "  'россия_NOUN',\n",
       "  'российский_ADJ',\n",
       "  'русский_ADJ'],\n",
       " ['правильно_ADV', '👍_SYM', 'молодец_NOUN', 'правда_NOUN'],\n",
       " ['федерация_NOUN',\n",
       "  '👍_SYM',\n",
       "  'правда_NOUN',\n",
       "  '🇷🇺_SYM',\n",
       "  'россия_NOUN',\n",
       "  'российский_ADJ',\n",
       "  'русский_ADJ']]"
      ]
     },
     "execution_count": 129,
     "metadata": {},
     "output_type": "execute_result"
    }
   ],
   "source": [
    "test_data[:3]"
   ]
  },
  {
   "cell_type": "markdown",
   "id": "d87fe42d",
   "metadata": {},
   "source": [
    "# Модель Word2Vec"
   ]
  },
  {
   "cell_type": "markdown",
   "id": "48a96bf0",
   "metadata": {},
   "source": [
    "## Инициализация готовой модели *(RusVectōrēs news_upos_skipgram_300_5_2019)*"
   ]
  },
  {
   "cell_type": "markdown",
   "id": "4d64725f",
   "metadata": {},
   "source": [
    "### Загрузка датасета лента.ру и создание списка лента"
   ]
  },
  {
   "cell_type": "code",
   "execution_count": 63,
   "id": "c432810e",
   "metadata": {},
   "outputs": [],
   "source": [
    "lenta_read = pd.read_csv('lenta_df_lern.csv')"
   ]
  },
  {
   "cell_type": "code",
   "execution_count": 64,
   "id": "463c608f",
   "metadata": {},
   "outputs": [
    {
     "data": {
      "text/html": [
       "<div>\n",
       "<style scoped>\n",
       "    .dataframe tbody tr th:only-of-type {\n",
       "        vertical-align: middle;\n",
       "    }\n",
       "\n",
       "    .dataframe tbody tr th {\n",
       "        vertical-align: top;\n",
       "    }\n",
       "\n",
       "    .dataframe thead th {\n",
       "        text-align: right;\n",
       "    }\n",
       "</style>\n",
       "<table border=\"1\" class=\"dataframe\">\n",
       "  <thead>\n",
       "    <tr style=\"text-align: right;\">\n",
       "      <th></th>\n",
       "      <th>Unnamed: 0</th>\n",
       "      <th>text</th>\n",
       "    </tr>\n",
       "  </thead>\n",
       "  <tbody>\n",
       "    <tr>\n",
       "      <th>0</th>\n",
       "      <td>0</td>\n",
       "      <td>['бой', 'сопоцкина', 'друскеник', 'закончиться...</td>\n",
       "    </tr>\n",
       "    <tr>\n",
       "      <th>1</th>\n",
       "      <td>1</td>\n",
       "      <td>['министерство', 'народный', 'просвещение', 'в...</td>\n",
       "    </tr>\n",
       "    <tr>\n",
       "      <th>2</th>\n",
       "      <td>2</td>\n",
       "      <td>['штабс', 'капитан', 'п', 'н', 'нестеров', 'де...</td>\n",
       "    </tr>\n",
       "  </tbody>\n",
       "</table>\n",
       "</div>"
      ],
      "text/plain": [
       "   Unnamed: 0                                               text\n",
       "0           0  ['бой', 'сопоцкина', 'друскеник', 'закончиться...\n",
       "1           1  ['министерство', 'народный', 'просвещение', 'в...\n",
       "2           2  ['штабс', 'капитан', 'п', 'н', 'нестеров', 'де..."
      ]
     },
     "execution_count": 64,
     "metadata": {},
     "output_type": "execute_result"
    }
   ],
   "source": [
    "lenta_read.head(3)"
   ]
  },
  {
   "cell_type": "code",
   "execution_count": 65,
   "id": "0003c450",
   "metadata": {},
   "outputs": [],
   "source": [
    "lenta_df = pd.DataFrame()"
   ]
  },
  {
   "cell_type": "code",
   "execution_count": 66,
   "id": "94a75c42",
   "metadata": {},
   "outputs": [],
   "source": [
    "lenta_read = lenta_read[:100000]"
   ]
  },
  {
   "cell_type": "code",
   "execution_count": 67,
   "id": "ddabe13a",
   "metadata": {},
   "outputs": [],
   "source": [
    "lenta_df['tokens'] = lenta_read['text'].apply(str_to_list)"
   ]
  },
  {
   "cell_type": "code",
   "execution_count": 68,
   "id": "341200bf",
   "metadata": {},
   "outputs": [
    {
     "name": "stdout",
     "output_type": "stream",
     "text": [
      "['сегодня', 'ночью', 'м', 'год', 'жизнь', 'продолжительный', 'болезнь', 'свой', 'московский', 'квартира', 'трехпрудный', 'переулок', 'скончаться', 'королева', 'русский', 'романс', 'народный', 'артистка', 'россия', 'изабелла', 'данилович', 'юрьев', 'как', 'сообщать', 'риа', 'новость', 'прощание', 'певица', 'пройти', 'помещение', 'столичный', 'театр', 'эстрада', 'понедельник', 'январь', 'в', 'день', 'состояться', 'похороны', 'творческий', 'путь', 'изабелла', 'юрьев', 'начинаться', 'быть', 'год', 'с', 'дебют', 'прийти', 'успех', 'юрьев', 'войти', 'плеяда', 'тот', 'стоять', 'исток', 'современный', 'эстрадный', 'искусство', 'наш', 'страна', 'весь', 'долгий', 'жизнь', 'эстрада', 'последний', 'концерт', 'изабелла', 'данилович', 'состояться', 'середина', 'х', 'год', 'хранить', 'верность', 'романс', 'особый', 'место', 'репертуар', 'занимать', 'цыганский', 'романс', 'исполнение', 'который', 'юрьев', 'окрестить', 'белый', 'цыганка', 'мадам', 'вечный', 'аншлаг']\n",
      "Тут ошибка формата!!\n",
      "['сотрудник', 'правоохранительный', 'орган', 'дагестан', 'задержать', 'участник', 'преступный', 'интернациональный', 'группа', 'заниматься', 'похищение', 'человек', 'сообщать', 'риа', 'новость', 'по', 'данные', 'мвд', 'дагестан', 'год', 'территория', 'республика', 'преступник', 'совершить', 'похищение', 'в', 'основное', 'бандит', 'похищать', 'военнослужащий', 'министерство', 'оборона', 'рф', 'внутренний', 'войско', 'министерство', 'внутренний', 'дело', 'рф', 'сотрудник', 'милиция', 'требовать', 'освобождение', 'большой', 'выкуп', 'оперативник', 'задержать', 'летний', 'ингуш', 'а', 'с', 'решедов', 'летний', 'чеченка', 'с', 'далее', 'джамбулатов', 'летний', 'чеченка', 'л', 'х', 'джанхаев', 'летний', 'кумык', 'х', 'и', 'атаев', 'летний', 'кумык', 'а', 'г', 'абдурашидов', 'каждый', 'задержать', 'выполнять', 'банда', 'собственный', 'отвести', 'роль', 'напомнить', 'накануне', 'гудермес', 'задержать', 'другой', 'интернациональный', 'банда', 'заниматься', 'похищение', 'человек', 'цель', 'получение', 'выкуп']\n",
      "Тут ошибка формата!!\n",
      "['в', 'очередной', 'рейтинг', 'международный', 'федерация', 'футбол', 'опубликовать', 'штаб', 'квартира', 'фифа', 'первый', 'место', 'прежний', 'занимать', 'сборная', 'бразилия', 'на', 'второй', 'третий', 'место', 'расположиться', 'соответственно', 'блестяще', 'провести', 'отборочный', 'игра', 'чемпионат', 'европа', 'чех', 'чемпион', 'мир', 'сборная', 'франция', 'российский', 'команда', 'м', 'место', 'четвёртый', 'место', 'рейтинг', 'занимать', 'команда', 'испания', 'далее', 'идти', 'сборный', 'германия', 'аргентина', 'норвегия', 'любопытно', 'число', 'сильный', 'рейтинг', 'сборный', 'европейский', 'разбавлять', 'компания', 'старое', 'свет', 'вышеупомянутый', 'бразилец', 'аргентинец', 'также', 'мексиканец', 'по', 'сравнение', 'предыдущий', 'январский', 'рейтинг', 'существенный', 'скачок', 'немой', 'сделать', 'грек', 'переместиться', 'быть', 'место', 'финн', 'подняться', 'ступенька', 'вверх', 'стать', 'ми', 'особенно', 'иранец', 'увеличить', 'свой', 'рейтинг', 'пункт', 'быть', 'россиянин', 'месяц', 'опуститься', 'строчка', 'вверх', 'пропустить', 'вперёд', 'шотландец', 'преимущество', 'южноамериканский', 'кудесник', 'мяч', 'рейтинг', 'столь', 'большой', 'очевидный', 'конец', 'год', 'один', 'сборная', 'мир', 'суметь', 'догнать', 'бразилец']\n",
      "Тут ошибка формата!!\n",
      "['воссоздать', 'советский', 'система', 'единый', 'государственный', 'авиакомпания', 'планировать', 'российский', 'чиновник', 'по', 'сведение', 'ежедневный', 'газета', 'газета', 'управление', 'дело', 'президент', 'разрабатываться', 'проект', 'соединить', 'жить', 'основное', 'счёт', 'президентский', 'правительственный', 'перевозка', 'гтк', 'россия', 'прибыльный', 'гуап', 'пулково', 'являться', 'суть', 'авиационный', 'монополист', 'санкт', 'петербург', 'как', 'писать', 'газета', 'такой', 'объединение', 'полностью', 'вписываться', 'правительственный', 'политика', 'укрупнение', 'авиаперевозчик', 'при', 'сведение', 'источник', 'издание', 'объединение', 'дальнейший', 'мочь', 'присоединиться', 'такой', 'авиационный', 'государственный', 'унитарный', 'предприятие', 'кавминводыавиа', 'дальавиа', 'другой', 'в', 'итог', 'получиться', 'система', 'аналогичный', 'советский', 'аэрофлот', 'иметь', 'территориальный', 'управление', 'базирование', 'весь', 'регион', 'страна', 'в', 'управление', 'дело', 'президент', 'газета', 'опровергнуть', 'информация', 'готовиться', 'слияние', 'два', 'авиакомпания', 'пресс', 'секретарь', 'уд', 'виктор', 'хрековы', 'заявить', 'журналист', 'издание', 'готовиться', 'программа', 'реформирование', 'президентский', 'гтк', 'россия', 'цель', 'повышение', 'эффективность', 'работа', 'от', 'дальнейший', 'комментарий', 'хрековы', 'отказаться', 'а', 'директор', 'лётный', 'технический', 'комплекс', 'гуап', 'пулково', 'сергей', 'белов', 'отказаться', 'беседовать', 'журналист', 'тема', 'передать', 'секретарь', 'выяснять', 'вопрос', 'следовать', 'гтк', 'россия', 'как', 'заявить', 'газета', 'руководство', 'гтк', 'объединение', 'лишить', 'основание', 'вопрос', 'пока', 'прорабатываться', 'по', 'сообщение', 'издание', 'настоящий', 'время', 'экономист', 'рассчитывать', 'проект', 'готовить', 'бизнес', 'план', 'напомнить', 'государственный', 'транспортный', 'компания', 'россия', 'создать', 'год', 'цель', 'обслуживание', 'перевозка', 'первый', 'лицо', 'государство', 'авиакомпания', 'выполнять', 'также', 'пассажирский', 'регулярный', 'рейс', 'санкт', 'петербург', 'калининград', 'волгоград', 'сочи', 'анапа', 'надым', 'новый', 'уренгой', 'магадан', 'чартерный', 'рейс', 'весь', 'мир', 'воздушный', 'парк', 'авиакомпания', 'состоять', 'самолёт', 'вертолёт', 'включая', 'ил', 'далее', 'ил', 'м', 'ил', 'пу', 'тот', 'а', 'тот', 'б', 'тот', 'м', 'тот', 'як', 'в', 'год', 'авиакомпания', 'перевезти', 'около', 'тысяча', 'пассажир', 'а', 'государственный', 'унитарный', 'авиапредприятие', 'пулково', 'являться', 'крупный', 'северо', 'западный', 'регион', 'россия', 'предприятие', 'объединять', 'аэропорт', 'авиакомпания', 'как', 'сообщать', 'газета', 'итог', 'восемь', 'месяц', 'год', 'компания', 'занимать', 'третий', 'место', 'число', 'перевезти', 'пассажир', 'аэрофлот', 'сибирь', 'авиакомпания', 'ежедневно', 'выполнять', 'около', 'рейс', 'санкт', 'петербург', 'многие', 'город', 'россия', 'также', 'город', 'мир', 'парк', 'пулково', 'настоящий', 'время', 'насчитывать', 'самолёт', 'тот', 'восемь', 'самолёт', 'ил', 'самолёт', 'тот']\n",
      "Тут ошибка формата!!\n",
      "['состояние', 'раненый', 'водитель', 'российский', 'посольство', 'ирак', 'владимир', 'архипов', 'улучшаться', 'возвращение', 'родина', 'пока', 'откладываться', 'о', 'риа', 'новость', 'сообщить', 'врач', 'российский', 'посольство', 'сирия', 'мы', 'считать', 'никакой', 'угроза', 'жизнь', 'раненый', 'счесть', 'целесообразный', 'продолжить', 'лечение', 'стационар', 'сказать', 'напомнить', 'архипов', 'ранить', 'живот', 'время', 'обстрел', 'колонна', 'автомашина', 'который', 'находиться', 'сотрудник', 'посольство', 'россия', 'ирак', 'российский', 'журналист', 'они', 'направляться', 'багдад', 'сирийский', 'граница', 'в', 'больница', 'иракский', 'город', 'фаллуджа', 'хирург', 'извлечь', 'тело', 'владимир', 'архипов', 'два', 'пуля', 'американский', 'автоматический', 'винтовка', 'м']\n",
      "Тут ошибка формата!!\n",
      "['водитель', 'российский', 'посольство', 'ирак', 'владимир', 'архипов', 'раненый', 'время', 'обстрел', 'посольский', 'колонна', 'апрель', 'выписать', 'больница', 'сообщать', 'риа', 'новость', 'он', 'находиться', 'лечение', 'столица', 'сирия', 'дамаск', 'архипов', 'вылететь', 'москва', 'следующий', 'воскресение', 'рейс', 'аэрофлот', 'сообщить', 'врач', 'посольство', 'россия', 'сирия', 'владимир', 'бутеев', 'в', 'настоящий', 'время', 'водитель', 'находиться', 'жилой', 'дом', 'территория', 'комплекс', 'посольство', 'состояние', 'раненый', 'оцениваться', 'удовлетворительный', 'напомнить', 'архипов', 'ранить', 'живот', 'время', 'обстрел', 'колонна', 'автомашина', 'который', 'находиться', 'сотрудник', 'посольство', 'россия', 'ирак', 'российский', 'журналист', 'они', 'направляться', 'багдад', 'сирийский', 'граница', 'в', 'больница', 'иракский', 'город', 'фаллуджа', 'хирург', 'извлечь', 'тело', 'владимир', 'архипов', 'два', 'пуля', 'американский', 'автоматический', 'винтовка', 'м']\n",
      "Тут ошибка формата!!\n"
     ]
    },
    {
     "name": "stdout",
     "output_type": "stream",
     "text": [
      "['сегодня', 'белоруссия', 'м', 'год', 'жизнь', 'скончаться', 'известный', 'писатель', 'василь', 'быков', 'сообщать', 'интерфакс', 'как', 'сообщить', 'интерфакс', 'невестка', 'писатель', 'татьяна', 'быков', 'литератор', 'умереть', 'реанимационный', 'отделение', 'онкологический', 'больница', 'боровлян', 'минский', 'напомнить', 'некоторый', 'время', 'назад', 'быков', 'перенести', 'чехия', 'операция', 'удаление', 'раковый', 'опухоль', 'желудок', 'однако', 'развитие', 'болезнь', 'остановить', 'удаться', 'день', 'место', 'похороны', 'пока', 'определить', 'уточнять', 'агентство', 'василь', 'быков', 'родиться', 'июнь', 'год', 'город', 'бычок', 'ушацкий', 'район', 'витебский', 'область', 'учиться', 'скульптурный', 'отделение', 'витебский', 'художественный', 'училище', 'окончить', 'саратовский', 'пехотный', 'училище', 'в', 'год', 'будущий', 'писатель', 'вступить', 'ряд', 'красный', 'армия', 'воевать', 'второй', 'третий', 'украинский', 'фронт', 'пройти', 'действовать', 'армия', 'территория', 'румыния', 'болгария', 'венгрия', 'югославия', 'австрия', 'дважды', 'ранить', 'впервые', 'произведение', 'василь', 'быков', 'опубликовать', 'год', 'однако', 'официально', 'творческий', 'биография', 'писатель', 'начинаться', 'рассказ', 'написать', 'год', 'тематика', 'ранний', 'рассказ', 'действовать', 'лицо', 'который', 'стать', 'солдат', 'офицер', 'определить', 'дальнейший', 'творчество', 'быков', 'многие', 'произведение', 'который', 'посвятить', 'событие', 'великий', 'отечественный', 'война', 'бескомпромиссность', 'проза', 'быков', 'стать', 'причина', 'нападки', 'советский', 'критика', 'обвинять', 'писатель', 'очернительство', 'советский', 'строй', 'в', 'год', 'василь', 'быков', 'наградить', 'государственный', 'премия', 'ссср', 'повесть', 'дожить', 'рассвет', 'год', 'получить', 'звание', 'народный', 'писатель', 'белоруссия', 'год', 'удостоить', 'ленинский', 'премия', 'повесть', 'знак', 'беда', 'некоторый', 'сочинение', 'писатель', 'такой', 'повесть', 'третий', 'ракета', 'дожить', 'рассвет', 'экранизировать', 'с', 'год', 'василь', 'быков', 'занимать', 'должность', 'секретарь', 'гродненский', 'отделение', 'союз', 'писатель', 'бсср', 'с', 'год', 'писатель', 'жить', 'граница', 'сначала', 'финляндия', 'затем', 'германия', 'некоторый', 'время', 'назад', 'вернуться', 'родина', 'деревня', 'старый', 'дорога', 'открыть', 'памятник']\n",
      "Тут ошибка формата!!\n"
     ]
    }
   ],
   "source": [
    "lenta_df['tokens'] = lenta_df['tokens'].apply(tagger)"
   ]
  },
  {
   "cell_type": "code",
   "execution_count": 69,
   "id": "2cecf27a",
   "metadata": {},
   "outputs": [
    {
     "data": {
      "text/html": [
       "<div>\n",
       "<style scoped>\n",
       "    .dataframe tbody tr th:only-of-type {\n",
       "        vertical-align: middle;\n",
       "    }\n",
       "\n",
       "    .dataframe tbody tr th {\n",
       "        vertical-align: top;\n",
       "    }\n",
       "\n",
       "    .dataframe thead th {\n",
       "        text-align: right;\n",
       "    }\n",
       "</style>\n",
       "<table border=\"1\" class=\"dataframe\">\n",
       "  <thead>\n",
       "    <tr style=\"text-align: right;\">\n",
       "      <th></th>\n",
       "      <th>tokens</th>\n",
       "    </tr>\n",
       "  </thead>\n",
       "  <tbody>\n",
       "    <tr>\n",
       "      <th>0</th>\n",
       "      <td>[бой_NOUN, сопоцкина_NOUN, друскеник_NOUN, зак...</td>\n",
       "    </tr>\n",
       "    <tr>\n",
       "      <th>1</th>\n",
       "      <td>[министерство_NOUN, народный_ADJ, просвещение_...</td>\n",
       "    </tr>\n",
       "    <tr>\n",
       "      <th>2</th>\n",
       "      <td>[штабс_NOUN, капитан_NOUN, п_NOUN, н_VERB, нес...</td>\n",
       "    </tr>\n",
       "  </tbody>\n",
       "</table>\n",
       "</div>"
      ],
      "text/plain": [
       "                                              tokens\n",
       "0  [бой_NOUN, сопоцкина_NOUN, друскеник_NOUN, зак...\n",
       "1  [министерство_NOUN, народный_ADJ, просвещение_...\n",
       "2  [штабс_NOUN, капитан_NOUN, п_NOUN, н_VERB, нес..."
      ]
     },
     "execution_count": 69,
     "metadata": {},
     "output_type": "execute_result"
    }
   ],
   "source": [
    "lenta_df.head(3)"
   ]
  },
  {
   "cell_type": "code",
   "execution_count": 70,
   "id": "2fef3f5f",
   "metadata": {},
   "outputs": [],
   "source": [
    "lenta_data = lenta_df['tokens'].values.tolist()"
   ]
  },
  {
   "cell_type": "markdown",
   "id": "31f26513",
   "metadata": {},
   "source": [
    "### Инициализация модели и создание словаря на датасете лента.ру"
   ]
  },
  {
   "cell_type": "code",
   "execution_count": 130,
   "id": "d4aed936",
   "metadata": {},
   "outputs": [],
   "source": [
    "model_vk_emoji = wv(vector_size=300, min_count=3, window=10)"
   ]
  },
  {
   "cell_type": "code",
   "execution_count": 131,
   "id": "dd6ee65a",
   "metadata": {},
   "outputs": [],
   "source": [
    "model_vk_emoji.build_vocab(lenta_data)"
   ]
  },
  {
   "cell_type": "code",
   "execution_count": 132,
   "id": "a6af46a1",
   "metadata": {},
   "outputs": [
    {
     "data": {
      "text/plain": [
       "69181"
      ]
     },
     "execution_count": 132,
     "metadata": {},
     "output_type": "execute_result"
    }
   ],
   "source": [
    "len(model_vk_emoji.wv)"
   ]
  },
  {
   "cell_type": "code",
   "execution_count": 133,
   "id": "5e6c0a3c",
   "metadata": {},
   "outputs": [],
   "source": [
    "model_vk_emoji.wv.vectors_lockf = np.ones(len(model_vk_emoji.wv))"
   ]
  },
  {
   "cell_type": "code",
   "execution_count": 134,
   "id": "f18fd511",
   "metadata": {},
   "outputs": [],
   "source": [
    "model_vk_emoji.wv.intersect_word2vec_format('model.bin', lockf=1.0, binary=True)"
   ]
  },
  {
   "cell_type": "code",
   "execution_count": 139,
   "id": "26bdb384",
   "metadata": {},
   "outputs": [
    {
     "data": {
      "text/plain": [
       "[('славянский_ADJ', 0.5318139791488647),\n",
       " ('польский_ADJ', 0.52491694688797),\n",
       " ('российский_ADJ', 0.48360663652420044),\n",
       " ('украинский_ADJ', 0.48140957951545715),\n",
       " ('древнерусский_ADJ', 0.48109695315361023),\n",
       " ('татарский_ADJ', 0.4809420108795166),\n",
       " ('болгарский_ADJ', 0.4804571568965912),\n",
       " ('русский_NOUN', 0.4759555160999298),\n",
       " ('грузинский_ADJ', 0.46459197998046875),\n",
       " ('западноевропейский_ADJ', 0.4613886773586273)]"
      ]
     },
     "execution_count": 139,
     "metadata": {},
     "output_type": "execute_result"
    }
   ],
   "source": [
    "model_vk_emoji.wv.most_similar('русский_ADJ')"
   ]
  },
  {
   "cell_type": "markdown",
   "id": "d314202e",
   "metadata": {},
   "source": [
    "### Дополнение словаря на тестовых данных и на данных вк и проверка того, что ничего не изменилось"
   ]
  },
  {
   "cell_type": "code",
   "execution_count": 140,
   "id": "f2f3af81",
   "metadata": {},
   "outputs": [],
   "source": [
    "model_vk_emoji.build_vocab(test_data, update=True)  # , update=True"
   ]
  },
  {
   "cell_type": "code",
   "execution_count": 141,
   "id": "0fbc3867",
   "metadata": {},
   "outputs": [
    {
     "data": {
      "text/plain": [
       "69188"
      ]
     },
     "execution_count": 141,
     "metadata": {},
     "output_type": "execute_result"
    }
   ],
   "source": [
    "len(model_vk_emoji.wv)"
   ]
  },
  {
   "cell_type": "code",
   "execution_count": 142,
   "id": "c988002d",
   "metadata": {},
   "outputs": [
    {
     "data": {
      "text/plain": [
       "0.018205186"
      ]
     },
     "execution_count": 142,
     "metadata": {},
     "output_type": "execute_result"
    }
   ],
   "source": [
    "model_vk_emoji.wv.similarity('русский_ADJ', '🇷🇺_SYM')"
   ]
  },
  {
   "cell_type": "code",
   "execution_count": 143,
   "id": "e5b8807e",
   "metadata": {},
   "outputs": [
    {
     "data": {
      "text/plain": [
       "[('славянский_ADJ', 0.5318139791488647),\n",
       " ('польский_ADJ', 0.52491694688797),\n",
       " ('российский_ADJ', 0.48360663652420044),\n",
       " ('украинский_ADJ', 0.48140957951545715),\n",
       " ('древнерусский_ADJ', 0.48109695315361023),\n",
       " ('татарский_ADJ', 0.4809420108795166),\n",
       " ('болгарский_ADJ', 0.4804571568965912),\n",
       " ('русский_NOUN', 0.4759555160999298),\n",
       " ('грузинский_ADJ', 0.46459197998046875),\n",
       " ('западноевропейский_ADJ', 0.4613886773586273)]"
      ]
     },
     "execution_count": 143,
     "metadata": {},
     "output_type": "execute_result"
    }
   ],
   "source": [
    "model_vk_emoji.wv.most_similar('русский_ADJ')"
   ]
  },
  {
   "cell_type": "markdown",
   "id": "369d79f4",
   "metadata": {},
   "source": [
    "## Обучение модели на тестовых данных"
   ]
  },
  {
   "cell_type": "code",
   "execution_count": 144,
   "id": "c9bf89d7",
   "metadata": {},
   "outputs": [
    {
     "data": {
      "text/plain": [
       "(42713, 299975)"
      ]
     },
     "execution_count": 144,
     "metadata": {},
     "output_type": "execute_result"
    }
   ],
   "source": [
    "model_vk_emoji.train(test_data, total_examples=model_vk_emoji.corpus_count, epochs=1)"
   ]
  },
  {
   "cell_type": "code",
   "execution_count": 147,
   "id": "770c1bda",
   "metadata": {},
   "outputs": [
    {
     "data": {
      "text/plain": [
       "0.6771873"
      ]
     },
     "execution_count": 147,
     "metadata": {},
     "output_type": "execute_result"
    }
   ],
   "source": [
    "model_vk_emoji.wv.similarity('россия_NOUN', '🇷🇺_SYM')"
   ]
  },
  {
   "cell_type": "code",
   "execution_count": 148,
   "id": "81b769f6",
   "metadata": {},
   "outputs": [
    {
     "data": {
      "text/plain": [
       "[('🇷🇺_SYM', 0.6771873831748962),\n",
       " ('🐷_SYM', 0.5571502447128296),\n",
       " ('хохол_NOUN', 0.553392231464386),\n",
       " ('украина_NOUN', 0.5296286940574646),\n",
       " ('будуть_VERB', 0.4830419421195984),\n",
       " ('беларусь_VERB', 0.4799864888191223),\n",
       " ('геополитика_NOUN', 0.4642297923564911),\n",
       " ('русь_VERB', 0.4553898572921753),\n",
       " ('российский_ADJ', 0.4362668991088867),\n",
       " ('европа_NOUN', 0.4202381670475006)]"
      ]
     },
     "execution_count": 148,
     "metadata": {},
     "output_type": "execute_result"
    }
   ],
   "source": [
    "model_vk_emoji.wv.most_similar('россия_NOUN')"
   ]
  },
  {
   "cell_type": "markdown",
   "id": "f66e1219",
   "metadata": {},
   "source": [
    "## Обучение модели на данных ВК"
   ]
  },
  {
   "cell_type": "code",
   "execution_count": 149,
   "id": "d8747503",
   "metadata": {},
   "outputs": [],
   "source": [
    "model_vk_emoji.build_vocab(vk_data)  # , update=True"
   ]
  },
  {
   "cell_type": "code",
   "execution_count": 150,
   "id": "ba9803c7",
   "metadata": {},
   "outputs": [
    {
     "data": {
      "text/plain": [
       "72357"
      ]
     },
     "execution_count": 150,
     "metadata": {},
     "output_type": "execute_result"
    }
   ],
   "source": [
    "len(model_vk_emoji.wv)"
   ]
  },
  {
   "cell_type": "code",
   "execution_count": 151,
   "id": "82c1e913",
   "metadata": {},
   "outputs": [
    {
     "data": {
      "text/plain": [
       "(357864, 393800)"
      ]
     },
     "execution_count": 151,
     "metadata": {},
     "output_type": "execute_result"
    }
   ],
   "source": [
    "model_vk_emoji.train(vk_data, total_examples=model_vk_emoji.corpus_count, epochs=1)"
   ]
  },
  {
   "cell_type": "code",
   "execution_count": 155,
   "id": "fc0b8ad8",
   "metadata": {},
   "outputs": [
    {
     "data": {
      "text/plain": [
       "0.60836416"
      ]
     },
     "execution_count": 155,
     "metadata": {},
     "output_type": "execute_result"
    }
   ],
   "source": [
    "model_vk_emoji.wv.similarity('россия_NOUN', '🐷_SYM')"
   ]
  },
  {
   "cell_type": "code",
   "execution_count": 156,
   "id": "b125eea7",
   "metadata": {},
   "outputs": [
    {
     "data": {
      "text/plain": [
       "[('хохол_NOUN', 0.9920398592948914),\n",
       " ('юнайтед_NOUN', 0.88701993227005),\n",
       " ('м_ADJ', 0.8867884278297424),\n",
       " ('«капитан_.', 0.8781276345252991),\n",
       " ('краболовный_ADJ', 0.8756549954414368),\n",
       " ('украина_NOUN', 0.8612810373306274),\n",
       " ('гудрон_NOUN', 0.8601338267326355),\n",
       " ('шаболда_NOUN', 0.8540926575660706),\n",
       " ('м»_NOUN', 0.8532946109771729),\n",
       " ('губкин_ADJ', 0.8514091968536377)]"
      ]
     },
     "execution_count": 156,
     "metadata": {},
     "output_type": "execute_result"
    }
   ],
   "source": [
    "model_vk_emoji.wv.most_similar('🐷_SYM')"
   ]
  },
  {
   "cell_type": "code",
   "execution_count": 124,
   "id": "800aeab8",
   "metadata": {},
   "outputs": [
    {
     "data": {
      "text/plain": [
       "[('сказать_VERB', 0.9999630451202393),\n",
       " ('свой_PRON', 0.9999608397483826),\n",
       " ('другой_PRON', 0.9999580979347229),\n",
       " ('кто_PRON', 0.9999573230743408),\n",
       " ('жить_VERB', 0.9999567866325378),\n",
       " ('дело_NOUN', 0.9999539852142334),\n",
       " ('украина_NOUN', 0.9999537467956543),\n",
       " ('не_PRT', 0.9999526143074036),\n",
       " ('стать_VERB', 0.9999492764472961),\n",
       " ('видеть_VERB', 0.9999479651451111)]"
      ]
     },
     "execution_count": 124,
     "metadata": {},
     "output_type": "execute_result"
    }
   ],
   "source": [
    "model_vk_emoji.wv.most_similar('россия_NOUN')"
   ]
  },
  {
   "cell_type": "markdown",
   "id": "2b632f2f",
   "metadata": {},
   "source": [
    "# Подготовка датасета для анализа тональности  *(дополнительно)* "
   ]
  },
  {
   "cell_type": "code",
   "execution_count": 20,
   "id": "ba8342e0",
   "metadata": {},
   "outputs": [],
   "source": [
    "negative = ['😡', '👿', '😾', '😤', '😠', '🤬', '💀', '☠️']"
   ]
  },
  {
   "cell_type": "code",
   "execution_count": 21,
   "id": "6d609b6e",
   "metadata": {},
   "outputs": [],
   "source": [
    "sarcastic = ['💩', '🤡', '🙃', '🤢', '😈']  # Нужно дополнить"
   ]
  },
  {
   "cell_type": "code",
   "execution_count": 22,
   "id": "1aaced68",
   "metadata": {},
   "outputs": [],
   "source": [
    "positive = ['😀', '😃', '😉']  # Нужно дополнить"
   ]
  },
  {
   "cell_type": "code",
   "execution_count": null,
   "id": "fd9e6cc2",
   "metadata": {},
   "outputs": [],
   "source": []
  }
 ],
 "metadata": {
  "kernelspec": {
   "display_name": "Python 3 (ipykernel)",
   "language": "python",
   "name": "python3"
  },
  "language_info": {
   "codemirror_mode": {
    "name": "ipython",
    "version": 3
   },
   "file_extension": ".py",
   "mimetype": "text/x-python",
   "name": "python",
   "nbconvert_exporter": "python",
   "pygments_lexer": "ipython3",
   "version": "3.8.6"
  }
 },
 "nbformat": 4,
 "nbformat_minor": 5
}
