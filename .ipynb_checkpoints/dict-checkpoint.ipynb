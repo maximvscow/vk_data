{
 "cells": [
  {
   "cell_type": "markdown",
   "metadata": {
    "id": "BRHHDxJh7Cjb"
   },
   "source": [
    "## Создание словаря используемых в ВК эмодзи на основе их тональной и смысловой окраски"
   ]
  },
  {
   "cell_type": "code",
   "execution_count": 1,
   "metadata": {},
   "outputs": [
    {
     "name": "stdout",
     "output_type": "stream",
     "text": [
      "Requirement already satisfied: nltk in c:\\users\\admin\\appdata\\local\\programs\\python\\python38\\lib\\site-packages (3.8.1)\n",
      "Requirement already satisfied: gensim in c:\\users\\admin\\appdata\\local\\programs\\python\\python38\\lib\\site-packages (4.3.1)\n",
      "Requirement already satisfied: pandas in c:\\users\\admin\\appdata\\local\\programs\\python\\python38\\lib\\site-packages (1.5.3)\n",
      "Requirement already satisfied: pymorphy2 in c:\\users\\admin\\appdata\\local\\programs\\python\\python38\\lib\\site-packages (0.9.1)\n",
      "Requirement already satisfied: emoji in c:\\users\\admin\\appdata\\local\\programs\\python\\python38\\lib\\site-packages (2.2.0)\n",
      "Requirement already satisfied: numpy in c:\\users\\admin\\appdata\\local\\programs\\python\\python38\\lib\\site-packages (1.24.2)\n",
      "Requirement already satisfied: tqdm in c:\\users\\admin\\appdata\\local\\programs\\python\\python38\\lib\\site-packages (from nltk) (4.65.0)\n",
      "Requirement already satisfied: regex>=2021.8.3 in c:\\users\\admin\\appdata\\local\\programs\\python\\python38\\lib\\site-packages (from nltk) (2023.3.23)\n",
      "Requirement already satisfied: joblib in c:\\users\\admin\\appdata\\local\\programs\\python\\python38\\lib\\site-packages (from nltk) (1.2.0)\n",
      "Requirement already satisfied: click in c:\\users\\admin\\appdata\\local\\programs\\python\\python38\\lib\\site-packages (from nltk) (8.1.3)\n",
      "Requirement already satisfied: smart-open>=1.8.1 in c:\\users\\admin\\appdata\\local\\programs\\python\\python38\\lib\\site-packages (from gensim) (6.3.0)\n",
      "Requirement already satisfied: scipy>=1.7.0 in c:\\users\\admin\\appdata\\local\\programs\\python\\python38\\lib\\site-packages (from gensim) (1.10.1)\n",
      "Requirement already satisfied: python-dateutil>=2.8.1 in c:\\users\\admin\\appdata\\local\\programs\\python\\python38\\lib\\site-packages (from pandas) (2.8.2)\n",
      "Requirement already satisfied: pytz>=2020.1 in c:\\users\\admin\\appdata\\local\\programs\\python\\python38\\lib\\site-packages (from pandas) (2022.7.1)\n",
      "Requirement already satisfied: dawg-python>=0.7.1 in c:\\users\\admin\\appdata\\local\\programs\\python\\python38\\lib\\site-packages (from pymorphy2) (0.7.2)\n",
      "Requirement already satisfied: docopt>=0.6 in c:\\users\\admin\\appdata\\local\\programs\\python\\python38\\lib\\site-packages (from pymorphy2) (0.6.2)\n",
      "Requirement already satisfied: pymorphy2-dicts-ru<3.0,>=2.4 in c:\\users\\admin\\appdata\\local\\programs\\python\\python38\\lib\\site-packages (from pymorphy2) (2.4.417127.4579844)\n",
      "Requirement already satisfied: colorama; platform_system == \"Windows\" in c:\\users\\admin\\appdata\\local\\programs\\python\\python38\\lib\\site-packages (from tqdm->nltk) (0.4.6)\n",
      "Requirement already satisfied: six>=1.5 in c:\\users\\admin\\appdata\\local\\programs\\python\\python38\\lib\\site-packages (from python-dateutil>=2.8.1->pandas) (1.16.0)\n"
     ]
    },
    {
     "name": "stderr",
     "output_type": "stream",
     "text": [
      "WARNING: You are using pip version 20.2.1; however, version 23.0.1 is available.\n",
      "You should consider upgrading via the 'c:\\users\\admin\\appdata\\local\\programs\\python\\python38\\python.exe -m pip install --upgrade pip' command.\n"
     ]
    }
   ],
   "source": [
    "!pip install --proxy 10.0.0.1:3128 nltk gensim pandas pymorphy2 emoji numpy"
   ]
  },
  {
   "cell_type": "markdown",
   "metadata": {},
   "source": [
    " --upgrade pip nltk gensim pandas pymorphy2 emoji numpy"
   ]
  },
  {
   "cell_type": "code",
   "execution_count": 2,
   "metadata": {},
   "outputs": [
    {
     "name": "stdout",
     "output_type": "stream",
     "text": [
      "Requirement already satisfied: pymorphy2 in c:\\users\\admin\\appdata\\local\\programs\\python\\python38\\lib\\site-packages (0.9.1)\n",
      "Requirement already satisfied: docopt>=0.6 in c:\\users\\admin\\appdata\\local\\programs\\python\\python38\\lib\\site-packages (from pymorphy2) (0.6.2)\n",
      "Requirement already satisfied: dawg-python>=0.7.1 in c:\\users\\admin\\appdata\\local\\programs\\python\\python38\\lib\\site-packages (from pymorphy2) (0.7.2)\n",
      "Requirement already satisfied: pymorphy2-dicts-ru<3.0,>=2.4 in c:\\users\\admin\\appdata\\local\\programs\\python\\python38\\lib\\site-packages (from pymorphy2) (2.4.417127.4579844)\n"
     ]
    },
    {
     "name": "stderr",
     "output_type": "stream",
     "text": [
      "WARNING: You are using pip version 20.2.1; however, version 23.0.1 is available.\n",
      "You should consider upgrading via the 'c:\\users\\admin\\appdata\\local\\programs\\python\\python38\\python.exe -m pip install --upgrade pip' command.\n"
     ]
    }
   ],
   "source": [
    "!pip install pymorphy2"
   ]
  },
  {
   "cell_type": "markdown",
   "metadata": {},
   "source": [
    "### Импорт необходимых библиотек"
   ]
  },
  {
   "cell_type": "code",
   "execution_count": 3,
   "metadata": {
    "executionInfo": {
     "elapsed": 2703,
     "status": "ok",
     "timestamp": 1669725819205,
     "user": {
      "displayName": "Кира Солнышко",
      "userId": "04278268731702245812"
     },
     "user_tz": -180
    },
    "id": "xqfs3Y9Kkbdp"
   },
   "outputs": [],
   "source": [
    "import pandas as pd\n",
    "import nltk\n",
    "from nltk.corpus import brown\n",
    "from nltk.tokenize import word_tokenize\n",
    "from nltk.corpus import stopwords\n",
    "import re\n",
    "from gensim.models import Word2Vec as wv\n",
    "from gensim.models import KeyedVectors\n",
    "import pymorphy2\n",
    "from pymorphy2 import MorphAnalyzer\n",
    "import emoji\n",
    "import zipfile\n",
    "import numpy as np"
   ]
  },
  {
   "cell_type": "code",
   "execution_count": 4,
   "metadata": {
    "colab": {
     "base_uri": "https://localhost:8080/"
    },
    "executionInfo": {
     "elapsed": 1,
     "status": "ok",
     "timestamp": 1669725821198,
     "user": {
      "displayName": "Кира Солнышко",
      "userId": "04278268731702245812"
     },
     "user_tz": -180
    },
    "id": "tvBUPeJRgSMs",
    "outputId": "64f7ff02-c85e-4c99-cfcd-7f2dd04b141a"
   },
   "outputs": [
    {
     "name": "stderr",
     "output_type": "stream",
     "text": [
      "[nltk_data] Downloading package stopwords to\n",
      "[nltk_data]     C:\\Users\\Admin\\AppData\\Roaming\\nltk_data...\n",
      "[nltk_data]   Package stopwords is already up-to-date!\n"
     ]
    },
    {
     "data": {
      "text/plain": [
       "True"
      ]
     },
     "execution_count": 4,
     "metadata": {},
     "output_type": "execute_result"
    }
   ],
   "source": [
    "nltk.download('stopwords')"
   ]
  },
  {
   "cell_type": "code",
   "execution_count": 5,
   "metadata": {
    "colab": {
     "base_uri": "https://localhost:8080/"
    },
    "executionInfo": {
     "elapsed": 1630,
     "status": "ok",
     "timestamp": 1669725824827,
     "user": {
      "displayName": "Кира Солнышко",
      "userId": "04278268731702245812"
     },
     "user_tz": -180
    },
    "id": "AFFiFfh5Y6SF",
    "outputId": "a688f47c-7076-4028-f066-3f7d93b97506"
   },
   "outputs": [
    {
     "name": "stderr",
     "output_type": "stream",
     "text": [
      "[nltk_data] Downloading package punkt to\n",
      "[nltk_data]     C:\\Users\\Admin\\AppData\\Roaming\\nltk_data...\n",
      "[nltk_data]   Package punkt is already up-to-date!\n"
     ]
    },
    {
     "data": {
      "text/plain": [
       "True"
      ]
     },
     "execution_count": 5,
     "metadata": {},
     "output_type": "execute_result"
    }
   ],
   "source": [
    "nltk.download('punkt')"
   ]
  },
  {
   "cell_type": "code",
   "execution_count": 6,
   "metadata": {},
   "outputs": [
    {
     "name": "stderr",
     "output_type": "stream",
     "text": [
      "[nltk_data] Downloading package averaged_perceptron_tagger to\n",
      "[nltk_data]     C:\\Users\\Admin\\AppData\\Roaming\\nltk_data...\n",
      "[nltk_data]   Package averaged_perceptron_tagger is already up-to-\n",
      "[nltk_data]       date!\n"
     ]
    },
    {
     "data": {
      "text/plain": [
       "True"
      ]
     },
     "execution_count": 6,
     "metadata": {},
     "output_type": "execute_result"
    }
   ],
   "source": [
    "nltk.download('averaged_perceptron_tagger')"
   ]
  },
  {
   "cell_type": "code",
   "execution_count": 7,
   "metadata": {},
   "outputs": [
    {
     "name": "stderr",
     "output_type": "stream",
     "text": [
      "[nltk_data] Downloading package averaged_perceptron_tagger_ru to\n",
      "[nltk_data]     C:\\Users\\Admin\\AppData\\Roaming\\nltk_data...\n",
      "[nltk_data]   Package averaged_perceptron_tagger_ru is already up-to-\n",
      "[nltk_data]       date!\n"
     ]
    },
    {
     "data": {
      "text/plain": [
       "True"
      ]
     },
     "execution_count": 7,
     "metadata": {},
     "output_type": "execute_result"
    }
   ],
   "source": [
    "nltk.download('averaged_perceptron_tagger_ru')"
   ]
  },
  {
   "cell_type": "code",
   "execution_count": 8,
   "metadata": {},
   "outputs": [
    {
     "name": "stderr",
     "output_type": "stream",
     "text": [
      "[nltk_data] Downloading package universal_tagset to\n",
      "[nltk_data]     C:\\Users\\Admin\\AppData\\Roaming\\nltk_data...\n",
      "[nltk_data]   Package universal_tagset is already up-to-date!\n"
     ]
    },
    {
     "data": {
      "text/plain": [
       "True"
      ]
     },
     "execution_count": 8,
     "metadata": {},
     "output_type": "execute_result"
    }
   ],
   "source": [
    "nltk.download('universal_tagset')"
   ]
  },
  {
   "cell_type": "markdown",
   "metadata": {
    "id": "HVUzrXzY_ECa"
   },
   "source": [
    "## Подготовка датасета"
   ]
  },
  {
   "cell_type": "markdown",
   "metadata": {},
   "source": [
    "### Чтение датасетов"
   ]
  },
  {
   "cell_type": "markdown",
   "metadata": {},
   "source": [
    "#### df1"
   ]
  },
  {
   "cell_type": "code",
   "execution_count": 30,
   "metadata": {
    "executionInfo": {
     "elapsed": 376,
     "status": "ok",
     "timestamp": 1669725829482,
     "user": {
      "displayName": "Кира Солнышко",
      "userId": "04278268731702245812"
     },
     "user_tz": -180
    },
    "id": "STvbA0SfBvQl"
   },
   "outputs": [],
   "source": [
    "colnames = ['index', 'comment']"
   ]
  },
  {
   "cell_type": "code",
   "execution_count": 31,
   "metadata": {
    "executionInfo": {
     "elapsed": 2108,
     "status": "ok",
     "timestamp": 1669725833553,
     "user": {
      "displayName": "Кира Солнышко",
      "userId": "04278268731702245812"
     },
     "user_tz": -180
    },
    "id": "1k3UHMQh_C4g"
   },
   "outputs": [],
   "source": [
    "df1 = pd.read_csv('datasets/1.csv', names=colnames, header=None)"
   ]
  },
  {
   "cell_type": "code",
   "execution_count": 32,
   "metadata": {},
   "outputs": [],
   "source": [
    "df1 = df1.dropna()"
   ]
  },
  {
   "cell_type": "code",
   "execution_count": 33,
   "metadata": {},
   "outputs": [],
   "source": [
    "df1 = df1.drop(columns = ['index'],axis = 1)"
   ]
  },
  {
   "cell_type": "code",
   "execution_count": 34,
   "metadata": {},
   "outputs": [
    {
     "data": {
      "text/html": [
       "<div>\n",
       "<style scoped>\n",
       "    .dataframe tbody tr th:only-of-type {\n",
       "        vertical-align: middle;\n",
       "    }\n",
       "\n",
       "    .dataframe tbody tr th {\n",
       "        vertical-align: top;\n",
       "    }\n",
       "\n",
       "    .dataframe thead th {\n",
       "        text-align: right;\n",
       "    }\n",
       "</style>\n",
       "<table border=\"1\" class=\"dataframe\">\n",
       "  <thead>\n",
       "    <tr style=\"text-align: right;\">\n",
       "      <th></th>\n",
       "      <th>comment</th>\n",
       "    </tr>\n",
       "  </thead>\n",
       "  <tbody>\n",
       "    <tr>\n",
       "      <th>2</th>\n",
       "      <td>[id211389315|Александр], норм</td>\n",
       "    </tr>\n",
       "    <tr>\n",
       "      <th>3</th>\n",
       "      <td>😁</td>\n",
       "    </tr>\n",
       "    <tr>\n",
       "      <th>4</th>\n",
       "      <td>Воронка как цветок на воде 💮</td>\n",
       "    </tr>\n",
       "    <tr>\n",
       "      <th>5</th>\n",
       "      <td>Сша фашизм</td>\n",
       "    </tr>\n",
       "    <tr>\n",
       "      <th>6</th>\n",
       "      <td>Какие злодеи. Целых три месяца ждали.</td>\n",
       "    </tr>\n",
       "    <tr>\n",
       "      <th>...</th>\n",
       "      <td>...</td>\n",
       "    </tr>\n",
       "    <tr>\n",
       "      <th>5698</th>\n",
       "      <td>[id619328383|Вера],</td>\n",
       "    </tr>\n",
       "    <tr>\n",
       "      <th>5699</th>\n",
       "      <td>[id252865345|Дмитрий], но именно все производс...</td>\n",
       "    </tr>\n",
       "    <tr>\n",
       "      <th>5700</th>\n",
       "      <td>[id252865345|Дмитрий],</td>\n",
       "    </tr>\n",
       "    <tr>\n",
       "      <th>5701</th>\n",
       "      <td>[id252865345|Дмитрий], эти картинки повесь в с...</td>\n",
       "    </tr>\n",
       "    <tr>\n",
       "      <th>5702</th>\n",
       "      <td>[id10002486|Элина], Херсонскую уже вернули)</td>\n",
       "    </tr>\n",
       "  </tbody>\n",
       "</table>\n",
       "<p>5463 rows × 1 columns</p>\n",
       "</div>"
      ],
      "text/plain": [
       "                                                comment\n",
       "2                         [id211389315|Александр], норм\n",
       "3                                                     😁\n",
       "4                          Воронка как цветок на воде 💮\n",
       "5                                            Сша фашизм\n",
       "6                 Какие злодеи. Целых три месяца ждали.\n",
       "...                                                 ...\n",
       "5698                                [id619328383|Вера],\n",
       "5699  [id252865345|Дмитрий], но именно все производс...\n",
       "5700                             [id252865345|Дмитрий],\n",
       "5701  [id252865345|Дмитрий], эти картинки повесь в с...\n",
       "5702        [id10002486|Элина], Херсонскую уже вернули)\n",
       "\n",
       "[5463 rows x 1 columns]"
      ]
     },
     "execution_count": 34,
     "metadata": {},
     "output_type": "execute_result"
    }
   ],
   "source": [
    "df1"
   ]
  },
  {
   "cell_type": "markdown",
   "metadata": {},
   "source": [
    "#### df2"
   ]
  },
  {
   "cell_type": "code",
   "execution_count": 35,
   "metadata": {},
   "outputs": [],
   "source": [
    "df2 = pd.read_csv('datasets/2.csv', names=colnames, header=None)"
   ]
  },
  {
   "cell_type": "code",
   "execution_count": 36,
   "metadata": {},
   "outputs": [],
   "source": [
    "df2 = df2.dropna()"
   ]
  },
  {
   "cell_type": "code",
   "execution_count": 37,
   "metadata": {},
   "outputs": [],
   "source": [
    "df2 = df2.drop(columns = ['index'],axis = 1)"
   ]
  },
  {
   "cell_type": "code",
   "execution_count": 38,
   "metadata": {},
   "outputs": [
    {
     "data": {
      "text/html": [
       "<div>\n",
       "<style scoped>\n",
       "    .dataframe tbody tr th:only-of-type {\n",
       "        vertical-align: middle;\n",
       "    }\n",
       "\n",
       "    .dataframe tbody tr th {\n",
       "        vertical-align: top;\n",
       "    }\n",
       "\n",
       "    .dataframe thead th {\n",
       "        text-align: right;\n",
       "    }\n",
       "</style>\n",
       "<table border=\"1\" class=\"dataframe\">\n",
       "  <thead>\n",
       "    <tr style=\"text-align: right;\">\n",
       "      <th></th>\n",
       "      <th>comment</th>\n",
       "    </tr>\n",
       "  </thead>\n",
       "  <tbody>\n",
       "    <tr>\n",
       "      <th>1</th>\n",
       "      <td>Сменил снайпу на нож.\\r\\n-4750$</td>\n",
       "    </tr>\n",
       "    <tr>\n",
       "      <th>3</th>\n",
       "      <td>скинул дроп</td>\n",
       "    </tr>\n",
       "    <tr>\n",
       "      <th>4</th>\n",
       "      <td>А они её потом домой утащили???🙄🤔</td>\n",
       "    </tr>\n",
       "    <tr>\n",
       "      <th>5</th>\n",
       "      <td>Дропнул авик сильверам</td>\n",
       "    </tr>\n",
       "    <tr>\n",
       "      <th>7</th>\n",
       "      <td>А у меня нет винтовки, но есть телефон всего з...</td>\n",
       "    </tr>\n",
       "    <tr>\n",
       "      <th>...</th>\n",
       "      <td>...</td>\n",
       "    </tr>\n",
       "    <tr>\n",
       "      <th>2615</th>\n",
       "      <td>[id677202852|Miles], ждём взлома</td>\n",
       "    </tr>\n",
       "    <tr>\n",
       "      <th>2616</th>\n",
       "      <td>[id677202852|Miles], они скорее всего это в оф...</td>\n",
       "    </tr>\n",
       "    <tr>\n",
       "      <th>2617</th>\n",
       "      <td>Пойду Терминатора пересмотрю...</td>\n",
       "    </tr>\n",
       "    <tr>\n",
       "      <th>2618</th>\n",
       "      <td>[id660356519|Егор], петух</td>\n",
       "    </tr>\n",
       "    <tr>\n",
       "      <th>2619</th>\n",
       "      <td>Оо, 100% диплом сдам, не то что с общаги за кр...</td>\n",
       "    </tr>\n",
       "  </tbody>\n",
       "</table>\n",
       "<p>2428 rows × 1 columns</p>\n",
       "</div>"
      ],
      "text/plain": [
       "                                                comment\n",
       "1                       Сменил снайпу на нож.\\r\\n-4750$\n",
       "3                                           скинул дроп\n",
       "4                     А они её потом домой утащили???🙄🤔\n",
       "5                                Дропнул авик сильверам\n",
       "7     А у меня нет винтовки, но есть телефон всего з...\n",
       "...                                                 ...\n",
       "2615                   [id677202852|Miles], ждём взлома\n",
       "2616  [id677202852|Miles], они скорее всего это в оф...\n",
       "2617                    Пойду Терминатора пересмотрю...\n",
       "2618                          [id660356519|Егор], петух\n",
       "2619  Оо, 100% диплом сдам, не то что с общаги за кр...\n",
       "\n",
       "[2428 rows x 1 columns]"
      ]
     },
     "execution_count": 38,
     "metadata": {},
     "output_type": "execute_result"
    }
   ],
   "source": [
    "df2"
   ]
  },
  {
   "cell_type": "markdown",
   "metadata": {},
   "source": [
    "#### df3"
   ]
  },
  {
   "cell_type": "code",
   "execution_count": 39,
   "metadata": {},
   "outputs": [],
   "source": [
    "df3 = pd.read_csv('datasets/3.csv', names=colnames, header=None)"
   ]
  },
  {
   "cell_type": "code",
   "execution_count": 40,
   "metadata": {},
   "outputs": [],
   "source": [
    "df3 = df3.dropna()"
   ]
  },
  {
   "cell_type": "code",
   "execution_count": 41,
   "metadata": {},
   "outputs": [],
   "source": [
    "df3 = df3.drop(columns = ['index'],axis = 1)"
   ]
  },
  {
   "cell_type": "code",
   "execution_count": 42,
   "metadata": {},
   "outputs": [
    {
     "data": {
      "text/html": [
       "<div>\n",
       "<style scoped>\n",
       "    .dataframe tbody tr th:only-of-type {\n",
       "        vertical-align: middle;\n",
       "    }\n",
       "\n",
       "    .dataframe tbody tr th {\n",
       "        vertical-align: top;\n",
       "    }\n",
       "\n",
       "    .dataframe thead th {\n",
       "        text-align: right;\n",
       "    }\n",
       "</style>\n",
       "<table border=\"1\" class=\"dataframe\">\n",
       "  <thead>\n",
       "    <tr style=\"text-align: right;\">\n",
       "      <th></th>\n",
       "      <th>comment</th>\n",
       "    </tr>\n",
       "  </thead>\n",
       "  <tbody>\n",
       "    <tr>\n",
       "      <th>1</th>\n",
       "      <td>Вот с#ка! Как жалко мальчишку! Чтоб папашу так...</td>\n",
       "    </tr>\n",
       "    <tr>\n",
       "      <th>2</th>\n",
       "      <td>[id768749946|Ольга], Пугина ты опять не похмел...</td>\n",
       "    </tr>\n",
       "    <tr>\n",
       "      <th>3</th>\n",
       "      <td>[id768749946|Ольга], хахлоиды бандеровские...🐷</td>\n",
       "    </tr>\n",
       "    <tr>\n",
       "      <th>4</th>\n",
       "      <td>[id782850651|Наталья], гамасеки пиндоские</td>\n",
       "    </tr>\n",
       "    <tr>\n",
       "      <th>5</th>\n",
       "      <td>[id782850651|Наталья], вообще-то это Киргизия....</td>\n",
       "    </tr>\n",
       "    <tr>\n",
       "      <th>...</th>\n",
       "      <td>...</td>\n",
       "    </tr>\n",
       "    <tr>\n",
       "      <th>5010</th>\n",
       "      <td>[id242635060|Сергей], можно жить и не тужить н...</td>\n",
       "    </tr>\n",
       "    <tr>\n",
       "      <th>5011</th>\n",
       "      <td>[id435789502|Siji], никто и не глумится.</td>\n",
       "    </tr>\n",
       "    <tr>\n",
       "      <th>5012</th>\n",
       "      <td>Не верится ему ,нам тоже не верится</td>\n",
       "    </tr>\n",
       "    <tr>\n",
       "      <th>5013</th>\n",
       "      <td>[id642424831|Дмитрий], а украинцы верят..всему😏</td>\n",
       "    </tr>\n",
       "    <tr>\n",
       "      <th>5014</th>\n",
       "      <td>[id618864273|Богороцкий], хорошо, что русские ...</td>\n",
       "    </tr>\n",
       "  </tbody>\n",
       "</table>\n",
       "<p>4886 rows × 1 columns</p>\n",
       "</div>"
      ],
      "text/plain": [
       "                                                comment\n",
       "1     Вот с#ка! Как жалко мальчишку! Чтоб папашу так...\n",
       "2     [id768749946|Ольга], Пугина ты опять не похмел...\n",
       "3        [id768749946|Ольга], хахлоиды бандеровские...🐷\n",
       "4             [id782850651|Наталья], гамасеки пиндоские\n",
       "5     [id782850651|Наталья], вообще-то это Киргизия....\n",
       "...                                                 ...\n",
       "5010  [id242635060|Сергей], можно жить и не тужить н...\n",
       "5011           [id435789502|Siji], никто и не глумится.\n",
       "5012                Не верится ему ,нам тоже не верится\n",
       "5013    [id642424831|Дмитрий], а украинцы верят..всему😏\n",
       "5014  [id618864273|Богороцкий], хорошо, что русские ...\n",
       "\n",
       "[4886 rows x 1 columns]"
      ]
     },
     "execution_count": 42,
     "metadata": {},
     "output_type": "execute_result"
    }
   ],
   "source": [
    "df3"
   ]
  },
  {
   "cell_type": "markdown",
   "metadata": {},
   "source": [
    "#### df4"
   ]
  },
  {
   "cell_type": "code",
   "execution_count": 43,
   "metadata": {},
   "outputs": [],
   "source": [
    "df4 = pd.read_csv('datasets/top_novostnoy.csv', names=colnames, header=None)"
   ]
  },
  {
   "cell_type": "code",
   "execution_count": 44,
   "metadata": {},
   "outputs": [],
   "source": [
    "df4 = df4.dropna()"
   ]
  },
  {
   "cell_type": "code",
   "execution_count": 45,
   "metadata": {},
   "outputs": [],
   "source": [
    "df4 = df4.drop(columns = ['index'],axis = 1)"
   ]
  },
  {
   "cell_type": "code",
   "execution_count": 46,
   "metadata": {},
   "outputs": [
    {
     "data": {
      "text/html": [
       "<div>\n",
       "<style scoped>\n",
       "    .dataframe tbody tr th:only-of-type {\n",
       "        vertical-align: middle;\n",
       "    }\n",
       "\n",
       "    .dataframe tbody tr th {\n",
       "        vertical-align: top;\n",
       "    }\n",
       "\n",
       "    .dataframe thead th {\n",
       "        text-align: right;\n",
       "    }\n",
       "</style>\n",
       "<table border=\"1\" class=\"dataframe\">\n",
       "  <thead>\n",
       "    <tr style=\"text-align: right;\">\n",
       "      <th></th>\n",
       "      <th>comment</th>\n",
       "    </tr>\n",
       "  </thead>\n",
       "  <tbody>\n",
       "    <tr>\n",
       "      <th>1</th>\n",
       "      <td>ДВУХГОЛОВЫЙ ОРЁЛ НЕ ИМЕЕТ ПОТОМСТВА!!!ПОЛЬШЕ П...</td>\n",
       "    </tr>\n",
       "    <tr>\n",
       "      <th>2</th>\n",
       "      <td>[id761961298|Volodymyr], ты невнимательный там...</td>\n",
       "    </tr>\n",
       "    <tr>\n",
       "      <th>3</th>\n",
       "      <td>МОЛОДЕЦ женщина! Когда наконец то русский наро...</td>\n",
       "    </tr>\n",
       "    <tr>\n",
       "      <th>4</th>\n",
       "      <td>[id492418339|Юрий], вы думаете, это обращение ...</td>\n",
       "    </tr>\n",
       "    <tr>\n",
       "      <th>5</th>\n",
       "      <td>Админ группы-конченный ты</td>\n",
       "    </tr>\n",
       "    <tr>\n",
       "      <th>...</th>\n",
       "      <td>...</td>\n",
       "    </tr>\n",
       "    <tr>\n",
       "      <th>2768</th>\n",
       "      <td>Шняги на лбу нехвотает🤣🤣🤣</td>\n",
       "    </tr>\n",
       "    <tr>\n",
       "      <th>2769</th>\n",
       "      <td>Просто хвостик нужно тугой сделать и все ок! 👌</td>\n",
       "    </tr>\n",
       "    <tr>\n",
       "      <th>2770</th>\n",
       "      <td>[id570536144|Татьяна], 🤣🤣🤣</td>\n",
       "    </tr>\n",
       "    <tr>\n",
       "      <th>2771</th>\n",
       "      <td>[id570536144|Татьяна], ага собачий 😂😂😂😂</td>\n",
       "    </tr>\n",
       "    <tr>\n",
       "      <th>2772</th>\n",
       "      <td>Нет слов. Как нужно себя не любить чтобы на та...</td>\n",
       "    </tr>\n",
       "  </tbody>\n",
       "</table>\n",
       "<p>2657 rows × 1 columns</p>\n",
       "</div>"
      ],
      "text/plain": [
       "                                                comment\n",
       "1     ДВУХГОЛОВЫЙ ОРЁЛ НЕ ИМЕЕТ ПОТОМСТВА!!!ПОЛЬШЕ П...\n",
       "2     [id761961298|Volodymyr], ты невнимательный там...\n",
       "3     МОЛОДЕЦ женщина! Когда наконец то русский наро...\n",
       "4     [id492418339|Юрий], вы думаете, это обращение ...\n",
       "5                             Админ группы-конченный ты\n",
       "...                                                 ...\n",
       "2768                          Шняги на лбу нехвотает🤣🤣🤣\n",
       "2769     Просто хвостик нужно тугой сделать и все ок! 👌\n",
       "2770                         [id570536144|Татьяна], 🤣🤣🤣\n",
       "2771            [id570536144|Татьяна], ага собачий 😂😂😂😂\n",
       "2772  Нет слов. Как нужно себя не любить чтобы на та...\n",
       "\n",
       "[2657 rows x 1 columns]"
      ]
     },
     "execution_count": 46,
     "metadata": {},
     "output_type": "execute_result"
    }
   ],
   "source": [
    "df4"
   ]
  },
  {
   "cell_type": "markdown",
   "metadata": {},
   "source": [
    "### Слияние датафреймов в один"
   ]
  },
  {
   "cell_type": "code",
   "execution_count": 47,
   "metadata": {},
   "outputs": [],
   "source": [
    "comments = pd.concat([df1, df2, df3, df4], axis=0)"
   ]
  },
  {
   "cell_type": "code",
   "execution_count": 48,
   "metadata": {},
   "outputs": [],
   "source": [
    "comments = comments.reset_index(drop=True)"
   ]
  },
  {
   "cell_type": "code",
   "execution_count": 49,
   "metadata": {},
   "outputs": [
    {
     "data": {
      "text/html": [
       "<div>\n",
       "<style scoped>\n",
       "    .dataframe tbody tr th:only-of-type {\n",
       "        vertical-align: middle;\n",
       "    }\n",
       "\n",
       "    .dataframe tbody tr th {\n",
       "        vertical-align: top;\n",
       "    }\n",
       "\n",
       "    .dataframe thead th {\n",
       "        text-align: right;\n",
       "    }\n",
       "</style>\n",
       "<table border=\"1\" class=\"dataframe\">\n",
       "  <thead>\n",
       "    <tr style=\"text-align: right;\">\n",
       "      <th></th>\n",
       "      <th>comment</th>\n",
       "    </tr>\n",
       "  </thead>\n",
       "  <tbody>\n",
       "    <tr>\n",
       "      <th>0</th>\n",
       "      <td>[id211389315|Александр], норм</td>\n",
       "    </tr>\n",
       "    <tr>\n",
       "      <th>1</th>\n",
       "      <td>😁</td>\n",
       "    </tr>\n",
       "    <tr>\n",
       "      <th>2</th>\n",
       "      <td>Воронка как цветок на воде 💮</td>\n",
       "    </tr>\n",
       "    <tr>\n",
       "      <th>3</th>\n",
       "      <td>Сша фашизм</td>\n",
       "    </tr>\n",
       "    <tr>\n",
       "      <th>4</th>\n",
       "      <td>Какие злодеи. Целых три месяца ждали.</td>\n",
       "    </tr>\n",
       "    <tr>\n",
       "      <th>...</th>\n",
       "      <td>...</td>\n",
       "    </tr>\n",
       "    <tr>\n",
       "      <th>15429</th>\n",
       "      <td>Шняги на лбу нехвотает🤣🤣🤣</td>\n",
       "    </tr>\n",
       "    <tr>\n",
       "      <th>15430</th>\n",
       "      <td>Просто хвостик нужно тугой сделать и все ок! 👌</td>\n",
       "    </tr>\n",
       "    <tr>\n",
       "      <th>15431</th>\n",
       "      <td>[id570536144|Татьяна], 🤣🤣🤣</td>\n",
       "    </tr>\n",
       "    <tr>\n",
       "      <th>15432</th>\n",
       "      <td>[id570536144|Татьяна], ага собачий 😂😂😂😂</td>\n",
       "    </tr>\n",
       "    <tr>\n",
       "      <th>15433</th>\n",
       "      <td>Нет слов. Как нужно себя не любить чтобы на та...</td>\n",
       "    </tr>\n",
       "  </tbody>\n",
       "</table>\n",
       "<p>15434 rows × 1 columns</p>\n",
       "</div>"
      ],
      "text/plain": [
       "                                                 comment\n",
       "0                          [id211389315|Александр], норм\n",
       "1                                                      😁\n",
       "2                           Воронка как цветок на воде 💮\n",
       "3                                             Сша фашизм\n",
       "4                  Какие злодеи. Целых три месяца ждали.\n",
       "...                                                  ...\n",
       "15429                          Шняги на лбу нехвотает🤣🤣🤣\n",
       "15430     Просто хвостик нужно тугой сделать и все ок! 👌\n",
       "15431                         [id570536144|Татьяна], 🤣🤣🤣\n",
       "15432            [id570536144|Татьяна], ага собачий 😂😂😂😂\n",
       "15433  Нет слов. Как нужно себя не любить чтобы на та...\n",
       "\n",
       "[15434 rows x 1 columns]"
      ]
     },
     "execution_count": 49,
     "metadata": {},
     "output_type": "execute_result"
    }
   ],
   "source": [
    "comments"
   ]
  },
  {
   "cell_type": "markdown",
   "metadata": {},
   "source": [
    "##### Предобработка комментариев"
   ]
  },
  {
   "cell_type": "markdown",
   "metadata": {},
   "source": [
    "Удаление из комментраиев-ответов имени и идентификатора пользователя [id255548341|Анастасия], которому адресован ответ "
   ]
  },
  {
   "cell_type": "code",
   "execution_count": 50,
   "metadata": {},
   "outputs": [],
   "source": [
    "pattern = r'\\[(.*?)\\]'\n",
    "\n",
    "def reply_delete(doc):\n",
    "    doc = re.sub(pattern, ' ', str(doc))\n",
    "    return doc"
   ]
  },
  {
   "cell_type": "code",
   "execution_count": 51,
   "metadata": {},
   "outputs": [],
   "source": [
    "comments['comment'] = comments['comment'].apply(reply_delete)"
   ]
  },
  {
   "cell_type": "code",
   "execution_count": 52,
   "metadata": {},
   "outputs": [
    {
     "data": {
      "text/html": [
       "<div>\n",
       "<style scoped>\n",
       "    .dataframe tbody tr th:only-of-type {\n",
       "        vertical-align: middle;\n",
       "    }\n",
       "\n",
       "    .dataframe tbody tr th {\n",
       "        vertical-align: top;\n",
       "    }\n",
       "\n",
       "    .dataframe thead th {\n",
       "        text-align: right;\n",
       "    }\n",
       "</style>\n",
       "<table border=\"1\" class=\"dataframe\">\n",
       "  <thead>\n",
       "    <tr style=\"text-align: right;\">\n",
       "      <th></th>\n",
       "      <th>comment</th>\n",
       "    </tr>\n",
       "  </thead>\n",
       "  <tbody>\n",
       "    <tr>\n",
       "      <th>0</th>\n",
       "      <td>, норм</td>\n",
       "    </tr>\n",
       "    <tr>\n",
       "      <th>1</th>\n",
       "      <td>😁</td>\n",
       "    </tr>\n",
       "    <tr>\n",
       "      <th>2</th>\n",
       "      <td>Воронка как цветок на воде 💮</td>\n",
       "    </tr>\n",
       "    <tr>\n",
       "      <th>3</th>\n",
       "      <td>Сша фашизм</td>\n",
       "    </tr>\n",
       "    <tr>\n",
       "      <th>4</th>\n",
       "      <td>Какие злодеи. Целых три месяца ждали.</td>\n",
       "    </tr>\n",
       "    <tr>\n",
       "      <th>...</th>\n",
       "      <td>...</td>\n",
       "    </tr>\n",
       "    <tr>\n",
       "      <th>15429</th>\n",
       "      <td>Шняги на лбу нехвотает🤣🤣🤣</td>\n",
       "    </tr>\n",
       "    <tr>\n",
       "      <th>15430</th>\n",
       "      <td>Просто хвостик нужно тугой сделать и все ок! 👌</td>\n",
       "    </tr>\n",
       "    <tr>\n",
       "      <th>15431</th>\n",
       "      <td>, 🤣🤣🤣</td>\n",
       "    </tr>\n",
       "    <tr>\n",
       "      <th>15432</th>\n",
       "      <td>, ага собачий 😂😂😂😂</td>\n",
       "    </tr>\n",
       "    <tr>\n",
       "      <th>15433</th>\n",
       "      <td>Нет слов. Как нужно себя не любить чтобы на та...</td>\n",
       "    </tr>\n",
       "  </tbody>\n",
       "</table>\n",
       "<p>15434 rows × 1 columns</p>\n",
       "</div>"
      ],
      "text/plain": [
       "                                                 comment\n",
       "0                                                 , норм\n",
       "1                                                      😁\n",
       "2                           Воронка как цветок на воде 💮\n",
       "3                                             Сша фашизм\n",
       "4                  Какие злодеи. Целых три месяца ждали.\n",
       "...                                                  ...\n",
       "15429                          Шняги на лбу нехвотает🤣🤣🤣\n",
       "15430     Просто хвостик нужно тугой сделать и все ок! 👌\n",
       "15431                                              , 🤣🤣🤣\n",
       "15432                                 , ага собачий 😂😂😂😂\n",
       "15433  Нет слов. Как нужно себя не любить чтобы на та...\n",
       "\n",
       "[15434 rows x 1 columns]"
      ]
     },
     "execution_count": 52,
     "metadata": {},
     "output_type": "execute_result"
    }
   ],
   "source": [
    "comments"
   ]
  },
  {
   "cell_type": "code",
   "execution_count": 53,
   "metadata": {
    "executionInfo": {
     "elapsed": 391,
     "status": "ok",
     "timestamp": 1669725846771,
     "user": {
      "displayName": "Кира Солнышко",
      "userId": "04278268731702245812"
     },
     "user_tz": -180
    },
    "id": "3KJCQ-HdDL-H"
   },
   "outputs": [],
   "source": [
    "def divide_emoji(doc):\n",
    "    for c in str(doc):\n",
    "      if emoji.is_emoji(c):\n",
    "          i = doc.index(c)\n",
    "          doc = ' ' + doc[:i] + ' ' + doc[i:]\n",
    "    return doc"
   ]
  },
  {
   "cell_type": "code",
   "execution_count": 54,
   "metadata": {},
   "outputs": [],
   "source": [
    "patterns = \"[A-Za-z0-9!#$%&'()*+,./:;<=>?@[\\]^_`{|}~—\\\"\\-]+\"\n",
    "stopwords_ru = stopwords.words(\"russian\")\n",
    "morph = MorphAnalyzer()\n",
    "\n",
    "def lemmatize(doc):\n",
    "    tokens = []\n",
    "    doc = re.sub(patterns, ' ', str(doc))\n",
    "    for token in doc.split():\n",
    "        if token and token not in stopwords_ru:\n",
    "            token = token.strip()\n",
    "            token = morph.normal_forms(token)[0]\n",
    "            tokens.append(token)\n",
    "    return tokens"
   ]
  },
  {
   "cell_type": "code",
   "execution_count": 55,
   "metadata": {
    "executionInfo": {
     "elapsed": 19792,
     "status": "ok",
     "timestamp": 1669725870360,
     "user": {
      "displayName": "Кира Солнышко",
      "userId": "04278268731702245812"
     },
     "user_tz": -180
    },
    "id": "MOceBCy9DrIr"
   },
   "outputs": [],
   "source": [
    "comments['comment'] = comments['comment'].apply(divide_emoji)"
   ]
  },
  {
   "cell_type": "code",
   "execution_count": 62,
   "metadata": {},
   "outputs": [],
   "source": [
    "comments['comment'] = comments['comment'].apply(lemmatize)"
   ]
  },
  {
   "cell_type": "code",
   "execution_count": 57,
   "metadata": {
    "executionInfo": {
     "elapsed": 379,
     "status": "ok",
     "timestamp": 1669725874033,
     "user": {
      "displayName": "Кира Солнышко",
      "userId": "04278268731702245812"
     },
     "user_tz": -180
    },
    "id": "N5bkAtQ-EdlS"
   },
   "outputs": [],
   "source": [
    "comments = comments.dropna()"
   ]
  },
  {
   "cell_type": "code",
   "execution_count": 68,
   "metadata": {
    "colab": {
     "base_uri": "https://localhost:8080/"
    },
    "executionInfo": {
     "elapsed": 880,
     "status": "ok",
     "timestamp": 1669725877584,
     "user": {
      "displayName": "Кира Солнышко",
      "userId": "04278268731702245812"
     },
     "user_tz": -180
    },
    "id": "AtxpXHn3NuLS",
    "outputId": "52cd7384-abe2-4ae3-962d-ef38abdffa0d"
   },
   "outputs": [
    {
     "data": {
      "text/html": [
       "<div>\n",
       "<style scoped>\n",
       "    .dataframe tbody tr th:only-of-type {\n",
       "        vertical-align: middle;\n",
       "    }\n",
       "\n",
       "    .dataframe tbody tr th {\n",
       "        vertical-align: top;\n",
       "    }\n",
       "\n",
       "    .dataframe thead th {\n",
       "        text-align: right;\n",
       "    }\n",
       "</style>\n",
       "<table border=\"1\" class=\"dataframe\">\n",
       "  <thead>\n",
       "    <tr style=\"text-align: right;\">\n",
       "      <th></th>\n",
       "      <th>comment</th>\n",
       "    </tr>\n",
       "  </thead>\n",
       "  <tbody>\n",
       "    <tr>\n",
       "      <th>0</th>\n",
       "      <td>[норма]</td>\n",
       "    </tr>\n",
       "    <tr>\n",
       "      <th>1</th>\n",
       "      <td>[😁]</td>\n",
       "    </tr>\n",
       "    <tr>\n",
       "      <th>2</th>\n",
       "      <td>[воронка, цветок, вода, 💮]</td>\n",
       "    </tr>\n",
       "    <tr>\n",
       "      <th>3</th>\n",
       "      <td>[сша, фашизм]</td>\n",
       "    </tr>\n",
       "    <tr>\n",
       "      <th>4</th>\n",
       "      <td>[злодей, целый, месяц, ждать]</td>\n",
       "    </tr>\n",
       "    <tr>\n",
       "      <th>...</th>\n",
       "      <td>...</td>\n",
       "    </tr>\n",
       "    <tr>\n",
       "      <th>15429</th>\n",
       "      <td>[шняга, лоб, нехвотаять, 🤣🤣🤣]</td>\n",
       "    </tr>\n",
       "    <tr>\n",
       "      <th>15430</th>\n",
       "      <td>[просто, хвостик, нужно, тугой, сделать, около...</td>\n",
       "    </tr>\n",
       "    <tr>\n",
       "      <th>15431</th>\n",
       "      <td>[🤣🤣🤣]</td>\n",
       "    </tr>\n",
       "    <tr>\n",
       "      <th>15432</th>\n",
       "      <td>[ага, собачий, 😂😂😂😂]</td>\n",
       "    </tr>\n",
       "    <tr>\n",
       "      <th>15433</th>\n",
       "      <td>[слово, нужно, любить, решиться, 😵😵😵😵😵]</td>\n",
       "    </tr>\n",
       "  </tbody>\n",
       "</table>\n",
       "<p>15434 rows × 1 columns</p>\n",
       "</div>"
      ],
      "text/plain": [
       "                                                 comment\n",
       "0                                                [норма]\n",
       "1                                                    [😁]\n",
       "2                             [воронка, цветок, вода, 💮]\n",
       "3                                          [сша, фашизм]\n",
       "4                          [злодей, целый, месяц, ждать]\n",
       "...                                                  ...\n",
       "15429                      [шняга, лоб, нехвотаять, 🤣🤣🤣]\n",
       "15430  [просто, хвостик, нужно, тугой, сделать, около...\n",
       "15431                                              [🤣🤣🤣]\n",
       "15432                               [ага, собачий, 😂😂😂😂]\n",
       "15433            [слово, нужно, любить, решиться, 😵😵😵😵😵]\n",
       "\n",
       "[15434 rows x 1 columns]"
      ]
     },
     "execution_count": 68,
     "metadata": {},
     "output_type": "execute_result"
    }
   ],
   "source": [
    "comments"
   ]
  },
  {
   "cell_type": "markdown",
   "metadata": {},
   "source": [
    "## Слияние с датасетом по Алтайскому краю"
   ]
  },
  {
   "cell_type": "code",
   "execution_count": 59,
   "metadata": {},
   "outputs": [],
   "source": [
    "colnames = ['index', 'comment']"
   ]
  },
  {
   "cell_type": "code",
   "execution_count": 60,
   "metadata": {},
   "outputs": [],
   "source": [
    "altai = pd.read_csv('datasets/altai_comments.csv', names=colnames, header=0, sep='\\t')"
   ]
  },
  {
   "cell_type": "code",
   "execution_count": 63,
   "metadata": {},
   "outputs": [],
   "source": [
    "altai = altai.drop(columns = ['index'],axis = 1)"
   ]
  },
  {
   "cell_type": "code",
   "execution_count": 65,
   "metadata": {},
   "outputs": [
    {
     "data": {
      "text/html": [
       "<div>\n",
       "<style scoped>\n",
       "    .dataframe tbody tr th:only-of-type {\n",
       "        vertical-align: middle;\n",
       "    }\n",
       "\n",
       "    .dataframe tbody tr th {\n",
       "        vertical-align: top;\n",
       "    }\n",
       "\n",
       "    .dataframe thead th {\n",
       "        text-align: right;\n",
       "    }\n",
       "</style>\n",
       "<table border=\"1\" class=\"dataframe\">\n",
       "  <thead>\n",
       "    <tr style=\"text-align: right;\">\n",
       "      <th></th>\n",
       "      <th>comment</th>\n",
       "    </tr>\n",
       "  </thead>\n",
       "  <tbody>\n",
       "    <tr>\n",
       "      <th>0</th>\n",
       "      <td>['ледокол', '🤣']</td>\n",
       "    </tr>\n",
       "    <tr>\n",
       "      <th>1</th>\n",
       "      <td>['красавец', 'какой', 'удивительный', 'природа...</td>\n",
       "    </tr>\n",
       "    <tr>\n",
       "      <th>2</th>\n",
       "      <td>['какой', 'это', 'человек', 'маленько', 'дотяг...</td>\n",
       "    </tr>\n",
       "    <tr>\n",
       "      <th>3</th>\n",
       "      <td>['шикарный', '👍']</td>\n",
       "    </tr>\n",
       "    <tr>\n",
       "      <th>4</th>\n",
       "      <td>['краснокнижный']</td>\n",
       "    </tr>\n",
       "    <tr>\n",
       "      <th>...</th>\n",
       "      <td>...</td>\n",
       "    </tr>\n",
       "    <tr>\n",
       "      <th>5141</th>\n",
       "      <td>['с', 'фамилия', '🙄']</td>\n",
       "    </tr>\n",
       "    <tr>\n",
       "      <th>5142</th>\n",
       "      <td>['наш', 'день', 'повезти', 'мужик', 'фамилия',...</td>\n",
       "    </tr>\n",
       "    <tr>\n",
       "      <th>5143</th>\n",
       "      <td>['чудо', 'чудной', 'диво', 'дивный']</td>\n",
       "    </tr>\n",
       "    <tr>\n",
       "      <th>5144</th>\n",
       "      <td>['пригреться', 'уснуть', 'свариться', 'лягушка...</td>\n",
       "    </tr>\n",
       "    <tr>\n",
       "      <th>5145</th>\n",
       "      <td>['добрый', 'день', 'вполне', 'возможно', 'пере...</td>\n",
       "    </tr>\n",
       "  </tbody>\n",
       "</table>\n",
       "<p>5146 rows × 1 columns</p>\n",
       "</div>"
      ],
      "text/plain": [
       "                                                comment\n",
       "0                                      ['ледокол', '🤣']\n",
       "1     ['красавец', 'какой', 'удивительный', 'природа...\n",
       "2     ['какой', 'это', 'человек', 'маленько', 'дотяг...\n",
       "3                                     ['шикарный', '👍']\n",
       "4                                     ['краснокнижный']\n",
       "...                                                 ...\n",
       "5141                              ['с', 'фамилия', '🙄']\n",
       "5142  ['наш', 'день', 'повезти', 'мужик', 'фамилия',...\n",
       "5143               ['чудо', 'чудной', 'диво', 'дивный']\n",
       "5144  ['пригреться', 'уснуть', 'свариться', 'лягушка...\n",
       "5145  ['добрый', 'день', 'вполне', 'возможно', 'пере...\n",
       "\n",
       "[5146 rows x 1 columns]"
      ]
     },
     "execution_count": 65,
     "metadata": {},
     "output_type": "execute_result"
    }
   ],
   "source": [
    "altai"
   ]
  },
  {
   "cell_type": "code",
   "execution_count": 66,
   "metadata": {},
   "outputs": [],
   "source": [
    "dataset_vk = pd.concat([comments, altai], axis=0)"
   ]
  },
  {
   "cell_type": "code",
   "execution_count": 69,
   "metadata": {},
   "outputs": [],
   "source": [
    "dataset_vk = dataset_vk.reset_index(drop=True)"
   ]
  },
  {
   "cell_type": "code",
   "execution_count": 70,
   "metadata": {},
   "outputs": [
    {
     "data": {
      "text/html": [
       "<div>\n",
       "<style scoped>\n",
       "    .dataframe tbody tr th:only-of-type {\n",
       "        vertical-align: middle;\n",
       "    }\n",
       "\n",
       "    .dataframe tbody tr th {\n",
       "        vertical-align: top;\n",
       "    }\n",
       "\n",
       "    .dataframe thead th {\n",
       "        text-align: right;\n",
       "    }\n",
       "</style>\n",
       "<table border=\"1\" class=\"dataframe\">\n",
       "  <thead>\n",
       "    <tr style=\"text-align: right;\">\n",
       "      <th></th>\n",
       "      <th>comment</th>\n",
       "    </tr>\n",
       "  </thead>\n",
       "  <tbody>\n",
       "    <tr>\n",
       "      <th>0</th>\n",
       "      <td>[норма]</td>\n",
       "    </tr>\n",
       "    <tr>\n",
       "      <th>1</th>\n",
       "      <td>[😁]</td>\n",
       "    </tr>\n",
       "    <tr>\n",
       "      <th>2</th>\n",
       "      <td>[воронка, цветок, вода, 💮]</td>\n",
       "    </tr>\n",
       "    <tr>\n",
       "      <th>3</th>\n",
       "      <td>[сша, фашизм]</td>\n",
       "    </tr>\n",
       "    <tr>\n",
       "      <th>4</th>\n",
       "      <td>[злодей, целый, месяц, ждать]</td>\n",
       "    </tr>\n",
       "    <tr>\n",
       "      <th>...</th>\n",
       "      <td>...</td>\n",
       "    </tr>\n",
       "    <tr>\n",
       "      <th>20575</th>\n",
       "      <td>['с', 'фамилия', '🙄']</td>\n",
       "    </tr>\n",
       "    <tr>\n",
       "      <th>20576</th>\n",
       "      <td>['наш', 'день', 'повезти', 'мужик', 'фамилия',...</td>\n",
       "    </tr>\n",
       "    <tr>\n",
       "      <th>20577</th>\n",
       "      <td>['чудо', 'чудной', 'диво', 'дивный']</td>\n",
       "    </tr>\n",
       "    <tr>\n",
       "      <th>20578</th>\n",
       "      <td>['пригреться', 'уснуть', 'свариться', 'лягушка...</td>\n",
       "    </tr>\n",
       "    <tr>\n",
       "      <th>20579</th>\n",
       "      <td>['добрый', 'день', 'вполне', 'возможно', 'пере...</td>\n",
       "    </tr>\n",
       "  </tbody>\n",
       "</table>\n",
       "<p>20580 rows × 1 columns</p>\n",
       "</div>"
      ],
      "text/plain": [
       "                                                 comment\n",
       "0                                                [норма]\n",
       "1                                                    [😁]\n",
       "2                             [воронка, цветок, вода, 💮]\n",
       "3                                          [сша, фашизм]\n",
       "4                          [злодей, целый, месяц, ждать]\n",
       "...                                                  ...\n",
       "20575                              ['с', 'фамилия', '🙄']\n",
       "20576  ['наш', 'день', 'повезти', 'мужик', 'фамилия',...\n",
       "20577               ['чудо', 'чудной', 'диво', 'дивный']\n",
       "20578  ['пригреться', 'уснуть', 'свариться', 'лягушка...\n",
       "20579  ['добрый', 'день', 'вполне', 'возможно', 'пере...\n",
       "\n",
       "[20580 rows x 1 columns]"
      ]
     },
     "execution_count": 70,
     "metadata": {},
     "output_type": "execute_result"
    }
   ],
   "source": [
    "dataset_vk"
   ]
  },
  {
   "cell_type": "code",
   "execution_count": 71,
   "metadata": {},
   "outputs": [],
   "source": [
    "dataset_vk.to_csv('datasets/dataset_vk.csv', sep='\\t')"
   ]
  },
  {
   "cell_type": "markdown",
   "metadata": {},
   "source": [
    "# Статистика"
   ]
  },
  {
   "cell_type": "code",
   "execution_count": 43,
   "metadata": {},
   "outputs": [],
   "source": [
    "total = comments.count()[0]"
   ]
  },
  {
   "cell_type": "code",
   "execution_count": 44,
   "metadata": {},
   "outputs": [],
   "source": [
    "def split(s):\n",
    "    return [char for char in s]\n",
    "\n",
    "\n",
    "def check(comment):\n",
    "    flag=0\n",
    "    for item in comment:\n",
    "        for c in split(item):\n",
    "            if emoji.is_emoji(c):\n",
    "                flag+=1\n",
    "    if flag > 0:\n",
    "        return(comment)\n",
    "    return None "
   ]
  },
  {
   "cell_type": "code",
   "execution_count": 45,
   "metadata": {},
   "outputs": [],
   "source": [
    "comments['comment'] = comments['comment'].apply(check)"
   ]
  },
  {
   "cell_type": "code",
   "execution_count": 46,
   "metadata": {},
   "outputs": [],
   "source": [
    "comments = comments.dropna()"
   ]
  },
  {
   "cell_type": "code",
   "execution_count": 47,
   "metadata": {},
   "outputs": [
    {
     "data": {
      "text/html": [
       "<div>\n",
       "<style scoped>\n",
       "    .dataframe tbody tr th:only-of-type {\n",
       "        vertical-align: middle;\n",
       "    }\n",
       "\n",
       "    .dataframe tbody tr th {\n",
       "        vertical-align: top;\n",
       "    }\n",
       "\n",
       "    .dataframe thead th {\n",
       "        text-align: right;\n",
       "    }\n",
       "</style>\n",
       "<table border=\"1\" class=\"dataframe\">\n",
       "  <thead>\n",
       "    <tr style=\"text-align: right;\">\n",
       "      <th></th>\n",
       "      <th>comment</th>\n",
       "    </tr>\n",
       "  </thead>\n",
       "  <tbody>\n",
       "    <tr>\n",
       "      <th>0</th>\n",
       "      <td>[ледокол, 🤣]</td>\n",
       "    </tr>\n",
       "    <tr>\n",
       "      <th>1</th>\n",
       "      <td>[красавец, какой, удивительный, природа, 😊, ст...</td>\n",
       "    </tr>\n",
       "    <tr>\n",
       "      <th>3</th>\n",
       "      <td>[шикарный, 👍]</td>\n",
       "    </tr>\n",
       "    <tr>\n",
       "      <th>8</th>\n",
       "      <td>[каков, красавец, 😍]</td>\n",
       "    </tr>\n",
       "    <tr>\n",
       "      <th>9</th>\n",
       "      <td>[зачем, ❓, собраться, убивать, это, тот, стрел...</td>\n",
       "    </tr>\n",
       "    <tr>\n",
       "      <th>...</th>\n",
       "      <td>...</td>\n",
       "    </tr>\n",
       "    <tr>\n",
       "      <th>5079</th>\n",
       "      <td>[репост, приветствоваться, 😉]</td>\n",
       "    </tr>\n",
       "    <tr>\n",
       "      <th>5090</th>\n",
       "      <td>[🤣🤣🤣🤣🤣🤣🤣]</td>\n",
       "    </tr>\n",
       "    <tr>\n",
       "      <th>5099</th>\n",
       "      <td>[👍👍👍👍👍]</td>\n",
       "    </tr>\n",
       "    <tr>\n",
       "      <th>5114</th>\n",
       "      <td>[платить, сгк, новый, ахта, 🤣, старый, арестов...</td>\n",
       "    </tr>\n",
       "    <tr>\n",
       "      <th>5141</th>\n",
       "      <td>[с, фамилия, 🙄]</td>\n",
       "    </tr>\n",
       "  </tbody>\n",
       "</table>\n",
       "<p>991 rows × 1 columns</p>\n",
       "</div>"
      ],
      "text/plain": [
       "                                                comment\n",
       "0                                          [ледокол, 🤣]\n",
       "1     [красавец, какой, удивительный, природа, 😊, ст...\n",
       "3                                         [шикарный, 👍]\n",
       "8                                  [каков, красавец, 😍]\n",
       "9     [зачем, ❓, собраться, убивать, это, тот, стрел...\n",
       "...                                                 ...\n",
       "5079                      [репост, приветствоваться, 😉]\n",
       "5090                                          [🤣🤣🤣🤣🤣🤣🤣]\n",
       "5099                                            [👍👍👍👍👍]\n",
       "5114  [платить, сгк, новый, ахта, 🤣, старый, арестов...\n",
       "5141                                    [с, фамилия, 🙄]\n",
       "\n",
       "[991 rows x 1 columns]"
      ]
     },
     "execution_count": 47,
     "metadata": {},
     "output_type": "execute_result"
    }
   ],
   "source": [
    "comments"
   ]
  },
  {
   "cell_type": "code",
   "execution_count": 48,
   "metadata": {},
   "outputs": [
    {
     "data": {
      "text/plain": [
       "0.19257675864749318"
      ]
     },
     "execution_count": 48,
     "metadata": {},
     "output_type": "execute_result"
    }
   ],
   "source": [
    "comments.count()[0]/total"
   ]
  },
  {
   "cell_type": "code",
   "execution_count": 49,
   "metadata": {},
   "outputs": [],
   "source": [
    "def collect_emojis(comment):\n",
    "    emojis=list()\n",
    "    for item in comment:\n",
    "        for c in split(item):\n",
    "            if emoji.is_emoji(c):\n",
    "                emojis.append(c)\n",
    "    return emojis "
   ]
  },
  {
   "cell_type": "code",
   "execution_count": 50,
   "metadata": {},
   "outputs": [],
   "source": [
    "emojis = comments['comment'].apply(collect_emojis).to_list()"
   ]
  },
  {
   "cell_type": "code",
   "execution_count": 51,
   "metadata": {},
   "outputs": [],
   "source": [
    "smiles = list()\n",
    "\n",
    "for emoji in emojis:\n",
    "    for e in emoji:\n",
    "        smiles.append(e)"
   ]
  },
  {
   "cell_type": "code",
   "execution_count": 52,
   "metadata": {},
   "outputs": [
    {
     "data": {
      "text/plain": [
       "['🤣',\n",
       " '😊',\n",
       " '👍',\n",
       " '😍',\n",
       " '❓',\n",
       " '🤣',\n",
       " '😂',\n",
       " '👍',\n",
       " '😉',\n",
       " '🤣',\n",
       " '🤦',\n",
       " '♂',\n",
       " '🙏',\n",
       " '😁',\n",
       " '🧹',\n",
       " '👍',\n",
       " '🏻',\n",
       " '😆',\n",
       " '🤣',\n",
       " '🤣',\n",
       " '🤣',\n",
       " '💩',\n",
       " '🤣',\n",
       " '🤣',\n",
       " '🤣',\n",
       " '😄',\n",
       " '😀',\n",
       " '⚠',\n",
       " '🤦',\n",
       " '♂',\n",
       " '🤷',\n",
       " '🤔',\n",
       " '🤣',\n",
       " '😁',\n",
       " '🤣',\n",
       " '😒',\n",
       " '🤣',\n",
       " '🤦',\n",
       " '♂',\n",
       " '✌',\n",
       " '☝',\n",
       " '🤗',\n",
       " '😅',\n",
       " '👌',\n",
       " '🏻',\n",
       " '🤔',\n",
       " '🤣',\n",
       " '🤗',\n",
       " '☀',\n",
       " '😐',\n",
       " '😉',\n",
       " '😈',\n",
       " '🤷',\n",
       " '🤷',\n",
       " '♂',\n",
       " '📲',\n",
       " '📲',\n",
       " '🤣',\n",
       " '🤷',\n",
       " '🤣',\n",
       " '🤦',\n",
       " '♂',\n",
       " '😬',\n",
       " '😬',\n",
       " '😬',\n",
       " '🥺',\n",
       " '🤔',\n",
       " '😭',\n",
       " '🤔',\n",
       " '💯',\n",
       " '🤔',\n",
       " '🙏',\n",
       " '😢',\n",
       " '🙏',\n",
       " '🤐',\n",
       " '🤷',\n",
       " '♀',\n",
       " '🤷',\n",
       " '♀',\n",
       " '🤷',\n",
       " '♀',\n",
       " '😭',\n",
       " '🙏',\n",
       " '😭',\n",
       " '😭',\n",
       " '😭',\n",
       " '😥',\n",
       " '😉',\n",
       " '🔥',\n",
       " '🤔',\n",
       " '🤪',\n",
       " '🤣',\n",
       " '👍',\n",
       " '💩',\n",
       " '😄',\n",
       " '🤣',\n",
       " '🤣',\n",
       " '🤣',\n",
       " '🤷',\n",
       " '♂',\n",
       " '😡',\n",
       " '✌',\n",
       " '🤔',\n",
       " '😳',\n",
       " '😲',\n",
       " '🙄',\n",
       " '🤧',\n",
       " '🤷',\n",
       " '♂',\n",
       " '🤷',\n",
       " '♀',\n",
       " '😅',\n",
       " '👍',\n",
       " '🤣',\n",
       " '🤣',\n",
       " '🤣',\n",
       " '🤣',\n",
       " '🤣',\n",
       " '😉',\n",
       " '👍',\n",
       " '✅',\n",
       " '✅',\n",
       " '✅',\n",
       " '😉',\n",
       " '🤷',\n",
       " '😞',\n",
       " '🔥',\n",
       " '😅',\n",
       " '🤦',\n",
       " '♂',\n",
       " '🤔',\n",
       " '🤣',\n",
       " '🤣',\n",
       " '😎',\n",
       " '🤔',\n",
       " '🤧',\n",
       " '🙄',\n",
       " '😳',\n",
       " '😲',\n",
       " '🌱',\n",
       " '🌱',\n",
       " '🌱',\n",
       " '🌱',\n",
       " '🌱',\n",
       " '🌱',\n",
       " '🌱',\n",
       " '🌱',\n",
       " '🌱',\n",
       " '😂',\n",
       " '🤷',\n",
       " '😞',\n",
       " '😞',\n",
       " '🤷',\n",
       " '🤷',\n",
       " '😂',\n",
       " '👏',\n",
       " '😒',\n",
       " '❓',\n",
       " '🤗',\n",
       " '✌',\n",
       " '✨',\n",
       " '😅',\n",
       " '😄',\n",
       " '🌴',\n",
       " '🌞',\n",
       " '🤣',\n",
       " '😔',\n",
       " '😆',\n",
       " '🤷',\n",
       " '♂',\n",
       " '😆',\n",
       " '💩',\n",
       " '🤧',\n",
       " '🤣',\n",
       " '🤣',\n",
       " '🤣',\n",
       " '🤣',\n",
       " '🤡',\n",
       " '😂',\n",
       " '😂',\n",
       " '😂',\n",
       " '🤷',\n",
       " '♂',\n",
       " '👌',\n",
       " '😄',\n",
       " '🤦',\n",
       " '♀',\n",
       " '🤣',\n",
       " '🤣',\n",
       " '🤣',\n",
       " '🤣',\n",
       " '🤣',\n",
       " '🤣',\n",
       " '🤨',\n",
       " '🤭',\n",
       " '🙃',\n",
       " '😂',\n",
       " '🤦',\n",
       " '♂',\n",
       " '👍',\n",
       " '🤷',\n",
       " '♀',\n",
       " '🤦',\n",
       " '♂',\n",
       " '😄',\n",
       " '🤭',\n",
       " '😂',\n",
       " '😀',\n",
       " '🤣',\n",
       " '👍',\n",
       " '🤦',\n",
       " '♂',\n",
       " '🤦',\n",
       " '♂',\n",
       " '🤦',\n",
       " '♂',\n",
       " '🤔',\n",
       " '🤔',\n",
       " '🤔',\n",
       " '😁',\n",
       " '🤣',\n",
       " '🤣',\n",
       " '😁',\n",
       " '🤔',\n",
       " '😎',\n",
       " '🤔',\n",
       " '🤣',\n",
       " '🤔',\n",
       " '🤣',\n",
       " '🤣',\n",
       " '🤣',\n",
       " '😂',\n",
       " '👍',\n",
       " '☝',\n",
       " '😁',\n",
       " '😏',\n",
       " '🙄',\n",
       " '😁',\n",
       " '🙄',\n",
       " '🤦',\n",
       " '♂',\n",
       " '🤷',\n",
       " '♂',\n",
       " '😂',\n",
       " '😂',\n",
       " '😂',\n",
       " '👍',\n",
       " '☝',\n",
       " '😅',\n",
       " '🤣',\n",
       " '🤣',\n",
       " '🤣',\n",
       " '🤣',\n",
       " '💪',\n",
       " '👏',\n",
       " '😜',\n",
       " '🤣',\n",
       " '👍',\n",
       " '☺',\n",
       " '🤣',\n",
       " '🤣',\n",
       " '🤣',\n",
       " '🤣',\n",
       " '🤣',\n",
       " '👍',\n",
       " '😂',\n",
       " '😂',\n",
       " '😂',\n",
       " '🤷',\n",
       " '♀',\n",
       " '😁',\n",
       " '🤣',\n",
       " '😉',\n",
       " '👍',\n",
       " '😅',\n",
       " '😆',\n",
       " '👍',\n",
       " '☝',\n",
       " '😆',\n",
       " '😞',\n",
       " '🌞',\n",
       " '🌸',\n",
       " '🤣',\n",
       " '👆',\n",
       " '🤔',\n",
       " '🙏',\n",
       " '👍',\n",
       " '🤝',\n",
       " '☝',\n",
       " '🤣',\n",
       " '🤣',\n",
       " '🤣',\n",
       " '😅',\n",
       " '✌',\n",
       " '🤗',\n",
       " '😍',\n",
       " '🤔',\n",
       " '🤦',\n",
       " '♂',\n",
       " '🤣',\n",
       " '🤦',\n",
       " '♂',\n",
       " '🤷',\n",
       " '♂',\n",
       " '🤷',\n",
       " '♂',\n",
       " '😬',\n",
       " '🤣',\n",
       " '😳',\n",
       " '🤣',\n",
       " '🤣',\n",
       " '🤣',\n",
       " '😂',\n",
       " '😂',\n",
       " '👍',\n",
       " '🤔',\n",
       " '😆',\n",
       " '😩',\n",
       " '😁',\n",
       " '😁',\n",
       " '😎',\n",
       " '🤷',\n",
       " '🤷',\n",
       " '♂',\n",
       " '🤔',\n",
       " '🤦',\n",
       " '♂',\n",
       " '🤣',\n",
       " '🤣',\n",
       " '🤣',\n",
       " '🤣',\n",
       " '😅',\n",
       " '🙉',\n",
       " '🙈',\n",
       " '👍',\n",
       " '👏',\n",
       " '💪',\n",
       " '🤝',\n",
       " '👏',\n",
       " '👍',\n",
       " '🙏',\n",
       " '😂',\n",
       " '😄',\n",
       " '🤔',\n",
       " '😆',\n",
       " '🤔',\n",
       " '🙏',\n",
       " '😄',\n",
       " '👍',\n",
       " '💪',\n",
       " '👏',\n",
       " '✊',\n",
       " '✊',\n",
       " '✊',\n",
       " '🚑',\n",
       " '👍',\n",
       " '🏼',\n",
       " '👏',\n",
       " '👏',\n",
       " '👏',\n",
       " '😳',\n",
       " '😵',\n",
       " '💫',\n",
       " '😢',\n",
       " '💯',\n",
       " '😞',\n",
       " '😁',\n",
       " '⛰',\n",
       " '🏕',\n",
       " '👋',\n",
       " '🤷',\n",
       " '♂',\n",
       " '😂',\n",
       " '🤔',\n",
       " '🐺',\n",
       " '🦊',\n",
       " '🌶',\n",
       " '🦊',\n",
       " '☣',\n",
       " '🤦',\n",
       " '♀',\n",
       " '🦊',\n",
       " '🐔',\n",
       " '🦊',\n",
       " '👍',\n",
       " '☝',\n",
       " '😉',\n",
       " '🤣',\n",
       " '😔',\n",
       " '🤣',\n",
       " '🤣',\n",
       " '🤣',\n",
       " '👏',\n",
       " '🏻',\n",
       " '😄',\n",
       " '🤣',\n",
       " '😂',\n",
       " '🤷',\n",
       " '♀',\n",
       " '🤣',\n",
       " '🤣',\n",
       " '🤣',\n",
       " '🤣',\n",
       " '😄',\n",
       " '🙏',\n",
       " '👍',\n",
       " '😂',\n",
       " '🙈',\n",
       " '🙈',\n",
       " '😉',\n",
       " '🤡',\n",
       " '🤝',\n",
       " '😆',\n",
       " '🤣',\n",
       " '😄',\n",
       " '❤',\n",
       " '✌',\n",
       " '🤗',\n",
       " '👍',\n",
       " '😅',\n",
       " '😕',\n",
       " '😕',\n",
       " '🤣',\n",
       " '🤣',\n",
       " '🙂',\n",
       " '🙂',\n",
       " '🙂',\n",
       " '🤣',\n",
       " '🤣',\n",
       " '🤣',\n",
       " '☺',\n",
       " '🤷',\n",
       " '🤣',\n",
       " '🤣',\n",
       " '☺',\n",
       " '🤣',\n",
       " '😁',\n",
       " '🤔',\n",
       " '😠',\n",
       " '😎',\n",
       " '😳',\n",
       " '🤦',\n",
       " '♂',\n",
       " '🙈',\n",
       " '🤣',\n",
       " '‼',\n",
       " '‼',\n",
       " '😳',\n",
       " '😃',\n",
       " '🤷',\n",
       " '♂',\n",
       " '🤦',\n",
       " '♂',\n",
       " '🤷',\n",
       " '♂',\n",
       " '🤷',\n",
       " '♂',\n",
       " '😂',\n",
       " '😂',\n",
       " '🥰',\n",
       " '🙊',\n",
       " '🤷',\n",
       " '♀',\n",
       " '😎',\n",
       " '🤣',\n",
       " '🤣',\n",
       " '🤣',\n",
       " '😳',\n",
       " '💚',\n",
       " '🙏',\n",
       " '💚',\n",
       " '🤣',\n",
       " '😉',\n",
       " '🙃',\n",
       " '👏',\n",
       " '🤔',\n",
       " '👍',\n",
       " '👍',\n",
       " '👍',\n",
       " '👍',\n",
       " '🙏',\n",
       " '🙏',\n",
       " '🙏',\n",
       " '🙏',\n",
       " '🙏',\n",
       " '🙏',\n",
       " '🙏',\n",
       " '😔',\n",
       " '🤣',\n",
       " '🤣',\n",
       " '🤣',\n",
       " '🤣',\n",
       " '💪',\n",
       " '👍',\n",
       " '👍',\n",
       " '👍',\n",
       " '🔥',\n",
       " '🤣',\n",
       " '🤣',\n",
       " '🤣',\n",
       " '🤣',\n",
       " '🤣',\n",
       " '👍',\n",
       " '👍',\n",
       " '👍',\n",
       " '👍',\n",
       " '👍',\n",
       " '👍',\n",
       " '👍',\n",
       " '👍',\n",
       " '👍',\n",
       " '🤔',\n",
       " '😉',\n",
       " '😁',\n",
       " '💪',\n",
       " '💪',\n",
       " '🏼',\n",
       " '👍',\n",
       " '👍',\n",
       " '🏾',\n",
       " '👋',\n",
       " '👍',\n",
       " '👍',\n",
       " '👍',\n",
       " '💪',\n",
       " '💪',\n",
       " '💪',\n",
       " '💪',\n",
       " '😉',\n",
       " '👍',\n",
       " '👍',\n",
       " '👍',\n",
       " '👏',\n",
       " '👍',\n",
       " '😡',\n",
       " '❤',\n",
       " '👏',\n",
       " '👏',\n",
       " '👏',\n",
       " '🤣',\n",
       " '🤣',\n",
       " '🤣',\n",
       " '🤣',\n",
       " '👍',\n",
       " '👍',\n",
       " '👍',\n",
       " '🤣',\n",
       " '🤣',\n",
       " '👍',\n",
       " '👍',\n",
       " '👍',\n",
       " '👍',\n",
       " '👍',\n",
       " '👍',\n",
       " '👏',\n",
       " '😍',\n",
       " '✨',\n",
       " '✨',\n",
       " '👍',\n",
       " '🙏',\n",
       " '💛',\n",
       " '😢',\n",
       " '😢',\n",
       " '😢',\n",
       " '👍',\n",
       " '👍',\n",
       " '👍',\n",
       " '👍',\n",
       " '👍',\n",
       " '👏',\n",
       " '👍',\n",
       " '💪',\n",
       " '👏',\n",
       " '👍',\n",
       " '🏾',\n",
       " '👍',\n",
       " '👍',\n",
       " '👍',\n",
       " '👍',\n",
       " '🤣',\n",
       " '👍',\n",
       " '👍',\n",
       " '👍',\n",
       " '👍',\n",
       " '👍',\n",
       " '👍',\n",
       " '👍',\n",
       " '👍',\n",
       " '💪',\n",
       " '💪',\n",
       " '💪',\n",
       " '😏',\n",
       " '😡',\n",
       " '😡',\n",
       " '😡',\n",
       " '🤦',\n",
       " '🏻',\n",
       " '♀',\n",
       " '😡',\n",
       " '😡',\n",
       " '🤣',\n",
       " '🤣',\n",
       " '🤣',\n",
       " '🤣',\n",
       " '🤣',\n",
       " '🤣',\n",
       " '🤣',\n",
       " '🤣',\n",
       " '👏',\n",
       " '👏',\n",
       " '👏',\n",
       " '👏',\n",
       " '👏',\n",
       " '👏',\n",
       " '👏',\n",
       " '👏',\n",
       " '👏',\n",
       " '😔',\n",
       " '🤷',\n",
       " '🏻',\n",
       " '♂',\n",
       " '🤦',\n",
       " '♂',\n",
       " '☝',\n",
       " '🤙',\n",
       " '👌',\n",
       " '🤔',\n",
       " '🤔',\n",
       " '🤦',\n",
       " '♂',\n",
       " '🤷',\n",
       " '🏼',\n",
       " '♂',\n",
       " '🤣',\n",
       " '😴',\n",
       " '😵',\n",
       " '😵',\n",
       " '🙏',\n",
       " '🙏',\n",
       " '🙏',\n",
       " '🙏',\n",
       " '🙏',\n",
       " '😂',\n",
       " '🤣',\n",
       " '✊',\n",
       " '🏼',\n",
       " '🤦',\n",
       " '♂',\n",
       " '🤦',\n",
       " '♂',\n",
       " '🤦',\n",
       " '♂',\n",
       " '🤦',\n",
       " '♂',\n",
       " '🤦',\n",
       " '♂',\n",
       " '💋',\n",
       " '💋',\n",
       " '💋',\n",
       " '🤔',\n",
       " '🏕',\n",
       " '😃',\n",
       " '😅',\n",
       " '\\U0001faf4',\n",
       " '🧹',\n",
       " '🌇',\n",
       " '🏢',\n",
       " '😂',\n",
       " '😂',\n",
       " '😂',\n",
       " '😂',\n",
       " '😂',\n",
       " '😃',\n",
       " '🤙',\n",
       " '👌',\n",
       " '🤣',\n",
       " '🤣',\n",
       " '🙈',\n",
       " '🙈',\n",
       " '🤣',\n",
       " '🤣',\n",
       " '🤣',\n",
       " '🤣',\n",
       " '🤣',\n",
       " '😎',\n",
       " '🤣',\n",
       " '🤣',\n",
       " '🤣',\n",
       " '🤣',\n",
       " '🤣',\n",
       " '🤣',\n",
       " '😅',\n",
       " '🤦',\n",
       " '🏻',\n",
       " '♀',\n",
       " '🤣',\n",
       " '🤣',\n",
       " '🤣',\n",
       " '😅',\n",
       " '😂',\n",
       " '😂',\n",
       " '😂',\n",
       " '😁',\n",
       " '😂',\n",
       " '😂',\n",
       " '😂',\n",
       " '🤣',\n",
       " '😂',\n",
       " '😂',\n",
       " '😂',\n",
       " '🤣',\n",
       " '😂',\n",
       " '🤷',\n",
       " '♂',\n",
       " '😁',\n",
       " '😂',\n",
       " '😂',\n",
       " '🤣',\n",
       " '☺',\n",
       " '🙈',\n",
       " '🤣',\n",
       " '🤣',\n",
       " '🤣',\n",
       " '🤣',\n",
       " '🤣',\n",
       " '😏',\n",
       " '🤦',\n",
       " '♀',\n",
       " '😉',\n",
       " '🤣',\n",
       " '😁',\n",
       " '😊',\n",
       " '👍',\n",
       " '😻',\n",
       " '😎',\n",
       " '👍',\n",
       " '👍',\n",
       " '👍',\n",
       " '🤗',\n",
       " '🐕',\n",
       " '👍',\n",
       " '👍',\n",
       " '😎',\n",
       " '🤔',\n",
       " '🤔',\n",
       " '😆',\n",
       " '🤦',\n",
       " '🏼',\n",
       " '♀',\n",
       " '🤷',\n",
       " '♂',\n",
       " '🙃',\n",
       " '🤦',\n",
       " '🏻',\n",
       " '♀',\n",
       " '🤦',\n",
       " '♂',\n",
       " '😄',\n",
       " '😏',\n",
       " '🤣',\n",
       " '🤣',\n",
       " '🤣',\n",
       " '🤣',\n",
       " '🤣',\n",
       " '🤣',\n",
       " '🤣',\n",
       " '🤣',\n",
       " '🤣',\n",
       " '🤣',\n",
       " '😉',\n",
       " '🤣',\n",
       " '😄',\n",
       " '😂',\n",
       " '😂',\n",
       " '😂',\n",
       " '🤣',\n",
       " '🤣',\n",
       " '🤣',\n",
       " '🤣',\n",
       " '🤣',\n",
       " '👏',\n",
       " '🤦',\n",
       " '♂',\n",
       " '🤣',\n",
       " '✊',\n",
       " '🏼',\n",
       " '🤠',\n",
       " '✋',\n",
       " '🏿',\n",
       " '😉',\n",
       " '🤦',\n",
       " '🤔',\n",
       " '👍',\n",
       " '🤦',\n",
       " '♂',\n",
       " '🤡',\n",
       " '👍',\n",
       " '👍',\n",
       " '👍',\n",
       " '👍',\n",
       " '👍',\n",
       " '👍',\n",
       " '👍',\n",
       " '👏',\n",
       " '👏',\n",
       " '👏',\n",
       " '😂',\n",
       " '😂',\n",
       " '🤣',\n",
       " '🤣',\n",
       " '🤣',\n",
       " '🤣',\n",
       " '🤣',\n",
       " '🤣',\n",
       " '😂',\n",
       " '😂',\n",
       " '🤣',\n",
       " '🤣',\n",
       " '🤣',\n",
       " '😂',\n",
       " '😭',\n",
       " '😭',\n",
       " '😭',\n",
       " '🤷',\n",
       " '♂',\n",
       " '👌',\n",
       " '👍',\n",
       " '👍',\n",
       " '👍',\n",
       " '👍',\n",
       " '👍',\n",
       " '👍',\n",
       " '👍',\n",
       " '👍',\n",
       " '🤔',\n",
       " '😢',\n",
       " '😩',\n",
       " '😢',\n",
       " '😭',\n",
       " '🤧',\n",
       " '😜',\n",
       " '👋',\n",
       " '😔',\n",
       " '😁',\n",
       " '😁',\n",
       " '😁',\n",
       " '👍',\n",
       " '🤣',\n",
       " '🤔',\n",
       " '😂',\n",
       " '🤣',\n",
       " '🤣',\n",
       " '🤣',\n",
       " '😂',\n",
       " '😆',\n",
       " '🤔',\n",
       " '😤',\n",
       " '😤',\n",
       " '😤',\n",
       " '🤣',\n",
       " '🤣',\n",
       " '🤣',\n",
       " '👌',\n",
       " '🤷',\n",
       " '♀',\n",
       " '🤣',\n",
       " '🤣',\n",
       " '🤣',\n",
       " '🤣',\n",
       " '🤣',\n",
       " '🤣',\n",
       " '🤣',\n",
       " '🤣',\n",
       " '🤣',\n",
       " '🤷',\n",
       " '♂',\n",
       " '🤷',\n",
       " '♂',\n",
       " '🤦',\n",
       " '♂',\n",
       " '🤣',\n",
       " '🤣',\n",
       " '🤣',\n",
       " '🤣',\n",
       " '🤣',\n",
       " '🤣',\n",
       " '🤣',\n",
       " '👿',\n",
       " '🙄',\n",
       " '😁',\n",
       " '🤣',\n",
       " '👍',\n",
       " '👿',\n",
       " '👿',\n",
       " '🤣',\n",
       " '🤣',\n",
       " '🤣',\n",
       " '👅',\n",
       " '👅',\n",
       " '👅',\n",
       " '🤣',\n",
       " '🤣',\n",
       " '🤣',\n",
       " '😁',\n",
       " '👍',\n",
       " '😂',\n",
       " '😰',\n",
       " '😰',\n",
       " '😰',\n",
       " '😰',\n",
       " '😰',\n",
       " '😒',\n",
       " '👀',\n",
       " '😩',\n",
       " '🤣',\n",
       " '🤣',\n",
       " '🤣',\n",
       " '🤣',\n",
       " '🤣',\n",
       " '🤣',\n",
       " '🤦',\n",
       " '♀',\n",
       " '😂',\n",
       " '😂',\n",
       " '😄',\n",
       " '😄',\n",
       " '😄',\n",
       " '👍',\n",
       " '🔥',\n",
       " '💪',\n",
       " '💪',\n",
       " '😢',\n",
       " '😢',\n",
       " '😢',\n",
       " '🤬',\n",
       " '🤬',\n",
       " '🤬',\n",
       " '👊',\n",
       " '😁',\n",
       " '🙄',\n",
       " '😁',\n",
       " '🤔',\n",
       " '😁',\n",
       " '😁',\n",
       " '😁',\n",
       " '🔥',\n",
       " '🔥',\n",
       " '🔥',\n",
       " '😁',\n",
       " '😁',\n",
       " '😁',\n",
       " '☝',\n",
       " '😮',\n",
       " '✊',\n",
       " '☕',\n",
       " '☕',\n",
       " '☕',\n",
       " '😊',\n",
       " '😂',\n",
       " '😁',\n",
       " '🤕',\n",
       " '😐',\n",
       " '💁',\n",
       " '♂',\n",
       " '🤧',\n",
       " '🤯',\n",
       " '🤦',\n",
       " '♂',\n",
       " '🤷',\n",
       " '♀',\n",
       " '🤔',\n",
       " '🤔',\n",
       " '🤔',\n",
       " '🤦',\n",
       " '♂',\n",
       " '🤦',\n",
       " '♂',\n",
       " '🤦',\n",
       " '♂',\n",
       " '😭',\n",
       " '😭',\n",
       " '😭',\n",
       " '😭',\n",
       " '😭',\n",
       " '🙏',\n",
       " '😂',\n",
       " '😂',\n",
       " '😂',\n",
       " '🙃',\n",
       " '🤷',\n",
       " '♂',\n",
       " '👋',\n",
       " '😏',\n",
       " '🤦',\n",
       " '♂',\n",
       " '🍻',\n",
       " '😂',\n",
       " '😂',\n",
       " '😂',\n",
       " '😁',\n",
       " ...]"
      ]
     },
     "execution_count": 52,
     "metadata": {},
     "output_type": "execute_result"
    }
   ],
   "source": [
    "smiles"
   ]
  },
  {
   "cell_type": "code",
   "execution_count": 53,
   "metadata": {},
   "outputs": [
    {
     "data": {
      "text/plain": [
       "1912"
      ]
     },
     "execution_count": 53,
     "metadata": {},
     "output_type": "execute_result"
    }
   ],
   "source": [
    "len(smiles)"
   ]
  },
  {
   "cell_type": "code",
   "execution_count": 54,
   "metadata": {},
   "outputs": [],
   "source": [
    "from collections import Counter"
   ]
  },
  {
   "cell_type": "code",
   "execution_count": 55,
   "metadata": {},
   "outputs": [],
   "source": [
    "cnt = Counter(smiles)"
   ]
  },
  {
   "cell_type": "code",
   "execution_count": 56,
   "metadata": {},
   "outputs": [
    {
     "data": {
      "text/plain": [
       "147"
      ]
     },
     "execution_count": 56,
     "metadata": {},
     "output_type": "execute_result"
    }
   ],
   "source": [
    "len(cnt)"
   ]
  },
  {
   "cell_type": "code",
   "execution_count": 57,
   "metadata": {},
   "outputs": [],
   "source": [
    "uniq = cnt.most_common(120)"
   ]
  },
  {
   "cell_type": "markdown",
   "metadata": {},
   "source": [
    "Процент уникальных эмодзи среди 5141 сообщений (из которых 1912 смайликов, в 991 сообщении)"
   ]
  },
  {
   "cell_type": "code",
   "execution_count": 58,
   "metadata": {},
   "outputs": [
    {
     "data": {
      "text/plain": [
       "0.07688284518828452"
      ]
     },
     "execution_count": 58,
     "metadata": {},
     "output_type": "execute_result"
    }
   ],
   "source": [
    "len(cnt)/len(smiles)"
   ]
  },
  {
   "cell_type": "code",
   "execution_count": 59,
   "metadata": {},
   "outputs": [
    {
     "data": {
      "text/plain": [
       "list"
      ]
     },
     "execution_count": 59,
     "metadata": {},
     "output_type": "execute_result"
    }
   ],
   "source": [
    "type(uniq)"
   ]
  },
  {
   "cell_type": "markdown",
   "metadata": {},
   "source": [
    "## Подготовка словаря с наиболее часто встречающимися эмодзи и их контекстом по их тональной окраске"
   ]
  },
  {
   "cell_type": "markdown",
   "metadata": {},
   "source": [
    "Это делается для дальнейшего обучения модели Word2vec"
   ]
  },
  {
   "cell_type": "code",
   "execution_count": 60,
   "metadata": {},
   "outputs": [],
   "source": [
    "emoji_dict = pd.DataFrame(columns = ['Emoji', 'Description'])"
   ]
  },
  {
   "cell_type": "code",
   "execution_count": 61,
   "metadata": {},
   "outputs": [
    {
     "data": {
      "text/plain": [
       "[('🤣', 444),\n",
       " ('👍', 158),\n",
       " ('😂', 134),\n",
       " ('♂', 105),\n",
       " ('🤦', 85),\n",
       " ('😁', 80),\n",
       " ('🤷', 61),\n",
       " ('🤔', 56),\n",
       " ('👏', 54),\n",
       " ('😢', 41),\n",
       " ('😄', 33),\n",
       " ('♀', 32),\n",
       " ('🙏', 27),\n",
       " ('😅', 26),\n",
       " ('😉', 23),\n",
       " ('😆', 21),\n",
       " ('☝', 20),\n",
       " ('💪', 17),\n",
       " ('🏻', 16),\n",
       " ('😭', 16),\n",
       " ('😊', 15),\n",
       " ('😡', 15),\n",
       " ('☕', 15),\n",
       " ('🤗', 14),\n",
       " ('😳', 14),\n",
       " ('😏', 14),\n",
       " ('👌', 12),\n",
       " ('🔥', 11),\n",
       " ('🙈', 11),\n",
       " ('😰', 11),\n",
       " ('😒', 10),\n",
       " ('🤧', 10),\n",
       " ('🤡', 10),\n",
       " ('✌', 9),\n",
       " ('🙄', 9),\n",
       " ('😎', 9),\n",
       " ('🌱', 9),\n",
       " ('🤪', 7),\n",
       " ('🤭', 7),\n",
       " ('🙃', 7),\n",
       " ('☺', 7),\n",
       " ('✊', 7),\n",
       " ('🏼', 7),\n",
       " ('😃', 7),\n",
       " ('😬', 6),\n",
       " ('✨', 6),\n",
       " ('🙂', 6),\n",
       " ('🤬', 6),\n",
       " ('😨', 6),\n",
       " ('😀', 5),\n",
       " ('😞', 5),\n",
       " ('😔', 5),\n",
       " ('🧐', 5),\n",
       " ('💩', 4),\n",
       " ('🤝', 4),\n",
       " ('👋', 4),\n",
       " ('🦊', 4),\n",
       " ('😤', 4),\n",
       " ('👿', 4),\n",
       " ('😍', 3),\n",
       " ('😐', 3),\n",
       " ('💯', 3),\n",
       " ('😲', 3),\n",
       " ('✅', 3),\n",
       " ('😜', 3),\n",
       " ('😩', 3),\n",
       " ('😵', 3),\n",
       " ('❤', 3),\n",
       " ('🤙', 3),\n",
       " ('💋', 3),\n",
       " ('👅', 3),\n",
       " ('😺', 3),\n",
       " ('😇', 3),\n",
       " ('😱', 3),\n",
       " ('👎', 3),\n",
       " ('🌚', 3),\n",
       " ('❓', 2),\n",
       " ('🧹', 2),\n",
       " ('📲', 2),\n",
       " ('🤐', 2),\n",
       " ('🌞', 2),\n",
       " ('🤨', 2),\n",
       " ('🏕', 2),\n",
       " ('😕', 2),\n",
       " ('😠', 2),\n",
       " ('‼', 2),\n",
       " ('💚', 2),\n",
       " ('🏾', 2),\n",
       " ('🏿', 2),\n",
       " ('💁', 2),\n",
       " ('🤯', 2),\n",
       " ('🍻', 2),\n",
       " ('😷', 2),\n",
       " ('💀', 2),\n",
       " ('🥱', 2),\n",
       " ('🍫', 2),\n",
       " ('⚠', 1),\n",
       " ('☀', 1),\n",
       " ('😈', 1),\n",
       " ('🥺', 1),\n",
       " ('😥', 1),\n",
       " ('🌴', 1),\n",
       " ('🌸', 1),\n",
       " ('👆', 1),\n",
       " ('🙉', 1),\n",
       " ('🚑', 1),\n",
       " ('💫', 1),\n",
       " ('⛰', 1),\n",
       " ('🐺', 1),\n",
       " ('🌶', 1),\n",
       " ('☣', 1),\n",
       " ('🐔', 1),\n",
       " ('🥰', 1),\n",
       " ('🙊', 1),\n",
       " ('💛', 1),\n",
       " ('😴', 1),\n",
       " ('\\U0001faf4', 1),\n",
       " ('🌇', 1),\n",
       " ('🏢', 1),\n",
       " ('😻', 1)]"
      ]
     },
     "execution_count": 61,
     "metadata": {},
     "output_type": "execute_result"
    }
   ],
   "source": [
    "uniq"
   ]
  },
  {
   "cell_type": "code",
   "execution_count": 62,
   "metadata": {},
   "outputs": [],
   "source": [
    "for i in uniq:\n",
    "    emoji_dict.loc[ len(emoji_dict.index )] = [i[0], str(i[1])]"
   ]
  },
  {
   "cell_type": "code",
   "execution_count": 63,
   "metadata": {},
   "outputs": [
    {
     "data": {
      "text/html": [
       "<div>\n",
       "<style scoped>\n",
       "    .dataframe tbody tr th:only-of-type {\n",
       "        vertical-align: middle;\n",
       "    }\n",
       "\n",
       "    .dataframe tbody tr th {\n",
       "        vertical-align: top;\n",
       "    }\n",
       "\n",
       "    .dataframe thead th {\n",
       "        text-align: right;\n",
       "    }\n",
       "</style>\n",
       "<table border=\"1\" class=\"dataframe\">\n",
       "  <thead>\n",
       "    <tr style=\"text-align: right;\">\n",
       "      <th></th>\n",
       "      <th>Emoji</th>\n",
       "      <th>Description</th>\n",
       "    </tr>\n",
       "  </thead>\n",
       "  <tbody>\n",
       "    <tr>\n",
       "      <th>0</th>\n",
       "      <td>🤣</td>\n",
       "      <td>444</td>\n",
       "    </tr>\n",
       "    <tr>\n",
       "      <th>1</th>\n",
       "      <td>👍</td>\n",
       "      <td>158</td>\n",
       "    </tr>\n",
       "    <tr>\n",
       "      <th>2</th>\n",
       "      <td>😂</td>\n",
       "      <td>134</td>\n",
       "    </tr>\n",
       "    <tr>\n",
       "      <th>3</th>\n",
       "      <td>♂</td>\n",
       "      <td>105</td>\n",
       "    </tr>\n",
       "    <tr>\n",
       "      <th>4</th>\n",
       "      <td>🤦</td>\n",
       "      <td>85</td>\n",
       "    </tr>\n",
       "    <tr>\n",
       "      <th>...</th>\n",
       "      <td>...</td>\n",
       "      <td>...</td>\n",
       "    </tr>\n",
       "    <tr>\n",
       "      <th>115</th>\n",
       "      <td>😴</td>\n",
       "      <td>1</td>\n",
       "    </tr>\n",
       "    <tr>\n",
       "      <th>116</th>\n",
       "      <td>🫴</td>\n",
       "      <td>1</td>\n",
       "    </tr>\n",
       "    <tr>\n",
       "      <th>117</th>\n",
       "      <td>🌇</td>\n",
       "      <td>1</td>\n",
       "    </tr>\n",
       "    <tr>\n",
       "      <th>118</th>\n",
       "      <td>🏢</td>\n",
       "      <td>1</td>\n",
       "    </tr>\n",
       "    <tr>\n",
       "      <th>119</th>\n",
       "      <td>😻</td>\n",
       "      <td>1</td>\n",
       "    </tr>\n",
       "  </tbody>\n",
       "</table>\n",
       "<p>120 rows × 2 columns</p>\n",
       "</div>"
      ],
      "text/plain": [
       "    Emoji Description\n",
       "0       🤣         444\n",
       "1       👍         158\n",
       "2       😂         134\n",
       "3       ♂         105\n",
       "4       🤦          85\n",
       "..    ...         ...\n",
       "115     😴           1\n",
       "116     🫴           1\n",
       "117     🌇           1\n",
       "118     🏢           1\n",
       "119     😻           1\n",
       "\n",
       "[120 rows x 2 columns]"
      ]
     },
     "execution_count": 63,
     "metadata": {},
     "output_type": "execute_result"
    }
   ],
   "source": [
    "emoji_dict"
   ]
  },
  {
   "cell_type": "markdown",
   "metadata": {},
   "source": [
    "## Изменение каждой записи"
   ]
  },
  {
   "cell_type": "markdown",
   "metadata": {},
   "source": [
    "### Для формирования ассоциаций использовал ChatGPT"
   ]
  },
  {
   "cell_type": "code",
   "execution_count": 64,
   "metadata": {},
   "outputs": [
    {
     "data": {
      "text/plain": [
       "Emoji            🤣\n",
       "Description    444\n",
       "Name: 0, dtype: object"
      ]
     },
     "execution_count": 64,
     "metadata": {},
     "output_type": "execute_result"
    }
   ],
   "source": [
    "emoji_dict.loc[0]"
   ]
  },
  {
   "cell_type": "code",
   "execution_count": 65,
   "metadata": {},
   "outputs": [],
   "source": [
    "emoji_dict.loc[0]['Description'] = ['смешно', 'усморительно', 'ржачно', 'угарно', 'умора']"
   ]
  },
  {
   "cell_type": "code",
   "execution_count": 66,
   "metadata": {},
   "outputs": [
    {
     "data": {
      "text/html": [
       "<div>\n",
       "<style scoped>\n",
       "    .dataframe tbody tr th:only-of-type {\n",
       "        vertical-align: middle;\n",
       "    }\n",
       "\n",
       "    .dataframe tbody tr th {\n",
       "        vertical-align: top;\n",
       "    }\n",
       "\n",
       "    .dataframe thead th {\n",
       "        text-align: right;\n",
       "    }\n",
       "</style>\n",
       "<table border=\"1\" class=\"dataframe\">\n",
       "  <thead>\n",
       "    <tr style=\"text-align: right;\">\n",
       "      <th></th>\n",
       "      <th>Emoji</th>\n",
       "      <th>Description</th>\n",
       "    </tr>\n",
       "  </thead>\n",
       "  <tbody>\n",
       "    <tr>\n",
       "      <th>0</th>\n",
       "      <td>🤣</td>\n",
       "      <td>[смешно, усморительно, ржачно, угарно, умора]</td>\n",
       "    </tr>\n",
       "    <tr>\n",
       "      <th>1</th>\n",
       "      <td>👍</td>\n",
       "      <td>158</td>\n",
       "    </tr>\n",
       "    <tr>\n",
       "      <th>2</th>\n",
       "      <td>😂</td>\n",
       "      <td>134</td>\n",
       "    </tr>\n",
       "    <tr>\n",
       "      <th>3</th>\n",
       "      <td>♂</td>\n",
       "      <td>105</td>\n",
       "    </tr>\n",
       "    <tr>\n",
       "      <th>4</th>\n",
       "      <td>🤦</td>\n",
       "      <td>85</td>\n",
       "    </tr>\n",
       "    <tr>\n",
       "      <th>...</th>\n",
       "      <td>...</td>\n",
       "      <td>...</td>\n",
       "    </tr>\n",
       "    <tr>\n",
       "      <th>115</th>\n",
       "      <td>😴</td>\n",
       "      <td>1</td>\n",
       "    </tr>\n",
       "    <tr>\n",
       "      <th>116</th>\n",
       "      <td>🫴</td>\n",
       "      <td>1</td>\n",
       "    </tr>\n",
       "    <tr>\n",
       "      <th>117</th>\n",
       "      <td>🌇</td>\n",
       "      <td>1</td>\n",
       "    </tr>\n",
       "    <tr>\n",
       "      <th>118</th>\n",
       "      <td>🏢</td>\n",
       "      <td>1</td>\n",
       "    </tr>\n",
       "    <tr>\n",
       "      <th>119</th>\n",
       "      <td>😻</td>\n",
       "      <td>1</td>\n",
       "    </tr>\n",
       "  </tbody>\n",
       "</table>\n",
       "<p>120 rows × 2 columns</p>\n",
       "</div>"
      ],
      "text/plain": [
       "    Emoji                                    Description\n",
       "0       🤣  [смешно, усморительно, ржачно, угарно, умора]\n",
       "1       👍                                            158\n",
       "2       😂                                            134\n",
       "3       ♂                                            105\n",
       "4       🤦                                             85\n",
       "..    ...                                            ...\n",
       "115     😴                                              1\n",
       "116     🫴                                              1\n",
       "117     🌇                                              1\n",
       "118     🏢                                              1\n",
       "119     😻                                              1\n",
       "\n",
       "[120 rows x 2 columns]"
      ]
     },
     "execution_count": 66,
     "metadata": {},
     "output_type": "execute_result"
    }
   ],
   "source": [
    "emoji_dict"
   ]
  },
  {
   "cell_type": "markdown",
   "metadata": {},
   "source": [
    "## Сохранение в csv"
   ]
  },
  {
   "cell_type": "code",
   "execution_count": 64,
   "metadata": {},
   "outputs": [],
   "source": [
    "emoji_dict.to_csv('emoji_dict.csv', sep=',')"
   ]
  },
  {
   "cell_type": "code",
   "execution_count": null,
   "metadata": {},
   "outputs": [],
   "source": []
  }
 ],
 "metadata": {
  "colab": {
   "authorship_tag": "ABX9TyNpnWlK/GJRVa9bEhpmPi+/",
   "mount_file_id": "1u5OC6zCL24QXleDM5LR_RjkfRuT1CpdD",
   "name": "",
   "toc_visible": true,
   "version": ""
  },
  "kernelspec": {
   "display_name": "Python 3 (ipykernel)",
   "language": "python",
   "name": "python3"
  },
  "language_info": {
   "codemirror_mode": {
    "name": "ipython",
    "version": 3
   },
   "file_extension": ".py",
   "mimetype": "text/x-python",
   "name": "python",
   "nbconvert_exporter": "python",
   "pygments_lexer": "ipython3",
   "version": "3.8.6"
  }
 },
 "nbformat": 4,
 "nbformat_minor": 1
}
