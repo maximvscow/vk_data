{
 "cells": [
  {
   "cell_type": "markdown",
   "id": "d1ad83c7",
   "metadata": {},
   "source": [
    "# Импорт необходимых библиотек"
   ]
  },
  {
   "cell_type": "code",
   "execution_count": 2,
   "id": "520536d8",
   "metadata": {},
   "outputs": [
    {
     "name": "stdout",
     "output_type": "stream",
     "text": [
      "Collecting gensim\n",
      "  Downloading gensim-4.3.1-cp38-cp38-win_amd64.whl (24.0 MB)\n",
      "Requirement already satisfied: emoji in c:\\users\\admin\\appdata\\local\\programs\\python\\python38\\lib\\site-packages (2.2.0)\n",
      "Collecting smart-open>=1.8.1\n",
      "  Downloading smart_open-6.3.0-py3-none-any.whl (56 kB)\n",
      "Collecting scipy>=1.7.0\n",
      "  Downloading scipy-1.10.1-cp38-cp38-win_amd64.whl (42.2 MB)\n",
      "Requirement already satisfied: numpy>=1.18.5 in c:\\users\\admin\\appdata\\local\\programs\\python\\python38\\lib\\site-packages (from gensim) (1.24.2)\n",
      "Installing collected packages: smart-open, scipy, gensim\n",
      "Successfully installed gensim-4.3.1 scipy-1.10.1 smart-open-6.3.0\n"
     ]
    },
    {
     "name": "stderr",
     "output_type": "stream",
     "text": [
      "WARNING: You are using pip version 20.2.1; however, version 23.1 is available.\n",
      "You should consider upgrading via the 'c:\\users\\admin\\appdata\\local\\programs\\python\\python38\\python.exe -m pip install --upgrade pip' command.\n"
     ]
    }
   ],
   "source": [
    "!pip install --proxy 10.0.0.1:3128 gensim emoji"
   ]
  },
  {
   "cell_type": "code",
   "execution_count": 3,
   "id": "4186a31b",
   "metadata": {},
   "outputs": [],
   "source": [
    "import pandas as pd\n",
    "import nltk\n",
    "from nltk.corpus import brown\n",
    "from nltk.tokenize import word_tokenize\n",
    "from nltk.corpus import stopwords\n",
    "import re\n",
    "from gensim.models import Word2Vec as wv\n",
    "from gensim.models import KeyedVectors\n",
    "import pymorphy2\n",
    "from pymorphy2 import MorphAnalyzer\n",
    "import emoji\n",
    "import numpy as np"
   ]
  },
  {
   "cell_type": "code",
   "execution_count": 4,
   "id": "448eda3d",
   "metadata": {},
   "outputs": [
    {
     "name": "stderr",
     "output_type": "stream",
     "text": [
      "[nltk_data] Downloading package stopwords to\n",
      "[nltk_data]     C:\\Users\\Admin\\AppData\\Roaming\\nltk_data...\n",
      "[nltk_data]   Package stopwords is already up-to-date!\n"
     ]
    },
    {
     "data": {
      "text/plain": [
       "True"
      ]
     },
     "execution_count": 4,
     "metadata": {},
     "output_type": "execute_result"
    }
   ],
   "source": [
    "nltk.download('stopwords')"
   ]
  },
  {
   "cell_type": "markdown",
   "id": "a12dafb9",
   "metadata": {},
   "source": [
    "# Датасет ВК"
   ]
  },
  {
   "cell_type": "markdown",
   "id": "ad266e5a",
   "metadata": {},
   "source": [
    "## Загрузка датасета"
   ]
  },
  {
   "cell_type": "code",
   "execution_count": 5,
   "id": "6e527913",
   "metadata": {},
   "outputs": [],
   "source": [
    "colnames = ['comment',]"
   ]
  },
  {
   "cell_type": "code",
   "execution_count": 6,
   "id": "cfe3e06b",
   "metadata": {},
   "outputs": [],
   "source": [
    "comments = pd.read_csv('datasets/vk.csv', names=colnames, header=0, sep='\\t')"
   ]
  },
  {
   "cell_type": "code",
   "execution_count": 7,
   "id": "fefddfcb",
   "metadata": {},
   "outputs": [
    {
     "data": {
      "text/html": [
       "<div>\n",
       "<style scoped>\n",
       "    .dataframe tbody tr th:only-of-type {\n",
       "        vertical-align: middle;\n",
       "    }\n",
       "\n",
       "    .dataframe tbody tr th {\n",
       "        vertical-align: top;\n",
       "    }\n",
       "\n",
       "    .dataframe thead th {\n",
       "        text-align: right;\n",
       "    }\n",
       "</style>\n",
       "<table border=\"1\" class=\"dataframe\">\n",
       "  <thead>\n",
       "    <tr style=\"text-align: right;\">\n",
       "      <th></th>\n",
       "      <th>comment</th>\n",
       "    </tr>\n",
       "  </thead>\n",
       "  <tbody>\n",
       "    <tr>\n",
       "      <th>0</th>\n",
       "      <td>['😭']</td>\n",
       "    </tr>\n",
       "    <tr>\n",
       "      <th>1</th>\n",
       "      <td>['хранить', 'господь', 'неравнодушный', 'челов...</td>\n",
       "    </tr>\n",
       "    <tr>\n",
       "      <th>2</th>\n",
       "      <td>['евгений', 'еслиб', 'бог', 'такой', 'допускать']</td>\n",
       "    </tr>\n",
       "    <tr>\n",
       "      <th>3</th>\n",
       "      <td>['кирилл', 'полностью', 'согласный', '😢']</td>\n",
       "    </tr>\n",
       "    <tr>\n",
       "      <th>4</th>\n",
       "      <td>['кирилл', 'бог', 'путь', 'неисповедимый']</td>\n",
       "    </tr>\n",
       "    <tr>\n",
       "      <th>...</th>\n",
       "      <td>...</td>\n",
       "    </tr>\n",
       "    <tr>\n",
       "      <th>50779</th>\n",
       "      <td>['с', 'фамилия', '🙄']</td>\n",
       "    </tr>\n",
       "    <tr>\n",
       "      <th>50780</th>\n",
       "      <td>['наш', 'день', 'повезти', 'мужик', 'фамилия',...</td>\n",
       "    </tr>\n",
       "    <tr>\n",
       "      <th>50781</th>\n",
       "      <td>['чудо', 'чудной', 'диво', 'дивный']</td>\n",
       "    </tr>\n",
       "    <tr>\n",
       "      <th>50782</th>\n",
       "      <td>['пригреться', 'уснуть', 'свариться', 'лягушка...</td>\n",
       "    </tr>\n",
       "    <tr>\n",
       "      <th>50783</th>\n",
       "      <td>['добрый', 'день', 'вполне', 'возможно', 'пере...</td>\n",
       "    </tr>\n",
       "  </tbody>\n",
       "</table>\n",
       "<p>50784 rows × 1 columns</p>\n",
       "</div>"
      ],
      "text/plain": [
       "                                                 comment\n",
       "0                                                  ['😭']\n",
       "1      ['хранить', 'господь', 'неравнодушный', 'челов...\n",
       "2      ['евгений', 'еслиб', 'бог', 'такой', 'допускать']\n",
       "3              ['кирилл', 'полностью', 'согласный', '😢']\n",
       "4             ['кирилл', 'бог', 'путь', 'неисповедимый']\n",
       "...                                                  ...\n",
       "50779                              ['с', 'фамилия', '🙄']\n",
       "50780  ['наш', 'день', 'повезти', 'мужик', 'фамилия',...\n",
       "50781               ['чудо', 'чудной', 'диво', 'дивный']\n",
       "50782  ['пригреться', 'уснуть', 'свариться', 'лягушка...\n",
       "50783  ['добрый', 'день', 'вполне', 'возможно', 'пере...\n",
       "\n",
       "[50784 rows x 1 columns]"
      ]
     },
     "execution_count": 7,
     "metadata": {},
     "output_type": "execute_result"
    }
   ],
   "source": [
    "comments"
   ]
  },
  {
   "cell_type": "markdown",
   "id": "fd144a8f",
   "metadata": {},
   "source": [
    "## Преобразование датасета к формату списка списков для обучения модели w2v"
   ]
  },
  {
   "cell_type": "code",
   "execution_count": 8,
   "id": "b88477f5",
   "metadata": {},
   "outputs": [],
   "source": [
    "def str_to_list(i):\n",
    "    new_list = eval(i)\n",
    "    return new_list"
   ]
  },
  {
   "cell_type": "code",
   "execution_count": 9,
   "id": "ada882b9",
   "metadata": {},
   "outputs": [],
   "source": [
    "comments['comment'] = comments['comment'].apply(str_to_list)"
   ]
  },
  {
   "cell_type": "code",
   "execution_count": 10,
   "id": "3b7c7170",
   "metadata": {},
   "outputs": [],
   "source": [
    "vk_data = comments['comment'].values.tolist()"
   ]
  },
  {
   "cell_type": "code",
   "execution_count": 11,
   "id": "ab6fef7a",
   "metadata": {},
   "outputs": [
    {
     "data": {
      "text/plain": [
       "[['😭'],\n",
       " ['хранить', 'господь', 'неравнодушный', 'человек', '🙏', '🕊'],\n",
       " ['евгений', 'еслиб', 'бог', 'такой', 'допускать'],\n",
       " ['кирилл', 'полностью', 'согласный', '😢'],\n",
       " ['кирилл', 'бог', 'путь', 'неисповедимый']]"
      ]
     },
     "execution_count": 11,
     "metadata": {},
     "output_type": "execute_result"
    }
   ],
   "source": [
    "vk_data[:5]"
   ]
  },
  {
   "cell_type": "markdown",
   "id": "2b632f2f",
   "metadata": {},
   "source": [
    "# Подготовка датасета для анализа тональности  *(дополнительно)* "
   ]
  },
  {
   "cell_type": "code",
   "execution_count": 20,
   "id": "ba8342e0",
   "metadata": {},
   "outputs": [],
   "source": [
    "negative = ['😡', '👿', '😾', '😤', '😠', '🤬', '💀', '☠️']"
   ]
  },
  {
   "cell_type": "code",
   "execution_count": 21,
   "id": "6d609b6e",
   "metadata": {},
   "outputs": [],
   "source": [
    "sarcastic = ['💩', '🤡', '🙃', '🤢', '😈']  # Нужно дополнить"
   ]
  },
  {
   "cell_type": "code",
   "execution_count": 22,
   "id": "1aaced68",
   "metadata": {},
   "outputs": [],
   "source": [
    "positive = ['😀', '😃', '😉']  # Нужно дополнить"
   ]
  },
  {
   "cell_type": "code",
   "execution_count": null,
   "id": "fd9e6cc2",
   "metadata": {},
   "outputs": [],
   "source": []
  }
 ],
 "metadata": {
  "kernelspec": {
   "display_name": "Python 3 (ipykernel)",
   "language": "python",
   "name": "python3"
  },
  "language_info": {
   "codemirror_mode": {
    "name": "ipython",
    "version": 3
   },
   "file_extension": ".py",
   "mimetype": "text/x-python",
   "name": "python",
   "nbconvert_exporter": "python",
   "pygments_lexer": "ipython3",
   "version": "3.8.6"
  }
 },
 "nbformat": 4,
 "nbformat_minor": 5
}
