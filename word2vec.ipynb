{
 "cells": [
  {
   "cell_type": "markdown",
   "id": "d1ad83c7",
   "metadata": {},
   "source": [
    "# Импорт необходимых библиотек"
   ]
  },
  {
   "cell_type": "code",
   "execution_count": 6,
   "id": "520536d8",
   "metadata": {},
   "outputs": [
    {
     "name": "stdout",
     "output_type": "stream",
     "text": [
      "Requirement already satisfied: gensim in c:\\users\\admin\\appdata\\local\\programs\\python\\python38\\lib\\site-packages (4.3.1)\n",
      "Requirement already satisfied: emoji in c:\\users\\admin\\appdata\\local\\programs\\python\\python38\\lib\\site-packages (2.2.0)\n",
      "Requirement already satisfied: pandas in c:\\users\\admin\\appdata\\local\\programs\\python\\python38\\lib\\site-packages (2.0.0)\n",
      "Requirement already satisfied: nltk in c:\\users\\admin\\appdata\\local\\programs\\python\\python38\\lib\\site-packages (3.8.1)\n",
      "Collecting pymorphy2\n",
      "  Downloading pymorphy2-0.9.1-py3-none-any.whl (55 kB)\n",
      "Requirement already satisfied: scipy>=1.7.0 in c:\\users\\admin\\appdata\\local\\programs\\python\\python38\\lib\\site-packages (from gensim) (1.10.1)\n",
      "Requirement already satisfied: numpy>=1.18.5 in c:\\users\\admin\\appdata\\local\\programs\\python\\python38\\lib\\site-packages (from gensim) (1.24.2)\n",
      "Requirement already satisfied: smart-open>=1.8.1 in c:\\users\\admin\\appdata\\local\\programs\\python\\python38\\lib\\site-packages (from gensim) (6.3.0)\n",
      "Requirement already satisfied: pytz>=2020.1 in c:\\users\\admin\\appdata\\local\\programs\\python\\python38\\lib\\site-packages (from pandas) (2023.3)\n",
      "Requirement already satisfied: tzdata>=2022.1 in c:\\users\\admin\\appdata\\local\\programs\\python\\python38\\lib\\site-packages (from pandas) (2023.3)\n",
      "Requirement already satisfied: python-dateutil>=2.8.2 in c:\\users\\admin\\appdata\\local\\programs\\python\\python38\\lib\\site-packages (from pandas) (2.8.2)\n",
      "Requirement already satisfied: joblib in c:\\users\\admin\\appdata\\local\\programs\\python\\python38\\lib\\site-packages (from nltk) (1.2.0)\n",
      "Requirement already satisfied: tqdm in c:\\users\\admin\\appdata\\local\\programs\\python\\python38\\lib\\site-packages (from nltk) (4.65.0)\n",
      "Requirement already satisfied: regex>=2021.8.3 in c:\\users\\admin\\appdata\\local\\programs\\python\\python38\\lib\\site-packages (from nltk) (2023.3.23)\n",
      "Requirement already satisfied: click in c:\\users\\admin\\appdata\\local\\programs\\python\\python38\\lib\\site-packages (from nltk) (8.1.3)\n",
      "Collecting docopt>=0.6\n",
      "  Downloading docopt-0.6.2.tar.gz (25 kB)\n",
      "Collecting pymorphy2-dicts-ru<3.0,>=2.4\n",
      "  Downloading pymorphy2_dicts_ru-2.4.417127.4579844-py2.py3-none-any.whl (8.2 MB)\n",
      "Collecting dawg-python>=0.7.1\n",
      "  Downloading DAWG_Python-0.7.2-py2.py3-none-any.whl (11 kB)\n",
      "Requirement already satisfied: six>=1.5 in c:\\users\\admin\\appdata\\local\\programs\\python\\python38\\lib\\site-packages (from python-dateutil>=2.8.2->pandas) (1.16.0)\n",
      "Requirement already satisfied: colorama; platform_system == \"Windows\" in c:\\users\\admin\\appdata\\local\\programs\\python\\python38\\lib\\site-packages (from tqdm->nltk) (0.4.6)\n",
      "Using legacy 'setup.py install' for docopt, since package 'wheel' is not installed.\n",
      "Installing collected packages: docopt, pymorphy2-dicts-ru, dawg-python, pymorphy2\n",
      "    Running setup.py install for docopt: started\n",
      "    Running setup.py install for docopt: finished with status 'done'\n",
      "Successfully installed dawg-python-0.7.2 docopt-0.6.2 pymorphy2-0.9.1 pymorphy2-dicts-ru-2.4.417127.4579844\n"
     ]
    },
    {
     "name": "stderr",
     "output_type": "stream",
     "text": [
      "WARNING: You are using pip version 20.2.1; however, version 23.1 is available.\n",
      "You should consider upgrading via the 'c:\\users\\admin\\appdata\\local\\programs\\python\\python38\\python.exe -m pip install --upgrade pip' command.\n"
     ]
    }
   ],
   "source": [
    "!pip install --proxy 10.0.0.1:3128 gensim emoji pandas nltk pymorphy2"
   ]
  },
  {
   "cell_type": "code",
   "execution_count": 1,
   "id": "4186a31b",
   "metadata": {},
   "outputs": [],
   "source": [
    "import pandas as pd\n",
    "import nltk\n",
    "from nltk.corpus import brown\n",
    "from nltk.tokenize import word_tokenize\n",
    "from nltk.corpus import stopwords\n",
    "import re\n",
    "from gensim.models import Word2Vec as wv\n",
    "from gensim.models import KeyedVectors\n",
    "import pymorphy2\n",
    "from pymorphy2 import MorphAnalyzer\n",
    "import emoji\n",
    "import numpy as np"
   ]
  },
  {
   "cell_type": "code",
   "execution_count": 2,
   "id": "448eda3d",
   "metadata": {},
   "outputs": [
    {
     "name": "stderr",
     "output_type": "stream",
     "text": [
      "[nltk_data] Downloading package stopwords to\n",
      "[nltk_data]     C:\\Users\\Admin\\AppData\\Roaming\\nltk_data...\n",
      "[nltk_data]   Package stopwords is already up-to-date!\n"
     ]
    },
    {
     "data": {
      "text/plain": [
       "True"
      ]
     },
     "execution_count": 2,
     "metadata": {},
     "output_type": "execute_result"
    }
   ],
   "source": [
    "nltk.download('stopwords')"
   ]
  },
  {
   "cell_type": "code",
   "execution_count": 3,
   "id": "d7ad47d1",
   "metadata": {},
   "outputs": [
    {
     "name": "stderr",
     "output_type": "stream",
     "text": [
      "[nltk_data] Downloading package punkt to\n",
      "[nltk_data]     C:\\Users\\Admin\\AppData\\Roaming\\nltk_data...\n",
      "[nltk_data]   Package punkt is already up-to-date!\n"
     ]
    },
    {
     "data": {
      "text/plain": [
       "True"
      ]
     },
     "execution_count": 3,
     "metadata": {},
     "output_type": "execute_result"
    }
   ],
   "source": [
    "nltk.download('punkt')"
   ]
  },
  {
   "cell_type": "code",
   "execution_count": 4,
   "id": "ad9a9aee",
   "metadata": {},
   "outputs": [
    {
     "name": "stderr",
     "output_type": "stream",
     "text": [
      "[nltk_data] Downloading package averaged_perceptron_tagger to\n",
      "[nltk_data]     C:\\Users\\Admin\\AppData\\Roaming\\nltk_data...\n",
      "[nltk_data]   Package averaged_perceptron_tagger is already up-to-\n",
      "[nltk_data]       date!\n"
     ]
    },
    {
     "data": {
      "text/plain": [
       "True"
      ]
     },
     "execution_count": 4,
     "metadata": {},
     "output_type": "execute_result"
    }
   ],
   "source": [
    "nltk.download('averaged_perceptron_tagger')"
   ]
  },
  {
   "cell_type": "code",
   "execution_count": 5,
   "id": "639e0526",
   "metadata": {},
   "outputs": [
    {
     "name": "stderr",
     "output_type": "stream",
     "text": [
      "[nltk_data] Downloading package averaged_perceptron_tagger_ru to\n",
      "[nltk_data]     C:\\Users\\Admin\\AppData\\Roaming\\nltk_data...\n",
      "[nltk_data]   Package averaged_perceptron_tagger_ru is already up-to-\n",
      "[nltk_data]       date!\n"
     ]
    },
    {
     "data": {
      "text/plain": [
       "True"
      ]
     },
     "execution_count": 5,
     "metadata": {},
     "output_type": "execute_result"
    }
   ],
   "source": [
    "nltk.download('averaged_perceptron_tagger_ru')"
   ]
  },
  {
   "cell_type": "code",
   "execution_count": 6,
   "id": "aafbab5d",
   "metadata": {},
   "outputs": [
    {
     "name": "stderr",
     "output_type": "stream",
     "text": [
      "[nltk_data] Downloading package universal_tagset to\n",
      "[nltk_data]     C:\\Users\\Admin\\AppData\\Roaming\\nltk_data...\n",
      "[nltk_data]   Package universal_tagset is already up-to-date!\n"
     ]
    },
    {
     "data": {
      "text/plain": [
       "True"
      ]
     },
     "execution_count": 6,
     "metadata": {},
     "output_type": "execute_result"
    }
   ],
   "source": [
    "nltk.download('universal_tagset')"
   ]
  },
  {
   "cell_type": "markdown",
   "id": "a12dafb9",
   "metadata": {},
   "source": [
    "# Датасет ВК"
   ]
  },
  {
   "cell_type": "markdown",
   "id": "ad266e5a",
   "metadata": {},
   "source": [
    "## Загрузка датасета"
   ]
  },
  {
   "cell_type": "code",
   "execution_count": 27,
   "id": "6e527913",
   "metadata": {},
   "outputs": [],
   "source": [
    "colnames = ['comment',]"
   ]
  },
  {
   "cell_type": "code",
   "execution_count": 28,
   "id": "cfe3e06b",
   "metadata": {},
   "outputs": [],
   "source": [
    "comments = pd.read_csv('datasets/vk.csv', names=colnames, header=0, sep='\\t')"
   ]
  },
  {
   "cell_type": "code",
   "execution_count": 29,
   "id": "fefddfcb",
   "metadata": {},
   "outputs": [
    {
     "data": {
      "text/html": [
       "<div>\n",
       "<style scoped>\n",
       "    .dataframe tbody tr th:only-of-type {\n",
       "        vertical-align: middle;\n",
       "    }\n",
       "\n",
       "    .dataframe tbody tr th {\n",
       "        vertical-align: top;\n",
       "    }\n",
       "\n",
       "    .dataframe thead th {\n",
       "        text-align: right;\n",
       "    }\n",
       "</style>\n",
       "<table border=\"1\" class=\"dataframe\">\n",
       "  <thead>\n",
       "    <tr style=\"text-align: right;\">\n",
       "      <th></th>\n",
       "      <th>comment</th>\n",
       "    </tr>\n",
       "  </thead>\n",
       "  <tbody>\n",
       "    <tr>\n",
       "      <th>0</th>\n",
       "      <td>['😭']</td>\n",
       "    </tr>\n",
       "    <tr>\n",
       "      <th>1</th>\n",
       "      <td>['хранить', 'господь', 'неравнодушный', 'челов...</td>\n",
       "    </tr>\n",
       "    <tr>\n",
       "      <th>2</th>\n",
       "      <td>['евгений', 'еслиб', 'бог', 'такой', 'допускать']</td>\n",
       "    </tr>\n",
       "    <tr>\n",
       "      <th>3</th>\n",
       "      <td>['кирилл', 'полностью', 'согласный', '😢']</td>\n",
       "    </tr>\n",
       "    <tr>\n",
       "      <th>4</th>\n",
       "      <td>['кирилл', 'бог', 'путь', 'неисповедимый']</td>\n",
       "    </tr>\n",
       "    <tr>\n",
       "      <th>...</th>\n",
       "      <td>...</td>\n",
       "    </tr>\n",
       "    <tr>\n",
       "      <th>50779</th>\n",
       "      <td>['с', 'фамилия', '🙄']</td>\n",
       "    </tr>\n",
       "    <tr>\n",
       "      <th>50780</th>\n",
       "      <td>['наш', 'день', 'повезти', 'мужик', 'фамилия',...</td>\n",
       "    </tr>\n",
       "    <tr>\n",
       "      <th>50781</th>\n",
       "      <td>['чудо', 'чудной', 'диво', 'дивный']</td>\n",
       "    </tr>\n",
       "    <tr>\n",
       "      <th>50782</th>\n",
       "      <td>['пригреться', 'уснуть', 'свариться', 'лягушка...</td>\n",
       "    </tr>\n",
       "    <tr>\n",
       "      <th>50783</th>\n",
       "      <td>['добрый', 'день', 'вполне', 'возможно', 'пере...</td>\n",
       "    </tr>\n",
       "  </tbody>\n",
       "</table>\n",
       "<p>50784 rows × 1 columns</p>\n",
       "</div>"
      ],
      "text/plain": [
       "                                                 comment\n",
       "0                                                  ['😭']\n",
       "1      ['хранить', 'господь', 'неравнодушный', 'челов...\n",
       "2      ['евгений', 'еслиб', 'бог', 'такой', 'допускать']\n",
       "3              ['кирилл', 'полностью', 'согласный', '😢']\n",
       "4             ['кирилл', 'бог', 'путь', 'неисповедимый']\n",
       "...                                                  ...\n",
       "50779                              ['с', 'фамилия', '🙄']\n",
       "50780  ['наш', 'день', 'повезти', 'мужик', 'фамилия',...\n",
       "50781               ['чудо', 'чудной', 'диво', 'дивный']\n",
       "50782  ['пригреться', 'уснуть', 'свариться', 'лягушка...\n",
       "50783  ['добрый', 'день', 'вполне', 'возможно', 'пере...\n",
       "\n",
       "[50784 rows x 1 columns]"
      ]
     },
     "execution_count": 29,
     "metadata": {},
     "output_type": "execute_result"
    }
   ],
   "source": [
    "comments"
   ]
  },
  {
   "cell_type": "code",
   "execution_count": 30,
   "id": "b88477f5",
   "metadata": {},
   "outputs": [],
   "source": [
    "def str_to_list(i):\n",
    "    new_list = eval(i)\n",
    "    return new_list"
   ]
  },
  {
   "cell_type": "code",
   "execution_count": 31,
   "id": "ada882b9",
   "metadata": {},
   "outputs": [],
   "source": [
    "comments['comment'] = comments['comment'].apply(str_to_list)"
   ]
  },
  {
   "cell_type": "markdown",
   "id": "71d6e931",
   "metadata": {},
   "source": [
    "### Выделение эмодзи флагов"
   ]
  },
  {
   "cell_type": "code",
   "execution_count": 32,
   "id": "62152b5e",
   "metadata": {},
   "outputs": [],
   "source": [
    "def split(s):\n",
    "    return[char for char in s]\n",
    "\n",
    "reg_ident = ['🇷', '🇺', '🇦', '🇸', '🇧', '🇨', '🇩', '🇪', '🇫', '🇬', '🇭', '🇮', '🇯', '🇰', '🇱', '🇲', '🇳', '🇴', '🇵', '🇶', '🇸', '🇹', 'v', '🇼', '🇽', '🇾', '🇿']\n",
    "\n",
    "def get_flags(doc):\n",
    "    for item in doc:\n",
    "        new_item = []\n",
    "        for c in split(item):\n",
    "            if c in reg_ident:\n",
    "                if len(new_item) < 2:\n",
    "                    new_item.append(c)\n",
    "        if len(new_item) == 2 and new_item[0] != new_item[1]:\n",
    "            try:\n",
    "                i = doc.index(item)\n",
    "                doc[i] = new_item[0] + new_item[1]\n",
    "            except ValueError:\n",
    "                doc[i] = ''\n",
    "    return doc"
   ]
  },
  {
   "cell_type": "code",
   "execution_count": 33,
   "id": "41647be3",
   "metadata": {},
   "outputs": [],
   "source": [
    "comments['comment'] = comments['comment'].apply(get_flags)"
   ]
  },
  {
   "cell_type": "code",
   "execution_count": 34,
   "id": "fcc0acdd",
   "metadata": {},
   "outputs": [
    {
     "data": {
      "text/html": [
       "<div>\n",
       "<style scoped>\n",
       "    .dataframe tbody tr th:only-of-type {\n",
       "        vertical-align: middle;\n",
       "    }\n",
       "\n",
       "    .dataframe tbody tr th {\n",
       "        vertical-align: top;\n",
       "    }\n",
       "\n",
       "    .dataframe thead th {\n",
       "        text-align: right;\n",
       "    }\n",
       "</style>\n",
       "<table border=\"1\" class=\"dataframe\">\n",
       "  <thead>\n",
       "    <tr style=\"text-align: right;\">\n",
       "      <th></th>\n",
       "      <th>comment</th>\n",
       "    </tr>\n",
       "  </thead>\n",
       "  <tbody>\n",
       "    <tr>\n",
       "      <th>0</th>\n",
       "      <td>[😭]</td>\n",
       "    </tr>\n",
       "    <tr>\n",
       "      <th>1</th>\n",
       "      <td>[хранить, господь, неравнодушный, человек, 🙏, 🕊]</td>\n",
       "    </tr>\n",
       "    <tr>\n",
       "      <th>2</th>\n",
       "      <td>[евгений, еслиб, бог, такой, допускать]</td>\n",
       "    </tr>\n",
       "    <tr>\n",
       "      <th>3</th>\n",
       "      <td>[кирилл, полностью, согласный, 😢]</td>\n",
       "    </tr>\n",
       "    <tr>\n",
       "      <th>4</th>\n",
       "      <td>[кирилл, бог, путь, неисповедимый]</td>\n",
       "    </tr>\n",
       "    <tr>\n",
       "      <th>...</th>\n",
       "      <td>...</td>\n",
       "    </tr>\n",
       "    <tr>\n",
       "      <th>50779</th>\n",
       "      <td>[с, фамилия, 🙄]</td>\n",
       "    </tr>\n",
       "    <tr>\n",
       "      <th>50780</th>\n",
       "      <td>[наш, день, повезти, мужик, фамилия, но, суть,...</td>\n",
       "    </tr>\n",
       "    <tr>\n",
       "      <th>50781</th>\n",
       "      <td>[чудо, чудной, диво, дивный]</td>\n",
       "    </tr>\n",
       "    <tr>\n",
       "      <th>50782</th>\n",
       "      <td>[пригреться, уснуть, свариться, лягушка, так, ...</td>\n",
       "    </tr>\n",
       "    <tr>\n",
       "      <th>50783</th>\n",
       "      <td>[добрый, день, вполне, возможно, перевозчик, з...</td>\n",
       "    </tr>\n",
       "  </tbody>\n",
       "</table>\n",
       "<p>50784 rows × 1 columns</p>\n",
       "</div>"
      ],
      "text/plain": [
       "                                                 comment\n",
       "0                                                    [😭]\n",
       "1       [хранить, господь, неравнодушный, человек, 🙏, 🕊]\n",
       "2                [евгений, еслиб, бог, такой, допускать]\n",
       "3                      [кирилл, полностью, согласный, 😢]\n",
       "4                     [кирилл, бог, путь, неисповедимый]\n",
       "...                                                  ...\n",
       "50779                                    [с, фамилия, 🙄]\n",
       "50780  [наш, день, повезти, мужик, фамилия, но, суть,...\n",
       "50781                       [чудо, чудной, диво, дивный]\n",
       "50782  [пригреться, уснуть, свариться, лягушка, так, ...\n",
       "50783  [добрый, день, вполне, возможно, перевозчик, з...\n",
       "\n",
       "[50784 rows x 1 columns]"
      ]
     },
     "execution_count": 34,
     "metadata": {},
     "output_type": "execute_result"
    }
   ],
   "source": [
    "comments"
   ]
  },
  {
   "cell_type": "markdown",
   "id": "8d560a6f",
   "metadata": {},
   "source": [
    "### Добавление тегов из universal_tagset. Для этого нужно переименовать _taggers/universal_tagset/ru-rnс.map_ в _taggers/universal_tagset/ru-rnc-new.map_"
   ]
  },
  {
   "cell_type": "code",
   "execution_count": 36,
   "id": "52af1375",
   "metadata": {},
   "outputs": [],
   "source": [
    "def tagger(doc):\n",
    "    tagged_tokens = []\n",
    "    try:\n",
    "        tagged_doc = nltk.pos_tag(doc, tagset='universal', lang = 'rus')\n",
    "        for p in tagged_doc:\n",
    "            if emoji.is_emoji(p[0]):\n",
    "                token = p[0] + '_SYM'\n",
    "            else:\n",
    "                token = p[0] + '_' + p[1]\n",
    "            tagged_tokens.append(token)\n",
    "    except KeyError:\n",
    "        print(doc)\n",
    "        print('Тут ошибка формата!!')\n",
    "    return(tagged_tokens)"
   ]
  },
  {
   "cell_type": "code",
   "execution_count": 37,
   "id": "55f82abb",
   "metadata": {},
   "outputs": [],
   "source": [
    "comments_tagged = pd.DataFrame()"
   ]
  },
  {
   "cell_type": "code",
   "execution_count": 39,
   "id": "3fc36ee6",
   "metadata": {},
   "outputs": [
    {
     "name": "stdout",
     "output_type": "stream",
     "text": [
      "['ут', 'чк', 'м', 'ик', 'н', 'ки', 'тны', 'далее', 'м', 'нт', 'так', 'ы', 'ют', 'ук', 'ины', 'ближн', 'г', 'в', 'так', 'кит', 'так', 'л', 'ь', 'зный', 'далее', 'з', 'так', 'ль', 'тв', 'м', 'так', 'г', 'чт', 'к', 'мль', 'н', 'дит', 'п', 'далее', 'лп', 'м', 'п', 'нт', 'г', 'н', 'чт', 'ия', 'так', 'л', 'язвить', 'й', 'вн', 'шни', 'г', 'з', 'эт', 'зн', 'ч', 'так', 'чт', 'н', 'ци', 'н', 'льн', 'б', 'з', 'п', 'н', 'ть', 'ия', 'н', 'дит', 'п', 'далее', 'г', 'з', 'й', 'ия', 'ки', 'вл', 'ти', 'далее', 'лжный', 'п', 'инять', 'чны', 'м', 'ы', 'з', 'щит', 'так', 'ны']\n",
      "Тут ошибка формата!!\n",
      "['ут', 'чк', 'тны', 'далее', 'м', 'нт', 'ющи', 'ук', 'ины', 'ближн', 'г', 'в', 'так', 'кит', 'вид', 'так', 'ль', 'тв', 'так', 'так', 'м', 'чт', 'ия', 'н', 'дит', 'п', 'далее', 'п', 'так', 'льный', 'нт', 'л', 'м', 'м', 'ик', 'н', 'й', 'зв', 'дки', 'далее', 'м', 'нты', 'п', 'нт', 'г', 'н', 'г', 'ят', 'н', 'м', 'так', 'м', 'чт', 'широта', 'зн', 'ют', 'п', 'ия', 'ч', 'нь', 'мн', 'г', 'эт', 'явля', 'так', 'г', 'з', 'й', 'б', 'з', 'п', 'н', 'ти', 'н', 'широта', 'й', 'так', 'ны', 'м', 'ик', 'нцы', 'н', 'н', 'н', 'так', 'льк', 'ют', 'далее', 'так', 'п', 'н', 'шим', 'так', 'м', 'м', 'г', 'так', 'п', 'льз', 'ть', 'инт', 'п', 'мим', 'эт', 'г', 'так', 'чк', 'далее', 'м', 'нт', 'вид', 'так', 'ль', 'тв', 'так', 'так', 'м', 'чт', 'н', 'широта', 'зв', 'дк', 'н', 'бл', 'далее', 'так', 'далее', 'лжный', 'вн', 'м', 'з', 'щит', 'инф', 'м', 'ции', 'чт', 'щ', 'б', 'льш', 'илив', 'так', 'г', 'з', 'н', 'широта', 'й', 'б', 'з', 'п', 'н', 'ти', 'далее', 'й', 'твит', 'льн', 'н', 'широта', 'зв', 'дк', 'далее', 'далее', 'м', 'нты', 'так', 'з', 'ч', 'м', 'лив', 'ть', 'дь', 'м', 'жн', 'п', 'далее', 'так', 'вить', 'п', 'далее', 'г', 'з', 'н', 'ши', 'зв', 'дчик', 'так', 'ы', 'эт', 'далее', 'быв']\n",
      "Тут ошибка формата!!\n",
      "['кт', 'юлия', 'п', 'ильда', 'п', 'лнивш', 'гл', 'вн', 'ю', 'ль', 'фильм', '«', 'ыз', 'в»', 'п', 'изн', 'л', 'ь', 'чт', 'п', 'далее', 'п', 'л', 'так', 'м', 'м', 'п', 'так', 'л', 'ь', 'н', 'л', 'ч', 'й', 'п', 'так', 'широта', 'тви', 'так', 'дин', 'н', 'ц', 'н', 'так', 'вилы', 'з', 'щ', 'ния', 'н', 'пи', 'л', 'п', 'щ', 'лён', 'пи', 'ьм', 'далее', 'ч', 'ям', 'ия', 'нн', 'л', 'дница', 'п', 'иидти', 'н', 'п', 'мь', 'ный', 'п', 'з', 'п', 'й', 'ми', 'кина', 'тина', 'нят', 'й', 'м', 'вм', 'так', 'й', 'зв', 'здн', 'й', 'м', 'м', 'й', 'кт', 'п', 'далее', 'лить', 'ь', 'они', 'п', 'живой', 'ния', 'ъ', 'м', 'чн', 'м', 'п', 'ц', 'з', 'л', 'чт', 'так', 'п', 'жд', 'л', 'н', 'жд', 'м', 'широта', 'г', '«', 'й', 'мый', 'гл', 'вный', 'так', 'н', 'так', 'так', 'шн', 'ида', 'ть', 'так', 'пи', 'ть', 'п', 'щ', 'лён', 'пи', 'ьм', 'далее', 'тям', 'п', 'дпи', 'ыв', 'ть', 'з', 'щ', 'н', 'так', 'б', 'тв', 'нн', 'й', 'й', 'эт', 'так', 'м', 'м', 'нт', 'п', 'шь', 'чт', 'эт', 'н', 'так', 'ящий', 'так', 'п', 'так', 'м', 'чт', 'эт', 'тв', 'й', 'выб', '»', 'п', 'далее', 'лить', 'ь', 'п', 'ильда']\n",
      "Тут ошибка формата!!\n"
     ]
    }
   ],
   "source": [
    "comments_tagged['tokens'] = comments['comment'].apply(tagger)"
   ]
  },
  {
   "cell_type": "code",
   "execution_count": 40,
   "id": "26337826",
   "metadata": {},
   "outputs": [
    {
     "data": {
      "text/html": [
       "<div>\n",
       "<style scoped>\n",
       "    .dataframe tbody tr th:only-of-type {\n",
       "        vertical-align: middle;\n",
       "    }\n",
       "\n",
       "    .dataframe tbody tr th {\n",
       "        vertical-align: top;\n",
       "    }\n",
       "\n",
       "    .dataframe thead th {\n",
       "        text-align: right;\n",
       "    }\n",
       "</style>\n",
       "<table border=\"1\" class=\"dataframe\">\n",
       "  <thead>\n",
       "    <tr style=\"text-align: right;\">\n",
       "      <th></th>\n",
       "      <th>tokens</th>\n",
       "    </tr>\n",
       "  </thead>\n",
       "  <tbody>\n",
       "    <tr>\n",
       "      <th>0</th>\n",
       "      <td>[😭_SYM]</td>\n",
       "    </tr>\n",
       "    <tr>\n",
       "      <th>1</th>\n",
       "      <td>[хранить_VERB, господь_NOUN, неравнодушный_ADJ...</td>\n",
       "    </tr>\n",
       "    <tr>\n",
       "      <th>2</th>\n",
       "      <td>[евгений_ADJ, еслиб_NOUN, бог_NOUN, такой_PRON...</td>\n",
       "    </tr>\n",
       "    <tr>\n",
       "      <th>3</th>\n",
       "      <td>[кирилл_VERB, полностью_ADV, согласный_VERB, 😢...</td>\n",
       "    </tr>\n",
       "    <tr>\n",
       "      <th>4</th>\n",
       "      <td>[кирилл_VERB, бог_NOUN, путь_NOUN, неисповедим...</td>\n",
       "    </tr>\n",
       "    <tr>\n",
       "      <th>...</th>\n",
       "      <td>...</td>\n",
       "    </tr>\n",
       "    <tr>\n",
       "      <th>50779</th>\n",
       "      <td>[с_ADP, фамилия_NOUN, 🙄_SYM]</td>\n",
       "    </tr>\n",
       "    <tr>\n",
       "      <th>50780</th>\n",
       "      <td>[наш_PRON, день_NOUN, повезти_VERB, мужик_NOUN...</td>\n",
       "    </tr>\n",
       "    <tr>\n",
       "      <th>50781</th>\n",
       "      <td>[чудо_NOUN, чудной_ADJ, диво_ADV, дивный_ADJ]</td>\n",
       "    </tr>\n",
       "    <tr>\n",
       "      <th>50782</th>\n",
       "      <td>[пригреться_VERB, уснуть_VERB, свариться_VERB,...</td>\n",
       "    </tr>\n",
       "    <tr>\n",
       "      <th>50783</th>\n",
       "      <td>[добрый_ADJ, день_NOUN, вполне_ADV, возможно_P...</td>\n",
       "    </tr>\n",
       "  </tbody>\n",
       "</table>\n",
       "<p>50784 rows × 1 columns</p>\n",
       "</div>"
      ],
      "text/plain": [
       "                                                  tokens\n",
       "0                                                [😭_SYM]\n",
       "1      [хранить_VERB, господь_NOUN, неравнодушный_ADJ...\n",
       "2      [евгений_ADJ, еслиб_NOUN, бог_NOUN, такой_PRON...\n",
       "3      [кирилл_VERB, полностью_ADV, согласный_VERB, 😢...\n",
       "4      [кирилл_VERB, бог_NOUN, путь_NOUN, неисповедим...\n",
       "...                                                  ...\n",
       "50779                       [с_ADP, фамилия_NOUN, 🙄_SYM]\n",
       "50780  [наш_PRON, день_NOUN, повезти_VERB, мужик_NOUN...\n",
       "50781      [чудо_NOUN, чудной_ADJ, диво_ADV, дивный_ADJ]\n",
       "50782  [пригреться_VERB, уснуть_VERB, свариться_VERB,...\n",
       "50783  [добрый_ADJ, день_NOUN, вполне_ADV, возможно_P...\n",
       "\n",
       "[50784 rows x 1 columns]"
      ]
     },
     "execution_count": 40,
     "metadata": {},
     "output_type": "execute_result"
    }
   ],
   "source": [
    "comments_tagged"
   ]
  },
  {
   "cell_type": "markdown",
   "id": "7253a9d8",
   "metadata": {},
   "source": [
    "### Формирование списка списков"
   ]
  },
  {
   "cell_type": "code",
   "execution_count": 10,
   "id": "3b7c7170",
   "metadata": {},
   "outputs": [],
   "source": [
    "vk_data = comments['comment'].values.tolist()"
   ]
  },
  {
   "cell_type": "code",
   "execution_count": 11,
   "id": "ab6fef7a",
   "metadata": {},
   "outputs": [
    {
     "data": {
      "text/plain": [
       "[['😭'],\n",
       " ['хранить', 'господь', 'неравнодушный', 'человек', '🙏', '🕊'],\n",
       " ['евгений', 'еслиб', 'бог', 'такой', 'допускать'],\n",
       " ['кирилл', 'полностью', 'согласный', '😢'],\n",
       " ['кирилл', 'бог', 'путь', 'неисповедимый']]"
      ]
     },
     "execution_count": 11,
     "metadata": {},
     "output_type": "execute_result"
    }
   ],
   "source": [
    "vk_data[:5]"
   ]
  },
  {
   "cell_type": "markdown",
   "id": "0805e032",
   "metadata": {},
   "source": [
    "# Модель Word2Vec"
   ]
  },
  {
   "cell_type": "markdown",
   "id": "b8a7bd42",
   "metadata": {},
   "source": [
    "## Инициализация готовой модели *()*"
   ]
  },
  {
   "cell_type": "markdown",
   "id": "2b632f2f",
   "metadata": {},
   "source": [
    "# Подготовка датасета для анализа тональности  *(дополнительно)* "
   ]
  },
  {
   "cell_type": "code",
   "execution_count": 20,
   "id": "ba8342e0",
   "metadata": {},
   "outputs": [],
   "source": [
    "negative = ['😡', '👿', '😾', '😤', '😠', '🤬', '💀', '☠️']"
   ]
  },
  {
   "cell_type": "code",
   "execution_count": 21,
   "id": "6d609b6e",
   "metadata": {},
   "outputs": [],
   "source": [
    "sarcastic = ['💩', '🤡', '🙃', '🤢', '😈']  # Нужно дополнить"
   ]
  },
  {
   "cell_type": "code",
   "execution_count": 22,
   "id": "1aaced68",
   "metadata": {},
   "outputs": [],
   "source": [
    "positive = ['😀', '😃', '😉']  # Нужно дополнить"
   ]
  },
  {
   "cell_type": "code",
   "execution_count": null,
   "id": "fd9e6cc2",
   "metadata": {},
   "outputs": [],
   "source": []
  }
 ],
 "metadata": {
  "kernelspec": {
   "display_name": "Python 3 (ipykernel)",
   "language": "python",
   "name": "python3"
  },
  "language_info": {
   "codemirror_mode": {
    "name": "ipython",
    "version": 3
   },
   "file_extension": ".py",
   "mimetype": "text/x-python",
   "name": "python",
   "nbconvert_exporter": "python",
   "pygments_lexer": "ipython3",
   "version": "3.8.6"
  }
 },
 "nbformat": 4,
 "nbformat_minor": 5
}
