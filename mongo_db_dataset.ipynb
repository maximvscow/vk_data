{
 "cells": [
  {
   "cell_type": "markdown",
   "id": "3316ef2b",
   "metadata": {},
   "source": [
    "# Установка и импорт необходимых библиотек"
   ]
  },
  {
   "cell_type": "code",
   "execution_count": 1,
   "id": "e15a1555",
   "metadata": {},
   "outputs": [
    {
     "name": "stdout",
     "output_type": "stream",
     "text": [
      "Collecting nltk\n",
      "  Downloading nltk-3.8.1-py3-none-any.whl (1.5 MB)\n",
      "Collecting gensim\n",
      "  Downloading gensim-4.3.1-cp38-cp38-win_amd64.whl (24.0 MB)\n",
      "Collecting pandas\n",
      "  Downloading pandas-1.5.3-cp38-cp38-win_amd64.whl (11.0 MB)\n",
      "Collecting pymorphy2\n",
      "  Downloading pymorphy2-0.9.1-py3-none-any.whl (55 kB)\n",
      "Requirement already satisfied: emoji in c:\\users\\admin\\appdata\\local\\programs\\python\\python38\\lib\\site-packages (2.2.0)\n",
      "Collecting numpy\n",
      "  Downloading numpy-1.24.2-cp38-cp38-win_amd64.whl (14.9 MB)\n",
      "Collecting joblib\n",
      "  Downloading joblib-1.2.0-py3-none-any.whl (297 kB)\n",
      "Collecting tqdm\n",
      "  Downloading tqdm-4.65.0-py3-none-any.whl (77 kB)\n",
      "Collecting regex>=2021.8.3\n",
      "  Downloading regex-2023.3.23-cp38-cp38-win_amd64.whl (267 kB)\n",
      "Requirement already satisfied: click in c:\\users\\admin\\appdata\\local\\programs\\python\\python38\\lib\\site-packages (from nltk) (8.1.3)\n",
      "Collecting scipy>=1.7.0\n",
      "  Downloading scipy-1.10.1-cp38-cp38-win_amd64.whl (42.2 MB)\n",
      "Collecting smart-open>=1.8.1\n",
      "  Downloading smart_open-6.3.0-py3-none-any.whl (56 kB)\n",
      "Requirement already satisfied: python-dateutil>=2.8.1 in c:\\users\\admin\\appdata\\local\\programs\\python\\python38\\lib\\site-packages (from pandas) (2.8.2)\n",
      "Collecting pytz>=2020.1\n",
      "  Downloading pytz-2023.3-py2.py3-none-any.whl (502 kB)\n",
      "Collecting docopt>=0.6\n",
      "  Downloading docopt-0.6.2.tar.gz (25 kB)\n",
      "Collecting pymorphy2-dicts-ru<3.0,>=2.4\n",
      "  Downloading pymorphy2_dicts_ru-2.4.417127.4579844-py2.py3-none-any.whl (8.2 MB)\n",
      "Collecting dawg-python>=0.7.1\n",
      "  Downloading DAWG_Python-0.7.2-py2.py3-none-any.whl (11 kB)\n",
      "Requirement already satisfied: colorama; platform_system == \"Windows\" in c:\\users\\admin\\appdata\\local\\programs\\python\\python38\\lib\\site-packages (from tqdm->nltk) (0.4.6)\n",
      "Requirement already satisfied: six>=1.5 in c:\\users\\admin\\appdata\\local\\programs\\python\\python38\\lib\\site-packages (from python-dateutil>=2.8.1->pandas) (1.16.0)\n",
      "Using legacy 'setup.py install' for docopt, since package 'wheel' is not installed.\n",
      "Installing collected packages: joblib, tqdm, regex, nltk, numpy, scipy, smart-open, gensim, pytz, pandas, docopt, pymorphy2-dicts-ru, dawg-python, pymorphy2\n",
      "    Running setup.py install for docopt: started\n",
      "    Running setup.py install for docopt: finished with status 'done'\n",
      "Successfully installed dawg-python-0.7.2 docopt-0.6.2 gensim-4.3.1 joblib-1.2.0 nltk-3.8.1 numpy-1.24.2 pandas-1.5.3 pymorphy2-0.9.1 pymorphy2-dicts-ru-2.4.417127.4579844 pytz-2023.3 regex-2023.3.23 scipy-1.10.1 smart-open-6.3.0 tqdm-4.65.0\n"
     ]
    },
    {
     "name": "stderr",
     "output_type": "stream",
     "text": [
      "WARNING: Retrying (Retry(total=4, connect=None, read=None, redirect=None, status=None)) after connection broken by 'ProxyError('Cannot connect to proxy.', timeout('_ssl.c:1107: The handshake operation timed out'))': /simple/nltk/\n",
      "WARNING: Retrying (Retry(total=3, connect=None, read=None, redirect=None, status=None)) after connection broken by 'ProxyError('Cannot connect to proxy.', timeout('_ssl.c:1107: The handshake operation timed out'))': /simple/nltk/\n",
      "WARNING: You are using pip version 20.2.1; however, version 23.0.1 is available.\n",
      "You should consider upgrading via the 'c:\\users\\admin\\appdata\\local\\programs\\python\\python38\\python.exe -m pip install --upgrade pip' command.\n"
     ]
    }
   ],
   "source": [
    "!pip install --proxy 10.0.0.1:3128 nltk gensim pandas pymorphy2 emoji numpy"
   ]
  },
  {
   "cell_type": "code",
   "execution_count": 94,
   "id": "45a9c0ad",
   "metadata": {},
   "outputs": [
    {
     "name": "stderr",
     "output_type": "stream",
     "text": [
      "WARNING: Retrying (Retry(total=4, connect=None, read=None, redirect=None, status=None)) after connection broken by 'ProxyError('Cannot connect to proxy.', timeout('_ssl.c:1107: The handshake operation timed out'))': /simple/matplotlib/\n",
      "WARNING: Retrying (Retry(total=3, connect=None, read=None, redirect=None, status=None)) after connection broken by 'ProxyError('Cannot connect to proxy.', timeout('_ssl.c:1107: The handshake operation timed out'))': /simple/matplotlib/\n",
      "WARNING: Retrying (Retry(total=2, connect=None, read=None, redirect=None, status=None)) after connection broken by 'ProxyError('Cannot connect to proxy.', timeout('_ssl.c:1107: The handshake operation timed out'))': /simple/matplotlib/\n",
      "WARNING: Retrying (Retry(total=1, connect=None, read=None, redirect=None, status=None)) after connection broken by 'ProxyError('Cannot connect to proxy.', timeout('_ssl.c:1107: The handshake operation timed out'))': /simple/matplotlib/\n",
      "WARNING: Retrying (Retry(total=0, connect=None, read=None, redirect=None, status=None)) after connection broken by 'ProxyError('Cannot connect to proxy.', timeout('_ssl.c:1107: The handshake operation timed out'))': /simple/matplotlib/\n",
      "ERROR: Could not find a version that satisfies the requirement matplotlib (from versions: none)\n",
      "ERROR: No matching distribution found for matplotlib\n",
      "WARNING: You are using pip version 20.2.1; however, version 23.0.1 is available.\n",
      "You should consider upgrading via the 'c:\\users\\admin\\appdata\\local\\programs\\python\\python38\\python.exe -m pip install --upgrade pip' command.\n"
     ]
    }
   ],
   "source": [
    "!pip install --proxy 10.0.0.1:3128 matplotlib"
   ]
  },
  {
   "cell_type": "code",
   "execution_count": 128,
   "id": "7b8e0789",
   "metadata": {},
   "outputs": [],
   "source": [
    "import pandas as pd\n",
    "import nltk\n",
    "from nltk.corpus import brown\n",
    "from nltk.tokenize import word_tokenize\n",
    "from nltk.corpus import stopwords\n",
    "import re\n",
    "from gensim.models import Word2Vec as wv\n",
    "from gensim.models import KeyedVectors\n",
    "import pymorphy2\n",
    "from pymorphy2 import MorphAnalyzer\n",
    "import emoji\n",
    "import zipfile\n",
    "import numpy as np\n",
    "from pymongo import MongoClient\n",
    "import json\n",
    "from collections import Counter\n",
    "import matplotlib.pyplot as plt\n",
    "import datetime\n",
    "import time"
   ]
  },
  {
   "cell_type": "code",
   "execution_count": 3,
   "id": "842d9d03",
   "metadata": {},
   "outputs": [
    {
     "name": "stderr",
     "output_type": "stream",
     "text": [
      "[nltk_data] Downloading package stopwords to\n",
      "[nltk_data]     C:\\Users\\Admin\\AppData\\Roaming\\nltk_data...\n",
      "[nltk_data]   Unzipping corpora\\stopwords.zip.\n"
     ]
    },
    {
     "data": {
      "text/plain": [
       "True"
      ]
     },
     "execution_count": 3,
     "metadata": {},
     "output_type": "execute_result"
    }
   ],
   "source": [
    "nltk.download('stopwords')"
   ]
  },
  {
   "cell_type": "code",
   "execution_count": 4,
   "id": "59183565",
   "metadata": {},
   "outputs": [
    {
     "name": "stderr",
     "output_type": "stream",
     "text": [
      "[nltk_data] Downloading package punkt to\n",
      "[nltk_data]     C:\\Users\\Admin\\AppData\\Roaming\\nltk_data...\n",
      "[nltk_data]   Unzipping tokenizers\\punkt.zip.\n"
     ]
    },
    {
     "data": {
      "text/plain": [
       "True"
      ]
     },
     "execution_count": 4,
     "metadata": {},
     "output_type": "execute_result"
    }
   ],
   "source": [
    "nltk.download('punkt')"
   ]
  },
  {
   "cell_type": "code",
   "execution_count": 5,
   "id": "c6f9511a",
   "metadata": {},
   "outputs": [
    {
     "name": "stderr",
     "output_type": "stream",
     "text": [
      "[nltk_data] Downloading package averaged_perceptron_tagger to\n",
      "[nltk_data]     C:\\Users\\Admin\\AppData\\Roaming\\nltk_data...\n",
      "[nltk_data]   Unzipping taggers\\averaged_perceptron_tagger.zip.\n"
     ]
    },
    {
     "data": {
      "text/plain": [
       "True"
      ]
     },
     "execution_count": 5,
     "metadata": {},
     "output_type": "execute_result"
    }
   ],
   "source": [
    "nltk.download('averaged_perceptron_tagger')"
   ]
  },
  {
   "cell_type": "code",
   "execution_count": 6,
   "id": "1fa002b1",
   "metadata": {},
   "outputs": [
    {
     "name": "stderr",
     "output_type": "stream",
     "text": [
      "[nltk_data] Downloading package averaged_perceptron_tagger_ru to\n",
      "[nltk_data]     C:\\Users\\Admin\\AppData\\Roaming\\nltk_data...\n",
      "[nltk_data]   Unzipping taggers\\averaged_perceptron_tagger_ru.zip.\n"
     ]
    },
    {
     "data": {
      "text/plain": [
       "True"
      ]
     },
     "execution_count": 6,
     "metadata": {},
     "output_type": "execute_result"
    }
   ],
   "source": [
    "nltk.download('averaged_perceptron_tagger_ru')"
   ]
  },
  {
   "cell_type": "code",
   "execution_count": 7,
   "id": "15a5c822",
   "metadata": {},
   "outputs": [
    {
     "name": "stderr",
     "output_type": "stream",
     "text": [
      "[nltk_data] Downloading package universal_tagset to\n",
      "[nltk_data]     C:\\Users\\Admin\\AppData\\Roaming\\nltk_data...\n",
      "[nltk_data]   Unzipping taggers\\universal_tagset.zip.\n"
     ]
    },
    {
     "data": {
      "text/plain": [
       "True"
      ]
     },
     "execution_count": 7,
     "metadata": {},
     "output_type": "execute_result"
    }
   ],
   "source": [
    "nltk.download('universal_tagset')"
   ]
  },
  {
   "cell_type": "markdown",
   "id": "3bd05826",
   "metadata": {},
   "source": [
    "# Загрузка датасета из mongo db"
   ]
  },
  {
   "cell_type": "code",
   "execution_count": 9,
   "id": "f6a7b6ee",
   "metadata": {},
   "outputs": [],
   "source": [
    "def get_db_connection(db_server, db_name, collection_name):\n",
    "    client = MongoClient(db_server, 27017)\n",
    "    db = client[db_name]\n",
    "    connection = db[collection_name]\n",
    "    return connection"
   ]
  },
  {
   "cell_type": "code",
   "execution_count": 10,
   "id": "7722d449",
   "metadata": {},
   "outputs": [],
   "source": [
    "connector = get_db_connection('localhost', 'parcer', 'posts')"
   ]
  },
  {
   "cell_type": "code",
   "execution_count": 40,
   "id": "d878e4b2",
   "metadata": {},
   "outputs": [],
   "source": [
    "res = list(connector.find())"
   ]
  },
  {
   "cell_type": "code",
   "execution_count": 54,
   "id": "394bbd11",
   "metadata": {},
   "outputs": [],
   "source": [
    "mongo_data = list()"
   ]
  },
  {
   "cell_type": "code",
   "execution_count": 55,
   "id": "df49ed82",
   "metadata": {},
   "outputs": [],
   "source": [
    "for doc in res:\n",
    "    mongo_data.append(doc['text'])"
   ]
  },
  {
   "cell_type": "code",
   "execution_count": 56,
   "id": "07df625f",
   "metadata": {},
   "outputs": [],
   "source": [
    "mongo_ds = pd.Series(mongo_data, copy=False, dtype=object)"
   ]
  },
  {
   "cell_type": "code",
   "execution_count": 57,
   "id": "70ff4d87",
   "metadata": {},
   "outputs": [
    {
     "data": {
      "text/plain": [
       "0         🌙Спокойной ночи, Барнаул!😴\\n\\nФото:  onetones\n",
       "1     ⚠️ На Павловском тракте сегодня произошло ДТП....\n",
       "2     ⛔️Ограничено движение для всех видов транспорт...\n",
       "3     ⚠️Утро понедельника добрым не бывает. \\n\\nЕхал...\n",
       "4     ⚠️ Дом на проспекте Ленина, 133 решили рассели...\n",
       "                            ...                        \n",
       "82    Как отдохнуть дешевле? 🤔⠀\\n⠀⠀\\nПодпишитесь на ...\n",
       "83    ⚠️ Спасение у Четырёх братьев \\n\\nИ вновь спас...\n",
       "84    🙏 Пост благодарности\\n\\n- Хочу выразить огромн...\n",
       "85    🌿 Весна основательно пришла на заповедные бере...\n",
       "86       ☀️Доброе утро, Барнаул! Сегодня днем +13...+15\n",
       "Length: 87, dtype: object"
      ]
     },
     "execution_count": 57,
     "metadata": {},
     "output_type": "execute_result"
    }
   ],
   "source": [
    "mongo_ds"
   ]
  },
  {
   "cell_type": "code",
   "execution_count": 137,
   "id": "f8797b0e",
   "metadata": {},
   "outputs": [],
   "source": [
    "posts_count = mongo_ds.count()"
   ]
  },
  {
   "cell_type": "code",
   "execution_count": 59,
   "id": "d7ad9e3b",
   "metadata": {},
   "outputs": [],
   "source": [
    "mongo_comments = list()"
   ]
  },
  {
   "cell_type": "code",
   "execution_count": 61,
   "id": "6bf6cb8c",
   "metadata": {},
   "outputs": [],
   "source": [
    "for doc in res:\n",
    "    for comment in doc['comments']:\n",
    "        mongo_comments.append(comment['text'])"
   ]
  },
  {
   "cell_type": "code",
   "execution_count": 63,
   "id": "616ab229",
   "metadata": {},
   "outputs": [],
   "source": [
    "comments_ds = pd.Series(mongo_comments, copy=False, dtype=object)"
   ]
  },
  {
   "cell_type": "code",
   "execution_count": 64,
   "id": "ca823464",
   "metadata": {},
   "outputs": [
    {
     "data": {
      "text/plain": [
       "0                                                  Дубай?\n",
       "1                           [id304160659|Боб], Барнаулай.\n",
       "2                       Это Ковш??? Его хотят засыпать???\n",
       "3                                  [id87386708|Елена], да\n",
       "4       Какая красота😁\\nИ еще хотят его засыпать, его ...\n",
       "                              ...                        \n",
       "1432         Это где это +13, +15  на каких югах Барнаула\n",
       "1433                                                     \n",
       "1434                                                     \n",
       "1435              Доброе утро, Алтай! Хорошего дня всем!✌\n",
       "1436                                                  🌸🌸🌸\n",
       "Length: 1437, dtype: object"
      ]
     },
     "execution_count": 64,
     "metadata": {},
     "output_type": "execute_result"
    }
   ],
   "source": [
    "comments_ds"
   ]
  },
  {
   "cell_type": "code",
   "execution_count": 138,
   "id": "1ea60889",
   "metadata": {},
   "outputs": [],
   "source": [
    "comments_count = comments_ds.count()"
   ]
  },
  {
   "cell_type": "code",
   "execution_count": 65,
   "id": "87b1e237",
   "metadata": {},
   "outputs": [],
   "source": [
    "all_data = pd.concat([comments_ds, mongo_ds], ignore_index=True)"
   ]
  },
  {
   "cell_type": "code",
   "execution_count": 81,
   "id": "db090d4a",
   "metadata": {},
   "outputs": [],
   "source": [
    "reserved_data = pd.concat([comments_ds, mongo_ds], ignore_index=True)"
   ]
  },
  {
   "cell_type": "code",
   "execution_count": 66,
   "id": "46bb5366",
   "metadata": {},
   "outputs": [
    {
     "data": {
      "text/plain": [
       "0                                                  Дубай?\n",
       "1                           [id304160659|Боб], Барнаулай.\n",
       "2                       Это Ковш??? Его хотят засыпать???\n",
       "3                                  [id87386708|Елена], да\n",
       "4       Какая красота😁\\nИ еще хотят его засыпать, его ...\n",
       "                              ...                        \n",
       "1519    Как отдохнуть дешевле? 🤔⠀\\n⠀⠀\\nПодпишитесь на ...\n",
       "1520    ⚠️ Спасение у Четырёх братьев \\n\\nИ вновь спас...\n",
       "1521    🙏 Пост благодарности\\n\\n- Хочу выразить огромн...\n",
       "1522    🌿 Весна основательно пришла на заповедные бере...\n",
       "1523       ☀️Доброе утро, Барнаул! Сегодня днем +13...+15\n",
       "Length: 1524, dtype: object"
      ]
     },
     "execution_count": 66,
     "metadata": {},
     "output_type": "execute_result"
    }
   ],
   "source": [
    "all_data"
   ]
  },
  {
   "cell_type": "code",
   "execution_count": 140,
   "id": "2b15fd60",
   "metadata": {},
   "outputs": [],
   "source": [
    "comments_avg = comments_count/posts_count"
   ]
  },
  {
   "cell_type": "code",
   "execution_count": 141,
   "id": "f77366a7",
   "metadata": {},
   "outputs": [],
   "source": [
    "comments_rounded = round(comments_avg, 1)"
   ]
  },
  {
   "cell_type": "code",
   "execution_count": 142,
   "id": "4f676a5c",
   "metadata": {},
   "outputs": [
    {
     "data": {
      "text/plain": [
       "16.5"
      ]
     },
     "execution_count": 142,
     "metadata": {},
     "output_type": "execute_result"
    }
   ],
   "source": [
    "comments_rounded "
   ]
  },
  {
   "cell_type": "markdown",
   "id": "4eca5053",
   "metadata": {},
   "source": [
    "# Предобработка сообщений социальной сети"
   ]
  },
  {
   "cell_type": "code",
   "execution_count": 67,
   "id": "1661efe4",
   "metadata": {},
   "outputs": [],
   "source": [
    "patterns = \"[A-Za-z0-9!#$%&'()*+,./:;<=>?@[\\]^_`{|}~—\\\"\\-]+\"\n",
    "stopwords_ru = stopwords.words(\"russian\")\n",
    "morph = MorphAnalyzer()\n",
    "\n",
    "def lemmatize(doc):\n",
    "    doc = re.sub(patterns, ' ', str(doc))\n",
    "    for c in str(doc):\n",
    "      if emoji.is_emoji(c):\n",
    "          i = doc.index(c)\n",
    "          doc = doc[:i] + doc[i:]\n",
    "    tokens = []\n",
    "    for token in doc.split():\n",
    "        if token and token not in stopwords_ru:\n",
    "            token = token.strip()\n",
    "            token = morph.normal_forms(token)[0]\n",
    "            tokens.append(token)\n",
    "        elif emoji.is_emoji(token):\n",
    "            tokens.append(token)\n",
    "    return tokens"
   ]
  },
  {
   "cell_type": "code",
   "execution_count": 68,
   "id": "7be295a3",
   "metadata": {},
   "outputs": [],
   "source": [
    "all_data = all_data.apply(lemmatize)"
   ]
  },
  {
   "cell_type": "code",
   "execution_count": 69,
   "id": "2476f468",
   "metadata": {},
   "outputs": [],
   "source": [
    "all_data = all_data.dropna()"
   ]
  },
  {
   "cell_type": "code",
   "execution_count": 70,
   "id": "2c943f4d",
   "metadata": {},
   "outputs": [
    {
     "data": {
      "text/plain": [
       "0                                                 [дубай]\n",
       "1                                        [боб, барнаулай]\n",
       "2                       [это, ковш, он, хотеть, засыпать]\n",
       "3                                                 [елена]\n",
       "4       [какой, красота😁, и, хотеть, засыпать, нужно, ...\n",
       "                              ...                        \n",
       "1519    [как, отдохнуть, дешёвый, 🤔⠀, ⠀⠀, подписаться,...\n",
       "1520    [⚠️, спасение, четыре, брат, и, вновь, спасате...\n",
       "1521    [🙏, пост, благодарность, хотеть, выразить, огр...\n",
       "1522    [🌿, весна, основательно, прийти, заповедный, б...\n",
       "1523             [☀️добрый, утро, барнаул, сегодня, день]\n",
       "Length: 1524, dtype: object"
      ]
     },
     "execution_count": 70,
     "metadata": {},
     "output_type": "execute_result"
    }
   ],
   "source": [
    "all_data"
   ]
  },
  {
   "cell_type": "markdown",
   "id": "5811c873",
   "metadata": {},
   "source": [
    "# Статистика использования СГИ в сообщениях соц сети "
   ]
  },
  {
   "cell_type": "code",
   "execution_count": 73,
   "id": "358ec6fe",
   "metadata": {},
   "outputs": [],
   "source": [
    "total = all_data.count()"
   ]
  },
  {
   "cell_type": "code",
   "execution_count": 74,
   "id": "17db2aa8",
   "metadata": {},
   "outputs": [
    {
     "data": {
      "text/plain": [
       "1524"
      ]
     },
     "execution_count": 74,
     "metadata": {},
     "output_type": "execute_result"
    }
   ],
   "source": [
    "total"
   ]
  },
  {
   "cell_type": "code",
   "execution_count": 75,
   "id": "93ea63d8",
   "metadata": {},
   "outputs": [],
   "source": [
    "def split(s):\n",
    "    return [char for char in s]\n",
    "\n",
    "\n",
    "def check(comment):\n",
    "    flag=0\n",
    "    for item in comment:\n",
    "        for c in split(item):\n",
    "            if emoji.is_emoji(c):\n",
    "                flag+=1\n",
    "    if flag > 0:\n",
    "        return(comment)\n",
    "    return None "
   ]
  },
  {
   "cell_type": "code",
   "execution_count": 76,
   "id": "3522662f",
   "metadata": {},
   "outputs": [],
   "source": [
    "all_data = all_data.apply(check)"
   ]
  },
  {
   "cell_type": "code",
   "execution_count": 77,
   "id": "ae130ba0",
   "metadata": {},
   "outputs": [],
   "source": [
    "all_data = all_data.dropna()"
   ]
  },
  {
   "cell_type": "code",
   "execution_count": 78,
   "id": "9df12b74",
   "metadata": {},
   "outputs": [
    {
     "data": {
      "text/plain": [
       "4       [какой, красота😁, и, хотеть, засыпать, нужно, ...\n",
       "6       [антон, приложить, усилие, улучшение, кошка, д...\n",
       "9       [перепутать, газ, тормозом😂, трезвый, ездить, ...\n",
       "10      [владислав, ещё, выступать, начать, судить, фо...\n",
       "13      [жек, красавчик, борцуха, 😂☝️, когда, суета, н...\n",
       "                              ...                        \n",
       "1519    [как, отдохнуть, дешёвый, 🤔⠀, ⠀⠀, подписаться,...\n",
       "1520    [⚠️, спасение, четыре, брат, и, вновь, спасате...\n",
       "1521    [🙏, пост, благодарность, хотеть, выразить, огр...\n",
       "1522    [🌿, весна, основательно, прийти, заповедный, б...\n",
       "1523             [☀️добрый, утро, барнаул, сегодня, день]\n",
       "Length: 332, dtype: object"
      ]
     },
     "execution_count": 78,
     "metadata": {},
     "output_type": "execute_result"
    }
   ],
   "source": [
    "all_data"
   ]
  },
  {
   "cell_type": "code",
   "execution_count": 79,
   "id": "564370ab",
   "metadata": {},
   "outputs": [
    {
     "data": {
      "text/plain": [
       "332"
      ]
     },
     "execution_count": 79,
     "metadata": {},
     "output_type": "execute_result"
    }
   ],
   "source": [
    "all_data.count()"
   ]
  },
  {
   "cell_type": "code",
   "execution_count": 80,
   "id": "7009d7fe",
   "metadata": {},
   "outputs": [
    {
     "data": {
      "text/plain": [
       "0.2178477690288714"
      ]
     },
     "execution_count": 80,
     "metadata": {},
     "output_type": "execute_result"
    }
   ],
   "source": [
    "all_data.count()/total"
   ]
  },
  {
   "cell_type": "markdown",
   "id": "9dcc674d",
   "metadata": {},
   "source": [
    "# График по количеству публикаций в день "
   ]
  },
  {
   "cell_type": "code",
   "execution_count": 83,
   "id": "f9b8636b",
   "metadata": {},
   "outputs": [
    {
     "data": {
      "text/plain": [
       "{'_id': ObjectId('64268222eddd3948046724a5'),\n",
       " 'public': 'https://vk.com/barneos22',\n",
       " 'id': 7339263,\n",
       " 'date': '28/03/2023',\n",
       " 'text': '🌙Спокойной ночи, Барнаул!😴\\n\\nФото:  onetones',\n",
       " 'comments': [{'user': 304160659, 'text': 'Дубай?'},\n",
       "  {'user': 174754608, 'text': '[id304160659|Боб], Барнаулай.'},\n",
       "  {'user': 87386708, 'text': 'Это Ковш??? Его хотят засыпать???'},\n",
       "  {'user': 38382358, 'text': '[id87386708|Елена], да'},\n",
       "  {'user': 398907352,\n",
       "   'text': 'Какая красота😁\\nИ еще хотят его засыпать, его нужно облагородить и дать людям возможность отдыхать, как было запланировано по проекту, набережная с стоянкой маломерных судов.'},\n",
       "  {'user': 134867674,\n",
       "   'text': '[id398907352|Владимир], а пока там дохлые кошки валяются. Отличное место для прогулок.'},\n",
       "  {'user': 398907352,\n",
       "   'text': '[id134867674|Антон], так приложить усилия для улучшения, а кошки дохлые, после зимы много где оттаят😉'},\n",
       "  {'user': 486034143, 'text': 'Когда сделано фото ?'},\n",
       "  {'user': 20826319,\n",
       "   'text': 'да просто вернуть порт,а уже построенное жильё передать речникам,вот будет развитие речного флота!'}]}"
      ]
     },
     "execution_count": 83,
     "metadata": {},
     "output_type": "execute_result"
    }
   ],
   "source": [
    "res[0]"
   ]
  },
  {
   "cell_type": "code",
   "execution_count": 87,
   "id": "576caf2d",
   "metadata": {},
   "outputs": [],
   "source": [
    "date_counter = list()"
   ]
  },
  {
   "cell_type": "code",
   "execution_count": 113,
   "id": "0836b6ba",
   "metadata": {},
   "outputs": [],
   "source": [
    "for doc in res:\n",
    "    date_stamp = int(datetime.datetime.strptime(doc['date'], \"%d/%m/%Y\").timestamp())\n",
    "    date_counter.append(date_stamp)"
   ]
  },
  {
   "cell_type": "code",
   "execution_count": 114,
   "id": "064be209",
   "metadata": {},
   "outputs": [],
   "source": [
    "cnt = Counter(date_counter)"
   ]
  },
  {
   "cell_type": "code",
   "execution_count": 116,
   "id": "0ebc0175",
   "metadata": {},
   "outputs": [
    {
     "data": {
      "text/plain": [
       "Counter({1679950800: 30, 1680123600: 68, 1680037200: 76})"
      ]
     },
     "execution_count": 116,
     "metadata": {},
     "output_type": "execute_result"
    }
   ],
   "source": [
    "cnt"
   ]
  },
  {
   "cell_type": "code",
   "execution_count": 121,
   "id": "afa78cd8",
   "metadata": {},
   "outputs": [],
   "source": [
    "counter_dict = dict(cnt)"
   ]
  },
  {
   "cell_type": "code",
   "execution_count": 124,
   "id": "ed3a7f91",
   "metadata": {},
   "outputs": [
    {
     "data": {
      "text/plain": [
       "{1679950800: 30, 1680123600: 68, 1680037200: 76}"
      ]
     },
     "execution_count": 124,
     "metadata": {},
     "output_type": "execute_result"
    }
   ],
   "source": [
    "counter_dict "
   ]
  },
  {
   "cell_type": "code",
   "execution_count": 122,
   "id": "4a4310fc",
   "metadata": {},
   "outputs": [],
   "source": [
    "sorted_dict = sorted(counter_dict)"
   ]
  },
  {
   "cell_type": "code",
   "execution_count": 123,
   "id": "3f28aa5e",
   "metadata": {},
   "outputs": [],
   "source": [
    "plot_dict = {}"
   ]
  },
  {
   "cell_type": "code",
   "execution_count": 147,
   "id": "352ae275",
   "metadata": {},
   "outputs": [
    {
     "name": "stdout",
     "output_type": "stream",
     "text": [
      "1679950800\n",
      "1680037200\n",
      "1680123600\n"
     ]
    }
   ],
   "source": [
    "for k in sorted_dict:\n",
    "    print(k)\n",
    "    stmp_date = time.gmtime(k + 86400)\n",
    "    readable = time.strftime(\"%d.%m.%Y\", stmp_date)\n",
    "    plot_dict[readable] = counter_dict[k]"
   ]
  },
  {
   "cell_type": "code",
   "execution_count": 148,
   "id": "5a9ed244",
   "metadata": {},
   "outputs": [
    {
     "data": {
      "text/plain": [
       "{'28.03.2023': 30, '29.03.2023': 76, '30.03.2023': 68}"
      ]
     },
     "execution_count": 148,
     "metadata": {},
     "output_type": "execute_result"
    }
   ],
   "source": [
    "plot_dict"
   ]
  },
  {
   "cell_type": "code",
   "execution_count": 149,
   "id": "09d66e39",
   "metadata": {},
   "outputs": [
    {
     "data": {
      "text/plain": [
       "[<matplotlib.lines.Line2D at 0x15ce9a3d0d0>]"
      ]
     },
     "execution_count": 149,
     "metadata": {},
     "output_type": "execute_result"
    },
    {
     "data": {
      "image/png": "[encoded data removed]",
      "text/plain": [
       "<Figure size 1200x700 with 1 Axes>"
      ]
     },
     "metadata": {},
     "output_type": "display_data"
    }
   ],
   "source": [
    "x = plot_dict.keys()\n",
    "y = plot_dict.values()\n",
    "\n",
    "plt.figure(figsize=(12, 7))\n",
    "plt.plot(x, y, 'o-r', alpha=0.7, label=\"first\", lw=5, mec='b', mew=2, ms=10)"
   ]
  },
  {
   "cell_type": "code",
   "execution_count": null,
   "id": "e865fedd",
   "metadata": {},
   "outputs": [],
   "source": []
  }
 ],
 "metadata": {
  "kernelspec": {
   "display_name": "Python 3 (ipykernel)",
   "language": "python",
   "name": "python3"
  },
  "language_info": {
   "codemirror_mode": {
    "name": "ipython",
    "version": 3
   },
   "file_extension": ".py",
   "mimetype": "text/x-python",
   "name": "python",
   "nbconvert_exporter": "python",
   "pygments_lexer": "ipython3",
   "version": "3.8.6"
  }
 },
 "nbformat": 4,
 "nbformat_minor": 5
}
