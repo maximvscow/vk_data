{
 "cells": [
  {
   "cell_type": "markdown",
   "metadata": {
    "id": "BRHHDxJh7Cjb"
   },
   "source": [
    "# Обучение модели Word2Vec на текстовых данных социальной сети VK, содержащих эмодзи"
   ]
  },
  {
   "cell_type": "markdown",
   "metadata": {},
   "source": [
    "### Импорт необходимых библиотек"
   ]
  },
  {
   "cell_type": "code",
   "execution_count": 77,
   "metadata": {
    "executionInfo": {
     "elapsed": 2703,
     "status": "ok",
     "timestamp": 1669725819205,
     "user": {
      "displayName": "Кира Солнышко",
      "userId": "04278268731702245812"
     },
     "user_tz": -180
    },
    "id": "xqfs3Y9Kkbdp"
   },
   "outputs": [],
   "source": [
    "import pandas as pd\n",
    "import nltk\n",
    "from nltk.corpus import brown\n",
    "from nltk.tokenize import word_tokenize\n",
    "from nltk.corpus import stopwords\n",
    "import re\n",
    "from gensim.models import Word2Vec as wv\n",
    "from gensim.models import KeyedVectors\n",
    "import pymorphy2\n",
    "from pymorphy2 import MorphAnalyzer\n",
    "import emoji\n",
    "import zipfile\n",
    "import numpy as np"
   ]
  },
  {
   "cell_type": "code",
   "execution_count": 3,
   "metadata": {
    "colab": {
     "base_uri": "https://localhost:8080/"
    },
    "executionInfo": {
     "elapsed": 1,
     "status": "ok",
     "timestamp": 1669725821198,
     "user": {
      "displayName": "Кира Солнышко",
      "userId": "04278268731702245812"
     },
     "user_tz": -180
    },
    "id": "tvBUPeJRgSMs",
    "outputId": "64f7ff02-c85e-4c99-cfcd-7f2dd04b141a"
   },
   "outputs": [
    {
     "name": "stderr",
     "output_type": "stream",
     "text": [
      "[nltk_data] Downloading package stopwords to\n",
      "[nltk_data]     C:\\Users\\Admin\\AppData\\Roaming\\nltk_data...\n",
      "[nltk_data]   Unzipping corpora\\stopwords.zip.\n"
     ]
    },
    {
     "data": {
      "text/plain": [
       "True"
      ]
     },
     "execution_count": 3,
     "metadata": {},
     "output_type": "execute_result"
    }
   ],
   "source": [
    "nltk.download('stopwords')"
   ]
  },
  {
   "cell_type": "code",
   "execution_count": 4,
   "metadata": {
    "colab": {
     "base_uri": "https://localhost:8080/"
    },
    "executionInfo": {
     "elapsed": 1630,
     "status": "ok",
     "timestamp": 1669725824827,
     "user": {
      "displayName": "Кира Солнышко",
      "userId": "04278268731702245812"
     },
     "user_tz": -180
    },
    "id": "AFFiFfh5Y6SF",
    "outputId": "a688f47c-7076-4028-f066-3f7d93b97506"
   },
   "outputs": [
    {
     "name": "stderr",
     "output_type": "stream",
     "text": [
      "[nltk_data] Downloading package punkt to\n",
      "[nltk_data]     C:\\Users\\Admin\\AppData\\Roaming\\nltk_data...\n",
      "[nltk_data]   Unzipping tokenizers\\punkt.zip.\n"
     ]
    },
    {
     "data": {
      "text/plain": [
       "True"
      ]
     },
     "execution_count": 4,
     "metadata": {},
     "output_type": "execute_result"
    }
   ],
   "source": [
    "nltk.download('punkt')"
   ]
  },
  {
   "cell_type": "code",
   "execution_count": 5,
   "metadata": {},
   "outputs": [
    {
     "name": "stderr",
     "output_type": "stream",
     "text": [
      "[nltk_data] Downloading package averaged_perceptron_tagger to\n",
      "[nltk_data]     C:\\Users\\Admin\\AppData\\Roaming\\nltk_data...\n",
      "[nltk_data]   Unzipping taggers\\averaged_perceptron_tagger.zip.\n"
     ]
    },
    {
     "data": {
      "text/plain": [
       "True"
      ]
     },
     "execution_count": 5,
     "metadata": {},
     "output_type": "execute_result"
    }
   ],
   "source": [
    "nltk.download('averaged_perceptron_tagger')"
   ]
  },
  {
   "cell_type": "code",
   "execution_count": 7,
   "metadata": {},
   "outputs": [
    {
     "name": "stderr",
     "output_type": "stream",
     "text": [
      "[nltk_data] Downloading package averaged_perceptron_tagger_ru to\n",
      "[nltk_data]     C:\\Users\\Admin\\AppData\\Roaming\\nltk_data...\n",
      "[nltk_data]   Unzipping taggers\\averaged_perceptron_tagger_ru.zip.\n"
     ]
    },
    {
     "data": {
      "text/plain": [
       "True"
      ]
     },
     "execution_count": 7,
     "metadata": {},
     "output_type": "execute_result"
    }
   ],
   "source": [
    "nltk.download('averaged_perceptron_tagger_ru')"
   ]
  },
  {
   "cell_type": "code",
   "execution_count": 26,
   "metadata": {},
   "outputs": [
    {
     "name": "stderr",
     "output_type": "stream",
     "text": [
      "[nltk_data] Downloading package universal_tagset to\n",
      "[nltk_data]     C:\\Users\\Admin\\AppData\\Roaming\\nltk_data...\n",
      "[nltk_data]   Package universal_tagset is already up-to-date!\n"
     ]
    },
    {
     "data": {
      "text/plain": [
       "True"
      ]
     },
     "execution_count": 26,
     "metadata": {},
     "output_type": "execute_result"
    }
   ],
   "source": [
    "nltk.download('universal_tagset')"
   ]
  },
  {
   "cell_type": "markdown",
   "metadata": {
    "id": "xiEE9YPmUJ39"
   },
   "source": [
    "### Подготовка датасета со смайликами"
   ]
  },
  {
   "cell_type": "markdown",
   "metadata": {},
   "source": [
    "##### Чтение датасета "
   ]
  },
  {
   "cell_type": "code",
   "execution_count": 33,
   "metadata": {
    "id": "NtXHKgPTnE_z"
   },
   "outputs": [],
   "source": [
    "emojis = pd.read_csv('marking.csv')"
   ]
  },
  {
   "cell_type": "code",
   "execution_count": 34,
   "metadata": {
    "id": "eeq8-AnonTwn"
   },
   "outputs": [],
   "source": [
    "emojis = emojis.drop(columns=['image_id', 'name', 'group', 'sub_group', 'train'])"
   ]
  },
  {
   "cell_type": "code",
   "execution_count": 35,
   "metadata": {
    "colab": {
     "base_uri": "https://localhost:8080/",
     "height": 424
    },
    "executionInfo": {
     "elapsed": 22,
     "status": "ok",
     "timestamp": 1669400417194,
     "user": {
      "displayName": "Кира Солнышко",
      "userId": "04278268731702245812"
     },
     "user_tz": -180
    },
    "id": "y34ochEBn1m3",
    "outputId": "e1950e0f-3536-4dd8-a4d8-2c7b4d48a75c"
   },
   "outputs": [
    {
     "data": {
      "text/html": [
       "<div>\n",
       "<style scoped>\n",
       "    .dataframe tbody tr th:only-of-type {\n",
       "        vertical-align: middle;\n",
       "    }\n",
       "\n",
       "    .dataframe tbody tr th {\n",
       "        vertical-align: top;\n",
       "    }\n",
       "\n",
       "    .dataframe thead th {\n",
       "        text-align: right;\n",
       "    }\n",
       "</style>\n",
       "<table border=\"1\" class=\"dataframe\">\n",
       "  <thead>\n",
       "    <tr style=\"text-align: right;\">\n",
       "      <th></th>\n",
       "      <th>text</th>\n",
       "      <th>emoji</th>\n",
       "    </tr>\n",
       "  </thead>\n",
       "  <tbody>\n",
       "    <tr>\n",
       "      <th>0</th>\n",
       "      <td>Ухмыляющееся лицо</td>\n",
       "      <td>😀</td>\n",
       "    </tr>\n",
       "    <tr>\n",
       "      <th>1</th>\n",
       "      <td>Ухмыляющееся лицо с большими глазами</td>\n",
       "      <td>😃</td>\n",
       "    </tr>\n",
       "    <tr>\n",
       "      <th>2</th>\n",
       "      <td>Улыбающееся лицо с улыбающимися глазами</td>\n",
       "      <td>😄</td>\n",
       "    </tr>\n",
       "    <tr>\n",
       "      <th>3</th>\n",
       "      <td>Сияющее лицо с улыбающимися глазами</td>\n",
       "      <td>😁</td>\n",
       "    </tr>\n",
       "    <tr>\n",
       "      <th>4</th>\n",
       "      <td>Ухмыляющееся щурящееся лицо</td>\n",
       "      <td>😆</td>\n",
       "    </tr>\n",
       "    <tr>\n",
       "      <th>...</th>\n",
       "      <td>...</td>\n",
       "      <td>...</td>\n",
       "    </tr>\n",
       "    <tr>\n",
       "      <th>2744</th>\n",
       "      <td>Флаг: Замбия</td>\n",
       "      <td>🇲🇿</td>\n",
       "    </tr>\n",
       "    <tr>\n",
       "      <th>2745</th>\n",
       "      <td>Флаг: Зимбабве</td>\n",
       "      <td>🇿🇼</td>\n",
       "    </tr>\n",
       "    <tr>\n",
       "      <th>2746</th>\n",
       "      <td>Флаг: Англия</td>\n",
       "      <td>🏴󠁧󠁢󠁥󠁮󠁧󠁿</td>\n",
       "    </tr>\n",
       "    <tr>\n",
       "      <th>2747</th>\n",
       "      <td>Флаг: Шотландия</td>\n",
       "      <td>🏴󠁧󠁢󠁳󠁣󠁴󠁿</td>\n",
       "    </tr>\n",
       "    <tr>\n",
       "      <th>2748</th>\n",
       "      <td>Флаг: Уэльс</td>\n",
       "      <td>🏴󠁧󠁢󠁷󠁬󠁳󠁿</td>\n",
       "    </tr>\n",
       "  </tbody>\n",
       "</table>\n",
       "<p>2749 rows × 2 columns</p>\n",
       "</div>"
      ],
      "text/plain": [
       "                                         text    emoji\n",
       "0                           Ухмыляющееся лицо        😀\n",
       "1        Ухмыляющееся лицо с большими глазами        😃\n",
       "2     Улыбающееся лицо с улыбающимися глазами        😄\n",
       "3         Сияющее лицо с улыбающимися глазами        😁\n",
       "4                 Ухмыляющееся щурящееся лицо        😆\n",
       "...                                       ...      ...\n",
       "2744                             Флаг: Замбия       🇲🇿\n",
       "2745                           Флаг: Зимбабве       🇿🇼\n",
       "2746                             Флаг: Англия  🏴󠁧󠁢󠁥󠁮󠁧󠁿\n",
       "2747                          Флаг: Шотландия  🏴󠁧󠁢󠁳󠁣󠁴󠁿\n",
       "2748                              Флаг: Уэльс  🏴󠁧󠁢󠁷󠁬󠁳󠁿\n",
       "\n",
       "[2749 rows x 2 columns]"
      ]
     },
     "execution_count": 35,
     "metadata": {},
     "output_type": "execute_result"
    }
   ],
   "source": [
    "emojis"
   ]
  },
  {
   "cell_type": "markdown",
   "metadata": {},
   "source": [
    "##### Токенизация описания эмодзи"
   ]
  },
  {
   "cell_type": "code",
   "execution_count": 36,
   "metadata": {
    "id": "2kObsQ_1Wlc8"
   },
   "outputs": [],
   "source": [
    "regular = \"[A-Za-z0-9!#$%&'()*+,./:;<=>?@[\\]^_`{|}~—\\\"\\-]+\"\n",
    "full_tokens = []\n",
    "for text in emojis['text']:\n",
    "  text = re.sub(regular, '', text)\n",
    "  tokens = word_tokenize(text, language='russian')\n",
    "  full_tokens.append(tokens)\n",
    "emojis['tokens'] = full_tokens"
   ]
  },
  {
   "cell_type": "code",
   "execution_count": 37,
   "metadata": {
    "id": "0XiVvQi3Z_nc"
   },
   "outputs": [],
   "source": [
    "emojis= emojis.drop('text', axis = 1)"
   ]
  },
  {
   "cell_type": "code",
   "execution_count": 38,
   "metadata": {
    "colab": {
     "base_uri": "https://localhost:8080/",
     "height": 424
    },
    "executionInfo": {
     "elapsed": 19,
     "status": "ok",
     "timestamp": 1669400426436,
     "user": {
      "displayName": "Кира Солнышко",
      "userId": "04278268731702245812"
     },
     "user_tz": -180
    },
    "id": "LxPgWOtFa50d",
    "outputId": "14e32d48-33fe-453a-e545-33087a3c0c35"
   },
   "outputs": [
    {
     "data": {
      "text/html": [
       "<div>\n",
       "<style scoped>\n",
       "    .dataframe tbody tr th:only-of-type {\n",
       "        vertical-align: middle;\n",
       "    }\n",
       "\n",
       "    .dataframe tbody tr th {\n",
       "        vertical-align: top;\n",
       "    }\n",
       "\n",
       "    .dataframe thead th {\n",
       "        text-align: right;\n",
       "    }\n",
       "</style>\n",
       "<table border=\"1\" class=\"dataframe\">\n",
       "  <thead>\n",
       "    <tr style=\"text-align: right;\">\n",
       "      <th></th>\n",
       "      <th>emoji</th>\n",
       "      <th>tokens</th>\n",
       "    </tr>\n",
       "  </thead>\n",
       "  <tbody>\n",
       "    <tr>\n",
       "      <th>0</th>\n",
       "      <td>😀</td>\n",
       "      <td>[Ухмыляющееся, лицо]</td>\n",
       "    </tr>\n",
       "    <tr>\n",
       "      <th>1</th>\n",
       "      <td>😃</td>\n",
       "      <td>[Ухмыляющееся, лицо, с, большими, глазами]</td>\n",
       "    </tr>\n",
       "    <tr>\n",
       "      <th>2</th>\n",
       "      <td>😄</td>\n",
       "      <td>[Улыбающееся, лицо, с, улыбающимися, глазами]</td>\n",
       "    </tr>\n",
       "    <tr>\n",
       "      <th>3</th>\n",
       "      <td>😁</td>\n",
       "      <td>[Сияющее, лицо, с, улыбающимися, глазами]</td>\n",
       "    </tr>\n",
       "    <tr>\n",
       "      <th>4</th>\n",
       "      <td>😆</td>\n",
       "      <td>[Ухмыляющееся, щурящееся, лицо]</td>\n",
       "    </tr>\n",
       "    <tr>\n",
       "      <th>...</th>\n",
       "      <td>...</td>\n",
       "      <td>...</td>\n",
       "    </tr>\n",
       "    <tr>\n",
       "      <th>2744</th>\n",
       "      <td>🇲🇿</td>\n",
       "      <td>[Флаг, Замбия]</td>\n",
       "    </tr>\n",
       "    <tr>\n",
       "      <th>2745</th>\n",
       "      <td>🇿🇼</td>\n",
       "      <td>[Флаг, Зимбабве]</td>\n",
       "    </tr>\n",
       "    <tr>\n",
       "      <th>2746</th>\n",
       "      <td>🏴󠁧󠁢󠁥󠁮󠁧󠁿</td>\n",
       "      <td>[Флаг, Англия]</td>\n",
       "    </tr>\n",
       "    <tr>\n",
       "      <th>2747</th>\n",
       "      <td>🏴󠁧󠁢󠁳󠁣󠁴󠁿</td>\n",
       "      <td>[Флаг, Шотландия]</td>\n",
       "    </tr>\n",
       "    <tr>\n",
       "      <th>2748</th>\n",
       "      <td>🏴󠁧󠁢󠁷󠁬󠁳󠁿</td>\n",
       "      <td>[Флаг, Уэльс]</td>\n",
       "    </tr>\n",
       "  </tbody>\n",
       "</table>\n",
       "<p>2749 rows × 2 columns</p>\n",
       "</div>"
      ],
      "text/plain": [
       "        emoji                                         tokens\n",
       "0           😀                           [Ухмыляющееся, лицо]\n",
       "1           😃     [Ухмыляющееся, лицо, с, большими, глазами]\n",
       "2           😄  [Улыбающееся, лицо, с, улыбающимися, глазами]\n",
       "3           😁      [Сияющее, лицо, с, улыбающимися, глазами]\n",
       "4           😆                [Ухмыляющееся, щурящееся, лицо]\n",
       "...       ...                                            ...\n",
       "2744       🇲🇿                                 [Флаг, Замбия]\n",
       "2745       🇿🇼                               [Флаг, Зимбабве]\n",
       "2746  🏴󠁧󠁢󠁥󠁮󠁧󠁿                                 [Флаг, Англия]\n",
       "2747  🏴󠁧󠁢󠁳󠁣󠁴󠁿                              [Флаг, Шотландия]\n",
       "2748  🏴󠁧󠁢󠁷󠁬󠁳󠁿                                  [Флаг, Уэльс]\n",
       "\n",
       "[2749 rows x 2 columns]"
      ]
     },
     "execution_count": 38,
     "metadata": {},
     "output_type": "execute_result"
    }
   ],
   "source": [
    "emojis"
   ]
  },
  {
   "cell_type": "markdown",
   "metadata": {},
   "source": [
    "##### Приведение к нормальной форме всех слов в описании"
   ]
  },
  {
   "cell_type": "code",
   "execution_count": 39,
   "metadata": {
    "id": "OEmihHsubf-7"
   },
   "outputs": [],
   "source": [
    "filtered = []\n",
    "morph = pymorphy2.MorphAnalyzer()\n",
    "for tokens in emojis['tokens']:\n",
    "  filtered_tokens = []\n",
    "  for token in tokens:\n",
    "    token = morph.normal_forms(token)[0]\n",
    "    if token not in stopwords.words('russian'):\n",
    "      filtered_tokens.append(token)\n",
    "  filtered.append(filtered_tokens)"
   ]
  },
  {
   "cell_type": "code",
   "execution_count": 40,
   "metadata": {
    "id": "Ppge7AK1hegT"
   },
   "outputs": [],
   "source": [
    "emojis['filtered'] = filtered"
   ]
  },
  {
   "cell_type": "code",
   "execution_count": 41,
   "metadata": {
    "id": "xoGWlKhxiT7S"
   },
   "outputs": [],
   "source": [
    "emojis = emojis.drop('tokens', axis = 1)"
   ]
  },
  {
   "cell_type": "code",
   "execution_count": 42,
   "metadata": {
    "colab": {
     "base_uri": "https://localhost:8080/",
     "height": 424
    },
    "executionInfo": {
     "elapsed": 24,
     "status": "ok",
     "timestamp": 1669400443034,
     "user": {
      "displayName": "Кира Солнышко",
      "userId": "04278268731702245812"
     },
     "user_tz": -180
    },
    "id": "_lu_QRKqiXjZ",
    "outputId": "9d7bb335-7889-4362-ccfe-a7467623363c"
   },
   "outputs": [
    {
     "data": {
      "text/html": [
       "<div>\n",
       "<style scoped>\n",
       "    .dataframe tbody tr th:only-of-type {\n",
       "        vertical-align: middle;\n",
       "    }\n",
       "\n",
       "    .dataframe tbody tr th {\n",
       "        vertical-align: top;\n",
       "    }\n",
       "\n",
       "    .dataframe thead th {\n",
       "        text-align: right;\n",
       "    }\n",
       "</style>\n",
       "<table border=\"1\" class=\"dataframe\">\n",
       "  <thead>\n",
       "    <tr style=\"text-align: right;\">\n",
       "      <th></th>\n",
       "      <th>emoji</th>\n",
       "      <th>filtered</th>\n",
       "    </tr>\n",
       "  </thead>\n",
       "  <tbody>\n",
       "    <tr>\n",
       "      <th>0</th>\n",
       "      <td>😀</td>\n",
       "      <td>[ухмыляться, лицо]</td>\n",
       "    </tr>\n",
       "    <tr>\n",
       "      <th>1</th>\n",
       "      <td>😃</td>\n",
       "      <td>[ухмыляться, лицо, больший, глаз]</td>\n",
       "    </tr>\n",
       "    <tr>\n",
       "      <th>2</th>\n",
       "      <td>😄</td>\n",
       "      <td>[улыбаться, лицо, улыбаться, глаз]</td>\n",
       "    </tr>\n",
       "    <tr>\n",
       "      <th>3</th>\n",
       "      <td>😁</td>\n",
       "      <td>[сиять, лицо, улыбаться, глаз]</td>\n",
       "    </tr>\n",
       "    <tr>\n",
       "      <th>4</th>\n",
       "      <td>😆</td>\n",
       "      <td>[ухмыляться, щуриться, лицо]</td>\n",
       "    </tr>\n",
       "    <tr>\n",
       "      <th>...</th>\n",
       "      <td>...</td>\n",
       "      <td>...</td>\n",
       "    </tr>\n",
       "    <tr>\n",
       "      <th>2744</th>\n",
       "      <td>🇲🇿</td>\n",
       "      <td>[флаг, замбия]</td>\n",
       "    </tr>\n",
       "    <tr>\n",
       "      <th>2745</th>\n",
       "      <td>🇿🇼</td>\n",
       "      <td>[флаг, зимбабве]</td>\n",
       "    </tr>\n",
       "    <tr>\n",
       "      <th>2746</th>\n",
       "      <td>🏴󠁧󠁢󠁥󠁮󠁧󠁿</td>\n",
       "      <td>[флаг, англия]</td>\n",
       "    </tr>\n",
       "    <tr>\n",
       "      <th>2747</th>\n",
       "      <td>🏴󠁧󠁢󠁳󠁣󠁴󠁿</td>\n",
       "      <td>[флаг, шотландия]</td>\n",
       "    </tr>\n",
       "    <tr>\n",
       "      <th>2748</th>\n",
       "      <td>🏴󠁧󠁢󠁷󠁬󠁳󠁿</td>\n",
       "      <td>[флаг, уэльс]</td>\n",
       "    </tr>\n",
       "  </tbody>\n",
       "</table>\n",
       "<p>2749 rows × 2 columns</p>\n",
       "</div>"
      ],
      "text/plain": [
       "        emoji                            filtered\n",
       "0           😀                  [ухмыляться, лицо]\n",
       "1           😃   [ухмыляться, лицо, больший, глаз]\n",
       "2           😄  [улыбаться, лицо, улыбаться, глаз]\n",
       "3           😁      [сиять, лицо, улыбаться, глаз]\n",
       "4           😆        [ухмыляться, щуриться, лицо]\n",
       "...       ...                                 ...\n",
       "2744       🇲🇿                      [флаг, замбия]\n",
       "2745       🇿🇼                    [флаг, зимбабве]\n",
       "2746  🏴󠁧󠁢󠁥󠁮󠁧󠁿                      [флаг, англия]\n",
       "2747  🏴󠁧󠁢󠁳󠁣󠁴󠁿                   [флаг, шотландия]\n",
       "2748  🏴󠁧󠁢󠁷󠁬󠁳󠁿                       [флаг, уэльс]\n",
       "\n",
       "[2749 rows x 2 columns]"
      ]
     },
     "execution_count": 42,
     "metadata": {},
     "output_type": "execute_result"
    }
   ],
   "source": [
    "emojis"
   ]
  },
  {
   "cell_type": "markdown",
   "metadata": {},
   "source": [
    "##### Объединение смайлика с описанием для получения единого предложения для дальнейшего использования датасета для обучения модели"
   ]
  },
  {
   "cell_type": "code",
   "execution_count": 43,
   "metadata": {
    "id": "ScMf7pLkiaPB"
   },
   "outputs": [],
   "source": [
    "for e in emojis['emoji']:\n",
    "  ind = emojis[emojis['emoji'] == e].index\n",
    "  ind.to_list()\n",
    "  emojis.at[ind[0], 'filtered'].append(e)"
   ]
  },
  {
   "cell_type": "code",
   "execution_count": 44,
   "metadata": {
    "id": "-jOzvpGAqRbn"
   },
   "outputs": [],
   "source": [
    "emojis = emojis.drop('emoji', axis = 1)"
   ]
  },
  {
   "cell_type": "code",
   "execution_count": 45,
   "metadata": {
    "colab": {
     "base_uri": "https://localhost:8080/",
     "height": 424
    },
    "executionInfo": {
     "elapsed": 22,
     "status": "ok",
     "timestamp": 1669400454081,
     "user": {
      "displayName": "Кира Солнышко",
      "userId": "04278268731702245812"
     },
     "user_tz": -180
    },
    "id": "_dkq9XMss0CI",
    "outputId": "33f71566-abcc-4d21-e275-8b0a5e87348a"
   },
   "outputs": [
    {
     "data": {
      "text/html": [
       "<div>\n",
       "<style scoped>\n",
       "    .dataframe tbody tr th:only-of-type {\n",
       "        vertical-align: middle;\n",
       "    }\n",
       "\n",
       "    .dataframe tbody tr th {\n",
       "        vertical-align: top;\n",
       "    }\n",
       "\n",
       "    .dataframe thead th {\n",
       "        text-align: right;\n",
       "    }\n",
       "</style>\n",
       "<table border=\"1\" class=\"dataframe\">\n",
       "  <thead>\n",
       "    <tr style=\"text-align: right;\">\n",
       "      <th></th>\n",
       "      <th>filtered</th>\n",
       "    </tr>\n",
       "  </thead>\n",
       "  <tbody>\n",
       "    <tr>\n",
       "      <th>0</th>\n",
       "      <td>[ухмыляться, лицо, 😀]</td>\n",
       "    </tr>\n",
       "    <tr>\n",
       "      <th>1</th>\n",
       "      <td>[ухмыляться, лицо, больший, глаз, 😃]</td>\n",
       "    </tr>\n",
       "    <tr>\n",
       "      <th>2</th>\n",
       "      <td>[улыбаться, лицо, улыбаться, глаз, 😄]</td>\n",
       "    </tr>\n",
       "    <tr>\n",
       "      <th>3</th>\n",
       "      <td>[сиять, лицо, улыбаться, глаз, 😁]</td>\n",
       "    </tr>\n",
       "    <tr>\n",
       "      <th>4</th>\n",
       "      <td>[ухмыляться, щуриться, лицо, 😆]</td>\n",
       "    </tr>\n",
       "    <tr>\n",
       "      <th>...</th>\n",
       "      <td>...</td>\n",
       "    </tr>\n",
       "    <tr>\n",
       "      <th>2744</th>\n",
       "      <td>[флаг, замбия]</td>\n",
       "    </tr>\n",
       "    <tr>\n",
       "      <th>2745</th>\n",
       "      <td>[флаг, зимбабве, 🇿🇼]</td>\n",
       "    </tr>\n",
       "    <tr>\n",
       "      <th>2746</th>\n",
       "      <td>[флаг, англия, 🏴󠁧󠁢󠁥󠁮󠁧󠁿]</td>\n",
       "    </tr>\n",
       "    <tr>\n",
       "      <th>2747</th>\n",
       "      <td>[флаг, шотландия, 🏴󠁧󠁢󠁳󠁣󠁴󠁿]</td>\n",
       "    </tr>\n",
       "    <tr>\n",
       "      <th>2748</th>\n",
       "      <td>[флаг, уэльс, 🏴󠁧󠁢󠁷󠁬󠁳󠁿]</td>\n",
       "    </tr>\n",
       "  </tbody>\n",
       "</table>\n",
       "<p>2749 rows × 1 columns</p>\n",
       "</div>"
      ],
      "text/plain": [
       "                                   filtered\n",
       "0                     [ухмыляться, лицо, 😀]\n",
       "1      [ухмыляться, лицо, больший, глаз, 😃]\n",
       "2     [улыбаться, лицо, улыбаться, глаз, 😄]\n",
       "3         [сиять, лицо, улыбаться, глаз, 😁]\n",
       "4           [ухмыляться, щуриться, лицо, 😆]\n",
       "...                                     ...\n",
       "2744                         [флаг, замбия]\n",
       "2745                   [флаг, зимбабве, 🇿🇼]\n",
       "2746                [флаг, англия, 🏴󠁧󠁢󠁥󠁮󠁧󠁿]\n",
       "2747             [флаг, шотландия, 🏴󠁧󠁢󠁳󠁣󠁴󠁿]\n",
       "2748                 [флаг, уэльс, 🏴󠁧󠁢󠁷󠁬󠁳󠁿]\n",
       "\n",
       "[2749 rows x 1 columns]"
      ]
     },
     "execution_count": 45,
     "metadata": {},
     "output_type": "execute_result"
    }
   ],
   "source": [
    "emojis"
   ]
  },
  {
   "cell_type": "code",
   "execution_count": 46,
   "metadata": {},
   "outputs": [],
   "source": [
    "emojis['filtered'] = emojis.apply(lambda x: nltk.pos_tag(x['filtered'], tagset='universal', lang='rus'), axis=1) "
   ]
  },
  {
   "cell_type": "code",
   "execution_count": 134,
   "metadata": {},
   "outputs": [],
   "source": [
    "def tag_join(tag_list):\n",
    "    joined_pares = []\n",
    "    for pare in tag_list:\n",
    "        if emoji.is_emoji(pare[0]):\n",
    "            token_tag = pare[0] + '_SYM'\n",
    "        else:\n",
    "            token_tag = pare[0] + '_' + pare[1]\n",
    "        joined_pares.append(token_tag)\n",
    "    return joined_pares"
   ]
  },
  {
   "cell_type": "code",
   "execution_count": 48,
   "metadata": {},
   "outputs": [],
   "source": [
    "emojis['u_tags'] = emojis.apply(lambda x: tag_join(x['filtered']), axis=1)"
   ]
  },
  {
   "cell_type": "code",
   "execution_count": 82,
   "metadata": {},
   "outputs": [
    {
     "data": {
      "text/html": [
       "<div>\n",
       "<style scoped>\n",
       "    .dataframe tbody tr th:only-of-type {\n",
       "        vertical-align: middle;\n",
       "    }\n",
       "\n",
       "    .dataframe tbody tr th {\n",
       "        vertical-align: top;\n",
       "    }\n",
       "\n",
       "    .dataframe thead th {\n",
       "        text-align: right;\n",
       "    }\n",
       "</style>\n",
       "<table border=\"1\" class=\"dataframe\">\n",
       "  <thead>\n",
       "    <tr style=\"text-align: right;\">\n",
       "      <th></th>\n",
       "      <th>filtered</th>\n",
       "      <th>u_tags</th>\n",
       "    </tr>\n",
       "  </thead>\n",
       "  <tbody>\n",
       "    <tr>\n",
       "      <th>0</th>\n",
       "      <td>[(ухмыляться, VERB), (лицо, NOUN), (😀, .)]</td>\n",
       "      <td>[ухмыляться_VERB, лицо_NOUN, 😀_SYM]</td>\n",
       "    </tr>\n",
       "    <tr>\n",
       "      <th>1</th>\n",
       "      <td>[(ухмыляться, VERB), (лицо, NOUN), (больший, A...</td>\n",
       "      <td>[ухмыляться_VERB, лицо_NOUN, больший_ADJ, глаз...</td>\n",
       "    </tr>\n",
       "    <tr>\n",
       "      <th>2</th>\n",
       "      <td>[(улыбаться, VERB), (лицо, NOUN), (улыбаться, ...</td>\n",
       "      <td>[улыбаться_VERB, лицо_NOUN, улыбаться_VERB, гл...</td>\n",
       "    </tr>\n",
       "    <tr>\n",
       "      <th>3</th>\n",
       "      <td>[(сиять, VERB), (лицо, NOUN), (улыбаться, VERB...</td>\n",
       "      <td>[сиять_VERB, лицо_NOUN, улыбаться_VERB, глаз_N...</td>\n",
       "    </tr>\n",
       "    <tr>\n",
       "      <th>4</th>\n",
       "      <td>[(ухмыляться, VERB), (щуриться, VERB), (лицо, ...</td>\n",
       "      <td>[ухмыляться_VERB, щуриться_VERB, лицо_NOUN, 😆_...</td>\n",
       "    </tr>\n",
       "    <tr>\n",
       "      <th>...</th>\n",
       "      <td>...</td>\n",
       "      <td>...</td>\n",
       "    </tr>\n",
       "    <tr>\n",
       "      <th>2744</th>\n",
       "      <td>[(флаг, NOUN), (замбия, NOUN)]</td>\n",
       "      <td>[флаг_NOUN, замбия_NOUN]</td>\n",
       "    </tr>\n",
       "    <tr>\n",
       "      <th>2745</th>\n",
       "      <td>[(флаг, NOUN), (зимбабве, VERB), (🇿🇼, .)]</td>\n",
       "      <td>[флаг_NOUN, зимбабве_VERB, 🇿🇼_SYM]</td>\n",
       "    </tr>\n",
       "    <tr>\n",
       "      <th>2746</th>\n",
       "      <td>[(флаг, NOUN), (англия, NOUN), (🏴󠁧󠁢󠁥󠁮󠁧󠁿, .)]</td>\n",
       "      <td>[флаг_NOUN, англия_NOUN, 🏴󠁧󠁢󠁥󠁮󠁧󠁿_SYM]</td>\n",
       "    </tr>\n",
       "    <tr>\n",
       "      <th>2747</th>\n",
       "      <td>[(флаг, NOUN), (шотландия, NOUN), (🏴󠁧󠁢󠁳󠁣󠁴󠁿, .)]</td>\n",
       "      <td>[флаг_NOUN, шотландия_NOUN, 🏴󠁧󠁢󠁳󠁣󠁴󠁿_SYM]</td>\n",
       "    </tr>\n",
       "    <tr>\n",
       "      <th>2748</th>\n",
       "      <td>[(флаг, NOUN), (уэльс, NOUN), (🏴󠁧󠁢󠁷󠁬󠁳󠁿, .)]</td>\n",
       "      <td>[флаг_NOUN, уэльс_NOUN, 🏴󠁧󠁢󠁷󠁬󠁳󠁿_SYM]</td>\n",
       "    </tr>\n",
       "  </tbody>\n",
       "</table>\n",
       "<p>2749 rows × 2 columns</p>\n",
       "</div>"
      ],
      "text/plain": [
       "                                               filtered  \\\n",
       "0            [(ухмыляться, VERB), (лицо, NOUN), (😀, .)]   \n",
       "1     [(ухмыляться, VERB), (лицо, NOUN), (больший, A...   \n",
       "2     [(улыбаться, VERB), (лицо, NOUN), (улыбаться, ...   \n",
       "3     [(сиять, VERB), (лицо, NOUN), (улыбаться, VERB...   \n",
       "4     [(ухмыляться, VERB), (щуриться, VERB), (лицо, ...   \n",
       "...                                                 ...   \n",
       "2744                     [(флаг, NOUN), (замбия, NOUN)]   \n",
       "2745          [(флаг, NOUN), (зимбабве, VERB), (🇿🇼, .)]   \n",
       "2746       [(флаг, NOUN), (англия, NOUN), (🏴󠁧󠁢󠁥󠁮󠁧󠁿, .)]   \n",
       "2747    [(флаг, NOUN), (шотландия, NOUN), (🏴󠁧󠁢󠁳󠁣󠁴󠁿, .)]   \n",
       "2748        [(флаг, NOUN), (уэльс, NOUN), (🏴󠁧󠁢󠁷󠁬󠁳󠁿, .)]   \n",
       "\n",
       "                                                 u_tags  \n",
       "0                   [ухмыляться_VERB, лицо_NOUN, 😀_SYM]  \n",
       "1     [ухмыляться_VERB, лицо_NOUN, больший_ADJ, глаз...  \n",
       "2     [улыбаться_VERB, лицо_NOUN, улыбаться_VERB, гл...  \n",
       "3     [сиять_VERB, лицо_NOUN, улыбаться_VERB, глаз_N...  \n",
       "4     [ухмыляться_VERB, щуриться_VERB, лицо_NOUN, 😆_...  \n",
       "...                                                 ...  \n",
       "2744                           [флаг_NOUN, замбия_NOUN]  \n",
       "2745                 [флаг_NOUN, зимбабве_VERB, 🇿🇼_SYM]  \n",
       "2746              [флаг_NOUN, англия_NOUN, 🏴󠁧󠁢󠁥󠁮󠁧󠁿_SYM]  \n",
       "2747           [флаг_NOUN, шотландия_NOUN, 🏴󠁧󠁢󠁳󠁣󠁴󠁿_SYM]  \n",
       "2748               [флаг_NOUN, уэльс_NOUN, 🏴󠁧󠁢󠁷󠁬󠁳󠁿_SYM]  \n",
       "\n",
       "[2749 rows x 2 columns]"
      ]
     },
     "execution_count": 82,
     "metadata": {},
     "output_type": "execute_result"
    }
   ],
   "source": [
    "emojis"
   ]
  },
  {
   "cell_type": "markdown",
   "metadata": {
    "id": "HVUzrXzY_ECa"
   },
   "source": [
    "### Подготовка датасета с комментариями ВК"
   ]
  },
  {
   "cell_type": "markdown",
   "metadata": {},
   "source": [
    "##### Чтение датасета"
   ]
  },
  {
   "cell_type": "code",
   "execution_count": 182,
   "metadata": {
    "executionInfo": {
     "elapsed": 376,
     "status": "ok",
     "timestamp": 1669725829482,
     "user": {
      "displayName": "Кира Солнышко",
      "userId": "04278268731702245812"
     },
     "user_tz": -180
    },
    "id": "STvbA0SfBvQl"
   },
   "outputs": [],
   "source": [
    "colnames = ['index', 'comment']"
   ]
  },
  {
   "cell_type": "code",
   "execution_count": 183,
   "metadata": {
    "executionInfo": {
     "elapsed": 2108,
     "status": "ok",
     "timestamp": 1669725833553,
     "user": {
      "displayName": "Кира Солнышко",
      "userId": "04278268731702245812"
     },
     "user_tz": -180
    },
    "id": "1k3UHMQh_C4g"
   },
   "outputs": [],
   "source": [
    "comments = pd.read_csv('comments.csv', names=colnames, header=None)"
   ]
  },
  {
   "cell_type": "code",
   "execution_count": 184,
   "metadata": {},
   "outputs": [
    {
     "data": {
      "text/html": [
       "<div>\n",
       "<style scoped>\n",
       "    .dataframe tbody tr th:only-of-type {\n",
       "        vertical-align: middle;\n",
       "    }\n",
       "\n",
       "    .dataframe tbody tr th {\n",
       "        vertical-align: top;\n",
       "    }\n",
       "\n",
       "    .dataframe thead th {\n",
       "        text-align: right;\n",
       "    }\n",
       "</style>\n",
       "<table border=\"1\" class=\"dataframe\">\n",
       "  <thead>\n",
       "    <tr style=\"text-align: right;\">\n",
       "      <th></th>\n",
       "      <th>index</th>\n",
       "      <th>comment</th>\n",
       "    </tr>\n",
       "  </thead>\n",
       "  <tbody>\n",
       "    <tr>\n",
       "      <th>0</th>\n",
       "      <td>0</td>\n",
       "      <td>&lt;class 'object'&gt;</td>\n",
       "    </tr>\n",
       "    <tr>\n",
       "      <th>1</th>\n",
       "      <td>1</td>\n",
       "      <td>Немцы так нехотя делают эти санкции, высылку д...</td>\n",
       "    </tr>\n",
       "    <tr>\n",
       "      <th>2</th>\n",
       "      <td>2</td>\n",
       "      <td>а в чём прикол дипломатов туда-сюда гонять ?</td>\n",
       "    </tr>\n",
       "    <tr>\n",
       "      <th>3</th>\n",
       "      <td>3</td>\n",
       "      <td>Вообще, это все логично. Абсолютно ожидаемое п...</td>\n",
       "    </tr>\n",
       "    <tr>\n",
       "      <th>4</th>\n",
       "      <td>4</td>\n",
       "      <td>NaN</td>\n",
       "    </tr>\n",
       "    <tr>\n",
       "      <th>...</th>\n",
       "      <td>...</td>\n",
       "      <td>...</td>\n",
       "    </tr>\n",
       "    <tr>\n",
       "      <th>10100</th>\n",
       "      <td>17</td>\n",
       "      <td>[id11875095|Сергей], даа, особенно после истор...</td>\n",
       "    </tr>\n",
       "    <tr>\n",
       "      <th>10101</th>\n",
       "      <td>18</td>\n",
       "      <td>[id155404424|Ruslan], про пытки в тюрьмах напо...</td>\n",
       "    </tr>\n",
       "    <tr>\n",
       "      <th>10102</th>\n",
       "      <td>19</td>\n",
       "      <td>[id11875095|Sergey], кто эти вы, которые туда ...</td>\n",
       "    </tr>\n",
       "    <tr>\n",
       "      <th>10103</th>\n",
       "      <td>20</td>\n",
       "      <td>Это импорто замещения</td>\n",
       "    </tr>\n",
       "    <tr>\n",
       "      <th>10104</th>\n",
       "      <td>21</td>\n",
       "      <td>Для чумазых это норма, они к лотку не приучены</td>\n",
       "    </tr>\n",
       "  </tbody>\n",
       "</table>\n",
       "<p>10105 rows × 2 columns</p>\n",
       "</div>"
      ],
      "text/plain": [
       "       index                                            comment\n",
       "0          0                                   <class 'object'>\n",
       "1          1  Немцы так нехотя делают эти санкции, высылку д...\n",
       "2          2       а в чём прикол дипломатов туда-сюда гонять ?\n",
       "3          3  Вообще, это все логично. Абсолютно ожидаемое п...\n",
       "4          4                                                NaN\n",
       "...      ...                                                ...\n",
       "10100     17  [id11875095|Сергей], даа, особенно после истор...\n",
       "10101     18  [id155404424|Ruslan], про пытки в тюрьмах напо...\n",
       "10102     19  [id11875095|Sergey], кто эти вы, которые туда ...\n",
       "10103     20                              Это импорто замещения\n",
       "10104     21     Для чумазых это норма, они к лотку не приучены\n",
       "\n",
       "[10105 rows x 2 columns]"
      ]
     },
     "execution_count": 184,
     "metadata": {},
     "output_type": "execute_result"
    }
   ],
   "source": [
    "comments"
   ]
  },
  {
   "cell_type": "code",
   "execution_count": 185,
   "metadata": {
    "executionInfo": {
     "elapsed": 3,
     "status": "ok",
     "timestamp": 1669725835543,
     "user": {
      "displayName": "Кира Солнышко",
      "userId": "04278268731702245812"
     },
     "user_tz": -180
    },
    "id": "6NYcFzICB_AW"
   },
   "outputs": [],
   "source": [
    "comments = comments.drop(labels = [0,1],axis = 0)"
   ]
  },
  {
   "cell_type": "code",
   "execution_count": 186,
   "metadata": {
    "executionInfo": {
     "elapsed": 1,
     "status": "ok",
     "timestamp": 1669725837829,
     "user": {
      "displayName": "Кира Солнышко",
      "userId": "04278268731702245812"
     },
     "user_tz": -180
    },
    "id": "X9tp101mAjF9"
   },
   "outputs": [],
   "source": [
    "comments = comments.drop(columns = ['index'],axis = 1)"
   ]
  },
  {
   "cell_type": "code",
   "execution_count": 187,
   "metadata": {
    "colab": {
     "base_uri": "https://localhost:8080/",
     "height": 424
    },
    "executionInfo": {
     "elapsed": 3,
     "status": "ok",
     "timestamp": 1669725840058,
     "user": {
      "displayName": "Кира Солнышко",
      "userId": "04278268731702245812"
     },
     "user_tz": -180
    },
    "id": "NEd9tYq3EBKa",
    "outputId": "a5ad40d5-c17e-46dc-858e-3465b36ccd64"
   },
   "outputs": [],
   "source": [
    "comments = comments.reset_index(drop=True)"
   ]
  },
  {
   "cell_type": "markdown",
   "metadata": {},
   "source": [
    "##### Предобработка комментариев"
   ]
  },
  {
   "cell_type": "code",
   "execution_count": 188,
   "metadata": {
    "executionInfo": {
     "elapsed": 391,
     "status": "ok",
     "timestamp": 1669725846771,
     "user": {
      "displayName": "Кира Солнышко",
      "userId": "04278268731702245812"
     },
     "user_tz": -180
    },
    "id": "3KJCQ-HdDL-H"
   },
   "outputs": [],
   "source": [
    "patterns = \"[A-Za-z0-9!#$%&'()*+,./:;<=>?@[\\]^_`{|}~—\\\"\\-]+\"\n",
    "stopwords_ru = stopwords.words(\"russian\")\n",
    "morph = MorphAnalyzer()\n",
    "\n",
    "def lemmatize(doc):\n",
    "    doc = re.sub(patterns, ' ', str(doc))\n",
    "    for c in str(doc):\n",
    "      if emoji.is_emoji(c):\n",
    "          i = doc.index(c)\n",
    "          doc = doc[:i] + doc[i:]\n",
    "    tokens = []\n",
    "    for token in doc.split():\n",
    "        if token and token not in stopwords_ru and emoji.is_emoji(token) == False:\n",
    "            token = token.strip()\n",
    "            token = morph.normal_forms(token)[0]\n",
    "            tokens.append(token)\n",
    "        elif emoji.is_emoji(token):\n",
    "            tokens.append(token)\n",
    "    if len(tokens) > 2:\n",
    "        return tokens\n",
    "    return None"
   ]
  },
  {
   "cell_type": "code",
   "execution_count": 189,
   "metadata": {
    "executionInfo": {
     "elapsed": 19792,
     "status": "ok",
     "timestamp": 1669725870360,
     "user": {
      "displayName": "Кира Солнышко",
      "userId": "04278268731702245812"
     },
     "user_tz": -180
    },
    "id": "MOceBCy9DrIr"
   },
   "outputs": [],
   "source": [
    "comments['comment'] = comments['comment'].apply(lemmatize)"
   ]
  },
  {
   "cell_type": "code",
   "execution_count": 192,
   "metadata": {
    "executionInfo": {
     "elapsed": 379,
     "status": "ok",
     "timestamp": 1669725874033,
     "user": {
      "displayName": "Кира Солнышко",
      "userId": "04278268731702245812"
     },
     "user_tz": -180
    },
    "id": "N5bkAtQ-EdlS"
   },
   "outputs": [],
   "source": [
    "comments = comments.dropna()"
   ]
  },
  {
   "cell_type": "code",
   "execution_count": 193,
   "metadata": {
    "colab": {
     "base_uri": "https://localhost:8080/"
    },
    "executionInfo": {
     "elapsed": 880,
     "status": "ok",
     "timestamp": 1669725877584,
     "user": {
      "displayName": "Кира Солнышко",
      "userId": "04278268731702245812"
     },
     "user_tz": -180
    },
    "id": "AtxpXHn3NuLS",
    "outputId": "52cd7384-abe2-4ae3-962d-ef38abdffa0d"
   },
   "outputs": [
    {
     "data": {
      "text/html": [
       "<div>\n",
       "<style scoped>\n",
       "    .dataframe tbody tr th:only-of-type {\n",
       "        vertical-align: middle;\n",
       "    }\n",
       "\n",
       "    .dataframe tbody tr th {\n",
       "        vertical-align: top;\n",
       "    }\n",
       "\n",
       "    .dataframe thead th {\n",
       "        text-align: right;\n",
       "    }\n",
       "</style>\n",
       "<table border=\"1\" class=\"dataframe\">\n",
       "  <thead>\n",
       "    <tr style=\"text-align: right;\">\n",
       "      <th></th>\n",
       "      <th>comment</th>\n",
       "    </tr>\n",
       "  </thead>\n",
       "  <tbody>\n",
       "    <tr>\n",
       "      <th>0</th>\n",
       "      <td>[что, прикол, дипломат, туда, сюда, гонять]</td>\n",
       "    </tr>\n",
       "    <tr>\n",
       "      <th>1</th>\n",
       "      <td>[вообще, это, логично, абсолютно, ожидать, пов...</td>\n",
       "    </tr>\n",
       "    <tr>\n",
       "      <th>3</th>\n",
       "      <td>[детишки, никто, изжалобить, весь, мир, против...</td>\n",
       "    </tr>\n",
       "    <tr>\n",
       "      <th>4</th>\n",
       "      <td>[складываться, ощущение, всё, отвечать, захаров]</td>\n",
       "    </tr>\n",
       "    <tr>\n",
       "      <th>6</th>\n",
       "      <td>[«никакий, правительство, мир, смочь, проводит...</td>\n",
       "    </tr>\n",
       "    <tr>\n",
       "      <th>...</th>\n",
       "      <td>...</td>\n",
       "    </tr>\n",
       "    <tr>\n",
       "      <th>10098</th>\n",
       "      <td>[сергей, даа, особенно, история, флойдом, прав...</td>\n",
       "    </tr>\n",
       "    <tr>\n",
       "      <th>10099</th>\n",
       "      <td>[пытка, тюрьма, напомнить, или, неудобно, гово...</td>\n",
       "    </tr>\n",
       "    <tr>\n",
       "      <th>10100</th>\n",
       "      <td>[который, туда, стремиться, любой, страна, ник...</td>\n",
       "    </tr>\n",
       "    <tr>\n",
       "      <th>10101</th>\n",
       "      <td>[это, импорто, замещение]</td>\n",
       "    </tr>\n",
       "    <tr>\n",
       "      <th>10102</th>\n",
       "      <td>[для, чумазый, это, норма, лоток, приучить]</td>\n",
       "    </tr>\n",
       "  </tbody>\n",
       "</table>\n",
       "<p>8718 rows × 1 columns</p>\n",
       "</div>"
      ],
      "text/plain": [
       "                                                 comment\n",
       "0            [что, прикол, дипломат, туда, сюда, гонять]\n",
       "1      [вообще, это, логично, абсолютно, ожидать, пов...\n",
       "3      [детишки, никто, изжалобить, весь, мир, против...\n",
       "4       [складываться, ощущение, всё, отвечать, захаров]\n",
       "6      [«никакий, правительство, мир, смочь, проводит...\n",
       "...                                                  ...\n",
       "10098  [сергей, даа, особенно, история, флойдом, прав...\n",
       "10099  [пытка, тюрьма, напомнить, или, неудобно, гово...\n",
       "10100  [который, туда, стремиться, любой, страна, ник...\n",
       "10101                          [это, импорто, замещение]\n",
       "10102        [для, чумазый, это, норма, лоток, приучить]\n",
       "\n",
       "[8718 rows x 1 columns]"
      ]
     },
     "execution_count": 193,
     "metadata": {},
     "output_type": "execute_result"
    }
   ],
   "source": [
    "comments"
   ]
  },
  {
   "cell_type": "code",
   "execution_count": 194,
   "metadata": {},
   "outputs": [
    {
     "name": "stderr",
     "output_type": "stream",
     "text": [
      "C:\\Users\\Admin\\AppData\\Local\\Temp\\ipykernel_10276\\3793391976.py:1: SettingWithCopyWarning: \n",
      "A value is trying to be set on a copy of a slice from a DataFrame.\n",
      "Try using .loc[row_indexer,col_indexer] = value instead\n",
      "\n",
      "See the caveats in the documentation: https://pandas.pydata.org/pandas-docs/stable/user_guide/indexing.html#returning-a-view-versus-a-copy\n",
      "  comments['token_tag'] = comments.apply(lambda x: nltk.pos_tag(x['comment'], tagset='universal', lang='rus'), axis=1)\n"
     ]
    }
   ],
   "source": [
    "comments['token_tag'] = comments.apply(lambda x: nltk.pos_tag(x['comment'], tagset='universal', lang='rus'), axis=1)"
   ]
  },
  {
   "cell_type": "code",
   "execution_count": 202,
   "metadata": {},
   "outputs": [
    {
     "data": {
      "text/html": [
       "<div>\n",
       "<style scoped>\n",
       "    .dataframe tbody tr th:only-of-type {\n",
       "        vertical-align: middle;\n",
       "    }\n",
       "\n",
       "    .dataframe tbody tr th {\n",
       "        vertical-align: top;\n",
       "    }\n",
       "\n",
       "    .dataframe thead th {\n",
       "        text-align: right;\n",
       "    }\n",
       "</style>\n",
       "<table border=\"1\" class=\"dataframe\">\n",
       "  <thead>\n",
       "    <tr style=\"text-align: right;\">\n",
       "      <th></th>\n",
       "      <th>comment</th>\n",
       "      <th>token_tag</th>\n",
       "    </tr>\n",
       "  </thead>\n",
       "  <tbody>\n",
       "    <tr>\n",
       "      <th>0</th>\n",
       "      <td>[что, прикол, дипломат, туда, сюда, гонять]</td>\n",
       "      <td>[что_CONJ, прикол_NOUN, дипломат_NOUN, туда_PR...</td>\n",
       "    </tr>\n",
       "    <tr>\n",
       "      <th>1</th>\n",
       "      <td>[вообще, это, логично, абсолютно, ожидать, пов...</td>\n",
       "      <td>[вообще_ADV, это_PRON, логично_ADJ, абсолютно_...</td>\n",
       "    </tr>\n",
       "    <tr>\n",
       "      <th>3</th>\n",
       "      <td>[детишки, никто, изжалобить, весь, мир, против...</td>\n",
       "      <td>[детишки_NOUN, никто_PRON, изжалобить_VERB, ве...</td>\n",
       "    </tr>\n",
       "    <tr>\n",
       "      <th>4</th>\n",
       "      <td>[складываться, ощущение, всё, отвечать, захаров]</td>\n",
       "      <td>[складываться_VERB, ощущение_NOUN, всё_PRON, о...</td>\n",
       "    </tr>\n",
       "    <tr>\n",
       "      <th>6</th>\n",
       "      <td>[«никакий, правительство, мир, смочь, проводит...</td>\n",
       "      <td>[«никакий_ADJ, правительство_NOUN, мир_NOUN, с...</td>\n",
       "    </tr>\n",
       "    <tr>\n",
       "      <th>...</th>\n",
       "      <td>...</td>\n",
       "      <td>...</td>\n",
       "    </tr>\n",
       "    <tr>\n",
       "      <th>10098</th>\n",
       "      <td>[сергей, даа, особенно, история, флойдом, прав...</td>\n",
       "      <td>[сергей_NOUN, даа_NOUN, особенно_ADV, история_...</td>\n",
       "    </tr>\n",
       "    <tr>\n",
       "      <th>10099</th>\n",
       "      <td>[пытка, тюрьма, напомнить, или, неудобно, гово...</td>\n",
       "      <td>[пытка_NOUN, тюрьма_NOUN, напомнить_VERB, или_...</td>\n",
       "    </tr>\n",
       "    <tr>\n",
       "      <th>10100</th>\n",
       "      <td>[который, туда, стремиться, любой, страна, ник...</td>\n",
       "      <td>[который_PRON, туда_PRON, стремиться_VERB, люб...</td>\n",
       "    </tr>\n",
       "    <tr>\n",
       "      <th>10101</th>\n",
       "      <td>[это, импорто, замещение]</td>\n",
       "      <td>[это_PRT, импорто_VERB, замещение_NOUN]</td>\n",
       "    </tr>\n",
       "    <tr>\n",
       "      <th>10102</th>\n",
       "      <td>[для, чумазый, это, норма, лоток, приучить]</td>\n",
       "      <td>[для_ADP, чумазый_NOUN, это_PRT, норма_NOUN, л...</td>\n",
       "    </tr>\n",
       "  </tbody>\n",
       "</table>\n",
       "<p>8718 rows × 2 columns</p>\n",
       "</div>"
      ],
      "text/plain": [
       "                                                 comment  \\\n",
       "0            [что, прикол, дипломат, туда, сюда, гонять]   \n",
       "1      [вообще, это, логично, абсолютно, ожидать, пов...   \n",
       "3      [детишки, никто, изжалобить, весь, мир, против...   \n",
       "4       [складываться, ощущение, всё, отвечать, захаров]   \n",
       "6      [«никакий, правительство, мир, смочь, проводит...   \n",
       "...                                                  ...   \n",
       "10098  [сергей, даа, особенно, история, флойдом, прав...   \n",
       "10099  [пытка, тюрьма, напомнить, или, неудобно, гово...   \n",
       "10100  [который, туда, стремиться, любой, страна, ник...   \n",
       "10101                          [это, импорто, замещение]   \n",
       "10102        [для, чумазый, это, норма, лоток, приучить]   \n",
       "\n",
       "                                               token_tag  \n",
       "0      [что_CONJ, прикол_NOUN, дипломат_NOUN, туда_PR...  \n",
       "1      [вообще_ADV, это_PRON, логично_ADJ, абсолютно_...  \n",
       "3      [детишки_NOUN, никто_PRON, изжалобить_VERB, ве...  \n",
       "4      [складываться_VERB, ощущение_NOUN, всё_PRON, о...  \n",
       "6      [«никакий_ADJ, правительство_NOUN, мир_NOUN, с...  \n",
       "...                                                  ...  \n",
       "10098  [сергей_NOUN, даа_NOUN, особенно_ADV, история_...  \n",
       "10099  [пытка_NOUN, тюрьма_NOUN, напомнить_VERB, или_...  \n",
       "10100  [который_PRON, туда_PRON, стремиться_VERB, люб...  \n",
       "10101            [это_PRT, импорто_VERB, замещение_NOUN]  \n",
       "10102  [для_ADP, чумазый_NOUN, это_PRT, норма_NOUN, л...  \n",
       "\n",
       "[8718 rows x 2 columns]"
      ]
     },
     "execution_count": 202,
     "metadata": {},
     "output_type": "execute_result"
    }
   ],
   "source": [
    "comments"
   ]
  },
  {
   "cell_type": "code",
   "execution_count": 201,
   "metadata": {},
   "outputs": [
    {
     "name": "stderr",
     "output_type": "stream",
     "text": [
      "C:\\Users\\Admin\\AppData\\Local\\Temp\\ipykernel_10276\\1120379881.py:1: SettingWithCopyWarning: \n",
      "A value is trying to be set on a copy of a slice from a DataFrame.\n",
      "Try using .loc[row_indexer,col_indexer] = value instead\n",
      "\n",
      "See the caveats in the documentation: https://pandas.pydata.org/pandas-docs/stable/user_guide/indexing.html#returning-a-view-versus-a-copy\n",
      "  comments['token_tag'] = comments.apply(lambda x: tag_join(x['token_tag']), axis=1)\n"
     ]
    }
   ],
   "source": [
    "comments['token_tag'] = comments.apply(lambda x: tag_join(x['token_tag']), axis=1)"
   ]
  },
  {
   "cell_type": "markdown",
   "metadata": {
    "id": "gTrHKDBUdZXf"
   },
   "source": [
    "##### Проверка на наличие эмодзи в полученном датасете комментариев"
   ]
  },
  {
   "cell_type": "code",
   "execution_count": 69,
   "metadata": {
    "executionInfo": {
     "elapsed": 2,
     "status": "ok",
     "timestamp": 1669726787192,
     "user": {
      "displayName": "Кира Солнышко",
      "userId": "04278268731702245812"
     },
     "user_tz": -180
    },
    "id": "O2MQDSJGawQZ"
   },
   "outputs": [],
   "source": [
    "def check(comment):\n",
    "  flag=0\n",
    "  for item in comment:\n",
    "    if emoji.is_emoji(item):\n",
    "      flag+=1\n",
    "  if flag > 0:\n",
    "    return(comment)\n",
    "  return None "
   ]
  },
  {
   "cell_type": "code",
   "execution_count": 70,
   "metadata": {
    "executionInfo": {
     "elapsed": 2,
     "status": "ok",
     "timestamp": 1669726789240,
     "user": {
      "displayName": "Кира Солнышко",
      "userId": "04278268731702245812"
     },
     "user_tz": -180
    },
    "id": "5GZFjanidgYG"
   },
   "outputs": [],
   "source": [
    "contain_emoji = comments.apply(check)"
   ]
  },
  {
   "cell_type": "code",
   "execution_count": 71,
   "metadata": {
    "executionInfo": {
     "elapsed": 650,
     "status": "ok",
     "timestamp": 1669726810632,
     "user": {
      "displayName": "Кира Солнышко",
      "userId": "04278268731702245812"
     },
     "user_tz": -180
    },
    "id": "DLXsHyoUeOjI"
   },
   "outputs": [],
   "source": [
    "contain_emoji = contain_emoji.dropna()"
   ]
  },
  {
   "cell_type": "code",
   "execution_count": 72,
   "metadata": {
    "colab": {
     "base_uri": "https://localhost:8080/"
    },
    "executionInfo": {
     "elapsed": 474,
     "status": "ok",
     "timestamp": 1669726820089,
     "user": {
      "displayName": "Кира Солнышко",
      "userId": "04278268731702245812"
     },
     "user_tz": -180
    },
    "id": "A7nXHDHNeTk_",
    "outputId": "4d354080-4970-4dea-97be-0c105acfe9d0"
   },
   "outputs": [
    {
     "data": {
      "text/plain": [
       "201      [алина, если, крестьянин, взять, рука, оружие,...\n",
       "220      [никита, клин, клин, логика, разряд, мы, проти...\n",
       "227      [анатолий, извинить, вопрос, данный, человек, ...\n",
       "238      [фима, долго, искать, методичка, толстой, 😒, м...\n",
       "316      [алина, если, крестьянин, взять, рука, оружие,...\n",
       "                               ...                        \n",
       "10038    [дмитрий, ахахахах, шок, 😂😂, сам, б, хотеть, н...\n",
       "10049             [оля, ссать, речь, идти, 🤣, ещё, плохой]\n",
       "10061                 [её, сосед, увидеть, весь, район, 😁]\n",
       "10069    [адам, месяц, платить, налог, жизнь, нищеброд,...\n",
       "10071     [анастасия, платить, быть, просмотр, готовый, 😄]\n",
       "Name: comment, Length: 403, dtype: object"
      ]
     },
     "execution_count": 72,
     "metadata": {},
     "output_type": "execute_result"
    }
   ],
   "source": [
    "contain_emoji"
   ]
  },
  {
   "cell_type": "markdown",
   "metadata": {},
   "source": [
    "### Загрузка предобученной модели"
   ]
  },
  {
   "cell_type": "markdown",
   "metadata": {},
   "source": [
    "##### Скачиваем обученную модель и загружаем её"
   ]
  },
  {
   "cell_type": "code",
   "execution_count": 222,
   "metadata": {},
   "outputs": [],
   "source": [
    "model_1 = wv(vector_size=300, min_count=1, window=3)"
   ]
  },
  {
   "cell_type": "code",
   "execution_count": 223,
   "metadata": {},
   "outputs": [],
   "source": [
    "model_1.build_vocab(comments['token_tag'])"
   ]
  },
  {
   "cell_type": "code",
   "execution_count": 224,
   "metadata": {},
   "outputs": [],
   "source": [
    "model_1.wv.vectors_lockf = np.ones(len(model_1.wv))"
   ]
  },
  {
   "cell_type": "code",
   "execution_count": 225,
   "metadata": {},
   "outputs": [],
   "source": [
    "model_1.wv.intersect_word2vec_format('model.bin', lockf=1.0, binary=True)"
   ]
  },
  {
   "cell_type": "code",
   "execution_count": 230,
   "metadata": {},
   "outputs": [
    {
     "data": {
      "text/plain": [
       "[('чувство_NOUN', 0.6939337849617004),\n",
       " ('почувствовать_VERB', 0.5003801584243774),\n",
       " ('эмоция_NOUN', 0.45535600185394287),\n",
       " ('испытывать_VERB', 0.45355743169784546),\n",
       " ('мысль_NOUN', 0.44249626994132996),\n",
       " ('кайф_NOUN', 0.41636019945144653),\n",
       " ('дежа_NOUN', 0.4110955595970154),\n",
       " ('желание_NOUN', 0.3919849395751953),\n",
       " ('эмоциональный_ADJ', 0.3774087131023407),\n",
       " ('неприятный_ADJ', 0.36589956283569336)]"
      ]
     },
     "execution_count": 230,
     "metadata": {},
     "output_type": "execute_result"
    }
   ],
   "source": [
    "model_1.wv.most_similar('ощущение_NOUN')"
   ]
  },
  {
   "cell_type": "code",
   "execution_count": 231,
   "metadata": {},
   "outputs": [
    {
     "data": {
      "text/plain": [
       "(89372, 93291)"
      ]
     },
     "execution_count": 231,
     "metadata": {},
     "output_type": "execute_result"
    }
   ],
   "source": [
    "model_1.train(comments['token_tag'], total_examples=model_1.corpus_count, epochs=1)"
   ]
  },
  {
   "cell_type": "code",
   "execution_count": 232,
   "metadata": {},
   "outputs": [],
   "source": [
    "model_1.build_vocab(emojis['u_tags'], update=True)"
   ]
  },
  {
   "cell_type": "code",
   "execution_count": 233,
   "metadata": {},
   "outputs": [
    {
     "data": {
      "text/plain": [
       "[('🤱🏿_SYM', 0.22652676701545715),\n",
       " ('🕟_SYM', 0.20538826286792755),\n",
       " ('✍🏼_SYM', 0.1917581409215927),\n",
       " ('👶🏽_SYM', 0.1842544823884964),\n",
       " ('👩🏿\\u200d🏫_SYM', 0.18080198764801025),\n",
       " ('🐟_SYM', 0.18076381087303162),\n",
       " ('🥬_SYM', 0.17668478190898895),\n",
       " ('🔜_SYM', 0.17590272426605225),\n",
       " ('👨🏾\\u200d🔬_SYM', 0.17449399828910828),\n",
       " ('ванна_ADJ', 0.17345407605171204)]"
      ]
     },
     "execution_count": 233,
     "metadata": {},
     "output_type": "execute_result"
    }
   ],
   "source": [
    "model_1.wv.most_similar('😀_SYM')"
   ]
  },
  {
   "cell_type": "code",
   "execution_count": null,
   "metadata": {},
   "outputs": [],
   "source": []
  }
 ],
 "metadata": {
  "colab": {
   "authorship_tag": "ABX9TyNpnWlK/GJRVa9bEhpmPi+/",
   "mount_file_id": "1u5OC6zCL24QXleDM5LR_RjkfRuT1CpdD",
   "name": "",
   "toc_visible": true,
   "version": ""
  },
  "kernelspec": {
   "display_name": "Python 3 (ipykernel)",
   "language": "python",
   "name": "python3"
  },
  "language_info": {
   "codemirror_mode": {
    "name": "ipython",
    "version": 3
   },
   "file_extension": ".py",
   "mimetype": "text/x-python",
   "name": "python",
   "nbconvert_exporter": "python",
   "pygments_lexer": "ipython3",
   "version": "3.8.6"
  }
 },
 "nbformat": 4,
 "nbformat_minor": 1
}
