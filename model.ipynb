{
 "cells": [
  {
   "cell_type": "markdown",
   "metadata": {
    "id": "BRHHDxJh7Cjb"
   },
   "source": [
    "# Обучение модели Word2Vec на текстовых данных социальной сети VK, содержащих эмодзи"
   ]
  },
  {
   "cell_type": "markdown",
   "metadata": {},
   "source": [
    "### Импорт необходимых библиотек"
   ]
  },
  {
   "cell_type": "code",
   "execution_count": 1,
   "metadata": {},
   "outputs": [
    {
     "name": "stdout",
     "output_type": "stream",
     "text": [
      "Collecting gensim\n",
      "  Downloading gensim-4.3.1-cp38-cp38-win_amd64.whl (24.0 MB)\n",
      "Collecting pandas\n",
      "  Downloading pandas-1.5.3-cp38-cp38-win_amd64.whl (11.0 MB)\n",
      "Collecting nltk\n",
      "  Downloading nltk-3.8.1-py3-none-any.whl (1.5 MB)\n",
      "Collecting pymorphy2\n",
      "  Downloading pymorphy2-0.9.1-py3-none-any.whl (55 kB)\n",
      "Collecting emoji\n",
      "  Downloading emoji-2.2.0.tar.gz (240 kB)\n",
      "Collecting smart-open>=1.8.1\n",
      "  Downloading smart_open-6.3.0-py3-none-any.whl (56 kB)\n",
      "Collecting scipy>=1.7.0\n",
      "  Downloading scipy-1.10.1-cp38-cp38-win_amd64.whl (42.2 MB)\n",
      "Collecting numpy>=1.18.5\n",
      "  Downloading numpy-1.24.2-cp38-cp38-win_amd64.whl (14.9 MB)\n",
      "Collecting pytz>=2020.1\n",
      "  Downloading pytz-2023.2-py2.py3-none-any.whl (502 kB)\n",
      "Requirement already satisfied: python-dateutil>=2.8.1 in c:\\users\\admin\\appdata\\local\\programs\\python\\python38\\lib\\site-packages (from pandas) (2.8.2)\n",
      "Collecting joblib\n",
      "  Downloading joblib-1.2.0-py3-none-any.whl (297 kB)\n",
      "Collecting click\n",
      "  Downloading click-8.1.3-py3-none-any.whl (96 kB)\n",
      "Collecting regex>=2021.8.3\n",
      "  Downloading regex-2023.3.23-cp38-cp38-win_amd64.whl (267 kB)\n",
      "Collecting tqdm\n",
      "  Downloading tqdm-4.65.0-py3-none-any.whl (77 kB)\n",
      "Collecting pymorphy2-dicts-ru<3.0,>=2.4\n",
      "  Downloading pymorphy2_dicts_ru-2.4.417127.4579844-py2.py3-none-any.whl (8.2 MB)\n",
      "Collecting docopt>=0.6\n",
      "  Downloading docopt-0.6.2.tar.gz (25 kB)\n",
      "Collecting dawg-python>=0.7.1\n",
      "  Downloading DAWG_Python-0.7.2-py2.py3-none-any.whl (11 kB)\n",
      "Requirement already satisfied: six>=1.5 in c:\\users\\admin\\appdata\\local\\programs\\python\\python38\\lib\\site-packages (from python-dateutil>=2.8.1->pandas) (1.16.0)\n",
      "Requirement already satisfied: colorama; platform_system == \"Windows\" in c:\\users\\admin\\appdata\\local\\programs\\python\\python38\\lib\\site-packages (from click->nltk) (0.4.6)\n",
      "Using legacy 'setup.py install' for emoji, since package 'wheel' is not installed.\n",
      "Using legacy 'setup.py install' for docopt, since package 'wheel' is not installed.\n",
      "Installing collected packages: smart-open, numpy, scipy, gensim, pytz, pandas, joblib, click, regex, tqdm, nltk, pymorphy2-dicts-ru, docopt, dawg-python, pymorphy2, emoji\n",
      "    Running setup.py install for docopt: started\n",
      "    Running setup.py install for docopt: finished with status 'done'\n",
      "    Running setup.py install for emoji: started\n",
      "    Running setup.py install for emoji: finished with status 'done'\n",
      "Successfully installed click-8.1.3 dawg-python-0.7.2 docopt-0.6.2 emoji-2.2.0 gensim-4.3.1 joblib-1.2.0 nltk-3.8.1 numpy-1.24.2 pandas-1.5.3 pymorphy2-0.9.1 pymorphy2-dicts-ru-2.4.417127.4579844 pytz-2023.2 regex-2023.3.23 scipy-1.10.1 smart-open-6.3.0 tqdm-4.65.0\n"
     ]
    },
    {
     "name": "stderr",
     "output_type": "stream",
     "text": [
      "WARNING: You are using pip version 20.2.1; however, version 23.0.1 is available.\n",
      "You should consider upgrading via the 'c:\\users\\admin\\appdata\\local\\programs\\python\\python38\\python.exe -m pip install --upgrade pip' command.\n"
     ]
    }
   ],
   "source": [
    "!pip install --proxy 10.0.0.1:3128 gensim pandas nltk pymorphy2 emoji"
   ]
  },
  {
   "cell_type": "code",
   "execution_count": 2,
   "metadata": {
    "executionInfo": {
     "elapsed": 2703,
     "status": "ok",
     "timestamp": 1669725819205,
     "user": {
      "displayName": "Кира Солнышко",
      "userId": "04278268731702245812"
     },
     "user_tz": -180
    },
    "id": "xqfs3Y9Kkbdp"
   },
   "outputs": [],
   "source": [
    "import pandas as pd\n",
    "import nltk\n",
    "from nltk.corpus import brown\n",
    "from nltk.tokenize import word_tokenize\n",
    "from nltk.corpus import stopwords\n",
    "import re\n",
    "from gensim.models import Word2Vec as wv\n",
    "from gensim.models import KeyedVectors\n",
    "import pymorphy2\n",
    "from pymorphy2 import MorphAnalyzer\n",
    "import emoji\n",
    "import numpy as np"
   ]
  },
  {
   "cell_type": "code",
   "execution_count": 3,
   "metadata": {
    "colab": {
     "base_uri": "https://localhost:8080/"
    },
    "executionInfo": {
     "elapsed": 1,
     "status": "ok",
     "timestamp": 1669725821198,
     "user": {
      "displayName": "Кира Солнышко",
      "userId": "04278268731702245812"
     },
     "user_tz": -180
    },
    "id": "tvBUPeJRgSMs",
    "outputId": "64f7ff02-c85e-4c99-cfcd-7f2dd04b141a"
   },
   "outputs": [
    {
     "name": "stderr",
     "output_type": "stream",
     "text": [
      "[nltk_data] Downloading package stopwords to\n",
      "[nltk_data]     C:\\Users\\Admin\\AppData\\Roaming\\nltk_data...\n",
      "[nltk_data]   Unzipping corpora\\stopwords.zip.\n"
     ]
    },
    {
     "data": {
      "text/plain": [
       "True"
      ]
     },
     "execution_count": 3,
     "metadata": {},
     "output_type": "execute_result"
    }
   ],
   "source": [
    "nltk.download('stopwords')"
   ]
  },
  {
   "cell_type": "code",
   "execution_count": 4,
   "metadata": {
    "colab": {
     "base_uri": "https://localhost:8080/"
    },
    "executionInfo": {
     "elapsed": 1630,
     "status": "ok",
     "timestamp": 1669725824827,
     "user": {
      "displayName": "Кира Солнышко",
      "userId": "04278268731702245812"
     },
     "user_tz": -180
    },
    "id": "AFFiFfh5Y6SF",
    "outputId": "a688f47c-7076-4028-f066-3f7d93b97506"
   },
   "outputs": [
    {
     "name": "stderr",
     "output_type": "stream",
     "text": [
      "[nltk_data] Downloading package punkt to\n",
      "[nltk_data]     C:\\Users\\Admin\\AppData\\Roaming\\nltk_data...\n",
      "[nltk_data]   Unzipping tokenizers\\punkt.zip.\n"
     ]
    },
    {
     "data": {
      "text/plain": [
       "True"
      ]
     },
     "execution_count": 4,
     "metadata": {},
     "output_type": "execute_result"
    }
   ],
   "source": [
    "nltk.download('punkt')"
   ]
  },
  {
   "cell_type": "code",
   "execution_count": 5,
   "metadata": {},
   "outputs": [
    {
     "name": "stderr",
     "output_type": "stream",
     "text": [
      "[nltk_data] Downloading package averaged_perceptron_tagger to\n",
      "[nltk_data]     C:\\Users\\Admin\\AppData\\Roaming\\nltk_data...\n",
      "[nltk_data]   Unzipping taggers\\averaged_perceptron_tagger.zip.\n"
     ]
    },
    {
     "data": {
      "text/plain": [
       "True"
      ]
     },
     "execution_count": 5,
     "metadata": {},
     "output_type": "execute_result"
    }
   ],
   "source": [
    "nltk.download('averaged_perceptron_tagger')"
   ]
  },
  {
   "cell_type": "code",
   "execution_count": 6,
   "metadata": {},
   "outputs": [
    {
     "name": "stderr",
     "output_type": "stream",
     "text": [
      "[nltk_data] Downloading package averaged_perceptron_tagger_ru to\n",
      "[nltk_data]     C:\\Users\\Admin\\AppData\\Roaming\\nltk_data...\n",
      "[nltk_data]   Unzipping taggers\\averaged_perceptron_tagger_ru.zip.\n"
     ]
    },
    {
     "data": {
      "text/plain": [
       "True"
      ]
     },
     "execution_count": 6,
     "metadata": {},
     "output_type": "execute_result"
    }
   ],
   "source": [
    "nltk.download('averaged_perceptron_tagger_ru')"
   ]
  },
  {
   "cell_type": "code",
   "execution_count": 7,
   "metadata": {},
   "outputs": [
    {
     "name": "stderr",
     "output_type": "stream",
     "text": [
      "[nltk_data] Downloading package universal_tagset to\n",
      "[nltk_data]     C:\\Users\\Admin\\AppData\\Roaming\\nltk_data...\n",
      "[nltk_data]   Unzipping taggers\\universal_tagset.zip.\n"
     ]
    },
    {
     "data": {
      "text/plain": [
       "True"
      ]
     },
     "execution_count": 7,
     "metadata": {},
     "output_type": "execute_result"
    }
   ],
   "source": [
    "nltk.download('universal_tagset')"
   ]
  },
  {
   "cell_type": "markdown",
   "metadata": {
    "id": "xiEE9YPmUJ39"
   },
   "source": [
    "### Подготовка датасета со смайликами"
   ]
  },
  {
   "cell_type": "markdown",
   "metadata": {},
   "source": [
    "##### Чтение датасета "
   ]
  },
  {
   "cell_type": "code",
   "execution_count": 40,
   "metadata": {
    "id": "NtXHKgPTnE_z"
   },
   "outputs": [],
   "source": [
    "emojis = pd.read_csv('datasets/marking.csv')"
   ]
  },
  {
   "cell_type": "code",
   "execution_count": 41,
   "metadata": {
    "id": "eeq8-AnonTwn"
   },
   "outputs": [],
   "source": [
    "emojis = emojis.drop(columns=['image_id', 'name', 'group', 'sub_group', 'train'])"
   ]
  },
  {
   "cell_type": "code",
   "execution_count": 42,
   "metadata": {
    "colab": {
     "base_uri": "https://localhost:8080/",
     "height": 424
    },
    "executionInfo": {
     "elapsed": 22,
     "status": "ok",
     "timestamp": 1669400417194,
     "user": {
      "displayName": "Кира Солнышко",
      "userId": "04278268731702245812"
     },
     "user_tz": -180
    },
    "id": "y34ochEBn1m3",
    "outputId": "e1950e0f-3536-4dd8-a4d8-2c7b4d48a75c"
   },
   "outputs": [
    {
     "data": {
      "text/html": [
       "<div>\n",
       "<style scoped>\n",
       "    .dataframe tbody tr th:only-of-type {\n",
       "        vertical-align: middle;\n",
       "    }\n",
       "\n",
       "    .dataframe tbody tr th {\n",
       "        vertical-align: top;\n",
       "    }\n",
       "\n",
       "    .dataframe thead th {\n",
       "        text-align: right;\n",
       "    }\n",
       "</style>\n",
       "<table border=\"1\" class=\"dataframe\">\n",
       "  <thead>\n",
       "    <tr style=\"text-align: right;\">\n",
       "      <th></th>\n",
       "      <th>text</th>\n",
       "      <th>emoji</th>\n",
       "    </tr>\n",
       "  </thead>\n",
       "  <tbody>\n",
       "    <tr>\n",
       "      <th>0</th>\n",
       "      <td>Ухмыляющееся лицо</td>\n",
       "      <td>😀</td>\n",
       "    </tr>\n",
       "    <tr>\n",
       "      <th>1</th>\n",
       "      <td>Ухмыляющееся лицо с большими глазами</td>\n",
       "      <td>😃</td>\n",
       "    </tr>\n",
       "    <tr>\n",
       "      <th>2</th>\n",
       "      <td>Улыбающееся лицо с улыбающимися глазами</td>\n",
       "      <td>😄</td>\n",
       "    </tr>\n",
       "    <tr>\n",
       "      <th>3</th>\n",
       "      <td>Сияющее лицо с улыбающимися глазами</td>\n",
       "      <td>😁</td>\n",
       "    </tr>\n",
       "    <tr>\n",
       "      <th>4</th>\n",
       "      <td>Ухмыляющееся щурящееся лицо</td>\n",
       "      <td>😆</td>\n",
       "    </tr>\n",
       "    <tr>\n",
       "      <th>...</th>\n",
       "      <td>...</td>\n",
       "      <td>...</td>\n",
       "    </tr>\n",
       "    <tr>\n",
       "      <th>2744</th>\n",
       "      <td>Флаг: Замбия</td>\n",
       "      <td>🇲🇿</td>\n",
       "    </tr>\n",
       "    <tr>\n",
       "      <th>2745</th>\n",
       "      <td>Флаг: Зимбабве</td>\n",
       "      <td>🇿🇼</td>\n",
       "    </tr>\n",
       "    <tr>\n",
       "      <th>2746</th>\n",
       "      <td>Флаг: Англия</td>\n",
       "      <td>🏴󠁧󠁢󠁥󠁮󠁧󠁿</td>\n",
       "    </tr>\n",
       "    <tr>\n",
       "      <th>2747</th>\n",
       "      <td>Флаг: Шотландия</td>\n",
       "      <td>🏴󠁧󠁢󠁳󠁣󠁴󠁿</td>\n",
       "    </tr>\n",
       "    <tr>\n",
       "      <th>2748</th>\n",
       "      <td>Флаг: Уэльс</td>\n",
       "      <td>🏴󠁧󠁢󠁷󠁬󠁳󠁿</td>\n",
       "    </tr>\n",
       "  </tbody>\n",
       "</table>\n",
       "<p>2749 rows × 2 columns</p>\n",
       "</div>"
      ],
      "text/plain": [
       "                                         text    emoji\n",
       "0                           Ухмыляющееся лицо        😀\n",
       "1        Ухмыляющееся лицо с большими глазами        😃\n",
       "2     Улыбающееся лицо с улыбающимися глазами        😄\n",
       "3         Сияющее лицо с улыбающимися глазами        😁\n",
       "4                 Ухмыляющееся щурящееся лицо        😆\n",
       "...                                       ...      ...\n",
       "2744                             Флаг: Замбия       🇲🇿\n",
       "2745                           Флаг: Зимбабве       🇿🇼\n",
       "2746                             Флаг: Англия  🏴󠁧󠁢󠁥󠁮󠁧󠁿\n",
       "2747                          Флаг: Шотландия  🏴󠁧󠁢󠁳󠁣󠁴󠁿\n",
       "2748                              Флаг: Уэльс  🏴󠁧󠁢󠁷󠁬󠁳󠁿\n",
       "\n",
       "[2749 rows x 2 columns]"
      ]
     },
     "execution_count": 42,
     "metadata": {},
     "output_type": "execute_result"
    }
   ],
   "source": [
    "emojis"
   ]
  },
  {
   "cell_type": "markdown",
   "metadata": {},
   "source": [
    "##### Токенизация описания эмодзи"
   ]
  },
  {
   "cell_type": "code",
   "execution_count": 43,
   "metadata": {
    "id": "2kObsQ_1Wlc8"
   },
   "outputs": [],
   "source": [
    "regular = \"[A-Za-z0-9!#$%&'()*+,./:;<=>?@[\\]^_`{|}~—\\\"\\-]+\"\n",
    "full_tokens = []\n",
    "for text in emojis['text']:\n",
    "  text = re.sub(regular, '', text)\n",
    "  tokens = word_tokenize(text, language='russian')\n",
    "  full_tokens.append(tokens)\n",
    "emojis['tokens'] = full_tokens"
   ]
  },
  {
   "cell_type": "code",
   "execution_count": 44,
   "metadata": {
    "id": "0XiVvQi3Z_nc"
   },
   "outputs": [],
   "source": [
    "emojis= emojis.drop('text', axis = 1)"
   ]
  },
  {
   "cell_type": "code",
   "execution_count": 45,
   "metadata": {
    "colab": {
     "base_uri": "https://localhost:8080/",
     "height": 424
    },
    "executionInfo": {
     "elapsed": 19,
     "status": "ok",
     "timestamp": 1669400426436,
     "user": {
      "displayName": "Кира Солнышко",
      "userId": "04278268731702245812"
     },
     "user_tz": -180
    },
    "id": "LxPgWOtFa50d",
    "outputId": "14e32d48-33fe-453a-e545-33087a3c0c35"
   },
   "outputs": [
    {
     "data": {
      "text/html": [
       "<div>\n",
       "<style scoped>\n",
       "    .dataframe tbody tr th:only-of-type {\n",
       "        vertical-align: middle;\n",
       "    }\n",
       "\n",
       "    .dataframe tbody tr th {\n",
       "        vertical-align: top;\n",
       "    }\n",
       "\n",
       "    .dataframe thead th {\n",
       "        text-align: right;\n",
       "    }\n",
       "</style>\n",
       "<table border=\"1\" class=\"dataframe\">\n",
       "  <thead>\n",
       "    <tr style=\"text-align: right;\">\n",
       "      <th></th>\n",
       "      <th>emoji</th>\n",
       "      <th>tokens</th>\n",
       "    </tr>\n",
       "  </thead>\n",
       "  <tbody>\n",
       "    <tr>\n",
       "      <th>0</th>\n",
       "      <td>😀</td>\n",
       "      <td>[Ухмыляющееся, лицо]</td>\n",
       "    </tr>\n",
       "    <tr>\n",
       "      <th>1</th>\n",
       "      <td>😃</td>\n",
       "      <td>[Ухмыляющееся, лицо, с, большими, глазами]</td>\n",
       "    </tr>\n",
       "    <tr>\n",
       "      <th>2</th>\n",
       "      <td>😄</td>\n",
       "      <td>[Улыбающееся, лицо, с, улыбающимися, глазами]</td>\n",
       "    </tr>\n",
       "    <tr>\n",
       "      <th>3</th>\n",
       "      <td>😁</td>\n",
       "      <td>[Сияющее, лицо, с, улыбающимися, глазами]</td>\n",
       "    </tr>\n",
       "    <tr>\n",
       "      <th>4</th>\n",
       "      <td>😆</td>\n",
       "      <td>[Ухмыляющееся, щурящееся, лицо]</td>\n",
       "    </tr>\n",
       "    <tr>\n",
       "      <th>...</th>\n",
       "      <td>...</td>\n",
       "      <td>...</td>\n",
       "    </tr>\n",
       "    <tr>\n",
       "      <th>2744</th>\n",
       "      <td>🇲🇿</td>\n",
       "      <td>[Флаг, Замбия]</td>\n",
       "    </tr>\n",
       "    <tr>\n",
       "      <th>2745</th>\n",
       "      <td>🇿🇼</td>\n",
       "      <td>[Флаг, Зимбабве]</td>\n",
       "    </tr>\n",
       "    <tr>\n",
       "      <th>2746</th>\n",
       "      <td>🏴󠁧󠁢󠁥󠁮󠁧󠁿</td>\n",
       "      <td>[Флаг, Англия]</td>\n",
       "    </tr>\n",
       "    <tr>\n",
       "      <th>2747</th>\n",
       "      <td>🏴󠁧󠁢󠁳󠁣󠁴󠁿</td>\n",
       "      <td>[Флаг, Шотландия]</td>\n",
       "    </tr>\n",
       "    <tr>\n",
       "      <th>2748</th>\n",
       "      <td>🏴󠁧󠁢󠁷󠁬󠁳󠁿</td>\n",
       "      <td>[Флаг, Уэльс]</td>\n",
       "    </tr>\n",
       "  </tbody>\n",
       "</table>\n",
       "<p>2749 rows × 2 columns</p>\n",
       "</div>"
      ],
      "text/plain": [
       "        emoji                                         tokens\n",
       "0           😀                           [Ухмыляющееся, лицо]\n",
       "1           😃     [Ухмыляющееся, лицо, с, большими, глазами]\n",
       "2           😄  [Улыбающееся, лицо, с, улыбающимися, глазами]\n",
       "3           😁      [Сияющее, лицо, с, улыбающимися, глазами]\n",
       "4           😆                [Ухмыляющееся, щурящееся, лицо]\n",
       "...       ...                                            ...\n",
       "2744       🇲🇿                                 [Флаг, Замбия]\n",
       "2745       🇿🇼                               [Флаг, Зимбабве]\n",
       "2746  🏴󠁧󠁢󠁥󠁮󠁧󠁿                                 [Флаг, Англия]\n",
       "2747  🏴󠁧󠁢󠁳󠁣󠁴󠁿                              [Флаг, Шотландия]\n",
       "2748  🏴󠁧󠁢󠁷󠁬󠁳󠁿                                  [Флаг, Уэльс]\n",
       "\n",
       "[2749 rows x 2 columns]"
      ]
     },
     "execution_count": 45,
     "metadata": {},
     "output_type": "execute_result"
    }
   ],
   "source": [
    "emojis"
   ]
  },
  {
   "cell_type": "markdown",
   "metadata": {},
   "source": [
    "##### Приведение к нормальной форме всех слов в описании"
   ]
  },
  {
   "cell_type": "code",
   "execution_count": 46,
   "metadata": {
    "id": "OEmihHsubf-7"
   },
   "outputs": [],
   "source": [
    "filtered = []\n",
    "morph = pymorphy2.MorphAnalyzer()\n",
    "for tokens in emojis['tokens']:\n",
    "  filtered_tokens = []\n",
    "  for token in tokens:\n",
    "    token = morph.normal_forms(token)[0]\n",
    "    if token not in stopwords.words('russian'):\n",
    "      filtered_tokens.append(token)\n",
    "  filtered.append(filtered_tokens)"
   ]
  },
  {
   "cell_type": "code",
   "execution_count": 47,
   "metadata": {
    "id": "Ppge7AK1hegT"
   },
   "outputs": [],
   "source": [
    "emojis['filtered'] = filtered"
   ]
  },
  {
   "cell_type": "code",
   "execution_count": 48,
   "metadata": {
    "id": "xoGWlKhxiT7S"
   },
   "outputs": [],
   "source": [
    "emojis = emojis.drop('tokens', axis = 1)"
   ]
  },
  {
   "cell_type": "code",
   "execution_count": 49,
   "metadata": {
    "colab": {
     "base_uri": "https://localhost:8080/",
     "height": 424
    },
    "executionInfo": {
     "elapsed": 24,
     "status": "ok",
     "timestamp": 1669400443034,
     "user": {
      "displayName": "Кира Солнышко",
      "userId": "04278268731702245812"
     },
     "user_tz": -180
    },
    "id": "_lu_QRKqiXjZ",
    "outputId": "9d7bb335-7889-4362-ccfe-a7467623363c"
   },
   "outputs": [
    {
     "data": {
      "text/html": [
       "<div>\n",
       "<style scoped>\n",
       "    .dataframe tbody tr th:only-of-type {\n",
       "        vertical-align: middle;\n",
       "    }\n",
       "\n",
       "    .dataframe tbody tr th {\n",
       "        vertical-align: top;\n",
       "    }\n",
       "\n",
       "    .dataframe thead th {\n",
       "        text-align: right;\n",
       "    }\n",
       "</style>\n",
       "<table border=\"1\" class=\"dataframe\">\n",
       "  <thead>\n",
       "    <tr style=\"text-align: right;\">\n",
       "      <th></th>\n",
       "      <th>emoji</th>\n",
       "      <th>filtered</th>\n",
       "    </tr>\n",
       "  </thead>\n",
       "  <tbody>\n",
       "    <tr>\n",
       "      <th>0</th>\n",
       "      <td>😀</td>\n",
       "      <td>[ухмыляться, лицо]</td>\n",
       "    </tr>\n",
       "    <tr>\n",
       "      <th>1</th>\n",
       "      <td>😃</td>\n",
       "      <td>[ухмыляться, лицо, больший, глаз]</td>\n",
       "    </tr>\n",
       "    <tr>\n",
       "      <th>2</th>\n",
       "      <td>😄</td>\n",
       "      <td>[улыбаться, лицо, улыбаться, глаз]</td>\n",
       "    </tr>\n",
       "    <tr>\n",
       "      <th>3</th>\n",
       "      <td>😁</td>\n",
       "      <td>[сиять, лицо, улыбаться, глаз]</td>\n",
       "    </tr>\n",
       "    <tr>\n",
       "      <th>4</th>\n",
       "      <td>😆</td>\n",
       "      <td>[ухмыляться, щуриться, лицо]</td>\n",
       "    </tr>\n",
       "    <tr>\n",
       "      <th>...</th>\n",
       "      <td>...</td>\n",
       "      <td>...</td>\n",
       "    </tr>\n",
       "    <tr>\n",
       "      <th>2744</th>\n",
       "      <td>🇲🇿</td>\n",
       "      <td>[флаг, замбия]</td>\n",
       "    </tr>\n",
       "    <tr>\n",
       "      <th>2745</th>\n",
       "      <td>🇿🇼</td>\n",
       "      <td>[флаг, зимбабве]</td>\n",
       "    </tr>\n",
       "    <tr>\n",
       "      <th>2746</th>\n",
       "      <td>🏴󠁧󠁢󠁥󠁮󠁧󠁿</td>\n",
       "      <td>[флаг, англия]</td>\n",
       "    </tr>\n",
       "    <tr>\n",
       "      <th>2747</th>\n",
       "      <td>🏴󠁧󠁢󠁳󠁣󠁴󠁿</td>\n",
       "      <td>[флаг, шотландия]</td>\n",
       "    </tr>\n",
       "    <tr>\n",
       "      <th>2748</th>\n",
       "      <td>🏴󠁧󠁢󠁷󠁬󠁳󠁿</td>\n",
       "      <td>[флаг, уэльс]</td>\n",
       "    </tr>\n",
       "  </tbody>\n",
       "</table>\n",
       "<p>2749 rows × 2 columns</p>\n",
       "</div>"
      ],
      "text/plain": [
       "        emoji                            filtered\n",
       "0           😀                  [ухмыляться, лицо]\n",
       "1           😃   [ухмыляться, лицо, больший, глаз]\n",
       "2           😄  [улыбаться, лицо, улыбаться, глаз]\n",
       "3           😁      [сиять, лицо, улыбаться, глаз]\n",
       "4           😆        [ухмыляться, щуриться, лицо]\n",
       "...       ...                                 ...\n",
       "2744       🇲🇿                      [флаг, замбия]\n",
       "2745       🇿🇼                    [флаг, зимбабве]\n",
       "2746  🏴󠁧󠁢󠁥󠁮󠁧󠁿                      [флаг, англия]\n",
       "2747  🏴󠁧󠁢󠁳󠁣󠁴󠁿                   [флаг, шотландия]\n",
       "2748  🏴󠁧󠁢󠁷󠁬󠁳󠁿                       [флаг, уэльс]\n",
       "\n",
       "[2749 rows x 2 columns]"
      ]
     },
     "execution_count": 49,
     "metadata": {},
     "output_type": "execute_result"
    }
   ],
   "source": [
    "emojis"
   ]
  },
  {
   "cell_type": "markdown",
   "metadata": {},
   "source": [
    "##### Объединение смайлика с описанием для получения единого предложения для дальнейшего использования датасета для обучения модели"
   ]
  },
  {
   "cell_type": "code",
   "execution_count": 50,
   "metadata": {
    "id": "ScMf7pLkiaPB"
   },
   "outputs": [],
   "source": [
    "for e in emojis['emoji']:\n",
    "  ind = emojis[emojis['emoji'] == e].index\n",
    "  ind.to_list()\n",
    "  emojis.at[ind[0], 'filtered'].append(e)"
   ]
  },
  {
   "cell_type": "code",
   "execution_count": 51,
   "metadata": {
    "id": "-jOzvpGAqRbn"
   },
   "outputs": [],
   "source": [
    "emojis = emojis.drop('emoji', axis = 1)"
   ]
  },
  {
   "cell_type": "code",
   "execution_count": 52,
   "metadata": {
    "colab": {
     "base_uri": "https://localhost:8080/",
     "height": 424
    },
    "executionInfo": {
     "elapsed": 22,
     "status": "ok",
     "timestamp": 1669400454081,
     "user": {
      "displayName": "Кира Солнышко",
      "userId": "04278268731702245812"
     },
     "user_tz": -180
    },
    "id": "_dkq9XMss0CI",
    "outputId": "33f71566-abcc-4d21-e275-8b0a5e87348a"
   },
   "outputs": [
    {
     "data": {
      "text/html": [
       "<div>\n",
       "<style scoped>\n",
       "    .dataframe tbody tr th:only-of-type {\n",
       "        vertical-align: middle;\n",
       "    }\n",
       "\n",
       "    .dataframe tbody tr th {\n",
       "        vertical-align: top;\n",
       "    }\n",
       "\n",
       "    .dataframe thead th {\n",
       "        text-align: right;\n",
       "    }\n",
       "</style>\n",
       "<table border=\"1\" class=\"dataframe\">\n",
       "  <thead>\n",
       "    <tr style=\"text-align: right;\">\n",
       "      <th></th>\n",
       "      <th>filtered</th>\n",
       "    </tr>\n",
       "  </thead>\n",
       "  <tbody>\n",
       "    <tr>\n",
       "      <th>0</th>\n",
       "      <td>[ухмыляться, лицо, 😀]</td>\n",
       "    </tr>\n",
       "    <tr>\n",
       "      <th>1</th>\n",
       "      <td>[ухмыляться, лицо, больший, глаз, 😃]</td>\n",
       "    </tr>\n",
       "    <tr>\n",
       "      <th>2</th>\n",
       "      <td>[улыбаться, лицо, улыбаться, глаз, 😄]</td>\n",
       "    </tr>\n",
       "    <tr>\n",
       "      <th>3</th>\n",
       "      <td>[сиять, лицо, улыбаться, глаз, 😁]</td>\n",
       "    </tr>\n",
       "    <tr>\n",
       "      <th>4</th>\n",
       "      <td>[ухмыляться, щуриться, лицо, 😆]</td>\n",
       "    </tr>\n",
       "    <tr>\n",
       "      <th>...</th>\n",
       "      <td>...</td>\n",
       "    </tr>\n",
       "    <tr>\n",
       "      <th>2744</th>\n",
       "      <td>[флаг, замбия]</td>\n",
       "    </tr>\n",
       "    <tr>\n",
       "      <th>2745</th>\n",
       "      <td>[флаг, зимбабве, 🇿🇼]</td>\n",
       "    </tr>\n",
       "    <tr>\n",
       "      <th>2746</th>\n",
       "      <td>[флаг, англия, 🏴󠁧󠁢󠁥󠁮󠁧󠁿]</td>\n",
       "    </tr>\n",
       "    <tr>\n",
       "      <th>2747</th>\n",
       "      <td>[флаг, шотландия, 🏴󠁧󠁢󠁳󠁣󠁴󠁿]</td>\n",
       "    </tr>\n",
       "    <tr>\n",
       "      <th>2748</th>\n",
       "      <td>[флаг, уэльс, 🏴󠁧󠁢󠁷󠁬󠁳󠁿]</td>\n",
       "    </tr>\n",
       "  </tbody>\n",
       "</table>\n",
       "<p>2749 rows × 1 columns</p>\n",
       "</div>"
      ],
      "text/plain": [
       "                                   filtered\n",
       "0                     [ухмыляться, лицо, 😀]\n",
       "1      [ухмыляться, лицо, больший, глаз, 😃]\n",
       "2     [улыбаться, лицо, улыбаться, глаз, 😄]\n",
       "3         [сиять, лицо, улыбаться, глаз, 😁]\n",
       "4           [ухмыляться, щуриться, лицо, 😆]\n",
       "...                                     ...\n",
       "2744                         [флаг, замбия]\n",
       "2745                   [флаг, зимбабве, 🇿🇼]\n",
       "2746                [флаг, англия, 🏴󠁧󠁢󠁥󠁮󠁧󠁿]\n",
       "2747             [флаг, шотландия, 🏴󠁧󠁢󠁳󠁣󠁴󠁿]\n",
       "2748                 [флаг, уэльс, 🏴󠁧󠁢󠁷󠁬󠁳󠁿]\n",
       "\n",
       "[2749 rows x 1 columns]"
      ]
     },
     "execution_count": 52,
     "metadata": {},
     "output_type": "execute_result"
    }
   ],
   "source": [
    "emojis"
   ]
  },
  {
   "cell_type": "code",
   "execution_count": 55,
   "metadata": {},
   "outputs": [
    {
     "data": {
      "text/plain": [
       "list"
      ]
     },
     "execution_count": 55,
     "metadata": {},
     "output_type": "execute_result"
    }
   ],
   "source": [
    "type(emojis['filtered'].iloc[1])"
   ]
  },
  {
   "cell_type": "code",
   "execution_count": 56,
   "metadata": {},
   "outputs": [],
   "source": [
    "emojis_data = emojis['filtered'].values.tolist()"
   ]
  },
  {
   "cell_type": "code",
   "execution_count": 57,
   "metadata": {},
   "outputs": [
    {
     "data": {
      "text/plain": [
       "[['ухмыляться', 'лицо', '😀'],\n",
       " ['ухмыляться', 'лицо', 'больший', 'глаз', '😃'],\n",
       " ['улыбаться', 'лицо', 'улыбаться', 'глаз', '😄'],\n",
       " ['сиять', 'лицо', 'улыбаться', 'глаз', '😁'],\n",
       " ['ухмыляться', 'щуриться', 'лицо', '😆']]"
      ]
     },
     "execution_count": 57,
     "metadata": {},
     "output_type": "execute_result"
    }
   ],
   "source": [
    "emojis_data[:5]"
   ]
  },
  {
   "cell_type": "code",
   "execution_count": 58,
   "metadata": {},
   "outputs": [
    {
     "data": {
      "text/plain": [
       "list"
      ]
     },
     "execution_count": 58,
     "metadata": {},
     "output_type": "execute_result"
    }
   ],
   "source": [
    "type(emojis_data)"
   ]
  },
  {
   "cell_type": "code",
   "execution_count": 59,
   "metadata": {},
   "outputs": [
    {
     "data": {
      "text/plain": [
       "list"
      ]
     },
     "execution_count": 59,
     "metadata": {},
     "output_type": "execute_result"
    }
   ],
   "source": [
    "type(emojis_data[1])"
   ]
  },
  {
   "cell_type": "markdown",
   "metadata": {
    "id": "HVUzrXzY_ECa"
   },
   "source": [
    "### Подготовка датасета с комментариями ВК"
   ]
  },
  {
   "cell_type": "markdown",
   "metadata": {},
   "source": [
    "##### Чтение датасета"
   ]
  },
  {
   "cell_type": "code",
   "execution_count": 19,
   "metadata": {
    "executionInfo": {
     "elapsed": 376,
     "status": "ok",
     "timestamp": 1669725829482,
     "user": {
      "displayName": "Кира Солнышко",
      "userId": "04278268731702245812"
     },
     "user_tz": -180
    },
    "id": "STvbA0SfBvQl"
   },
   "outputs": [],
   "source": [
    "colnames = ['index', 'comment']"
   ]
  },
  {
   "cell_type": "code",
   "execution_count": 21,
   "metadata": {
    "executionInfo": {
     "elapsed": 2108,
     "status": "ok",
     "timestamp": 1669725833553,
     "user": {
      "displayName": "Кира Солнышко",
      "userId": "04278268731702245812"
     },
     "user_tz": -180
    },
    "id": "1k3UHMQh_C4g"
   },
   "outputs": [],
   "source": [
    "comments = pd.read_csv('datasets/dataset_vk.csv', names=colnames, header=0, sep='\\t')"
   ]
  },
  {
   "cell_type": "code",
   "execution_count": 22,
   "metadata": {},
   "outputs": [
    {
     "data": {
      "text/html": [
       "<div>\n",
       "<style scoped>\n",
       "    .dataframe tbody tr th:only-of-type {\n",
       "        vertical-align: middle;\n",
       "    }\n",
       "\n",
       "    .dataframe tbody tr th {\n",
       "        vertical-align: top;\n",
       "    }\n",
       "\n",
       "    .dataframe thead th {\n",
       "        text-align: right;\n",
       "    }\n",
       "</style>\n",
       "<table border=\"1\" class=\"dataframe\">\n",
       "  <thead>\n",
       "    <tr style=\"text-align: right;\">\n",
       "      <th></th>\n",
       "      <th>index</th>\n",
       "      <th>comment</th>\n",
       "    </tr>\n",
       "  </thead>\n",
       "  <tbody>\n",
       "    <tr>\n",
       "      <th>0</th>\n",
       "      <td>0</td>\n",
       "      <td>['норма']</td>\n",
       "    </tr>\n",
       "    <tr>\n",
       "      <th>1</th>\n",
       "      <td>1</td>\n",
       "      <td>['😁']</td>\n",
       "    </tr>\n",
       "    <tr>\n",
       "      <th>2</th>\n",
       "      <td>2</td>\n",
       "      <td>['воронка', 'цветок', 'вода', '💮']</td>\n",
       "    </tr>\n",
       "    <tr>\n",
       "      <th>3</th>\n",
       "      <td>3</td>\n",
       "      <td>['сша', 'фашизм']</td>\n",
       "    </tr>\n",
       "    <tr>\n",
       "      <th>4</th>\n",
       "      <td>4</td>\n",
       "      <td>['злодей', 'целый', 'месяц', 'ждать']</td>\n",
       "    </tr>\n",
       "    <tr>\n",
       "      <th>...</th>\n",
       "      <td>...</td>\n",
       "      <td>...</td>\n",
       "    </tr>\n",
       "    <tr>\n",
       "      <th>20575</th>\n",
       "      <td>20575</td>\n",
       "      <td>['с', 'фамилия', '🙄']</td>\n",
       "    </tr>\n",
       "    <tr>\n",
       "      <th>20576</th>\n",
       "      <td>20576</td>\n",
       "      <td>['наш', 'день', 'повезти', 'мужик', 'фамилия',...</td>\n",
       "    </tr>\n",
       "    <tr>\n",
       "      <th>20577</th>\n",
       "      <td>20577</td>\n",
       "      <td>['чудо', 'чудной', 'диво', 'дивный']</td>\n",
       "    </tr>\n",
       "    <tr>\n",
       "      <th>20578</th>\n",
       "      <td>20578</td>\n",
       "      <td>['пригреться', 'уснуть', 'свариться', 'лягушка...</td>\n",
       "    </tr>\n",
       "    <tr>\n",
       "      <th>20579</th>\n",
       "      <td>20579</td>\n",
       "      <td>['добрый', 'день', 'вполне', 'возможно', 'пере...</td>\n",
       "    </tr>\n",
       "  </tbody>\n",
       "</table>\n",
       "<p>20580 rows × 2 columns</p>\n",
       "</div>"
      ],
      "text/plain": [
       "       index                                            comment\n",
       "0          0                                          ['норма']\n",
       "1          1                                              ['😁']\n",
       "2          2                 ['воронка', 'цветок', 'вода', '💮']\n",
       "3          3                                  ['сша', 'фашизм']\n",
       "4          4              ['злодей', 'целый', 'месяц', 'ждать']\n",
       "...      ...                                                ...\n",
       "20575  20575                              ['с', 'фамилия', '🙄']\n",
       "20576  20576  ['наш', 'день', 'повезти', 'мужик', 'фамилия',...\n",
       "20577  20577               ['чудо', 'чудной', 'диво', 'дивный']\n",
       "20578  20578  ['пригреться', 'уснуть', 'свариться', 'лягушка...\n",
       "20579  20579  ['добрый', 'день', 'вполне', 'возможно', 'пере...\n",
       "\n",
       "[20580 rows x 2 columns]"
      ]
     },
     "execution_count": 22,
     "metadata": {},
     "output_type": "execute_result"
    }
   ],
   "source": [
    "comments"
   ]
  },
  {
   "cell_type": "code",
   "execution_count": 23,
   "metadata": {
    "executionInfo": {
     "elapsed": 1,
     "status": "ok",
     "timestamp": 1669725837829,
     "user": {
      "displayName": "Кира Солнышко",
      "userId": "04278268731702245812"
     },
     "user_tz": -180
    },
    "id": "X9tp101mAjF9"
   },
   "outputs": [],
   "source": [
    "comments = comments.drop(columns = ['index'],axis = 1)"
   ]
  },
  {
   "cell_type": "code",
   "execution_count": 24,
   "metadata": {},
   "outputs": [
    {
     "data": {
      "text/html": [
       "<div>\n",
       "<style scoped>\n",
       "    .dataframe tbody tr th:only-of-type {\n",
       "        vertical-align: middle;\n",
       "    }\n",
       "\n",
       "    .dataframe tbody tr th {\n",
       "        vertical-align: top;\n",
       "    }\n",
       "\n",
       "    .dataframe thead th {\n",
       "        text-align: right;\n",
       "    }\n",
       "</style>\n",
       "<table border=\"1\" class=\"dataframe\">\n",
       "  <thead>\n",
       "    <tr style=\"text-align: right;\">\n",
       "      <th></th>\n",
       "      <th>comment</th>\n",
       "    </tr>\n",
       "  </thead>\n",
       "  <tbody>\n",
       "    <tr>\n",
       "      <th>0</th>\n",
       "      <td>['норма']</td>\n",
       "    </tr>\n",
       "    <tr>\n",
       "      <th>1</th>\n",
       "      <td>['😁']</td>\n",
       "    </tr>\n",
       "    <tr>\n",
       "      <th>2</th>\n",
       "      <td>['воронка', 'цветок', 'вода', '💮']</td>\n",
       "    </tr>\n",
       "    <tr>\n",
       "      <th>3</th>\n",
       "      <td>['сша', 'фашизм']</td>\n",
       "    </tr>\n",
       "    <tr>\n",
       "      <th>4</th>\n",
       "      <td>['злодей', 'целый', 'месяц', 'ждать']</td>\n",
       "    </tr>\n",
       "    <tr>\n",
       "      <th>...</th>\n",
       "      <td>...</td>\n",
       "    </tr>\n",
       "    <tr>\n",
       "      <th>20575</th>\n",
       "      <td>['с', 'фамилия', '🙄']</td>\n",
       "    </tr>\n",
       "    <tr>\n",
       "      <th>20576</th>\n",
       "      <td>['наш', 'день', 'повезти', 'мужик', 'фамилия',...</td>\n",
       "    </tr>\n",
       "    <tr>\n",
       "      <th>20577</th>\n",
       "      <td>['чудо', 'чудной', 'диво', 'дивный']</td>\n",
       "    </tr>\n",
       "    <tr>\n",
       "      <th>20578</th>\n",
       "      <td>['пригреться', 'уснуть', 'свариться', 'лягушка...</td>\n",
       "    </tr>\n",
       "    <tr>\n",
       "      <th>20579</th>\n",
       "      <td>['добрый', 'день', 'вполне', 'возможно', 'пере...</td>\n",
       "    </tr>\n",
       "  </tbody>\n",
       "</table>\n",
       "<p>20580 rows × 1 columns</p>\n",
       "</div>"
      ],
      "text/plain": [
       "                                                 comment\n",
       "0                                              ['норма']\n",
       "1                                                  ['😁']\n",
       "2                     ['воронка', 'цветок', 'вода', '💮']\n",
       "3                                      ['сша', 'фашизм']\n",
       "4                  ['злодей', 'целый', 'месяц', 'ждать']\n",
       "...                                                  ...\n",
       "20575                              ['с', 'фамилия', '🙄']\n",
       "20576  ['наш', 'день', 'повезти', 'мужик', 'фамилия',...\n",
       "20577               ['чудо', 'чудной', 'диво', 'дивный']\n",
       "20578  ['пригреться', 'уснуть', 'свариться', 'лягушка...\n",
       "20579  ['добрый', 'день', 'вполне', 'возможно', 'пере...\n",
       "\n",
       "[20580 rows x 1 columns]"
      ]
     },
     "execution_count": 24,
     "metadata": {},
     "output_type": "execute_result"
    }
   ],
   "source": [
    "comments"
   ]
  },
  {
   "cell_type": "code",
   "execution_count": 25,
   "metadata": {},
   "outputs": [],
   "source": [
    "vk_df = pd.DataFrame()"
   ]
  },
  {
   "cell_type": "code",
   "execution_count": 26,
   "metadata": {},
   "outputs": [],
   "source": [
    "vk_df['text'] = comments['comment'].apply(str_to_list)"
   ]
  },
  {
   "cell_type": "code",
   "execution_count": 27,
   "metadata": {},
   "outputs": [],
   "source": [
    "vk_data = vk_df['text'].values.tolist()"
   ]
  },
  {
   "cell_type": "code",
   "execution_count": 28,
   "metadata": {},
   "outputs": [
    {
     "data": {
      "text/plain": [
       "[['норма'],\n",
       " ['😁'],\n",
       " ['воронка', 'цветок', 'вода', '💮'],\n",
       " ['сша', 'фашизм'],\n",
       " ['злодей', 'целый', 'месяц', 'ждать']]"
      ]
     },
     "execution_count": 28,
     "metadata": {},
     "output_type": "execute_result"
    }
   ],
   "source": [
    "vk_data[:5]"
   ]
  },
  {
   "cell_type": "code",
   "execution_count": 33,
   "metadata": {},
   "outputs": [
    {
     "data": {
      "text/plain": [
       "list"
      ]
     },
     "execution_count": 33,
     "metadata": {},
     "output_type": "execute_result"
    }
   ],
   "source": [
    "type(vk_data)"
   ]
  },
  {
   "cell_type": "code",
   "execution_count": 34,
   "metadata": {},
   "outputs": [
    {
     "data": {
      "text/plain": [
       "list"
      ]
     },
     "execution_count": 34,
     "metadata": {},
     "output_type": "execute_result"
    }
   ],
   "source": [
    "type(vk_data[1])"
   ]
  },
  {
   "cell_type": "markdown",
   "metadata": {},
   "source": [
    "## Загрузка датасета lenta.ru из corus (natasha)"
   ]
  },
  {
   "cell_type": "code",
   "execution_count": 9,
   "metadata": {},
   "outputs": [],
   "source": [
    "lenta_learn = pd.read_csv('lenta_df_lern.csv')"
   ]
  },
  {
   "cell_type": "code",
   "execution_count": 10,
   "metadata": {},
   "outputs": [
    {
     "data": {
      "text/html": [
       "<div>\n",
       "<style scoped>\n",
       "    .dataframe tbody tr th:only-of-type {\n",
       "        vertical-align: middle;\n",
       "    }\n",
       "\n",
       "    .dataframe tbody tr th {\n",
       "        vertical-align: top;\n",
       "    }\n",
       "\n",
       "    .dataframe thead th {\n",
       "        text-align: right;\n",
       "    }\n",
       "</style>\n",
       "<table border=\"1\" class=\"dataframe\">\n",
       "  <thead>\n",
       "    <tr style=\"text-align: right;\">\n",
       "      <th></th>\n",
       "      <th>Unnamed: 0</th>\n",
       "      <th>text</th>\n",
       "    </tr>\n",
       "  </thead>\n",
       "  <tbody>\n",
       "    <tr>\n",
       "      <th>0</th>\n",
       "      <td>0</td>\n",
       "      <td>['бой', 'сопоцкина', 'друскеник', 'закончиться...</td>\n",
       "    </tr>\n",
       "    <tr>\n",
       "      <th>1</th>\n",
       "      <td>1</td>\n",
       "      <td>['министерство', 'народный', 'просвещение', 'в...</td>\n",
       "    </tr>\n",
       "  </tbody>\n",
       "</table>\n",
       "</div>"
      ],
      "text/plain": [
       "   Unnamed: 0                                               text\n",
       "0           0  ['бой', 'сопоцкина', 'друскеник', 'закончиться...\n",
       "1           1  ['министерство', 'народный', 'просвещение', 'в..."
      ]
     },
     "execution_count": 10,
     "metadata": {},
     "output_type": "execute_result"
    }
   ],
   "source": [
    "lenta_learn.head(2)"
   ]
  },
  {
   "cell_type": "code",
   "execution_count": 14,
   "metadata": {},
   "outputs": [],
   "source": [
    "def str_to_list(i):\n",
    "    new_list = eval(i)\n",
    "    return new_list"
   ]
  },
  {
   "cell_type": "code",
   "execution_count": 15,
   "metadata": {},
   "outputs": [],
   "source": [
    "lenta_df = pd.DataFrame()"
   ]
  },
  {
   "cell_type": "code",
   "execution_count": 16,
   "metadata": {},
   "outputs": [],
   "source": [
    "lenta_df['text'] = lenta_learn['text'].apply(str_to_list)"
   ]
  },
  {
   "cell_type": "code",
   "execution_count": 29,
   "metadata": {},
   "outputs": [],
   "source": [
    "lenta_data = lenta_df['text'].values.tolist()"
   ]
  },
  {
   "cell_type": "code",
   "execution_count": 30,
   "metadata": {},
   "outputs": [
    {
     "data": {
      "text/plain": [
       "[['бой',\n",
       "  'сопоцкина',\n",
       "  'друскеник',\n",
       "  'закончиться',\n",
       "  'отступление',\n",
       "  'германец',\n",
       "  'неприятель',\n",
       "  'приблизиться',\n",
       "  'север',\n",
       "  'осовца',\n",
       "  'начать',\n",
       "  'артиллерийский',\n",
       "  'борьба',\n",
       "  'крепость',\n",
       "  'в',\n",
       "  'артиллерийский',\n",
       "  'бой',\n",
       "  'принимать',\n",
       "  'участие',\n",
       "  'тяжёлый',\n",
       "  'калибр',\n",
       "  'с',\n",
       "  'ранний',\n",
       "  'утро',\n",
       "  'сентябрь',\n",
       "  'огонь',\n",
       "  'достигнуть',\n",
       "  'значительный',\n",
       "  'напряжение',\n",
       "  'попытка',\n",
       "  'германский',\n",
       "  'пехота',\n",
       "  'пробиться',\n",
       "  'близкий',\n",
       "  'крепость',\n",
       "  'отразить',\n",
       "  'в',\n",
       "  'галиция',\n",
       "  'занять',\n",
       "  'дембица',\n",
       "  'больший',\n",
       "  'колонна',\n",
       "  'отступать',\n",
       "  'шоссе',\n",
       "  'перемышль',\n",
       "  'санок',\n",
       "  'обстреливаться',\n",
       "  'высота',\n",
       "  'наш',\n",
       "  'батарея',\n",
       "  'бежать',\n",
       "  'бросить',\n",
       "  'парка',\n",
       "  'обоз',\n",
       "  'автомобиль',\n",
       "  'вылазка',\n",
       "  'гарнизон',\n",
       "  'перемышль',\n",
       "  'оставаться',\n",
       "  'безуспешный',\n",
       "  'при',\n",
       "  'продолжаться',\n",
       "  'отступление',\n",
       "  'австриец',\n",
       "  'обнаруживаться',\n",
       "  'полный',\n",
       "  'перемешивание',\n",
       "  'часть',\n",
       "  'захватываться',\n",
       "  'новый',\n",
       "  'партия',\n",
       "  'пленный',\n",
       "  'орудие',\n",
       "  'прочий',\n",
       "  'материальный',\n",
       "  'часть',\n",
       "  'на',\n",
       "  'перевал',\n",
       "  'ужок',\n",
       "  'разбить',\n",
       "  'неприятельский',\n",
       "  'отряд',\n",
       "  'взять',\n",
       "  'артиллерия',\n",
       "  'пленный',\n",
       "  'продолжать',\n",
       "  'преследовать',\n",
       "  'вступить',\n",
       "  'предел',\n",
       "  'венгрия',\n",
       "  '«русский',\n",
       "  'инвалид»',\n",
       "  'сентябрь',\n",
       "  'год'],\n",
       " ['министерство',\n",
       "  'народный',\n",
       "  'просвещение',\n",
       "  'вид',\n",
       "  'происходить',\n",
       "  'чрезвычайный',\n",
       "  'событие',\n",
       "  'признать',\n",
       "  'соответственный',\n",
       "  'день',\n",
       "  'годовщина',\n",
       "  'день',\n",
       "  'рождение',\n",
       "  'м',\n",
       "  'ю',\n",
       "  'лермонтов',\n",
       "  'го',\n",
       "  'октябрь',\n",
       "  'год',\n",
       "  'ограничиться',\n",
       "  'совершение',\n",
       "  'учебный',\n",
       "  'заведение',\n",
       "  'панихида',\n",
       "  'поэт',\n",
       "  'отложить',\n",
       "  'празднование',\n",
       "  'юбилей',\n",
       "  'благоприятный',\n",
       "  'время',\n",
       "  '«русский',\n",
       "  'инвалид»',\n",
       "  'сентябрь',\n",
       "  'год'],\n",
       " ['штабс',\n",
       "  'капитан',\n",
       "  'п',\n",
       "  'н',\n",
       "  'нестеров',\n",
       "  'день',\n",
       "  'увидеть',\n",
       "  'район',\n",
       "  'желтиева',\n",
       "  'галиция',\n",
       "  'лететь',\n",
       "  'наш',\n",
       "  'расположение',\n",
       "  'австрийский',\n",
       "  'аэроплан',\n",
       "  'собираться',\n",
       "  'бросить',\n",
       "  'бомба',\n",
       "  'взлететь',\n",
       "  'воздух',\n",
       "  'атаковать',\n",
       "  'неприятель',\n",
       "  'протаранить',\n",
       "  'неприятельский',\n",
       "  'аппарат',\n",
       "  'предотвратить',\n",
       "  'жертва',\n",
       "  'наш',\n",
       "  'войско',\n",
       "  'сам',\n",
       "  'нестеров',\n",
       "  'погибнуть',\n",
       "  'смерть',\n",
       "  'герой',\n",
       "  'по',\n",
       "  'слово',\n",
       "  'доставить',\n",
       "  'киев',\n",
       "  'пленный',\n",
       "  'австрийский',\n",
       "  'офицер',\n",
       "  'весь',\n",
       "  'неприятельский',\n",
       "  'армия',\n",
       "  'известно',\n",
       "  'имя',\n",
       "  'нестеров',\n",
       "  'в',\n",
       "  'время',\n",
       "  'воздушный',\n",
       "  'разведка',\n",
       "  'русский',\n",
       "  'авиатор',\n",
       "  'австриец',\n",
       "  'безошибочно',\n",
       "  'определять',\n",
       "  'какой',\n",
       "  'аппарат',\n",
       "  'управлять',\n",
       "  'нестеров',\n",
       "  'когда',\n",
       "  'показываться',\n",
       "  'аэроплан',\n",
       "  'птица',\n",
       "  'красиво',\n",
       "  'вольный',\n",
       "  'парить',\n",
       "  'воздух',\n",
       "  'австриец',\n",
       "  'указывать',\n",
       "  'австриец',\n",
       "  'бояться',\n",
       "  'покойный',\n",
       "  'усилие',\n",
       "  'направить',\n",
       "  'прекращение',\n",
       "  'деятельность',\n",
       "  'за',\n",
       "  'задержание',\n",
       "  'отважный',\n",
       "  'лётчик',\n",
       "  'объявить',\n",
       "  'больший',\n",
       "  'премия',\n",
       "  'нестеров',\n",
       "  'погибнуть',\n",
       "  'год',\n",
       "  'после',\n",
       "  'нестеров',\n",
       "  'остаться',\n",
       "  'жена',\n",
       "  'двое',\n",
       "  'ребёнок',\n",
       "  'девочка',\n",
       "  'ти',\n",
       "  'год',\n",
       "  'мальчик',\n",
       "  'х',\n",
       "  'год',\n",
       "  'иллюстрировать',\n",
       "  'журнал',\n",
       "  '«искры»',\n",
       "  '№',\n",
       "  'сентябрь',\n",
       "  'год',\n",
       "  'песня',\n",
       "  'нестеров',\n",
       "  'в',\n",
       "  'безбрежность',\n",
       "  'небо',\n",
       "  'бескрайность',\n",
       "  'ясный',\n",
       "  'пустынисражаться',\n",
       "  'лишь',\n",
       "  'птица',\n",
       "  'гибнуть',\n",
       "  'лишь',\n",
       "  'птица',\n",
       "  'доныне',\n",
       "  'так',\n",
       "  'птица',\n",
       "  'подобный',\n",
       "  'полёт',\n",
       "  'свой',\n",
       "  'направить',\n",
       "  'могучий',\n",
       "  'унестись',\n",
       "  'пилот',\n",
       "  'легкокрылый',\n",
       "  'тёмный',\n",
       "  'туча',\n",
       "  'а',\n",
       "  'земля',\n",
       "  'колыхаться',\n",
       "  'знамя',\n",
       "  'шуметь',\n",
       "  'и',\n",
       "  'лязгать',\n",
       "  'сабля',\n",
       "  'пушка',\n",
       "  'зловеще',\n",
       "  'греметь',\n",
       "  'и',\n",
       "  'пламенно',\n",
       "  'бог',\n",
       "  'война',\n",
       "  'посылать',\n",
       "  'молитва',\n",
       "  'и',\n",
       "  'око',\n",
       "  'гореть',\n",
       "  'звать',\n",
       "  'жаждать',\n",
       "  'битвы…величие',\n",
       "  'дух',\n",
       "  'равнина',\n",
       "  'обманчивый',\n",
       "  'зыбка',\n",
       "  'презрение',\n",
       "  'смерть',\n",
       "  'светлый',\n",
       "  'солнце',\n",
       "  'улыбкой…мольба',\n",
       "  'напрасный',\n",
       "  'веление',\n",
       "  'рок',\n",
       "  'послушный',\n",
       "  'противник',\n",
       "  'реять',\n",
       "  'круг',\n",
       "  'стихия',\n",
       "  'воздушнойя',\n",
       "  'дрогнуть',\n",
       "  'сердце',\n",
       "  'рука',\n",
       "  'пружина',\n",
       "  'стальной',\n",
       "  'на',\n",
       "  'руль',\n",
       "  'налечь',\n",
       "  'встрепенуться',\n",
       "  'машина',\n",
       "  'живая…честь',\n",
       "  'родина',\n",
       "  'память',\n",
       "  'герой',\n",
       "  'решение',\n",
       "  'созреломгновение',\n",
       "  '–',\n",
       "  'врезаться',\n",
       "  'дерзко',\n",
       "  'хрупкий',\n",
       "  'тело',\n",
       "  'пощада',\n",
       "  'знать',\n",
       "  'стихия',\n",
       "  'победа',\n",
       "  'наградой…ь',\n",
       "  'пасть',\n",
       "  'противник',\n",
       "  'грузный',\n",
       "  'страшный',\n",
       "  'громадой…ть',\n",
       "  'безбрежность',\n",
       "  'небо',\n",
       "  'бескрайность',\n",
       "  'ясный',\n",
       "  'пустынисражаться',\n",
       "  'лишь',\n",
       "  'птица',\n",
       "  'гибнуть',\n",
       "  'лишь',\n",
       "  'птица',\n",
       "  'доныне',\n",
       "  'журнал',\n",
       "  '«нива»',\n",
       "  '№',\n",
       "  'сентябрь',\n",
       "  'год'],\n",
       " ['фотограф',\n",
       "  'корреспондент',\n",
       "  'рассказывать',\n",
       "  'случай',\n",
       "  'который',\n",
       "  'порадовать',\n",
       "  'друг',\n",
       "  'животное',\n",
       "  'лейтенант',\n",
       "  'бельгийский',\n",
       "  'артиллерия',\n",
       "  'руководить',\n",
       "  'оборона',\n",
       "  'один',\n",
       "  'фортов',\n",
       "  'льеж',\n",
       "  'хотеть',\n",
       "  'расстаться',\n",
       "  'свой',\n",
       "  'собака',\n",
       "  'бульдог',\n",
       "  'когда',\n",
       "  'пруссак',\n",
       "  'пробраться',\n",
       "  'фортов',\n",
       "  'самый',\n",
       "  'город',\n",
       "  'офицер',\n",
       "  'прийти',\n",
       "  'голова',\n",
       "  'доверить',\n",
       "  'бульдог',\n",
       "  'письмо',\n",
       "  'который',\n",
       "  'посылать',\n",
       "  'успокоительный',\n",
       "  'ведать',\n",
       "  'свой',\n",
       "  'родитель',\n",
       "  'благородный',\n",
       "  'пёс',\n",
       "  'честно',\n",
       "  'исполнить',\n",
       "  'миссия',\n",
       "  'десять',\n",
       "  'час',\n",
       "  'спустя',\n",
       "  'бульдог',\n",
       "  'проникнуть',\n",
       "  'обратно',\n",
       "  'форт',\n",
       "  'принести',\n",
       "  'ответ',\n",
       "  'с',\n",
       "  'момент',\n",
       "  'бульдог',\n",
       "  'стать',\n",
       "  'настоящий',\n",
       "  'гонец',\n",
       "  'много',\n",
       "  'пробираться',\n",
       "  'линия',\n",
       "  'германский',\n",
       "  'войско',\n",
       "  'нести',\n",
       "  'спрятать',\n",
       "  'ошейник',\n",
       "  'шифровать',\n",
       "  'депеша',\n",
       "  'журнал',\n",
       "  '«нива»',\n",
       "  '№',\n",
       "  'сентябрь',\n",
       "  'год'],\n",
       " ['лицо',\n",
       "  'приехать',\n",
       "  'варшава',\n",
       "  'люблин',\n",
       "  'передавать',\n",
       "  'туда',\n",
       "  'доставить',\n",
       "  '«швабский',\n",
       "  'зверь»',\n",
       "  'взять',\n",
       "  'плен',\n",
       "  'прусский',\n",
       "  'майор',\n",
       "  'прейскер',\n",
       "  'бывший',\n",
       "  'комендант',\n",
       "  'калиш',\n",
       "  'это',\n",
       "  'здоровый',\n",
       "  'детина',\n",
       "  'типично',\n",
       "  'прусский',\n",
       "  'наглый',\n",
       "  'лицо',\n",
       "  'мутный',\n",
       "  'глаз',\n",
       "  'когда',\n",
       "  '«зверя»',\n",
       "  'вели',\n",
       "  'партия',\n",
       "  'пленный',\n",
       "  'улица',\n",
       "  'толпа',\n",
       "  'раздаться',\n",
       "  'крик',\n",
       "  'проклятие',\n",
       "  'прейскер',\n",
       "  'трусливо',\n",
       "  'замешаться',\n",
       "  'толпа',\n",
       "  'пленный',\n",
       "  'стараться',\n",
       "  'скрыться',\n",
       "  'зато',\n",
       "  'заключение',\n",
       "  'конвой',\n",
       "  'наш',\n",
       "  'солдат',\n",
       "  'прейскер',\n",
       "  'принять',\n",
       "  'прийти',\n",
       "  'он',\n",
       "  'русский',\n",
       "  'офицер',\n",
       "  'сидя',\n",
       "  'нагло',\n",
       "  'развалиться',\n",
       "  'кресло',\n",
       "  'конвойный',\n",
       "  '«помогли»',\n",
       "  'подняться',\n",
       "  'вытянуться',\n",
       "  'фронт',\n",
       "  'кроме',\n",
       "  'прейскер',\n",
       "  'наш',\n",
       "  'войско',\n",
       "  'взять',\n",
       "  'плен',\n",
       "  '«швабский',\n",
       "  'зверь»',\n",
       "  'капитан',\n",
       "  'шмидт',\n",
       "  'живьём',\n",
       "  'сжигать',\n",
       "  'житель',\n",
       "  'деревня',\n",
       "  'запирать',\n",
       "  'хата',\n",
       "  'журнал',\n",
       "  '«нива»',\n",
       "  '№',\n",
       "  'сентябрь',\n",
       "  'год']]"
      ]
     },
     "execution_count": 30,
     "metadata": {},
     "output_type": "execute_result"
    }
   ],
   "source": [
    "lenta_data[:5]"
   ]
  },
  {
   "cell_type": "code",
   "execution_count": 31,
   "metadata": {},
   "outputs": [
    {
     "data": {
      "text/plain": [
       "list"
      ]
     },
     "execution_count": 31,
     "metadata": {},
     "output_type": "execute_result"
    }
   ],
   "source": [
    "type(lenta_data)"
   ]
  },
  {
   "cell_type": "code",
   "execution_count": 32,
   "metadata": {},
   "outputs": [
    {
     "data": {
      "text/plain": [
       "list"
      ]
     },
     "execution_count": 32,
     "metadata": {},
     "output_type": "execute_result"
    }
   ],
   "source": [
    "type(lenta_data[0])"
   ]
  },
  {
   "cell_type": "markdown",
   "metadata": {},
   "source": [
    "# Обучение модели w2v"
   ]
  },
  {
   "cell_type": "code",
   "execution_count": 35,
   "metadata": {},
   "outputs": [],
   "source": [
    "model_init = wv(vector_size=300, min_count=3, window=5)"
   ]
  },
  {
   "cell_type": "code",
   "execution_count": 37,
   "metadata": {},
   "outputs": [],
   "source": [
    "model_init.build_vocab(emojis_data)"
   ]
  },
  {
   "cell_type": "code",
   "execution_count": 38,
   "metadata": {},
   "outputs": [
    {
     "data": {
      "text/plain": [
       "(3745908, 4474170)"
      ]
     },
     "execution_count": 38,
     "metadata": {},
     "output_type": "execute_result"
    }
   ],
   "source": [
    "model_init.train(emojis_data, total_examples=model_init.corpus_count, epochs=30)"
   ]
  },
  {
   "cell_type": "code",
   "execution_count": 39,
   "metadata": {},
   "outputs": [
    {
     "data": {
      "text/plain": [
       "[('🐽🇺🇦', 0.9206594824790955),\n",
       " ('психануть', 0.906537652015686),\n",
       " ('ыыы', 0.9044475555419922),\n",
       " ('шахта', 0.9039511680603027),\n",
       " ('аватарка', 0.9016205668449402),\n",
       " ('рашистый', 0.8986945748329163),\n",
       " ('трубопровод', 0.8984929323196411),\n",
       " ('☺', 0.8953710198402405),\n",
       " ('💪', 0.8951533436775208),\n",
       " ('нацик', 0.8918470144271851)]"
      ]
     },
     "execution_count": 39,
     "metadata": {},
     "output_type": "execute_result"
    }
   ],
   "source": [
    "model_init.wv.most_similar('😀')"
   ]
  },
  {
   "cell_type": "code",
   "execution_count": null,
   "metadata": {},
   "outputs": [],
   "source": []
  }
 ],
 "metadata": {
  "colab": {
   "authorship_tag": "ABX9TyNpnWlK/GJRVa9bEhpmPi+/",
   "mount_file_id": "1u5OC6zCL24QXleDM5LR_RjkfRuT1CpdD",
   "name": "",
   "toc_visible": true,
   "version": ""
  },
  "kernelspec": {
   "display_name": "Python 3 (ipykernel)",
   "language": "python",
   "name": "python3"
  },
  "language_info": {
   "codemirror_mode": {
    "name": "ipython",
    "version": 3
   },
   "file_extension": ".py",
   "mimetype": "text/x-python",
   "name": "python",
   "nbconvert_exporter": "python",
   "pygments_lexer": "ipython3",
   "version": "3.8.6"
  }
 },
 "nbformat": 4,
 "nbformat_minor": 1
}
